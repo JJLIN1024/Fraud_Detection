{
 "cells": [
  {
   "cell_type": "markdown",
   "id": "wuJVlf-a52vT",
   "metadata": {
    "id": "wuJVlf-a52vT"
   },
   "source": [
    "# **Fraud Detection**"
   ]
  },
  {
   "cell_type": "markdown",
   "id": "w9oasccM_Yeq",
   "metadata": {
    "id": "w9oasccM_Yeq"
   },
   "source": [
    "## PreProcessing"
   ]
  },
  {
   "cell_type": "markdown",
   "id": "4zIXvSQaB1Xi",
   "metadata": {
    "id": "4zIXvSQaB1Xi"
   },
   "source": [
    "### Get Data"
   ]
  },
  {
   "cell_type": "markdown",
   "id": "aeLk7oSH_KDe",
   "metadata": {
    "id": "aeLk7oSH_KDe"
   },
   "source": [
    "#### Download Dataset"
   ]
  },
  {
   "cell_type": "code",
   "execution_count": null,
   "id": "dcA_tmsD5zeu",
   "metadata": {
    "colab": {
     "base_uri": "https://localhost:8080/",
     "height": 307
    },
    "id": "dcA_tmsD5zeu",
    "outputId": "690f2d46-2695-4267-a40f-218b7adffe75"
   },
   "outputs": [
    {
     "name": "stdout",
     "output_type": "stream",
     "text": [
      "Requirement already satisfied: gdown in /usr/local/lib/python3.7/dist-packages (3.6.4)\n",
      "Requirement already satisfied: six in /usr/local/lib/python3.7/dist-packages (from gdown) (1.15.0)\n",
      "Requirement already satisfied: tqdm in /usr/local/lib/python3.7/dist-packages (from gdown) (4.41.1)\n",
      "Requirement already satisfied: requests in /usr/local/lib/python3.7/dist-packages (from gdown) (2.23.0)\n",
      "Requirement already satisfied: chardet<4,>=3.0.2 in /usr/local/lib/python3.7/dist-packages (from requests->gdown) (3.0.4)\n",
      "Requirement already satisfied: idna<3,>=2.5 in /usr/local/lib/python3.7/dist-packages (from requests->gdown) (2.10)\n",
      "Requirement already satisfied: certifi>=2017.4.17 in /usr/local/lib/python3.7/dist-packages (from requests->gdown) (2020.12.5)\n",
      "Requirement already satisfied: urllib3!=1.25.0,!=1.25.1,<1.26,>=1.21.1 in /usr/local/lib/python3.7/dist-packages (from requests->gdown) (1.24.3)\n"
     ]
    },
    {
     "name": "stderr",
     "output_type": "stream",
     "text": [
      "Downloading...\n",
      "From: https://drive.google.com/uc?id=1W0EL3w6qxHRa5ZFPYhYl87Piv7Y94ELG\n",
      "To: /content/train.csv\n",
      "99.2MB [00:01, 94.4MB/s]\n",
      "Downloading...\n",
      "From: https://drive.google.com/uc?id=1mJv80_a17wXnXydZEPGXKFtnQRd5REsc\n",
      "To: /content/test.csv\n",
      "33.1MB [00:00, 86.6MB/s]\n"
     ]
    },
    {
     "data": {
      "application/vnd.google.colaboratory.intrinsic+json": {
       "type": "string"
      },
      "text/plain": [
       "'test.csv'"
      ]
     },
     "execution_count": 1,
     "metadata": {
      "tags": []
     },
     "output_type": "execute_result"
    }
   ],
   "source": [
    "f1id = '1W0EL3w6qxHRa5ZFPYhYl87Piv7Y94ELG'\n",
    "f2id = '1mJv80_a17wXnXydZEPGXKFtnQRd5REsc'\n",
    "\n",
    "!pip3 install gdown\n",
    "\n",
    "import gdown\n",
    "\n",
    "url = 'https://drive.google.com/uc?id=%s'%(f1id)\n",
    "\n",
    "output = 'train.csv'\n",
    "gdown.download(url, output, quiet=False)\n",
    "url = 'https://drive.google.com/uc?id=%s'%(f2id)\n",
    "output = 'test.csv'\n",
    "gdown.download(url, output, quiet=False)\n",
    "\n"
   ]
  },
  {
   "cell_type": "markdown",
   "id": "oitxhY7V_RFM",
   "metadata": {
    "id": "oitxhY7V_RFM"
   },
   "source": [
    "#### Import package"
   ]
  },
  {
   "cell_type": "code",
   "execution_count": null,
   "id": "insured-singapore",
   "metadata": {
    "colab": {
     "base_uri": "https://localhost:8080/"
    },
    "id": "insured-singapore",
    "outputId": "b8c8aea9-2925-453c-d169-88714140f5f0"
   },
   "outputs": [
    {
     "name": "stdout",
     "output_type": "stream",
     "text": [
      "Collecting autoviz\n",
      "  Downloading https://files.pythonhosted.org/packages/89/20/8c8c64d5221cfcbc54679f4f048a08292a16dbad178af7c78541aa3af730/autoviz-0.0.81-py3-none-any.whl\n",
      "Collecting datasist\n",
      "  Downloading https://files.pythonhosted.org/packages/af/da/ed4f7d38947c32aaf1f70630413a5ee83a4d8c520add349f8d53c878bce1/datasist-1.5.3-py3-none-any.whl\n",
      "Requirement already satisfied: pandas_profiling in /usr/local/lib/python3.7/dist-packages (1.4.1)\n",
      "Requirement already satisfied: statsmodels in /usr/local/lib/python3.7/dist-packages (from autoviz) (0.10.2)\n",
      "Requirement already satisfied: seaborn in /usr/local/lib/python3.7/dist-packages (from autoviz) (0.11.1)\n",
      "Requirement already satisfied: ipython in /usr/local/lib/python3.7/dist-packages (from autoviz) (5.5.0)\n",
      "Requirement already satisfied: xgboost in /usr/local/lib/python3.7/dist-packages (from autoviz) (0.90)\n",
      "Requirement already satisfied: matplotlib in /usr/local/lib/python3.7/dist-packages (from autoviz) (3.2.2)\n",
      "Requirement already satisfied: pandas in /usr/local/lib/python3.7/dist-packages (from autoviz) (1.1.5)\n",
      "Requirement already satisfied: jupyter in /usr/local/lib/python3.7/dist-packages (from autoviz) (1.0.0)\n",
      "Requirement already satisfied: scikit-learn in /usr/local/lib/python3.7/dist-packages (from autoviz) (0.22.2.post1)\n",
      "Requirement already satisfied: nltk in /usr/local/lib/python3.7/dist-packages (from datasist) (3.2.5)\n",
      "Requirement already satisfied: numpy in /usr/local/lib/python3.7/dist-packages (from datasist) (1.19.5)\n",
      "Requirement already satisfied: Joblib in /usr/local/lib/python3.7/dist-packages (from datasist) (1.0.1)\n",
      "Requirement already satisfied: jinja2>=2.8 in /usr/local/lib/python3.7/dist-packages (from pandas_profiling) (2.11.3)\n",
      "Requirement already satisfied: six>=1.9 in /usr/local/lib/python3.7/dist-packages (from pandas_profiling) (1.15.0)\n",
      "Requirement already satisfied: scipy>=0.18 in /usr/local/lib/python3.7/dist-packages (from statsmodels->autoviz) (1.4.1)\n",
      "Requirement already satisfied: patsy>=0.4.0 in /usr/local/lib/python3.7/dist-packages (from statsmodels->autoviz) (0.5.1)\n",
      "Requirement already satisfied: pexpect; sys_platform != \"win32\" in /usr/local/lib/python3.7/dist-packages (from ipython->autoviz) (4.8.0)\n",
      "Requirement already satisfied: pickleshare in /usr/local/lib/python3.7/dist-packages (from ipython->autoviz) (0.7.5)\n",
      "Requirement already satisfied: pygments in /usr/local/lib/python3.7/dist-packages (from ipython->autoviz) (2.6.1)\n",
      "Requirement already satisfied: prompt-toolkit<2.0.0,>=1.0.4 in /usr/local/lib/python3.7/dist-packages (from ipython->autoviz) (1.0.18)\n",
      "Requirement already satisfied: setuptools>=18.5 in /usr/local/lib/python3.7/dist-packages (from ipython->autoviz) (57.0.0)\n",
      "Requirement already satisfied: simplegeneric>0.8 in /usr/local/lib/python3.7/dist-packages (from ipython->autoviz) (0.8.1)\n",
      "Requirement already satisfied: traitlets>=4.2 in /usr/local/lib/python3.7/dist-packages (from ipython->autoviz) (5.0.5)\n",
      "Requirement already satisfied: decorator in /usr/local/lib/python3.7/dist-packages (from ipython->autoviz) (4.4.2)\n",
      "Requirement already satisfied: python-dateutil>=2.1 in /usr/local/lib/python3.7/dist-packages (from matplotlib->autoviz) (2.8.1)\n",
      "Requirement already satisfied: cycler>=0.10 in /usr/local/lib/python3.7/dist-packages (from matplotlib->autoviz) (0.10.0)\n",
      "Requirement already satisfied: pyparsing!=2.0.4,!=2.1.2,!=2.1.6,>=2.0.1 in /usr/local/lib/python3.7/dist-packages (from matplotlib->autoviz) (2.4.7)\n",
      "Requirement already satisfied: kiwisolver>=1.0.1 in /usr/local/lib/python3.7/dist-packages (from matplotlib->autoviz) (1.3.1)\n",
      "Requirement already satisfied: pytz>=2017.2 in /usr/local/lib/python3.7/dist-packages (from pandas->autoviz) (2018.9)\n",
      "Requirement already satisfied: jupyter-console in /usr/local/lib/python3.7/dist-packages (from jupyter->autoviz) (5.2.0)\n",
      "Requirement already satisfied: ipywidgets in /usr/local/lib/python3.7/dist-packages (from jupyter->autoviz) (7.6.3)\n",
      "Requirement already satisfied: qtconsole in /usr/local/lib/python3.7/dist-packages (from jupyter->autoviz) (5.1.0)\n",
      "Requirement already satisfied: notebook in /usr/local/lib/python3.7/dist-packages (from jupyter->autoviz) (5.3.1)\n",
      "Requirement already satisfied: nbconvert in /usr/local/lib/python3.7/dist-packages (from jupyter->autoviz) (5.6.1)\n",
      "Requirement already satisfied: ipykernel in /usr/local/lib/python3.7/dist-packages (from jupyter->autoviz) (4.10.1)\n",
      "Requirement already satisfied: MarkupSafe>=0.23 in /usr/local/lib/python3.7/dist-packages (from jinja2>=2.8->pandas_profiling) (2.0.1)\n",
      "Requirement already satisfied: ptyprocess>=0.5 in /usr/local/lib/python3.7/dist-packages (from pexpect; sys_platform != \"win32\"->ipython->autoviz) (0.7.0)\n",
      "Requirement already satisfied: wcwidth in /usr/local/lib/python3.7/dist-packages (from prompt-toolkit<2.0.0,>=1.0.4->ipython->autoviz) (0.2.5)\n",
      "Requirement already satisfied: ipython-genutils in /usr/local/lib/python3.7/dist-packages (from traitlets>=4.2->ipython->autoviz) (0.2.0)\n",
      "Requirement already satisfied: jupyter-client in /usr/local/lib/python3.7/dist-packages (from jupyter-console->jupyter->autoviz) (5.3.5)\n",
      "Requirement already satisfied: widgetsnbextension~=3.5.0 in /usr/local/lib/python3.7/dist-packages (from ipywidgets->jupyter->autoviz) (3.5.1)\n",
      "Requirement already satisfied: nbformat>=4.2.0 in /usr/local/lib/python3.7/dist-packages (from ipywidgets->jupyter->autoviz) (5.1.3)\n",
      "Requirement already satisfied: jupyterlab-widgets>=1.0.0; python_version >= \"3.6\" in /usr/local/lib/python3.7/dist-packages (from ipywidgets->jupyter->autoviz) (1.0.0)\n",
      "Requirement already satisfied: qtpy in /usr/local/lib/python3.7/dist-packages (from qtconsole->jupyter->autoviz) (1.9.0)\n",
      "Requirement already satisfied: jupyter-core in /usr/local/lib/python3.7/dist-packages (from qtconsole->jupyter->autoviz) (4.7.1)\n",
      "Requirement already satisfied: pyzmq>=17.1 in /usr/local/lib/python3.7/dist-packages (from qtconsole->jupyter->autoviz) (22.0.3)\n",
      "Requirement already satisfied: tornado>=4 in /usr/local/lib/python3.7/dist-packages (from notebook->jupyter->autoviz) (5.1.1)\n",
      "Requirement already satisfied: terminado>=0.8.1 in /usr/local/lib/python3.7/dist-packages (from notebook->jupyter->autoviz) (0.10.0)\n",
      "Requirement already satisfied: Send2Trash in /usr/local/lib/python3.7/dist-packages (from notebook->jupyter->autoviz) (1.5.0)\n",
      "Requirement already satisfied: entrypoints>=0.2.2 in /usr/local/lib/python3.7/dist-packages (from nbconvert->jupyter->autoviz) (0.3)\n",
      "Requirement already satisfied: testpath in /usr/local/lib/python3.7/dist-packages (from nbconvert->jupyter->autoviz) (0.5.0)\n",
      "Requirement already satisfied: bleach in /usr/local/lib/python3.7/dist-packages (from nbconvert->jupyter->autoviz) (3.3.0)\n",
      "Requirement already satisfied: mistune<2,>=0.8.1 in /usr/local/lib/python3.7/dist-packages (from nbconvert->jupyter->autoviz) (0.8.4)\n",
      "Requirement already satisfied: pandocfilters>=1.4.1 in /usr/local/lib/python3.7/dist-packages (from nbconvert->jupyter->autoviz) (1.4.3)\n",
      "Requirement already satisfied: defusedxml in /usr/local/lib/python3.7/dist-packages (from nbconvert->jupyter->autoviz) (0.7.1)\n",
      "Requirement already satisfied: jsonschema!=2.5.0,>=2.4 in /usr/local/lib/python3.7/dist-packages (from nbformat>=4.2.0->ipywidgets->jupyter->autoviz) (2.6.0)\n",
      "Requirement already satisfied: packaging in /usr/local/lib/python3.7/dist-packages (from bleach->nbconvert->jupyter->autoviz) (20.9)\n",
      "Requirement already satisfied: webencodings in /usr/local/lib/python3.7/dist-packages (from bleach->nbconvert->jupyter->autoviz) (0.5.1)\n",
      "Installing collected packages: autoviz, datasist\n",
      "Successfully installed autoviz-0.0.81 datasist-1.5.3\n",
      "Imported AutoViz_Class version: 0.0.81. Call using:\n",
      "    from autoviz.AutoViz_Class import AutoViz_Class\n",
      "    AV = AutoViz_Class()\n",
      "    AV.AutoViz(filename, sep=',', depVar='', dfte=None, header=0, verbose=0,\n",
      "                            lowess=False,chart_format='svg',max_rows_analyzed=150000,max_cols_analyzed=30)\n",
      "Note: verbose=0 or 1 generates charts and displays them in your local Jupyter notebook.\n",
      "      verbose=2 saves plots in your local machine under AutoViz_Plots directory and does not display charts.\n"
     ]
    }
   ],
   "source": [
    "# Basic lib\n",
    "\n",
    "import numpy as np \n",
    "import pandas as pd \n",
    "\n",
    "# Preprocess\n",
    "from sklearn.preprocessing import OneHotEncoder, LabelEncoder, StandardScaler\n",
    "!pip install autoviz datasist pandas_profiling \n",
    "from autoviz.AutoViz_Class import AutoViz_Class\n",
    "\n",
    "from pandas_profiling import ProfileReport\n",
    "import datasist as ds \n",
    "from sklearn.feature_selection import RFECV\n",
    "\n",
    "# Classifier Libraries\n",
    "from sklearn.linear_model import LogisticRegression\n",
    "\n",
    "from sklearn.svm import SVC\n",
    "from sklearn.neighbors import KNeighborsClassifier\n",
    "\n",
    "from sklearn.tree import DecisionTreeClassifier\n",
    "from sklearn.ensemble import RandomForestClassifier\n",
    "from sklearn.ensemble import GradientBoostingClassifier\n",
    "from xgboost import XGBClassifier\n",
    "import lightgbm as lgb\n",
    "\n",
    "# Performance Evaluation tools\n",
    "from sklearn.model_selection import train_test_split, KFold, StratifiedKFold, cross_val_score\n",
    "from sklearn.metrics import roc_curve, auc\n",
    "from sklearn.metrics import precision_score, recall_score, f1_score, roc_auc_score, accuracy_score, classification_report\n",
    "from sklearn.model_selection import TimeSeriesSplit\n",
    "\n",
    "\n",
    "# imblearn\n",
    "from imblearn.pipeline import Pipeline, make_pipeline\n",
    "from imblearn.under_sampling import NearMiss\n",
    "from imblearn.over_sampling import SMOTE, ADASYN, BorderlineSMOTE\n",
    "from imblearn.combine import SMOTEENN, SMOTETomek\n",
    "from imblearn.metrics import classification_report_imbalanced\n",
    "\n",
    "# Utils\n",
    "import time\n",
    "import gc\n",
    "from collections import Counter\n",
    "import warnings\n",
    "warnings.filterwarnings(\"ignore\")\n"
   ]
  },
  {
   "cell_type": "markdown",
   "id": "posted-shipping",
   "metadata": {
    "id": "posted-shipping"
   },
   "source": [
    "#### Read Data"
   ]
  },
  {
   "cell_type": "code",
   "execution_count": null,
   "id": "possible-munich",
   "metadata": {
    "id": "possible-munich"
   },
   "outputs": [],
   "source": [
    "df_train = pd.read_csv('./train.csv')\n",
    "df_test = pd.read_csv('./test.csv')\n",
    "df_all = pd.concat((df_train, df_test), 0)\n",
    "\n",
    "df_train.name = 'Training Set'\n",
    "df_test.name = 'Test Set'\n",
    "df_all.name = 'All Set' \n",
    "\n",
    "dfs = [df_train, df_test]\n",
    "\n"
   ]
  },
  {
   "cell_type": "code",
   "execution_count": null,
   "id": "unknown-price",
   "metadata": {
    "id": "unknown-price"
   },
   "outputs": [],
   "source": [
    "# Due to RAM limit on colab, need to reduce memory usage\n",
    "def reduce_mem(df):\n",
    "    start_mem_usg = df.memory_usage().sum() / (1024*1024)\n",
    "    print(\"Memory usage of properties dataframe is :\",start_mem_usg,\" MB\")\n",
    "    \n",
    "    for col in df.keys():\n",
    "        if df[col].dtype == int:\n",
    "            Max = df[col].max()\n",
    "            Min = df[col].min()\n",
    "            if -128 < Min and Max < 127:\n",
    "                df[col] = df[col].astype(np.int8)\n",
    "            elif -32768 < Min and Max < 32767:\n",
    "                df[col] = df[col].astype(np.int16)\n",
    "            elif -2147483648 < Min and Max < 2147483647:\n",
    "                df[col] = df[col].astype(np.int32)\n",
    "            else:\n",
    "                df[col] = df[col].astype(np.int64)      \n",
    "        elif df[col].dtype == float:\n",
    "            df[col] = df[col].astype(np.float32)\n",
    "        else:\n",
    "            continue\n",
    "    print(\"___MEMORY USAGE AFTER COMPLETION:___\")\n",
    "    mem_usg = df.memory_usage().sum() / 1024**2 \n",
    "    print(\"Memory usage is: \",mem_usg,\" MB\")\n",
    "    print(\"This is \",100*mem_usg/start_mem_usg,\"% of the initial size\")"
   ]
  },
  {
   "cell_type": "code",
   "execution_count": null,
   "id": "EacpzLTISSyB",
   "metadata": {
    "colab": {
     "base_uri": "https://localhost:8080/"
    },
    "id": "EacpzLTISSyB",
    "outputId": "b6cc8b55-12b3-46a0-a8c6-74de1c0ebc7f"
   },
   "outputs": [
    {
     "name": "stdout",
     "output_type": "stream",
     "text": [
      "Memory usage of properties dataframe is : 200.27798461914062  MB\n",
      "___MEMORY USAGE AFTER COMPLETION:___\n",
      "Memory usage is:  85.98898696899414  MB\n",
      "This is  42.93481739019664 % of the initial size\n",
      "------------------------------\n",
      "Memory usage of properties dataframe is : 66.75946807861328  MB\n",
      "___MEMORY USAGE AFTER COMPLETION:___\n",
      "Memory usage is:  28.66310214996338  MB\n",
      "This is  42.934886952979994 % of the initial size\n"
     ]
    }
   ],
   "source": [
    "reduce_mem(df_train)\n",
    "print(\"---\"*10)\n",
    "reduce_mem(df_test)"
   ]
  },
  {
   "cell_type": "markdown",
   "id": "color-bearing",
   "metadata": {
    "id": "color-bearing"
   },
   "source": [
    "#### Observer data \n"
   ]
  },
  {
   "cell_type": "code",
   "execution_count": null,
   "id": "automated-vision",
   "metadata": {
    "colab": {
     "base_uri": "https://localhost:8080/"
    },
    "id": "automated-vision",
    "outputId": "79d087cc-efc5-4a5c-ee85-6e9f48113475"
   },
   "outputs": [
    {
     "name": "stdout",
     "output_type": "stream",
     "text": [
      "There are 1141340 training rows and 380447 test rows.\n",
      "There are 23 training columns and 23 test columns.\n"
     ]
    }
   ],
   "source": [
    "ds.structdata.check_train_test_set(df_train, df_test, index=None, col=None)"
   ]
  },
  {
   "cell_type": "code",
   "execution_count": null,
   "id": "about-dragon",
   "metadata": {
    "colab": {
     "base_uri": "https://localhost:8080/",
     "height": 1000
    },
    "id": "about-dragon",
    "outputId": "6b41708d-8bbe-4465-f7e8-618e17d4a284"
   },
   "outputs": [
    {
     "name": "stdout",
     "output_type": "stream",
     "text": [
      "First five data points\n"
     ]
    },
    {
     "data": {
      "text/html": [
       "<div>\n",
       "<style scoped>\n",
       "    .dataframe tbody tr th:only-of-type {\n",
       "        vertical-align: middle;\n",
       "    }\n",
       "\n",
       "    .dataframe tbody tr th {\n",
       "        vertical-align: top;\n",
       "    }\n",
       "\n",
       "    .dataframe thead th {\n",
       "        text-align: right;\n",
       "    }\n",
       "</style>\n",
       "<table border=\"1\" class=\"dataframe\">\n",
       "  <thead>\n",
       "    <tr style=\"text-align: right;\">\n",
       "      <th></th>\n",
       "      <th>acqic</th>\n",
       "      <th>bacno</th>\n",
       "      <th>cano</th>\n",
       "      <th>conam</th>\n",
       "      <th>contp</th>\n",
       "      <th>csmcu</th>\n",
       "      <th>ecfg</th>\n",
       "      <th>etymd</th>\n",
       "      <th>flbmk</th>\n",
       "      <th>flg_3dsmk</th>\n",
       "      <th>fraud_ind</th>\n",
       "      <th>hcefg</th>\n",
       "      <th>insfg</th>\n",
       "      <th>iterm</th>\n",
       "      <th>locdt</th>\n",
       "      <th>loctm</th>\n",
       "      <th>mcc</th>\n",
       "      <th>mchno</th>\n",
       "      <th>ovrlt</th>\n",
       "      <th>scity</th>\n",
       "      <th>stocn</th>\n",
       "      <th>stscd</th>\n",
       "      <th>txkey</th>\n",
       "    </tr>\n",
       "  </thead>\n",
       "  <tbody>\n",
       "    <tr>\n",
       "      <th>0</th>\n",
       "      <td>6881</td>\n",
       "      <td>113261</td>\n",
       "      <td>38038</td>\n",
       "      <td>513.799988</td>\n",
       "      <td>5</td>\n",
       "      <td>0</td>\n",
       "      <td>N</td>\n",
       "      <td>0</td>\n",
       "      <td>N</td>\n",
       "      <td>N</td>\n",
       "      <td>0</td>\n",
       "      <td>5</td>\n",
       "      <td>N</td>\n",
       "      <td>0</td>\n",
       "      <td>33</td>\n",
       "      <td>172652.0</td>\n",
       "      <td>457</td>\n",
       "      <td>59333</td>\n",
       "      <td>N</td>\n",
       "      <td>0</td>\n",
       "      <td>102</td>\n",
       "      <td>0</td>\n",
       "      <td>516056</td>\n",
       "    </tr>\n",
       "    <tr>\n",
       "      <th>1</th>\n",
       "      <td>6881</td>\n",
       "      <td>15408</td>\n",
       "      <td>188328</td>\n",
       "      <td>513.799988</td>\n",
       "      <td>5</td>\n",
       "      <td>0</td>\n",
       "      <td>N</td>\n",
       "      <td>0</td>\n",
       "      <td>N</td>\n",
       "      <td>N</td>\n",
       "      <td>0</td>\n",
       "      <td>5</td>\n",
       "      <td>N</td>\n",
       "      <td>0</td>\n",
       "      <td>6</td>\n",
       "      <td>152458.0</td>\n",
       "      <td>457</td>\n",
       "      <td>59333</td>\n",
       "      <td>N</td>\n",
       "      <td>0</td>\n",
       "      <td>102</td>\n",
       "      <td>0</td>\n",
       "      <td>483434</td>\n",
       "    </tr>\n",
       "    <tr>\n",
       "      <th>2</th>\n",
       "      <td>6716</td>\n",
       "      <td>157159</td>\n",
       "      <td>29967</td>\n",
       "      <td>1016.109985</td>\n",
       "      <td>5</td>\n",
       "      <td>62</td>\n",
       "      <td>N</td>\n",
       "      <td>5</td>\n",
       "      <td>N</td>\n",
       "      <td>N</td>\n",
       "      <td>0</td>\n",
       "      <td>5</td>\n",
       "      <td>N</td>\n",
       "      <td>0</td>\n",
       "      <td>5</td>\n",
       "      <td>172946.0</td>\n",
       "      <td>247</td>\n",
       "      <td>50436</td>\n",
       "      <td>N</td>\n",
       "      <td>3281</td>\n",
       "      <td>102</td>\n",
       "      <td>0</td>\n",
       "      <td>1407164</td>\n",
       "    </tr>\n",
       "    <tr>\n",
       "      <th>3</th>\n",
       "      <td>5975</td>\n",
       "      <td>105985</td>\n",
       "      <td>81305</td>\n",
       "      <td>713.659973</td>\n",
       "      <td>5</td>\n",
       "      <td>62</td>\n",
       "      <td>N</td>\n",
       "      <td>4</td>\n",
       "      <td>N</td>\n",
       "      <td>N</td>\n",
       "      <td>0</td>\n",
       "      <td>5</td>\n",
       "      <td>N</td>\n",
       "      <td>0</td>\n",
       "      <td>6</td>\n",
       "      <td>182129.0</td>\n",
       "      <td>263</td>\n",
       "      <td>93775</td>\n",
       "      <td>N</td>\n",
       "      <td>5817</td>\n",
       "      <td>102</td>\n",
       "      <td>0</td>\n",
       "      <td>1051004</td>\n",
       "    </tr>\n",
       "    <tr>\n",
       "      <th>4</th>\n",
       "      <td>6411</td>\n",
       "      <td>94435</td>\n",
       "      <td>49219</td>\n",
       "      <td>1806.489990</td>\n",
       "      <td>3</td>\n",
       "      <td>62</td>\n",
       "      <td>N</td>\n",
       "      <td>4</td>\n",
       "      <td>N</td>\n",
       "      <td>N</td>\n",
       "      <td>0</td>\n",
       "      <td>5</td>\n",
       "      <td>N</td>\n",
       "      <td>0</td>\n",
       "      <td>6</td>\n",
       "      <td>172624.0</td>\n",
       "      <td>339</td>\n",
       "      <td>0</td>\n",
       "      <td>N</td>\n",
       "      <td>5865</td>\n",
       "      <td>102</td>\n",
       "      <td>0</td>\n",
       "      <td>1622153</td>\n",
       "    </tr>\n",
       "  </tbody>\n",
       "</table>\n",
       "</div>"
      ],
      "text/plain": [
       "   acqic   bacno    cano        conam  ...  scity  stocn stscd    txkey\n",
       "0   6881  113261   38038   513.799988  ...      0    102     0   516056\n",
       "1   6881   15408  188328   513.799988  ...      0    102     0   483434\n",
       "2   6716  157159   29967  1016.109985  ...   3281    102     0  1407164\n",
       "3   5975  105985   81305   713.659973  ...   5817    102     0  1051004\n",
       "4   6411   94435   49219  1806.489990  ...   5865    102     0  1622153\n",
       "\n",
       "[5 rows x 23 columns]"
      ]
     },
     "metadata": {
      "tags": []
     },
     "output_type": "display_data"
    },
    {
     "name": "stdout",
     "output_type": "stream",
     "text": [
      "\n",
      "\n",
      "Random five data points\n"
     ]
    },
    {
     "data": {
      "text/html": [
       "<div>\n",
       "<style scoped>\n",
       "    .dataframe tbody tr th:only-of-type {\n",
       "        vertical-align: middle;\n",
       "    }\n",
       "\n",
       "    .dataframe tbody tr th {\n",
       "        vertical-align: top;\n",
       "    }\n",
       "\n",
       "    .dataframe thead th {\n",
       "        text-align: right;\n",
       "    }\n",
       "</style>\n",
       "<table border=\"1\" class=\"dataframe\">\n",
       "  <thead>\n",
       "    <tr style=\"text-align: right;\">\n",
       "      <th></th>\n",
       "      <th>acqic</th>\n",
       "      <th>bacno</th>\n",
       "      <th>cano</th>\n",
       "      <th>conam</th>\n",
       "      <th>contp</th>\n",
       "      <th>csmcu</th>\n",
       "      <th>ecfg</th>\n",
       "      <th>etymd</th>\n",
       "      <th>flbmk</th>\n",
       "      <th>flg_3dsmk</th>\n",
       "      <th>fraud_ind</th>\n",
       "      <th>hcefg</th>\n",
       "      <th>insfg</th>\n",
       "      <th>iterm</th>\n",
       "      <th>locdt</th>\n",
       "      <th>loctm</th>\n",
       "      <th>mcc</th>\n",
       "      <th>mchno</th>\n",
       "      <th>ovrlt</th>\n",
       "      <th>scity</th>\n",
       "      <th>stocn</th>\n",
       "      <th>stscd</th>\n",
       "      <th>txkey</th>\n",
       "    </tr>\n",
       "  </thead>\n",
       "  <tbody>\n",
       "    <tr>\n",
       "      <th>70388</th>\n",
       "      <td>6769</td>\n",
       "      <td>33082</td>\n",
       "      <td>63023</td>\n",
       "      <td>818.799988</td>\n",
       "      <td>5</td>\n",
       "      <td>62</td>\n",
       "      <td>N</td>\n",
       "      <td>5</td>\n",
       "      <td>N</td>\n",
       "      <td>N</td>\n",
       "      <td>0</td>\n",
       "      <td>5</td>\n",
       "      <td>N</td>\n",
       "      <td>0</td>\n",
       "      <td>17</td>\n",
       "      <td>210726.0</td>\n",
       "      <td>251</td>\n",
       "      <td>77977</td>\n",
       "      <td>N</td>\n",
       "      <td>5817</td>\n",
       "      <td>102</td>\n",
       "      <td>0</td>\n",
       "      <td>365657</td>\n",
       "    </tr>\n",
       "    <tr>\n",
       "      <th>481263</th>\n",
       "      <td>3348</td>\n",
       "      <td>128836</td>\n",
       "      <td>187694</td>\n",
       "      <td>555.429993</td>\n",
       "      <td>5</td>\n",
       "      <td>62</td>\n",
       "      <td>Y</td>\n",
       "      <td>8</td>\n",
       "      <td>N</td>\n",
       "      <td>N</td>\n",
       "      <td>0</td>\n",
       "      <td>5</td>\n",
       "      <td>N</td>\n",
       "      <td>0</td>\n",
       "      <td>11</td>\n",
       "      <td>131327.0</td>\n",
       "      <td>289</td>\n",
       "      <td>54828</td>\n",
       "      <td>N</td>\n",
       "      <td>3460</td>\n",
       "      <td>46</td>\n",
       "      <td>0</td>\n",
       "      <td>657560</td>\n",
       "    </tr>\n",
       "    <tr>\n",
       "      <th>100303</th>\n",
       "      <td>6823</td>\n",
       "      <td>29240</td>\n",
       "      <td>148985</td>\n",
       "      <td>721.179993</td>\n",
       "      <td>5</td>\n",
       "      <td>62</td>\n",
       "      <td>N</td>\n",
       "      <td>5</td>\n",
       "      <td>N</td>\n",
       "      <td>N</td>\n",
       "      <td>0</td>\n",
       "      <td>5</td>\n",
       "      <td>N</td>\n",
       "      <td>0</td>\n",
       "      <td>19</td>\n",
       "      <td>112257.0</td>\n",
       "      <td>250</td>\n",
       "      <td>31154</td>\n",
       "      <td>N</td>\n",
       "      <td>5920</td>\n",
       "      <td>102</td>\n",
       "      <td>0</td>\n",
       "      <td>1559029</td>\n",
       "    </tr>\n",
       "    <tr>\n",
       "      <th>500910</th>\n",
       "      <td>6767</td>\n",
       "      <td>146451</td>\n",
       "      <td>27171</td>\n",
       "      <td>592.250000</td>\n",
       "      <td>5</td>\n",
       "      <td>62</td>\n",
       "      <td>Y</td>\n",
       "      <td>8</td>\n",
       "      <td>N</td>\n",
       "      <td>Y</td>\n",
       "      <td>0</td>\n",
       "      <td>5</td>\n",
       "      <td>N</td>\n",
       "      <td>0</td>\n",
       "      <td>17</td>\n",
       "      <td>204217.0</td>\n",
       "      <td>191</td>\n",
       "      <td>20435</td>\n",
       "      <td>N</td>\n",
       "      <td>5817</td>\n",
       "      <td>102</td>\n",
       "      <td>0</td>\n",
       "      <td>1129895</td>\n",
       "    </tr>\n",
       "    <tr>\n",
       "      <th>207640</th>\n",
       "      <td>6831</td>\n",
       "      <td>61803</td>\n",
       "      <td>28909</td>\n",
       "      <td>1395.160034</td>\n",
       "      <td>5</td>\n",
       "      <td>62</td>\n",
       "      <td>N</td>\n",
       "      <td>4</td>\n",
       "      <td>N</td>\n",
       "      <td>N</td>\n",
       "      <td>0</td>\n",
       "      <td>5</td>\n",
       "      <td>N</td>\n",
       "      <td>0</td>\n",
       "      <td>38</td>\n",
       "      <td>113214.0</td>\n",
       "      <td>270</td>\n",
       "      <td>26655</td>\n",
       "      <td>N</td>\n",
       "      <td>6055</td>\n",
       "      <td>102</td>\n",
       "      <td>0</td>\n",
       "      <td>855953</td>\n",
       "    </tr>\n",
       "  </tbody>\n",
       "</table>\n",
       "</div>"
      ],
      "text/plain": [
       "        acqic   bacno    cano        conam  ...  scity  stocn stscd    txkey\n",
       "70388    6769   33082   63023   818.799988  ...   5817    102     0   365657\n",
       "481263   3348  128836  187694   555.429993  ...   3460     46     0   657560\n",
       "100303   6823   29240  148985   721.179993  ...   5920    102     0  1559029\n",
       "500910   6767  146451   27171   592.250000  ...   5817    102     0  1129895\n",
       "207640   6831   61803   28909  1395.160034  ...   6055    102     0   855953\n",
       "\n",
       "[5 rows x 23 columns]"
      ]
     },
     "metadata": {
      "tags": []
     },
     "output_type": "display_data"
    },
    {
     "name": "stdout",
     "output_type": "stream",
     "text": [
      "\n",
      "\n",
      "Last five data points\n"
     ]
    },
    {
     "data": {
      "text/html": [
       "<div>\n",
       "<style scoped>\n",
       "    .dataframe tbody tr th:only-of-type {\n",
       "        vertical-align: middle;\n",
       "    }\n",
       "\n",
       "    .dataframe tbody tr th {\n",
       "        vertical-align: top;\n",
       "    }\n",
       "\n",
       "    .dataframe thead th {\n",
       "        text-align: right;\n",
       "    }\n",
       "</style>\n",
       "<table border=\"1\" class=\"dataframe\">\n",
       "  <thead>\n",
       "    <tr style=\"text-align: right;\">\n",
       "      <th></th>\n",
       "      <th>acqic</th>\n",
       "      <th>bacno</th>\n",
       "      <th>cano</th>\n",
       "      <th>conam</th>\n",
       "      <th>contp</th>\n",
       "      <th>csmcu</th>\n",
       "      <th>ecfg</th>\n",
       "      <th>etymd</th>\n",
       "      <th>flbmk</th>\n",
       "      <th>flg_3dsmk</th>\n",
       "      <th>fraud_ind</th>\n",
       "      <th>hcefg</th>\n",
       "      <th>insfg</th>\n",
       "      <th>iterm</th>\n",
       "      <th>locdt</th>\n",
       "      <th>loctm</th>\n",
       "      <th>mcc</th>\n",
       "      <th>mchno</th>\n",
       "      <th>ovrlt</th>\n",
       "      <th>scity</th>\n",
       "      <th>stocn</th>\n",
       "      <th>stscd</th>\n",
       "      <th>txkey</th>\n",
       "    </tr>\n",
       "  </thead>\n",
       "  <tbody>\n",
       "    <tr>\n",
       "      <th>1141335</th>\n",
       "      <td>6032</td>\n",
       "      <td>2510</td>\n",
       "      <td>54094</td>\n",
       "      <td>1.380000</td>\n",
       "      <td>5</td>\n",
       "      <td>75</td>\n",
       "      <td>Y</td>\n",
       "      <td>2</td>\n",
       "      <td>NaN</td>\n",
       "      <td>NaN</td>\n",
       "      <td>0</td>\n",
       "      <td>6</td>\n",
       "      <td>N</td>\n",
       "      <td>0</td>\n",
       "      <td>30</td>\n",
       "      <td>231435.0</td>\n",
       "      <td>248</td>\n",
       "      <td>78297</td>\n",
       "      <td>N</td>\n",
       "      <td>5817</td>\n",
       "      <td>102</td>\n",
       "      <td>0</td>\n",
       "      <td>196080</td>\n",
       "    </tr>\n",
       "    <tr>\n",
       "      <th>1141336</th>\n",
       "      <td>1801</td>\n",
       "      <td>12832</td>\n",
       "      <td>137381</td>\n",
       "      <td>1138.040039</td>\n",
       "      <td>5</td>\n",
       "      <td>75</td>\n",
       "      <td>Y</td>\n",
       "      <td>8</td>\n",
       "      <td>NaN</td>\n",
       "      <td>NaN</td>\n",
       "      <td>0</td>\n",
       "      <td>6</td>\n",
       "      <td>N</td>\n",
       "      <td>0</td>\n",
       "      <td>1</td>\n",
       "      <td>100009.0</td>\n",
       "      <td>201</td>\n",
       "      <td>198</td>\n",
       "      <td>N</td>\n",
       "      <td>1852</td>\n",
       "      <td>98</td>\n",
       "      <td>0</td>\n",
       "      <td>642025</td>\n",
       "    </tr>\n",
       "    <tr>\n",
       "      <th>1141337</th>\n",
       "      <td>6322</td>\n",
       "      <td>91008</td>\n",
       "      <td>15189</td>\n",
       "      <td>578.380005</td>\n",
       "      <td>5</td>\n",
       "      <td>75</td>\n",
       "      <td>Y</td>\n",
       "      <td>8</td>\n",
       "      <td>NaN</td>\n",
       "      <td>NaN</td>\n",
       "      <td>0</td>\n",
       "      <td>6</td>\n",
       "      <td>N</td>\n",
       "      <td>0</td>\n",
       "      <td>4</td>\n",
       "      <td>191642.0</td>\n",
       "      <td>209</td>\n",
       "      <td>38222</td>\n",
       "      <td>N</td>\n",
       "      <td>5817</td>\n",
       "      <td>102</td>\n",
       "      <td>0</td>\n",
       "      <td>1478280</td>\n",
       "    </tr>\n",
       "    <tr>\n",
       "      <th>1141338</th>\n",
       "      <td>3226</td>\n",
       "      <td>145107</td>\n",
       "      <td>116252</td>\n",
       "      <td>435.320007</td>\n",
       "      <td>5</td>\n",
       "      <td>75</td>\n",
       "      <td>Y</td>\n",
       "      <td>8</td>\n",
       "      <td>NaN</td>\n",
       "      <td>NaN</td>\n",
       "      <td>0</td>\n",
       "      <td>6</td>\n",
       "      <td>N</td>\n",
       "      <td>0</td>\n",
       "      <td>13</td>\n",
       "      <td>102338.0</td>\n",
       "      <td>192</td>\n",
       "      <td>90135</td>\n",
       "      <td>N</td>\n",
       "      <td>1458</td>\n",
       "      <td>102</td>\n",
       "      <td>0</td>\n",
       "      <td>661087</td>\n",
       "    </tr>\n",
       "    <tr>\n",
       "      <th>1141339</th>\n",
       "      <td>6769</td>\n",
       "      <td>162168</td>\n",
       "      <td>93598</td>\n",
       "      <td>1.380000</td>\n",
       "      <td>5</td>\n",
       "      <td>75</td>\n",
       "      <td>Y</td>\n",
       "      <td>8</td>\n",
       "      <td>NaN</td>\n",
       "      <td>NaN</td>\n",
       "      <td>0</td>\n",
       "      <td>6</td>\n",
       "      <td>N</td>\n",
       "      <td>0</td>\n",
       "      <td>29</td>\n",
       "      <td>234618.0</td>\n",
       "      <td>373</td>\n",
       "      <td>79246</td>\n",
       "      <td>N</td>\n",
       "      <td>5817</td>\n",
       "      <td>102</td>\n",
       "      <td>0</td>\n",
       "      <td>167073</td>\n",
       "    </tr>\n",
       "  </tbody>\n",
       "</table>\n",
       "</div>"
      ],
      "text/plain": [
       "         acqic   bacno    cano        conam  ...  scity  stocn stscd    txkey\n",
       "1141335   6032    2510   54094     1.380000  ...   5817    102     0   196080\n",
       "1141336   1801   12832  137381  1138.040039  ...   1852     98     0   642025\n",
       "1141337   6322   91008   15189   578.380005  ...   5817    102     0  1478280\n",
       "1141338   3226  145107  116252   435.320007  ...   1458    102     0   661087\n",
       "1141339   6769  162168   93598     1.380000  ...   5817    102     0   167073\n",
       "\n",
       "[5 rows x 23 columns]"
      ]
     },
     "metadata": {
      "tags": []
     },
     "output_type": "display_data"
    },
    {
     "name": "stdout",
     "output_type": "stream",
     "text": [
      "\n",
      "\n",
      "Shape of  data set: (1141340, 23)\n",
      "\n",
      "\n",
      "Size of  data set: 26250820\n",
      "\n",
      "\n",
      "Data Types\n",
      "Note: All Non-numerical features are identified as objects in pandas\n"
     ]
    },
    {
     "data": {
      "text/html": [
       "<div>\n",
       "<style scoped>\n",
       "    .dataframe tbody tr th:only-of-type {\n",
       "        vertical-align: middle;\n",
       "    }\n",
       "\n",
       "    .dataframe tbody tr th {\n",
       "        vertical-align: top;\n",
       "    }\n",
       "\n",
       "    .dataframe thead th {\n",
       "        text-align: right;\n",
       "    }\n",
       "</style>\n",
       "<table border=\"1\" class=\"dataframe\">\n",
       "  <thead>\n",
       "    <tr style=\"text-align: right;\">\n",
       "      <th></th>\n",
       "      <th>Data Type</th>\n",
       "    </tr>\n",
       "  </thead>\n",
       "  <tbody>\n",
       "    <tr>\n",
       "      <th>acqic</th>\n",
       "      <td>int16</td>\n",
       "    </tr>\n",
       "    <tr>\n",
       "      <th>bacno</th>\n",
       "      <td>int32</td>\n",
       "    </tr>\n",
       "    <tr>\n",
       "      <th>cano</th>\n",
       "      <td>int32</td>\n",
       "    </tr>\n",
       "    <tr>\n",
       "      <th>conam</th>\n",
       "      <td>float32</td>\n",
       "    </tr>\n",
       "    <tr>\n",
       "      <th>contp</th>\n",
       "      <td>int8</td>\n",
       "    </tr>\n",
       "    <tr>\n",
       "      <th>csmcu</th>\n",
       "      <td>int8</td>\n",
       "    </tr>\n",
       "    <tr>\n",
       "      <th>ecfg</th>\n",
       "      <td>object</td>\n",
       "    </tr>\n",
       "    <tr>\n",
       "      <th>etymd</th>\n",
       "      <td>int8</td>\n",
       "    </tr>\n",
       "    <tr>\n",
       "      <th>flbmk</th>\n",
       "      <td>object</td>\n",
       "    </tr>\n",
       "    <tr>\n",
       "      <th>flg_3dsmk</th>\n",
       "      <td>object</td>\n",
       "    </tr>\n",
       "    <tr>\n",
       "      <th>fraud_ind</th>\n",
       "      <td>int8</td>\n",
       "    </tr>\n",
       "    <tr>\n",
       "      <th>hcefg</th>\n",
       "      <td>int8</td>\n",
       "    </tr>\n",
       "    <tr>\n",
       "      <th>insfg</th>\n",
       "      <td>object</td>\n",
       "    </tr>\n",
       "    <tr>\n",
       "      <th>iterm</th>\n",
       "      <td>int8</td>\n",
       "    </tr>\n",
       "    <tr>\n",
       "      <th>locdt</th>\n",
       "      <td>int8</td>\n",
       "    </tr>\n",
       "    <tr>\n",
       "      <th>loctm</th>\n",
       "      <td>float32</td>\n",
       "    </tr>\n",
       "    <tr>\n",
       "      <th>mcc</th>\n",
       "      <td>int16</td>\n",
       "    </tr>\n",
       "    <tr>\n",
       "      <th>mchno</th>\n",
       "      <td>int32</td>\n",
       "    </tr>\n",
       "    <tr>\n",
       "      <th>ovrlt</th>\n",
       "      <td>object</td>\n",
       "    </tr>\n",
       "    <tr>\n",
       "      <th>scity</th>\n",
       "      <td>int16</td>\n",
       "    </tr>\n",
       "    <tr>\n",
       "      <th>stocn</th>\n",
       "      <td>int8</td>\n",
       "    </tr>\n",
       "    <tr>\n",
       "      <th>stscd</th>\n",
       "      <td>int8</td>\n",
       "    </tr>\n",
       "    <tr>\n",
       "      <th>txkey</th>\n",
       "      <td>int32</td>\n",
       "    </tr>\n",
       "  </tbody>\n",
       "</table>\n",
       "</div>"
      ],
      "text/plain": [
       "          Data Type\n",
       "acqic         int16\n",
       "bacno         int32\n",
       "cano          int32\n",
       "conam       float32\n",
       "contp          int8\n",
       "csmcu          int8\n",
       "ecfg         object\n",
       "etymd          int8\n",
       "flbmk        object\n",
       "flg_3dsmk    object\n",
       "fraud_ind      int8\n",
       "hcefg          int8\n",
       "insfg        object\n",
       "iterm          int8\n",
       "locdt          int8\n",
       "loctm       float32\n",
       "mcc           int16\n",
       "mchno         int32\n",
       "ovrlt        object\n",
       "scity         int16\n",
       "stocn          int8\n",
       "stscd          int8\n",
       "txkey         int32"
      ]
     },
     "metadata": {
      "tags": []
     },
     "output_type": "display_data"
    },
    {
     "name": "stdout",
     "output_type": "stream",
     "text": [
      "\n",
      "\n",
      "Numerical Features in Data set\n",
      "['acqic', 'bacno', 'cano', 'conam', 'contp', 'csmcu', 'etymd', 'fraud_ind', 'hcefg', 'iterm', 'locdt', 'loctm', 'mcc', 'mchno', 'scity', 'stocn', 'stscd', 'txkey']\n",
      "\n",
      "\n",
      "Categorical Features in Data set\n"
     ]
    },
    {
     "data": {
      "text/plain": [
       "['ecfg', 'flbmk', 'flg_3dsmk', 'insfg', 'ovrlt']"
      ]
     },
     "metadata": {
      "tags": []
     },
     "output_type": "display_data"
    },
    {
     "name": "stdout",
     "output_type": "stream",
     "text": [
      "\n",
      "\n",
      "Statistical Description of Columns\n"
     ]
    },
    {
     "data": {
      "text/html": [
       "<div>\n",
       "<style scoped>\n",
       "    .dataframe tbody tr th:only-of-type {\n",
       "        vertical-align: middle;\n",
       "    }\n",
       "\n",
       "    .dataframe tbody tr th {\n",
       "        vertical-align: top;\n",
       "    }\n",
       "\n",
       "    .dataframe thead th {\n",
       "        text-align: right;\n",
       "    }\n",
       "</style>\n",
       "<table border=\"1\" class=\"dataframe\">\n",
       "  <thead>\n",
       "    <tr style=\"text-align: right;\">\n",
       "      <th></th>\n",
       "      <th>acqic</th>\n",
       "      <th>bacno</th>\n",
       "      <th>cano</th>\n",
       "      <th>conam</th>\n",
       "      <th>contp</th>\n",
       "      <th>csmcu</th>\n",
       "      <th>etymd</th>\n",
       "      <th>fraud_ind</th>\n",
       "      <th>hcefg</th>\n",
       "      <th>iterm</th>\n",
       "      <th>locdt</th>\n",
       "      <th>loctm</th>\n",
       "      <th>mcc</th>\n",
       "      <th>mchno</th>\n",
       "      <th>scity</th>\n",
       "      <th>stocn</th>\n",
       "      <th>stscd</th>\n",
       "      <th>txkey</th>\n",
       "    </tr>\n",
       "  </thead>\n",
       "  <tbody>\n",
       "    <tr>\n",
       "      <th>count</th>\n",
       "      <td>1.141340e+06</td>\n",
       "      <td>1.141340e+06</td>\n",
       "      <td>1.141340e+06</td>\n",
       "      <td>1.141340e+06</td>\n",
       "      <td>1.141340e+06</td>\n",
       "      <td>1.141340e+06</td>\n",
       "      <td>1.141340e+06</td>\n",
       "      <td>1.141340e+06</td>\n",
       "      <td>1.141340e+06</td>\n",
       "      <td>1.141340e+06</td>\n",
       "      <td>1.141340e+06</td>\n",
       "      <td>1.141340e+06</td>\n",
       "      <td>1.141340e+06</td>\n",
       "      <td>1.141340e+06</td>\n",
       "      <td>1.141340e+06</td>\n",
       "      <td>1.141340e+06</td>\n",
       "      <td>1.141340e+06</td>\n",
       "      <td>1.141340e+06</td>\n",
       "    </tr>\n",
       "    <tr>\n",
       "      <th>mean</th>\n",
       "      <td>6.006358e+03</td>\n",
       "      <td>8.207719e+04</td>\n",
       "      <td>1.089379e+05</td>\n",
       "      <td>6.546080e+02</td>\n",
       "      <td>4.829436e+00</td>\n",
       "      <td>5.382622e+01</td>\n",
       "      <td>4.149955e+00</td>\n",
       "      <td>1.339040e-02</td>\n",
       "      <td>4.747995e+00</td>\n",
       "      <td>4.959784e-02</td>\n",
       "      <td>4.529871e+01</td>\n",
       "      <td>1.462480e+05</td>\n",
       "      <td>2.978248e+02</td>\n",
       "      <td>5.589110e+04</td>\n",
       "      <td>4.755236e+03</td>\n",
       "      <td>9.565174e+01</td>\n",
       "      <td>2.491457e-02</td>\n",
       "      <td>9.713231e+05</td>\n",
       "    </tr>\n",
       "    <tr>\n",
       "      <th>std</th>\n",
       "      <td>1.504925e+03</td>\n",
       "      <td>4.738710e+04</td>\n",
       "      <td>6.092417e+04</td>\n",
       "      <td>4.024778e+02</td>\n",
       "      <td>6.515574e-01</td>\n",
       "      <td>2.072867e+01</td>\n",
       "      <td>2.394154e+00</td>\n",
       "      <td>1.149396e-01</td>\n",
       "      <td>1.114225e+00</td>\n",
       "      <td>3.652489e-01</td>\n",
       "      <td>2.602185e+01</td>\n",
       "      <td>5.211928e+04</td>\n",
       "      <td>7.796604e+01</td>\n",
       "      <td>3.083730e+04</td>\n",
       "      <td>1.979464e+03</td>\n",
       "      <td>1.889329e+01</td>\n",
       "      <td>2.219759e-01</td>\n",
       "      <td>5.641638e+05</td>\n",
       "    </tr>\n",
       "    <tr>\n",
       "      <th>min</th>\n",
       "      <td>0.000000e+00</td>\n",
       "      <td>1.000000e+00</td>\n",
       "      <td>0.000000e+00</td>\n",
       "      <td>0.000000e+00</td>\n",
       "      <td>0.000000e+00</td>\n",
       "      <td>0.000000e+00</td>\n",
       "      <td>0.000000e+00</td>\n",
       "      <td>0.000000e+00</td>\n",
       "      <td>0.000000e+00</td>\n",
       "      <td>0.000000e+00</td>\n",
       "      <td>1.000000e+00</td>\n",
       "      <td>0.000000e+00</td>\n",
       "      <td>0.000000e+00</td>\n",
       "      <td>0.000000e+00</td>\n",
       "      <td>0.000000e+00</td>\n",
       "      <td>0.000000e+00</td>\n",
       "      <td>0.000000e+00</td>\n",
       "      <td>0.000000e+00</td>\n",
       "    </tr>\n",
       "    <tr>\n",
       "      <th>25%</th>\n",
       "      <td>5.982000e+03</td>\n",
       "      <td>4.135200e+04</td>\n",
       "      <td>5.765300e+04</td>\n",
       "      <td>4.364800e+02</td>\n",
       "      <td>5.000000e+00</td>\n",
       "      <td>6.200000e+01</td>\n",
       "      <td>2.000000e+00</td>\n",
       "      <td>0.000000e+00</td>\n",
       "      <td>5.000000e+00</td>\n",
       "      <td>0.000000e+00</td>\n",
       "      <td>2.300000e+01</td>\n",
       "      <td>1.109290e+05</td>\n",
       "      <td>2.500000e+02</td>\n",
       "      <td>3.374000e+04</td>\n",
       "      <td>3.802000e+03</td>\n",
       "      <td>1.020000e+02</td>\n",
       "      <td>0.000000e+00</td>\n",
       "      <td>4.872235e+05</td>\n",
       "    </tr>\n",
       "    <tr>\n",
       "      <th>50%</th>\n",
       "      <td>6.708000e+03</td>\n",
       "      <td>8.184400e+04</td>\n",
       "      <td>1.097910e+05</td>\n",
       "      <td>5.919000e+02</td>\n",
       "      <td>5.000000e+00</td>\n",
       "      <td>6.200000e+01</td>\n",
       "      <td>4.000000e+00</td>\n",
       "      <td>0.000000e+00</td>\n",
       "      <td>5.000000e+00</td>\n",
       "      <td>0.000000e+00</td>\n",
       "      <td>4.500000e+01</td>\n",
       "      <td>1.515090e+05</td>\n",
       "      <td>2.640000e+02</td>\n",
       "      <td>5.933300e+04</td>\n",
       "      <td>5.817000e+03</td>\n",
       "      <td>1.020000e+02</td>\n",
       "      <td>0.000000e+00</td>\n",
       "      <td>9.797315e+05</td>\n",
       "    </tr>\n",
       "    <tr>\n",
       "      <th>75%</th>\n",
       "      <td>6.769000e+03</td>\n",
       "      <td>1.230940e+05</td>\n",
       "      <td>1.619220e+05</td>\n",
       "      <td>8.075300e+02</td>\n",
       "      <td>5.000000e+00</td>\n",
       "      <td>6.200000e+01</td>\n",
       "      <td>5.000000e+00</td>\n",
       "      <td>0.000000e+00</td>\n",
       "      <td>5.000000e+00</td>\n",
       "      <td>0.000000e+00</td>\n",
       "      <td>6.800000e+01</td>\n",
       "      <td>1.858180e+05</td>\n",
       "      <td>3.430000e+02</td>\n",
       "      <td>7.920000e+04</td>\n",
       "      <td>5.817000e+03</td>\n",
       "      <td>1.020000e+02</td>\n",
       "      <td>0.000000e+00</td>\n",
       "      <td>1.455292e+06</td>\n",
       "    </tr>\n",
       "    <tr>\n",
       "      <th>max</th>\n",
       "      <td>6.884000e+03</td>\n",
       "      <td>1.638840e+05</td>\n",
       "      <td>2.133340e+05</td>\n",
       "      <td>7.208770e+03</td>\n",
       "      <td>6.000000e+00</td>\n",
       "      <td>7.500000e+01</td>\n",
       "      <td>1.000000e+01</td>\n",
       "      <td>1.000000e+00</td>\n",
       "      <td>9.000000e+00</td>\n",
       "      <td>8.000000e+00</td>\n",
       "      <td>9.000000e+01</td>\n",
       "      <td>2.359590e+05</td>\n",
       "      <td>4.590000e+02</td>\n",
       "      <td>1.033070e+05</td>\n",
       "      <td>6.671000e+03</td>\n",
       "      <td>1.070000e+02</td>\n",
       "      <td>4.000000e+00</td>\n",
       "      <td>1.958239e+06</td>\n",
       "    </tr>\n",
       "  </tbody>\n",
       "</table>\n",
       "</div>"
      ],
      "text/plain": [
       "              acqic         bacno  ...         stscd         txkey\n",
       "count  1.141340e+06  1.141340e+06  ...  1.141340e+06  1.141340e+06\n",
       "mean   6.006358e+03  8.207719e+04  ...  2.491457e-02  9.713231e+05\n",
       "std    1.504925e+03  4.738710e+04  ...  2.219759e-01  5.641638e+05\n",
       "min    0.000000e+00  1.000000e+00  ...  0.000000e+00  0.000000e+00\n",
       "25%    5.982000e+03  4.135200e+04  ...  0.000000e+00  4.872235e+05\n",
       "50%    6.708000e+03  8.184400e+04  ...  0.000000e+00  9.797315e+05\n",
       "75%    6.769000e+03  1.230940e+05  ...  0.000000e+00  1.455292e+06\n",
       "max    6.884000e+03  1.638840e+05  ...  4.000000e+00  1.958239e+06\n",
       "\n",
       "[8 rows x 18 columns]"
      ]
     },
     "metadata": {
      "tags": []
     },
     "output_type": "display_data"
    },
    {
     "name": "stdout",
     "output_type": "stream",
     "text": [
      "\n",
      "\n",
      "Description of Categorical Features\n"
     ]
    },
    {
     "data": {
      "text/html": [
       "<div>\n",
       "<style scoped>\n",
       "    .dataframe tbody tr th:only-of-type {\n",
       "        vertical-align: middle;\n",
       "    }\n",
       "\n",
       "    .dataframe tbody tr th {\n",
       "        vertical-align: top;\n",
       "    }\n",
       "\n",
       "    .dataframe thead th {\n",
       "        text-align: right;\n",
       "    }\n",
       "</style>\n",
       "<table border=\"1\" class=\"dataframe\">\n",
       "  <thead>\n",
       "    <tr style=\"text-align: right;\">\n",
       "      <th></th>\n",
       "      <th>count</th>\n",
       "      <th>unique</th>\n",
       "      <th>top</th>\n",
       "      <th>freq</th>\n",
       "    </tr>\n",
       "  </thead>\n",
       "  <tbody>\n",
       "    <tr>\n",
       "      <th>ecfg</th>\n",
       "      <td>1141340</td>\n",
       "      <td>2</td>\n",
       "      <td>N</td>\n",
       "      <td>851201</td>\n",
       "    </tr>\n",
       "    <tr>\n",
       "      <th>flbmk</th>\n",
       "      <td>1131935</td>\n",
       "      <td>2</td>\n",
       "      <td>N</td>\n",
       "      <td>1128098</td>\n",
       "    </tr>\n",
       "    <tr>\n",
       "      <th>flg_3dsmk</th>\n",
       "      <td>1131935</td>\n",
       "      <td>2</td>\n",
       "      <td>N</td>\n",
       "      <td>1083749</td>\n",
       "    </tr>\n",
       "    <tr>\n",
       "      <th>insfg</th>\n",
       "      <td>1141340</td>\n",
       "      <td>2</td>\n",
       "      <td>N</td>\n",
       "      <td>1109626</td>\n",
       "    </tr>\n",
       "    <tr>\n",
       "      <th>ovrlt</th>\n",
       "      <td>1141340</td>\n",
       "      <td>2</td>\n",
       "      <td>N</td>\n",
       "      <td>1126179</td>\n",
       "    </tr>\n",
       "  </tbody>\n",
       "</table>\n",
       "</div>"
      ],
      "text/plain": [
       "             count unique top     freq\n",
       "ecfg       1141340      2   N   851201\n",
       "flbmk      1131935      2   N  1128098\n",
       "flg_3dsmk  1131935      2   N  1083749\n",
       "insfg      1141340      2   N  1109626\n",
       "ovrlt      1141340      2   N  1126179"
      ]
     },
     "metadata": {
      "tags": []
     },
     "output_type": "display_data"
    },
    {
     "name": "stdout",
     "output_type": "stream",
     "text": [
      "\n",
      "\n",
      "Unique class Count of Categorical features\n"
     ]
    },
    {
     "data": {
      "text/html": [
       "<style  type=\"text/css\" >\n",
       "#T_50416cae_ca55_11eb_a2bf_0242ac1c0002row0_col1,#T_50416cae_ca55_11eb_a2bf_0242ac1c0002row3_col1,#T_50416cae_ca55_11eb_a2bf_0242ac1c0002row4_col1{\n",
       "            width:  10em;\n",
       "             height:  80%;\n",
       "            background:  linear-gradient(90deg,#d65f5f 66.7%, transparent 66.7%);\n",
       "        }#T_50416cae_ca55_11eb_a2bf_0242ac1c0002row1_col1,#T_50416cae_ca55_11eb_a2bf_0242ac1c0002row2_col1{\n",
       "            width:  10em;\n",
       "             height:  80%;\n",
       "            background:  linear-gradient(90deg,#d65f5f 100.0%, transparent 100.0%);\n",
       "        }</style><table id=\"T_50416cae_ca55_11eb_a2bf_0242ac1c0002\" ><thead>    <tr>        <th class=\"blank level0\" ></th>        <th class=\"col_heading level0 col0\" >Feature</th>        <th class=\"col_heading level0 col1\" >Unique Count</th>    </tr></thead><tbody>\n",
       "                <tr>\n",
       "                        <th id=\"T_50416cae_ca55_11eb_a2bf_0242ac1c0002level0_row0\" class=\"row_heading level0 row0\" >0</th>\n",
       "                        <td id=\"T_50416cae_ca55_11eb_a2bf_0242ac1c0002row0_col0\" class=\"data row0 col0\" >ecfg</td>\n",
       "                        <td id=\"T_50416cae_ca55_11eb_a2bf_0242ac1c0002row0_col1\" class=\"data row0 col1\" >2</td>\n",
       "            </tr>\n",
       "            <tr>\n",
       "                        <th id=\"T_50416cae_ca55_11eb_a2bf_0242ac1c0002level0_row1\" class=\"row_heading level0 row1\" >1</th>\n",
       "                        <td id=\"T_50416cae_ca55_11eb_a2bf_0242ac1c0002row1_col0\" class=\"data row1 col0\" >flbmk</td>\n",
       "                        <td id=\"T_50416cae_ca55_11eb_a2bf_0242ac1c0002row1_col1\" class=\"data row1 col1\" >3</td>\n",
       "            </tr>\n",
       "            <tr>\n",
       "                        <th id=\"T_50416cae_ca55_11eb_a2bf_0242ac1c0002level0_row2\" class=\"row_heading level0 row2\" >2</th>\n",
       "                        <td id=\"T_50416cae_ca55_11eb_a2bf_0242ac1c0002row2_col0\" class=\"data row2 col0\" >flg_3dsmk</td>\n",
       "                        <td id=\"T_50416cae_ca55_11eb_a2bf_0242ac1c0002row2_col1\" class=\"data row2 col1\" >3</td>\n",
       "            </tr>\n",
       "            <tr>\n",
       "                        <th id=\"T_50416cae_ca55_11eb_a2bf_0242ac1c0002level0_row3\" class=\"row_heading level0 row3\" >3</th>\n",
       "                        <td id=\"T_50416cae_ca55_11eb_a2bf_0242ac1c0002row3_col0\" class=\"data row3 col0\" >insfg</td>\n",
       "                        <td id=\"T_50416cae_ca55_11eb_a2bf_0242ac1c0002row3_col1\" class=\"data row3 col1\" >2</td>\n",
       "            </tr>\n",
       "            <tr>\n",
       "                        <th id=\"T_50416cae_ca55_11eb_a2bf_0242ac1c0002level0_row4\" class=\"row_heading level0 row4\" >4</th>\n",
       "                        <td id=\"T_50416cae_ca55_11eb_a2bf_0242ac1c0002row4_col0\" class=\"data row4 col0\" >ovrlt</td>\n",
       "                        <td id=\"T_50416cae_ca55_11eb_a2bf_0242ac1c0002row4_col1\" class=\"data row4 col1\" >2</td>\n",
       "            </tr>\n",
       "    </tbody></table>"
      ],
      "text/plain": [
       "<pandas.io.formats.style.Styler at 0x7f285b7dc790>"
      ]
     },
     "metadata": {
      "tags": []
     },
     "output_type": "display_data"
    },
    {
     "name": "stdout",
     "output_type": "stream",
     "text": [
      "\n",
      "\n",
      "Missing Values in Data\n"
     ]
    },
    {
     "data": {
      "text/html": [
       "<div>\n",
       "<style scoped>\n",
       "    .dataframe tbody tr th:only-of-type {\n",
       "        vertical-align: middle;\n",
       "    }\n",
       "\n",
       "    .dataframe tbody tr th {\n",
       "        vertical-align: top;\n",
       "    }\n",
       "\n",
       "    .dataframe thead th {\n",
       "        text-align: right;\n",
       "    }\n",
       "</style>\n",
       "<table border=\"1\" class=\"dataframe\">\n",
       "  <thead>\n",
       "    <tr style=\"text-align: right;\">\n",
       "      <th></th>\n",
       "      <th>features</th>\n",
       "      <th>missing_counts</th>\n",
       "      <th>missing_percent</th>\n",
       "    </tr>\n",
       "  </thead>\n",
       "  <tbody>\n",
       "    <tr>\n",
       "      <th>0</th>\n",
       "      <td>acqic</td>\n",
       "      <td>0</td>\n",
       "      <td>0.0</td>\n",
       "    </tr>\n",
       "    <tr>\n",
       "      <th>1</th>\n",
       "      <td>bacno</td>\n",
       "      <td>0</td>\n",
       "      <td>0.0</td>\n",
       "    </tr>\n",
       "    <tr>\n",
       "      <th>2</th>\n",
       "      <td>cano</td>\n",
       "      <td>0</td>\n",
       "      <td>0.0</td>\n",
       "    </tr>\n",
       "    <tr>\n",
       "      <th>3</th>\n",
       "      <td>conam</td>\n",
       "      <td>0</td>\n",
       "      <td>0.0</td>\n",
       "    </tr>\n",
       "    <tr>\n",
       "      <th>4</th>\n",
       "      <td>contp</td>\n",
       "      <td>0</td>\n",
       "      <td>0.0</td>\n",
       "    </tr>\n",
       "    <tr>\n",
       "      <th>5</th>\n",
       "      <td>csmcu</td>\n",
       "      <td>0</td>\n",
       "      <td>0.0</td>\n",
       "    </tr>\n",
       "    <tr>\n",
       "      <th>6</th>\n",
       "      <td>ecfg</td>\n",
       "      <td>0</td>\n",
       "      <td>0.0</td>\n",
       "    </tr>\n",
       "    <tr>\n",
       "      <th>7</th>\n",
       "      <td>etymd</td>\n",
       "      <td>0</td>\n",
       "      <td>0.0</td>\n",
       "    </tr>\n",
       "    <tr>\n",
       "      <th>8</th>\n",
       "      <td>flbmk</td>\n",
       "      <td>9405</td>\n",
       "      <td>0.8</td>\n",
       "    </tr>\n",
       "    <tr>\n",
       "      <th>9</th>\n",
       "      <td>flg_3dsmk</td>\n",
       "      <td>9405</td>\n",
       "      <td>0.8</td>\n",
       "    </tr>\n",
       "    <tr>\n",
       "      <th>10</th>\n",
       "      <td>fraud_ind</td>\n",
       "      <td>0</td>\n",
       "      <td>0.0</td>\n",
       "    </tr>\n",
       "    <tr>\n",
       "      <th>11</th>\n",
       "      <td>hcefg</td>\n",
       "      <td>0</td>\n",
       "      <td>0.0</td>\n",
       "    </tr>\n",
       "    <tr>\n",
       "      <th>12</th>\n",
       "      <td>insfg</td>\n",
       "      <td>0</td>\n",
       "      <td>0.0</td>\n",
       "    </tr>\n",
       "    <tr>\n",
       "      <th>13</th>\n",
       "      <td>iterm</td>\n",
       "      <td>0</td>\n",
       "      <td>0.0</td>\n",
       "    </tr>\n",
       "    <tr>\n",
       "      <th>14</th>\n",
       "      <td>locdt</td>\n",
       "      <td>0</td>\n",
       "      <td>0.0</td>\n",
       "    </tr>\n",
       "    <tr>\n",
       "      <th>15</th>\n",
       "      <td>loctm</td>\n",
       "      <td>0</td>\n",
       "      <td>0.0</td>\n",
       "    </tr>\n",
       "    <tr>\n",
       "      <th>16</th>\n",
       "      <td>mcc</td>\n",
       "      <td>0</td>\n",
       "      <td>0.0</td>\n",
       "    </tr>\n",
       "    <tr>\n",
       "      <th>17</th>\n",
       "      <td>mchno</td>\n",
       "      <td>0</td>\n",
       "      <td>0.0</td>\n",
       "    </tr>\n",
       "    <tr>\n",
       "      <th>18</th>\n",
       "      <td>ovrlt</td>\n",
       "      <td>0</td>\n",
       "      <td>0.0</td>\n",
       "    </tr>\n",
       "    <tr>\n",
       "      <th>19</th>\n",
       "      <td>scity</td>\n",
       "      <td>0</td>\n",
       "      <td>0.0</td>\n",
       "    </tr>\n",
       "    <tr>\n",
       "      <th>20</th>\n",
       "      <td>stocn</td>\n",
       "      <td>0</td>\n",
       "      <td>0.0</td>\n",
       "    </tr>\n",
       "    <tr>\n",
       "      <th>21</th>\n",
       "      <td>stscd</td>\n",
       "      <td>0</td>\n",
       "      <td>0.0</td>\n",
       "    </tr>\n",
       "    <tr>\n",
       "      <th>22</th>\n",
       "      <td>txkey</td>\n",
       "      <td>0</td>\n",
       "      <td>0.0</td>\n",
       "    </tr>\n",
       "  </tbody>\n",
       "</table>\n",
       "</div>"
      ],
      "text/plain": [
       "     features  missing_counts  missing_percent\n",
       "0       acqic               0              0.0\n",
       "1       bacno               0              0.0\n",
       "2        cano               0              0.0\n",
       "3       conam               0              0.0\n",
       "4       contp               0              0.0\n",
       "5       csmcu               0              0.0\n",
       "6        ecfg               0              0.0\n",
       "7       etymd               0              0.0\n",
       "8       flbmk            9405              0.8\n",
       "9   flg_3dsmk            9405              0.8\n",
       "10  fraud_ind               0              0.0\n",
       "11      hcefg               0              0.0\n",
       "12      insfg               0              0.0\n",
       "13      iterm               0              0.0\n",
       "14      locdt               0              0.0\n",
       "15      loctm               0              0.0\n",
       "16        mcc               0              0.0\n",
       "17      mchno               0              0.0\n",
       "18      ovrlt               0              0.0\n",
       "19      scity               0              0.0\n",
       "20      stocn               0              0.0\n",
       "21      stscd               0              0.0\n",
       "22      txkey               0              0.0"
      ]
     },
     "metadata": {
      "tags": []
     },
     "output_type": "display_data"
    }
   ],
   "source": [
    "ds.structdata.describe(df_train)\n"
   ]
  },
  {
   "cell_type": "code",
   "execution_count": null,
   "id": "valuable-tuner",
   "metadata": {
    "colab": {
     "base_uri": "https://localhost:8080/",
     "height": 1000
    },
    "id": "valuable-tuner",
    "outputId": "c76b03e2-fd3c-4507-b83e-cd5e9d4d6b00"
   },
   "outputs": [
    {
     "name": "stdout",
     "output_type": "stream",
     "text": [
      "First five data points\n"
     ]
    },
    {
     "data": {
      "text/html": [
       "<div>\n",
       "<style scoped>\n",
       "    .dataframe tbody tr th:only-of-type {\n",
       "        vertical-align: middle;\n",
       "    }\n",
       "\n",
       "    .dataframe tbody tr th {\n",
       "        vertical-align: top;\n",
       "    }\n",
       "\n",
       "    .dataframe thead th {\n",
       "        text-align: right;\n",
       "    }\n",
       "</style>\n",
       "<table border=\"1\" class=\"dataframe\">\n",
       "  <thead>\n",
       "    <tr style=\"text-align: right;\">\n",
       "      <th></th>\n",
       "      <th>acqic</th>\n",
       "      <th>bacno</th>\n",
       "      <th>cano</th>\n",
       "      <th>conam</th>\n",
       "      <th>contp</th>\n",
       "      <th>csmcu</th>\n",
       "      <th>ecfg</th>\n",
       "      <th>etymd</th>\n",
       "      <th>flbmk</th>\n",
       "      <th>flg_3dsmk</th>\n",
       "      <th>fraud_ind</th>\n",
       "      <th>hcefg</th>\n",
       "      <th>insfg</th>\n",
       "      <th>iterm</th>\n",
       "      <th>locdt</th>\n",
       "      <th>loctm</th>\n",
       "      <th>mcc</th>\n",
       "      <th>mchno</th>\n",
       "      <th>ovrlt</th>\n",
       "      <th>scity</th>\n",
       "      <th>stocn</th>\n",
       "      <th>stscd</th>\n",
       "      <th>txkey</th>\n",
       "    </tr>\n",
       "  </thead>\n",
       "  <tbody>\n",
       "    <tr>\n",
       "      <th>0</th>\n",
       "      <td>0</td>\n",
       "      <td>134508</td>\n",
       "      <td>45725</td>\n",
       "      <td>465.619995</td>\n",
       "      <td>5</td>\n",
       "      <td>0</td>\n",
       "      <td>N</td>\n",
       "      <td>2</td>\n",
       "      <td>N</td>\n",
       "      <td>N</td>\n",
       "      <td>0</td>\n",
       "      <td>0</td>\n",
       "      <td>N</td>\n",
       "      <td>0</td>\n",
       "      <td>9</td>\n",
       "      <td>105114.0</td>\n",
       "      <td>451</td>\n",
       "      <td>0</td>\n",
       "      <td>N</td>\n",
       "      <td>5817</td>\n",
       "      <td>102</td>\n",
       "      <td>0</td>\n",
       "      <td>4376</td>\n",
       "    </tr>\n",
       "    <tr>\n",
       "      <th>1</th>\n",
       "      <td>0</td>\n",
       "      <td>78377</td>\n",
       "      <td>2295</td>\n",
       "      <td>465.619995</td>\n",
       "      <td>5</td>\n",
       "      <td>0</td>\n",
       "      <td>N</td>\n",
       "      <td>2</td>\n",
       "      <td>N</td>\n",
       "      <td>N</td>\n",
       "      <td>0</td>\n",
       "      <td>0</td>\n",
       "      <td>N</td>\n",
       "      <td>0</td>\n",
       "      <td>6</td>\n",
       "      <td>104918.0</td>\n",
       "      <td>451</td>\n",
       "      <td>0</td>\n",
       "      <td>N</td>\n",
       "      <td>5817</td>\n",
       "      <td>102</td>\n",
       "      <td>0</td>\n",
       "      <td>2943</td>\n",
       "    </tr>\n",
       "    <tr>\n",
       "      <th>2</th>\n",
       "      <td>0</td>\n",
       "      <td>151054</td>\n",
       "      <td>197751</td>\n",
       "      <td>465.619995</td>\n",
       "      <td>5</td>\n",
       "      <td>0</td>\n",
       "      <td>N</td>\n",
       "      <td>2</td>\n",
       "      <td>N</td>\n",
       "      <td>N</td>\n",
       "      <td>0</td>\n",
       "      <td>0</td>\n",
       "      <td>N</td>\n",
       "      <td>0</td>\n",
       "      <td>7</td>\n",
       "      <td>104917.0</td>\n",
       "      <td>451</td>\n",
       "      <td>0</td>\n",
       "      <td>N</td>\n",
       "      <td>5817</td>\n",
       "      <td>102</td>\n",
       "      <td>0</td>\n",
       "      <td>3387</td>\n",
       "    </tr>\n",
       "    <tr>\n",
       "      <th>3</th>\n",
       "      <td>6716</td>\n",
       "      <td>150887</td>\n",
       "      <td>4541</td>\n",
       "      <td>930.309998</td>\n",
       "      <td>5</td>\n",
       "      <td>62</td>\n",
       "      <td>N</td>\n",
       "      <td>4</td>\n",
       "      <td>N</td>\n",
       "      <td>N</td>\n",
       "      <td>0</td>\n",
       "      <td>5</td>\n",
       "      <td>N</td>\n",
       "      <td>0</td>\n",
       "      <td>8</td>\n",
       "      <td>142028.0</td>\n",
       "      <td>329</td>\n",
       "      <td>37560</td>\n",
       "      <td>N</td>\n",
       "      <td>5820</td>\n",
       "      <td>102</td>\n",
       "      <td>0</td>\n",
       "      <td>1765957</td>\n",
       "    </tr>\n",
       "    <tr>\n",
       "      <th>4</th>\n",
       "      <td>6882</td>\n",
       "      <td>110356</td>\n",
       "      <td>133430</td>\n",
       "      <td>0.000000</td>\n",
       "      <td>5</td>\n",
       "      <td>0</td>\n",
       "      <td>N</td>\n",
       "      <td>0</td>\n",
       "      <td>N</td>\n",
       "      <td>N</td>\n",
       "      <td>0</td>\n",
       "      <td>0</td>\n",
       "      <td>N</td>\n",
       "      <td>0</td>\n",
       "      <td>9</td>\n",
       "      <td>143657.0</td>\n",
       "      <td>459</td>\n",
       "      <td>2461</td>\n",
       "      <td>N</td>\n",
       "      <td>0</td>\n",
       "      <td>102</td>\n",
       "      <td>0</td>\n",
       "      <td>611269</td>\n",
       "    </tr>\n",
       "  </tbody>\n",
       "</table>\n",
       "</div>"
      ],
      "text/plain": [
       "   acqic   bacno    cano       conam  contp  ...  ovrlt scity  stocn stscd    txkey\n",
       "0      0  134508   45725  465.619995      5  ...      N  5817    102     0     4376\n",
       "1      0   78377    2295  465.619995      5  ...      N  5817    102     0     2943\n",
       "2      0  151054  197751  465.619995      5  ...      N  5817    102     0     3387\n",
       "3   6716  150887    4541  930.309998      5  ...      N  5820    102     0  1765957\n",
       "4   6882  110356  133430    0.000000      5  ...      N     0    102     0   611269\n",
       "\n",
       "[5 rows x 23 columns]"
      ]
     },
     "metadata": {
      "tags": []
     },
     "output_type": "display_data"
    },
    {
     "name": "stdout",
     "output_type": "stream",
     "text": [
      "\n",
      "\n",
      "Random five data points\n"
     ]
    },
    {
     "data": {
      "text/html": [
       "<div>\n",
       "<style scoped>\n",
       "    .dataframe tbody tr th:only-of-type {\n",
       "        vertical-align: middle;\n",
       "    }\n",
       "\n",
       "    .dataframe tbody tr th {\n",
       "        vertical-align: top;\n",
       "    }\n",
       "\n",
       "    .dataframe thead th {\n",
       "        text-align: right;\n",
       "    }\n",
       "</style>\n",
       "<table border=\"1\" class=\"dataframe\">\n",
       "  <thead>\n",
       "    <tr style=\"text-align: right;\">\n",
       "      <th></th>\n",
       "      <th>acqic</th>\n",
       "      <th>bacno</th>\n",
       "      <th>cano</th>\n",
       "      <th>conam</th>\n",
       "      <th>contp</th>\n",
       "      <th>csmcu</th>\n",
       "      <th>ecfg</th>\n",
       "      <th>etymd</th>\n",
       "      <th>flbmk</th>\n",
       "      <th>flg_3dsmk</th>\n",
       "      <th>fraud_ind</th>\n",
       "      <th>hcefg</th>\n",
       "      <th>insfg</th>\n",
       "      <th>iterm</th>\n",
       "      <th>locdt</th>\n",
       "      <th>loctm</th>\n",
       "      <th>mcc</th>\n",
       "      <th>mchno</th>\n",
       "      <th>ovrlt</th>\n",
       "      <th>scity</th>\n",
       "      <th>stocn</th>\n",
       "      <th>stscd</th>\n",
       "      <th>txkey</th>\n",
       "    </tr>\n",
       "  </thead>\n",
       "  <tbody>\n",
       "    <tr>\n",
       "      <th>212008</th>\n",
       "      <td>3191</td>\n",
       "      <td>162821</td>\n",
       "      <td>183560</td>\n",
       "      <td>751.130005</td>\n",
       "      <td>4</td>\n",
       "      <td>26</td>\n",
       "      <td>Y</td>\n",
       "      <td>8</td>\n",
       "      <td>N</td>\n",
       "      <td>N</td>\n",
       "      <td>0</td>\n",
       "      <td>5</td>\n",
       "      <td>N</td>\n",
       "      <td>0</td>\n",
       "      <td>15</td>\n",
       "      <td>83133.0</td>\n",
       "      <td>318</td>\n",
       "      <td>68603</td>\n",
       "      <td>N</td>\n",
       "      <td>5932</td>\n",
       "      <td>52</td>\n",
       "      <td>2</td>\n",
       "      <td>664294</td>\n",
       "    </tr>\n",
       "    <tr>\n",
       "      <th>309004</th>\n",
       "      <td>6189</td>\n",
       "      <td>70488</td>\n",
       "      <td>118249</td>\n",
       "      <td>683.250000</td>\n",
       "      <td>5</td>\n",
       "      <td>62</td>\n",
       "      <td>N</td>\n",
       "      <td>5</td>\n",
       "      <td>N</td>\n",
       "      <td>N</td>\n",
       "      <td>0</td>\n",
       "      <td>5</td>\n",
       "      <td>N</td>\n",
       "      <td>0</td>\n",
       "      <td>49</td>\n",
       "      <td>120729.0</td>\n",
       "      <td>263</td>\n",
       "      <td>94682</td>\n",
       "      <td>N</td>\n",
       "      <td>5817</td>\n",
       "      <td>102</td>\n",
       "      <td>0</td>\n",
       "      <td>1362601</td>\n",
       "    </tr>\n",
       "    <tr>\n",
       "      <th>357579</th>\n",
       "      <td>6769</td>\n",
       "      <td>24809</td>\n",
       "      <td>183423</td>\n",
       "      <td>618.669983</td>\n",
       "      <td>6</td>\n",
       "      <td>62</td>\n",
       "      <td>N</td>\n",
       "      <td>2</td>\n",
       "      <td>N</td>\n",
       "      <td>N</td>\n",
       "      <td>0</td>\n",
       "      <td>5</td>\n",
       "      <td>N</td>\n",
       "      <td>0</td>\n",
       "      <td>4</td>\n",
       "      <td>73129.0</td>\n",
       "      <td>374</td>\n",
       "      <td>79663</td>\n",
       "      <td>N</td>\n",
       "      <td>5817</td>\n",
       "      <td>102</td>\n",
       "      <td>0</td>\n",
       "      <td>57611</td>\n",
       "    </tr>\n",
       "    <tr>\n",
       "      <th>131659</th>\n",
       "      <td>5631</td>\n",
       "      <td>74708</td>\n",
       "      <td>56847</td>\n",
       "      <td>439.519989</td>\n",
       "      <td>5</td>\n",
       "      <td>71</td>\n",
       "      <td>Y</td>\n",
       "      <td>8</td>\n",
       "      <td>N</td>\n",
       "      <td>N</td>\n",
       "      <td>0</td>\n",
       "      <td>5</td>\n",
       "      <td>N</td>\n",
       "      <td>0</td>\n",
       "      <td>34</td>\n",
       "      <td>235740.0</td>\n",
       "      <td>277</td>\n",
       "      <td>44286</td>\n",
       "      <td>N</td>\n",
       "      <td>5570</td>\n",
       "      <td>36</td>\n",
       "      <td>2</td>\n",
       "      <td>696103</td>\n",
       "    </tr>\n",
       "    <tr>\n",
       "      <th>60868</th>\n",
       "      <td>6769</td>\n",
       "      <td>50438</td>\n",
       "      <td>193529</td>\n",
       "      <td>103.480003</td>\n",
       "      <td>5</td>\n",
       "      <td>62</td>\n",
       "      <td>Y</td>\n",
       "      <td>8</td>\n",
       "      <td>N</td>\n",
       "      <td>N</td>\n",
       "      <td>0</td>\n",
       "      <td>5</td>\n",
       "      <td>N</td>\n",
       "      <td>0</td>\n",
       "      <td>74</td>\n",
       "      <td>132212.0</td>\n",
       "      <td>373</td>\n",
       "      <td>79245</td>\n",
       "      <td>N</td>\n",
       "      <td>5817</td>\n",
       "      <td>102</td>\n",
       "      <td>0</td>\n",
       "      <td>350781</td>\n",
       "    </tr>\n",
       "  </tbody>\n",
       "</table>\n",
       "</div>"
      ],
      "text/plain": [
       "        acqic   bacno    cano       conam  ...  scity  stocn stscd    txkey\n",
       "212008   3191  162821  183560  751.130005  ...   5932     52     2   664294\n",
       "309004   6189   70488  118249  683.250000  ...   5817    102     0  1362601\n",
       "357579   6769   24809  183423  618.669983  ...   5817    102     0    57611\n",
       "131659   5631   74708   56847  439.519989  ...   5570     36     2   696103\n",
       "60868    6769   50438  193529  103.480003  ...   5817    102     0   350781\n",
       "\n",
       "[5 rows x 23 columns]"
      ]
     },
     "metadata": {
      "tags": []
     },
     "output_type": "display_data"
    },
    {
     "name": "stdout",
     "output_type": "stream",
     "text": [
      "\n",
      "\n",
      "Last five data points\n"
     ]
    },
    {
     "data": {
      "text/html": [
       "<div>\n",
       "<style scoped>\n",
       "    .dataframe tbody tr th:only-of-type {\n",
       "        vertical-align: middle;\n",
       "    }\n",
       "\n",
       "    .dataframe tbody tr th {\n",
       "        vertical-align: top;\n",
       "    }\n",
       "\n",
       "    .dataframe thead th {\n",
       "        text-align: right;\n",
       "    }\n",
       "</style>\n",
       "<table border=\"1\" class=\"dataframe\">\n",
       "  <thead>\n",
       "    <tr style=\"text-align: right;\">\n",
       "      <th></th>\n",
       "      <th>acqic</th>\n",
       "      <th>bacno</th>\n",
       "      <th>cano</th>\n",
       "      <th>conam</th>\n",
       "      <th>contp</th>\n",
       "      <th>csmcu</th>\n",
       "      <th>ecfg</th>\n",
       "      <th>etymd</th>\n",
       "      <th>flbmk</th>\n",
       "      <th>flg_3dsmk</th>\n",
       "      <th>fraud_ind</th>\n",
       "      <th>hcefg</th>\n",
       "      <th>insfg</th>\n",
       "      <th>iterm</th>\n",
       "      <th>locdt</th>\n",
       "      <th>loctm</th>\n",
       "      <th>mcc</th>\n",
       "      <th>mchno</th>\n",
       "      <th>ovrlt</th>\n",
       "      <th>scity</th>\n",
       "      <th>stocn</th>\n",
       "      <th>stscd</th>\n",
       "      <th>txkey</th>\n",
       "    </tr>\n",
       "  </thead>\n",
       "  <tbody>\n",
       "    <tr>\n",
       "      <th>380442</th>\n",
       "      <td>5588</td>\n",
       "      <td>95249</td>\n",
       "      <td>112041</td>\n",
       "      <td>1.380000</td>\n",
       "      <td>5</td>\n",
       "      <td>75</td>\n",
       "      <td>Y</td>\n",
       "      <td>8</td>\n",
       "      <td>NaN</td>\n",
       "      <td>NaN</td>\n",
       "      <td>0</td>\n",
       "      <td>6</td>\n",
       "      <td>N</td>\n",
       "      <td>0</td>\n",
       "      <td>17</td>\n",
       "      <td>194234.0</td>\n",
       "      <td>296</td>\n",
       "      <td>73998</td>\n",
       "      <td>N</td>\n",
       "      <td>3426</td>\n",
       "      <td>42</td>\n",
       "      <td>0</td>\n",
       "      <td>668463</td>\n",
       "    </tr>\n",
       "    <tr>\n",
       "      <th>380443</th>\n",
       "      <td>6215</td>\n",
       "      <td>85771</td>\n",
       "      <td>169553</td>\n",
       "      <td>609.210022</td>\n",
       "      <td>5</td>\n",
       "      <td>75</td>\n",
       "      <td>Y</td>\n",
       "      <td>2</td>\n",
       "      <td>NaN</td>\n",
       "      <td>NaN</td>\n",
       "      <td>0</td>\n",
       "      <td>6</td>\n",
       "      <td>N</td>\n",
       "      <td>0</td>\n",
       "      <td>14</td>\n",
       "      <td>133907.0</td>\n",
       "      <td>289</td>\n",
       "      <td>54828</td>\n",
       "      <td>N</td>\n",
       "      <td>3460</td>\n",
       "      <td>46</td>\n",
       "      <td>0</td>\n",
       "      <td>1846986</td>\n",
       "    </tr>\n",
       "    <tr>\n",
       "      <th>380444</th>\n",
       "      <td>6231</td>\n",
       "      <td>139728</td>\n",
       "      <td>168027</td>\n",
       "      <td>574.359985</td>\n",
       "      <td>5</td>\n",
       "      <td>75</td>\n",
       "      <td>N</td>\n",
       "      <td>5</td>\n",
       "      <td>NaN</td>\n",
       "      <td>NaN</td>\n",
       "      <td>0</td>\n",
       "      <td>6</td>\n",
       "      <td>N</td>\n",
       "      <td>0</td>\n",
       "      <td>28</td>\n",
       "      <td>155437.0</td>\n",
       "      <td>245</td>\n",
       "      <td>18405</td>\n",
       "      <td>N</td>\n",
       "      <td>5817</td>\n",
       "      <td>102</td>\n",
       "      <td>0</td>\n",
       "      <td>992751</td>\n",
       "    </tr>\n",
       "    <tr>\n",
       "      <th>380445</th>\n",
       "      <td>6032</td>\n",
       "      <td>45406</td>\n",
       "      <td>197460</td>\n",
       "      <td>1.380000</td>\n",
       "      <td>5</td>\n",
       "      <td>75</td>\n",
       "      <td>Y</td>\n",
       "      <td>2</td>\n",
       "      <td>NaN</td>\n",
       "      <td>NaN</td>\n",
       "      <td>0</td>\n",
       "      <td>6</td>\n",
       "      <td>N</td>\n",
       "      <td>0</td>\n",
       "      <td>24</td>\n",
       "      <td>215218.0</td>\n",
       "      <td>373</td>\n",
       "      <td>79246</td>\n",
       "      <td>N</td>\n",
       "      <td>5817</td>\n",
       "      <td>102</td>\n",
       "      <td>0</td>\n",
       "      <td>338215</td>\n",
       "    </tr>\n",
       "    <tr>\n",
       "      <th>380446</th>\n",
       "      <td>6716</td>\n",
       "      <td>48723</td>\n",
       "      <td>176440</td>\n",
       "      <td>406.589996</td>\n",
       "      <td>5</td>\n",
       "      <td>75</td>\n",
       "      <td>N</td>\n",
       "      <td>5</td>\n",
       "      <td>NaN</td>\n",
       "      <td>NaN</td>\n",
       "      <td>0</td>\n",
       "      <td>6</td>\n",
       "      <td>N</td>\n",
       "      <td>0</td>\n",
       "      <td>13</td>\n",
       "      <td>163603.0</td>\n",
       "      <td>251</td>\n",
       "      <td>69607</td>\n",
       "      <td>N</td>\n",
       "      <td>2310</td>\n",
       "      <td>102</td>\n",
       "      <td>0</td>\n",
       "      <td>1055258</td>\n",
       "    </tr>\n",
       "  </tbody>\n",
       "</table>\n",
       "</div>"
      ],
      "text/plain": [
       "        acqic   bacno    cano       conam  ...  scity  stocn stscd    txkey\n",
       "380442   5588   95249  112041    1.380000  ...   3426     42     0   668463\n",
       "380443   6215   85771  169553  609.210022  ...   3460     46     0  1846986\n",
       "380444   6231  139728  168027  574.359985  ...   5817    102     0   992751\n",
       "380445   6032   45406  197460    1.380000  ...   5817    102     0   338215\n",
       "380446   6716   48723  176440  406.589996  ...   2310    102     0  1055258\n",
       "\n",
       "[5 rows x 23 columns]"
      ]
     },
     "metadata": {
      "tags": []
     },
     "output_type": "display_data"
    },
    {
     "name": "stdout",
     "output_type": "stream",
     "text": [
      "\n",
      "\n",
      "Shape of  data set: (380447, 23)\n",
      "\n",
      "\n",
      "Size of  data set: 8750281\n",
      "\n",
      "\n",
      "Data Types\n",
      "Note: All Non-numerical features are identified as objects in pandas\n"
     ]
    },
    {
     "data": {
      "text/html": [
       "<div>\n",
       "<style scoped>\n",
       "    .dataframe tbody tr th:only-of-type {\n",
       "        vertical-align: middle;\n",
       "    }\n",
       "\n",
       "    .dataframe tbody tr th {\n",
       "        vertical-align: top;\n",
       "    }\n",
       "\n",
       "    .dataframe thead th {\n",
       "        text-align: right;\n",
       "    }\n",
       "</style>\n",
       "<table border=\"1\" class=\"dataframe\">\n",
       "  <thead>\n",
       "    <tr style=\"text-align: right;\">\n",
       "      <th></th>\n",
       "      <th>Data Type</th>\n",
       "    </tr>\n",
       "  </thead>\n",
       "  <tbody>\n",
       "    <tr>\n",
       "      <th>acqic</th>\n",
       "      <td>int16</td>\n",
       "    </tr>\n",
       "    <tr>\n",
       "      <th>bacno</th>\n",
       "      <td>int32</td>\n",
       "    </tr>\n",
       "    <tr>\n",
       "      <th>cano</th>\n",
       "      <td>int32</td>\n",
       "    </tr>\n",
       "    <tr>\n",
       "      <th>conam</th>\n",
       "      <td>float32</td>\n",
       "    </tr>\n",
       "    <tr>\n",
       "      <th>contp</th>\n",
       "      <td>int8</td>\n",
       "    </tr>\n",
       "    <tr>\n",
       "      <th>csmcu</th>\n",
       "      <td>int8</td>\n",
       "    </tr>\n",
       "    <tr>\n",
       "      <th>ecfg</th>\n",
       "      <td>object</td>\n",
       "    </tr>\n",
       "    <tr>\n",
       "      <th>etymd</th>\n",
       "      <td>int8</td>\n",
       "    </tr>\n",
       "    <tr>\n",
       "      <th>flbmk</th>\n",
       "      <td>object</td>\n",
       "    </tr>\n",
       "    <tr>\n",
       "      <th>flg_3dsmk</th>\n",
       "      <td>object</td>\n",
       "    </tr>\n",
       "    <tr>\n",
       "      <th>fraud_ind</th>\n",
       "      <td>int8</td>\n",
       "    </tr>\n",
       "    <tr>\n",
       "      <th>hcefg</th>\n",
       "      <td>int8</td>\n",
       "    </tr>\n",
       "    <tr>\n",
       "      <th>insfg</th>\n",
       "      <td>object</td>\n",
       "    </tr>\n",
       "    <tr>\n",
       "      <th>iterm</th>\n",
       "      <td>int8</td>\n",
       "    </tr>\n",
       "    <tr>\n",
       "      <th>locdt</th>\n",
       "      <td>int8</td>\n",
       "    </tr>\n",
       "    <tr>\n",
       "      <th>loctm</th>\n",
       "      <td>float32</td>\n",
       "    </tr>\n",
       "    <tr>\n",
       "      <th>mcc</th>\n",
       "      <td>int16</td>\n",
       "    </tr>\n",
       "    <tr>\n",
       "      <th>mchno</th>\n",
       "      <td>int32</td>\n",
       "    </tr>\n",
       "    <tr>\n",
       "      <th>ovrlt</th>\n",
       "      <td>object</td>\n",
       "    </tr>\n",
       "    <tr>\n",
       "      <th>scity</th>\n",
       "      <td>int16</td>\n",
       "    </tr>\n",
       "    <tr>\n",
       "      <th>stocn</th>\n",
       "      <td>int8</td>\n",
       "    </tr>\n",
       "    <tr>\n",
       "      <th>stscd</th>\n",
       "      <td>int8</td>\n",
       "    </tr>\n",
       "    <tr>\n",
       "      <th>txkey</th>\n",
       "      <td>int32</td>\n",
       "    </tr>\n",
       "  </tbody>\n",
       "</table>\n",
       "</div>"
      ],
      "text/plain": [
       "          Data Type\n",
       "acqic         int16\n",
       "bacno         int32\n",
       "cano          int32\n",
       "conam       float32\n",
       "contp          int8\n",
       "csmcu          int8\n",
       "ecfg         object\n",
       "etymd          int8\n",
       "flbmk        object\n",
       "flg_3dsmk    object\n",
       "fraud_ind      int8\n",
       "hcefg          int8\n",
       "insfg        object\n",
       "iterm          int8\n",
       "locdt          int8\n",
       "loctm       float32\n",
       "mcc           int16\n",
       "mchno         int32\n",
       "ovrlt        object\n",
       "scity         int16\n",
       "stocn          int8\n",
       "stscd          int8\n",
       "txkey         int32"
      ]
     },
     "metadata": {
      "tags": []
     },
     "output_type": "display_data"
    },
    {
     "name": "stdout",
     "output_type": "stream",
     "text": [
      "\n",
      "\n",
      "Numerical Features in Data set\n",
      "['acqic', 'bacno', 'cano', 'conam', 'contp', 'csmcu', 'etymd', 'fraud_ind', 'hcefg', 'iterm', 'locdt', 'loctm', 'mcc', 'mchno', 'scity', 'stocn', 'stscd', 'txkey']\n",
      "\n",
      "\n",
      "Categorical Features in Data set\n"
     ]
    },
    {
     "data": {
      "text/plain": [
       "['ecfg', 'flbmk', 'flg_3dsmk', 'insfg', 'ovrlt']"
      ]
     },
     "metadata": {
      "tags": []
     },
     "output_type": "display_data"
    },
    {
     "name": "stdout",
     "output_type": "stream",
     "text": [
      "\n",
      "\n",
      "Statistical Description of Columns\n"
     ]
    },
    {
     "data": {
      "text/html": [
       "<div>\n",
       "<style scoped>\n",
       "    .dataframe tbody tr th:only-of-type {\n",
       "        vertical-align: middle;\n",
       "    }\n",
       "\n",
       "    .dataframe tbody tr th {\n",
       "        vertical-align: top;\n",
       "    }\n",
       "\n",
       "    .dataframe thead th {\n",
       "        text-align: right;\n",
       "    }\n",
       "</style>\n",
       "<table border=\"1\" class=\"dataframe\">\n",
       "  <thead>\n",
       "    <tr style=\"text-align: right;\">\n",
       "      <th></th>\n",
       "      <th>acqic</th>\n",
       "      <th>bacno</th>\n",
       "      <th>cano</th>\n",
       "      <th>conam</th>\n",
       "      <th>contp</th>\n",
       "      <th>csmcu</th>\n",
       "      <th>etymd</th>\n",
       "      <th>fraud_ind</th>\n",
       "      <th>hcefg</th>\n",
       "      <th>iterm</th>\n",
       "      <th>locdt</th>\n",
       "      <th>loctm</th>\n",
       "      <th>mcc</th>\n",
       "      <th>mchno</th>\n",
       "      <th>scity</th>\n",
       "      <th>stocn</th>\n",
       "      <th>stscd</th>\n",
       "      <th>txkey</th>\n",
       "    </tr>\n",
       "  </thead>\n",
       "  <tbody>\n",
       "    <tr>\n",
       "      <th>count</th>\n",
       "      <td>380447.000000</td>\n",
       "      <td>380447.000000</td>\n",
       "      <td>380447.000000</td>\n",
       "      <td>380447.000000</td>\n",
       "      <td>380447.000000</td>\n",
       "      <td>380447.000000</td>\n",
       "      <td>380447.000000</td>\n",
       "      <td>380447.000000</td>\n",
       "      <td>380447.000000</td>\n",
       "      <td>380447.000000</td>\n",
       "      <td>380447.000000</td>\n",
       "      <td>380447.000000</td>\n",
       "      <td>380447.000000</td>\n",
       "      <td>380447.000000</td>\n",
       "      <td>380447.000000</td>\n",
       "      <td>380447.000000</td>\n",
       "      <td>380447.000000</td>\n",
       "      <td>3.804470e+05</td>\n",
       "    </tr>\n",
       "    <tr>\n",
       "      <th>mean</th>\n",
       "      <td>6012.936343</td>\n",
       "      <td>82129.508192</td>\n",
       "      <td>108854.398140</td>\n",
       "      <td>654.720520</td>\n",
       "      <td>4.829164</td>\n",
       "      <td>53.854274</td>\n",
       "      <td>4.146591</td>\n",
       "      <td>0.013332</td>\n",
       "      <td>4.753653</td>\n",
       "      <td>0.049718</td>\n",
       "      <td>45.413119</td>\n",
       "      <td>146373.421875</td>\n",
       "      <td>297.761486</td>\n",
       "      <td>55887.603451</td>\n",
       "      <td>4754.804241</td>\n",
       "      <td>95.649418</td>\n",
       "      <td>0.024676</td>\n",
       "      <td>9.705370e+05</td>\n",
       "    </tr>\n",
       "    <tr>\n",
       "      <th>std</th>\n",
       "      <td>1494.871307</td>\n",
       "      <td>47288.644683</td>\n",
       "      <td>60842.000804</td>\n",
       "      <td>402.221497</td>\n",
       "      <td>0.650692</td>\n",
       "      <td>20.699398</td>\n",
       "      <td>2.394575</td>\n",
       "      <td>0.114691</td>\n",
       "      <td>1.104997</td>\n",
       "      <td>0.365251</td>\n",
       "      <td>26.009846</td>\n",
       "      <td>52079.625000</td>\n",
       "      <td>77.973075</td>\n",
       "      <td>30779.969444</td>\n",
       "      <td>1980.868202</td>\n",
       "      <td>18.921218</td>\n",
       "      <td>0.220792</td>\n",
       "      <td>5.640376e+05</td>\n",
       "    </tr>\n",
       "    <tr>\n",
       "      <th>min</th>\n",
       "      <td>0.000000</td>\n",
       "      <td>1.000000</td>\n",
       "      <td>0.000000</td>\n",
       "      <td>0.000000</td>\n",
       "      <td>0.000000</td>\n",
       "      <td>0.000000</td>\n",
       "      <td>0.000000</td>\n",
       "      <td>0.000000</td>\n",
       "      <td>0.000000</td>\n",
       "      <td>0.000000</td>\n",
       "      <td>1.000000</td>\n",
       "      <td>1.000000</td>\n",
       "      <td>0.000000</td>\n",
       "      <td>0.000000</td>\n",
       "      <td>0.000000</td>\n",
       "      <td>0.000000</td>\n",
       "      <td>0.000000</td>\n",
       "      <td>1.000000e+00</td>\n",
       "    </tr>\n",
       "    <tr>\n",
       "      <th>25%</th>\n",
       "      <td>5982.000000</td>\n",
       "      <td>41478.000000</td>\n",
       "      <td>57612.000000</td>\n",
       "      <td>438.209991</td>\n",
       "      <td>5.000000</td>\n",
       "      <td>62.000000</td>\n",
       "      <td>2.000000</td>\n",
       "      <td>0.000000</td>\n",
       "      <td>5.000000</td>\n",
       "      <td>0.000000</td>\n",
       "      <td>23.000000</td>\n",
       "      <td>110936.000000</td>\n",
       "      <td>250.000000</td>\n",
       "      <td>33774.000000</td>\n",
       "      <td>3789.000000</td>\n",
       "      <td>102.000000</td>\n",
       "      <td>0.000000</td>\n",
       "      <td>4.861575e+05</td>\n",
       "    </tr>\n",
       "    <tr>\n",
       "      <th>50%</th>\n",
       "      <td>6716.000000</td>\n",
       "      <td>82041.000000</td>\n",
       "      <td>109769.000000</td>\n",
       "      <td>591.900024</td>\n",
       "      <td>5.000000</td>\n",
       "      <td>62.000000</td>\n",
       "      <td>4.000000</td>\n",
       "      <td>0.000000</td>\n",
       "      <td>5.000000</td>\n",
       "      <td>0.000000</td>\n",
       "      <td>45.000000</td>\n",
       "      <td>151559.000000</td>\n",
       "      <td>264.000000</td>\n",
       "      <td>59360.000000</td>\n",
       "      <td>5817.000000</td>\n",
       "      <td>102.000000</td>\n",
       "      <td>0.000000</td>\n",
       "      <td>9.790960e+05</td>\n",
       "    </tr>\n",
       "    <tr>\n",
       "      <th>75%</th>\n",
       "      <td>6769.000000</td>\n",
       "      <td>122953.000000</td>\n",
       "      <td>161753.000000</td>\n",
       "      <td>806.960022</td>\n",
       "      <td>5.000000</td>\n",
       "      <td>62.000000</td>\n",
       "      <td>5.000000</td>\n",
       "      <td>0.000000</td>\n",
       "      <td>5.000000</td>\n",
       "      <td>0.000000</td>\n",
       "      <td>68.000000</td>\n",
       "      <td>185858.000000</td>\n",
       "      <td>343.000000</td>\n",
       "      <td>79200.000000</td>\n",
       "      <td>5817.000000</td>\n",
       "      <td>102.000000</td>\n",
       "      <td>0.000000</td>\n",
       "      <td>1.454906e+06</td>\n",
       "    </tr>\n",
       "    <tr>\n",
       "      <th>max</th>\n",
       "      <td>6884.000000</td>\n",
       "      <td>163884.000000</td>\n",
       "      <td>213334.000000</td>\n",
       "      <td>7195.839844</td>\n",
       "      <td>6.000000</td>\n",
       "      <td>75.000000</td>\n",
       "      <td>10.000000</td>\n",
       "      <td>1.000000</td>\n",
       "      <td>9.000000</td>\n",
       "      <td>8.000000</td>\n",
       "      <td>90.000000</td>\n",
       "      <td>235959.000000</td>\n",
       "      <td>459.000000</td>\n",
       "      <td>103307.000000</td>\n",
       "      <td>6667.000000</td>\n",
       "      <td>107.000000</td>\n",
       "      <td>4.000000</td>\n",
       "      <td>1.958238e+06</td>\n",
       "    </tr>\n",
       "  </tbody>\n",
       "</table>\n",
       "</div>"
      ],
      "text/plain": [
       "               acqic          bacno  ...          stscd         txkey\n",
       "count  380447.000000  380447.000000  ...  380447.000000  3.804470e+05\n",
       "mean     6012.936343   82129.508192  ...       0.024676  9.705370e+05\n",
       "std      1494.871307   47288.644683  ...       0.220792  5.640376e+05\n",
       "min         0.000000       1.000000  ...       0.000000  1.000000e+00\n",
       "25%      5982.000000   41478.000000  ...       0.000000  4.861575e+05\n",
       "50%      6716.000000   82041.000000  ...       0.000000  9.790960e+05\n",
       "75%      6769.000000  122953.000000  ...       0.000000  1.454906e+06\n",
       "max      6884.000000  163884.000000  ...       4.000000  1.958238e+06\n",
       "\n",
       "[8 rows x 18 columns]"
      ]
     },
     "metadata": {
      "tags": []
     },
     "output_type": "display_data"
    },
    {
     "name": "stdout",
     "output_type": "stream",
     "text": [
      "\n",
      "\n",
      "Description of Categorical Features\n"
     ]
    },
    {
     "data": {
      "text/html": [
       "<div>\n",
       "<style scoped>\n",
       "    .dataframe tbody tr th:only-of-type {\n",
       "        vertical-align: middle;\n",
       "    }\n",
       "\n",
       "    .dataframe tbody tr th {\n",
       "        vertical-align: top;\n",
       "    }\n",
       "\n",
       "    .dataframe thead th {\n",
       "        text-align: right;\n",
       "    }\n",
       "</style>\n",
       "<table border=\"1\" class=\"dataframe\">\n",
       "  <thead>\n",
       "    <tr style=\"text-align: right;\">\n",
       "      <th></th>\n",
       "      <th>count</th>\n",
       "      <th>unique</th>\n",
       "      <th>top</th>\n",
       "      <th>freq</th>\n",
       "    </tr>\n",
       "  </thead>\n",
       "  <tbody>\n",
       "    <tr>\n",
       "      <th>ecfg</th>\n",
       "      <td>380447</td>\n",
       "      <td>2</td>\n",
       "      <td>N</td>\n",
       "      <td>283311</td>\n",
       "    </tr>\n",
       "    <tr>\n",
       "      <th>flbmk</th>\n",
       "      <td>377271</td>\n",
       "      <td>2</td>\n",
       "      <td>N</td>\n",
       "      <td>376035</td>\n",
       "    </tr>\n",
       "    <tr>\n",
       "      <th>flg_3dsmk</th>\n",
       "      <td>377271</td>\n",
       "      <td>2</td>\n",
       "      <td>N</td>\n",
       "      <td>361118</td>\n",
       "    </tr>\n",
       "    <tr>\n",
       "      <th>insfg</th>\n",
       "      <td>380447</td>\n",
       "      <td>2</td>\n",
       "      <td>N</td>\n",
       "      <td>369849</td>\n",
       "    </tr>\n",
       "    <tr>\n",
       "      <th>ovrlt</th>\n",
       "      <td>380447</td>\n",
       "      <td>2</td>\n",
       "      <td>N</td>\n",
       "      <td>375357</td>\n",
       "    </tr>\n",
       "  </tbody>\n",
       "</table>\n",
       "</div>"
      ],
      "text/plain": [
       "            count unique top    freq\n",
       "ecfg       380447      2   N  283311\n",
       "flbmk      377271      2   N  376035\n",
       "flg_3dsmk  377271      2   N  361118\n",
       "insfg      380447      2   N  369849\n",
       "ovrlt      380447      2   N  375357"
      ]
     },
     "metadata": {
      "tags": []
     },
     "output_type": "display_data"
    },
    {
     "name": "stdout",
     "output_type": "stream",
     "text": [
      "\n",
      "\n",
      "Unique class Count of Categorical features\n"
     ]
    },
    {
     "data": {
      "text/html": [
       "<style  type=\"text/css\" >\n",
       "#T_52722f40_ca55_11eb_a2bf_0242ac1c0002row0_col1,#T_52722f40_ca55_11eb_a2bf_0242ac1c0002row3_col1,#T_52722f40_ca55_11eb_a2bf_0242ac1c0002row4_col1{\n",
       "            width:  10em;\n",
       "             height:  80%;\n",
       "            background:  linear-gradient(90deg,#d65f5f 66.7%, transparent 66.7%);\n",
       "        }#T_52722f40_ca55_11eb_a2bf_0242ac1c0002row1_col1,#T_52722f40_ca55_11eb_a2bf_0242ac1c0002row2_col1{\n",
       "            width:  10em;\n",
       "             height:  80%;\n",
       "            background:  linear-gradient(90deg,#d65f5f 100.0%, transparent 100.0%);\n",
       "        }</style><table id=\"T_52722f40_ca55_11eb_a2bf_0242ac1c0002\" ><thead>    <tr>        <th class=\"blank level0\" ></th>        <th class=\"col_heading level0 col0\" >Feature</th>        <th class=\"col_heading level0 col1\" >Unique Count</th>    </tr></thead><tbody>\n",
       "                <tr>\n",
       "                        <th id=\"T_52722f40_ca55_11eb_a2bf_0242ac1c0002level0_row0\" class=\"row_heading level0 row0\" >0</th>\n",
       "                        <td id=\"T_52722f40_ca55_11eb_a2bf_0242ac1c0002row0_col0\" class=\"data row0 col0\" >ecfg</td>\n",
       "                        <td id=\"T_52722f40_ca55_11eb_a2bf_0242ac1c0002row0_col1\" class=\"data row0 col1\" >2</td>\n",
       "            </tr>\n",
       "            <tr>\n",
       "                        <th id=\"T_52722f40_ca55_11eb_a2bf_0242ac1c0002level0_row1\" class=\"row_heading level0 row1\" >1</th>\n",
       "                        <td id=\"T_52722f40_ca55_11eb_a2bf_0242ac1c0002row1_col0\" class=\"data row1 col0\" >flbmk</td>\n",
       "                        <td id=\"T_52722f40_ca55_11eb_a2bf_0242ac1c0002row1_col1\" class=\"data row1 col1\" >3</td>\n",
       "            </tr>\n",
       "            <tr>\n",
       "                        <th id=\"T_52722f40_ca55_11eb_a2bf_0242ac1c0002level0_row2\" class=\"row_heading level0 row2\" >2</th>\n",
       "                        <td id=\"T_52722f40_ca55_11eb_a2bf_0242ac1c0002row2_col0\" class=\"data row2 col0\" >flg_3dsmk</td>\n",
       "                        <td id=\"T_52722f40_ca55_11eb_a2bf_0242ac1c0002row2_col1\" class=\"data row2 col1\" >3</td>\n",
       "            </tr>\n",
       "            <tr>\n",
       "                        <th id=\"T_52722f40_ca55_11eb_a2bf_0242ac1c0002level0_row3\" class=\"row_heading level0 row3\" >3</th>\n",
       "                        <td id=\"T_52722f40_ca55_11eb_a2bf_0242ac1c0002row3_col0\" class=\"data row3 col0\" >insfg</td>\n",
       "                        <td id=\"T_52722f40_ca55_11eb_a2bf_0242ac1c0002row3_col1\" class=\"data row3 col1\" >2</td>\n",
       "            </tr>\n",
       "            <tr>\n",
       "                        <th id=\"T_52722f40_ca55_11eb_a2bf_0242ac1c0002level0_row4\" class=\"row_heading level0 row4\" >4</th>\n",
       "                        <td id=\"T_52722f40_ca55_11eb_a2bf_0242ac1c0002row4_col0\" class=\"data row4 col0\" >ovrlt</td>\n",
       "                        <td id=\"T_52722f40_ca55_11eb_a2bf_0242ac1c0002row4_col1\" class=\"data row4 col1\" >2</td>\n",
       "            </tr>\n",
       "    </tbody></table>"
      ],
      "text/plain": [
       "<pandas.io.formats.style.Styler at 0x7f285757cbd0>"
      ]
     },
     "metadata": {
      "tags": []
     },
     "output_type": "display_data"
    },
    {
     "name": "stdout",
     "output_type": "stream",
     "text": [
      "\n",
      "\n",
      "Missing Values in Data\n"
     ]
    },
    {
     "data": {
      "text/html": [
       "<div>\n",
       "<style scoped>\n",
       "    .dataframe tbody tr th:only-of-type {\n",
       "        vertical-align: middle;\n",
       "    }\n",
       "\n",
       "    .dataframe tbody tr th {\n",
       "        vertical-align: top;\n",
       "    }\n",
       "\n",
       "    .dataframe thead th {\n",
       "        text-align: right;\n",
       "    }\n",
       "</style>\n",
       "<table border=\"1\" class=\"dataframe\">\n",
       "  <thead>\n",
       "    <tr style=\"text-align: right;\">\n",
       "      <th></th>\n",
       "      <th>features</th>\n",
       "      <th>missing_counts</th>\n",
       "      <th>missing_percent</th>\n",
       "    </tr>\n",
       "  </thead>\n",
       "  <tbody>\n",
       "    <tr>\n",
       "      <th>0</th>\n",
       "      <td>acqic</td>\n",
       "      <td>0</td>\n",
       "      <td>0.0</td>\n",
       "    </tr>\n",
       "    <tr>\n",
       "      <th>1</th>\n",
       "      <td>bacno</td>\n",
       "      <td>0</td>\n",
       "      <td>0.0</td>\n",
       "    </tr>\n",
       "    <tr>\n",
       "      <th>2</th>\n",
       "      <td>cano</td>\n",
       "      <td>0</td>\n",
       "      <td>0.0</td>\n",
       "    </tr>\n",
       "    <tr>\n",
       "      <th>3</th>\n",
       "      <td>conam</td>\n",
       "      <td>0</td>\n",
       "      <td>0.0</td>\n",
       "    </tr>\n",
       "    <tr>\n",
       "      <th>4</th>\n",
       "      <td>contp</td>\n",
       "      <td>0</td>\n",
       "      <td>0.0</td>\n",
       "    </tr>\n",
       "    <tr>\n",
       "      <th>5</th>\n",
       "      <td>csmcu</td>\n",
       "      <td>0</td>\n",
       "      <td>0.0</td>\n",
       "    </tr>\n",
       "    <tr>\n",
       "      <th>6</th>\n",
       "      <td>ecfg</td>\n",
       "      <td>0</td>\n",
       "      <td>0.0</td>\n",
       "    </tr>\n",
       "    <tr>\n",
       "      <th>7</th>\n",
       "      <td>etymd</td>\n",
       "      <td>0</td>\n",
       "      <td>0.0</td>\n",
       "    </tr>\n",
       "    <tr>\n",
       "      <th>8</th>\n",
       "      <td>flbmk</td>\n",
       "      <td>3176</td>\n",
       "      <td>0.8</td>\n",
       "    </tr>\n",
       "    <tr>\n",
       "      <th>9</th>\n",
       "      <td>flg_3dsmk</td>\n",
       "      <td>3176</td>\n",
       "      <td>0.8</td>\n",
       "    </tr>\n",
       "    <tr>\n",
       "      <th>10</th>\n",
       "      <td>fraud_ind</td>\n",
       "      <td>0</td>\n",
       "      <td>0.0</td>\n",
       "    </tr>\n",
       "    <tr>\n",
       "      <th>11</th>\n",
       "      <td>hcefg</td>\n",
       "      <td>0</td>\n",
       "      <td>0.0</td>\n",
       "    </tr>\n",
       "    <tr>\n",
       "      <th>12</th>\n",
       "      <td>insfg</td>\n",
       "      <td>0</td>\n",
       "      <td>0.0</td>\n",
       "    </tr>\n",
       "    <tr>\n",
       "      <th>13</th>\n",
       "      <td>iterm</td>\n",
       "      <td>0</td>\n",
       "      <td>0.0</td>\n",
       "    </tr>\n",
       "    <tr>\n",
       "      <th>14</th>\n",
       "      <td>locdt</td>\n",
       "      <td>0</td>\n",
       "      <td>0.0</td>\n",
       "    </tr>\n",
       "    <tr>\n",
       "      <th>15</th>\n",
       "      <td>loctm</td>\n",
       "      <td>0</td>\n",
       "      <td>0.0</td>\n",
       "    </tr>\n",
       "    <tr>\n",
       "      <th>16</th>\n",
       "      <td>mcc</td>\n",
       "      <td>0</td>\n",
       "      <td>0.0</td>\n",
       "    </tr>\n",
       "    <tr>\n",
       "      <th>17</th>\n",
       "      <td>mchno</td>\n",
       "      <td>0</td>\n",
       "      <td>0.0</td>\n",
       "    </tr>\n",
       "    <tr>\n",
       "      <th>18</th>\n",
       "      <td>ovrlt</td>\n",
       "      <td>0</td>\n",
       "      <td>0.0</td>\n",
       "    </tr>\n",
       "    <tr>\n",
       "      <th>19</th>\n",
       "      <td>scity</td>\n",
       "      <td>0</td>\n",
       "      <td>0.0</td>\n",
       "    </tr>\n",
       "    <tr>\n",
       "      <th>20</th>\n",
       "      <td>stocn</td>\n",
       "      <td>0</td>\n",
       "      <td>0.0</td>\n",
       "    </tr>\n",
       "    <tr>\n",
       "      <th>21</th>\n",
       "      <td>stscd</td>\n",
       "      <td>0</td>\n",
       "      <td>0.0</td>\n",
       "    </tr>\n",
       "    <tr>\n",
       "      <th>22</th>\n",
       "      <td>txkey</td>\n",
       "      <td>0</td>\n",
       "      <td>0.0</td>\n",
       "    </tr>\n",
       "  </tbody>\n",
       "</table>\n",
       "</div>"
      ],
      "text/plain": [
       "     features  missing_counts  missing_percent\n",
       "0       acqic               0              0.0\n",
       "1       bacno               0              0.0\n",
       "2        cano               0              0.0\n",
       "3       conam               0              0.0\n",
       "4       contp               0              0.0\n",
       "5       csmcu               0              0.0\n",
       "6        ecfg               0              0.0\n",
       "7       etymd               0              0.0\n",
       "8       flbmk            3176              0.8\n",
       "9   flg_3dsmk            3176              0.8\n",
       "10  fraud_ind               0              0.0\n",
       "11      hcefg               0              0.0\n",
       "12      insfg               0              0.0\n",
       "13      iterm               0              0.0\n",
       "14      locdt               0              0.0\n",
       "15      loctm               0              0.0\n",
       "16        mcc               0              0.0\n",
       "17      mchno               0              0.0\n",
       "18      ovrlt               0              0.0\n",
       "19      scity               0              0.0\n",
       "20      stocn               0              0.0\n",
       "21      stscd               0              0.0\n",
       "22      txkey               0              0.0"
      ]
     },
     "metadata": {
      "tags": []
     },
     "output_type": "display_data"
    }
   ],
   "source": [
    "ds.structdata.describe(df_test)"
   ]
  },
  {
   "cell_type": "markdown",
   "id": "0NkBr4-0Cd_p",
   "metadata": {
    "id": "0NkBr4-0Cd_p"
   },
   "source": [
    "### Data Cleaning"
   ]
  },
  {
   "cell_type": "markdown",
   "id": "trying-alfred",
   "metadata": {
    "id": "trying-alfred"
   },
   "source": [
    "#### Filling missing value\n"
   ]
  },
  {
   "cell_type": "code",
   "execution_count": null,
   "id": "streaming-geneva",
   "metadata": {
    "id": "streaming-geneva"
   },
   "outputs": [],
   "source": [
    "# fill with most frequent\n",
    "df_all['flbmk'] = df_all['flbmk'].fillna('N')\n",
    "df_all['flg_3dsmk'] = df_all['flg_3dsmk'].fillna('N')"
   ]
  },
  {
   "cell_type": "markdown",
   "id": "gross-proxy",
   "metadata": {
    "id": "gross-proxy"
   },
   "source": [
    "#### Handle different data type encoding\n"
   ]
  },
  {
   "cell_type": "code",
   "execution_count": null,
   "id": "specified-border",
   "metadata": {
    "id": "specified-border"
   },
   "outputs": [],
   "source": [
    "cat_feats = ds.structdata.get_cat_feats(df_all)\n",
    "num_feats = ds.structdata.get_num_feats(df_all)\n",
    "get_unique_counts = ds.structdata.get_unique_counts(df_all)\n",
    "all_feats = df_all.keys()"
   ]
  },
  {
   "cell_type": "code",
   "execution_count": null,
   "id": "yNCKfMb6tm-u",
   "metadata": {
    "colab": {
     "base_uri": "https://localhost:8080/",
     "height": 145
    },
    "id": "yNCKfMb6tm-u",
    "outputId": "ce441dd2-6d39-40f3-f765-1ca8f6e348de"
   },
   "outputs": [
    {
     "data": {
      "text/html": [
       "<style  type=\"text/css\" >\n",
       "#T_6b4a7644_ca55_11eb_a2bf_0242ac1c0002row0_col1,#T_6b4a7644_ca55_11eb_a2bf_0242ac1c0002row1_col1,#T_6b4a7644_ca55_11eb_a2bf_0242ac1c0002row2_col1,#T_6b4a7644_ca55_11eb_a2bf_0242ac1c0002row3_col1,#T_6b4a7644_ca55_11eb_a2bf_0242ac1c0002row4_col1{\n",
       "            width:  10em;\n",
       "             height:  80%;\n",
       "            background:  linear-gradient(90deg,#d65f5f 100.0%, transparent 100.0%);\n",
       "        }</style><table id=\"T_6b4a7644_ca55_11eb_a2bf_0242ac1c0002\" ><thead>    <tr>        <th class=\"blank level0\" ></th>        <th class=\"col_heading level0 col0\" >Feature</th>        <th class=\"col_heading level0 col1\" >Unique Count</th>    </tr></thead><tbody>\n",
       "                <tr>\n",
       "                        <th id=\"T_6b4a7644_ca55_11eb_a2bf_0242ac1c0002level0_row0\" class=\"row_heading level0 row0\" >0</th>\n",
       "                        <td id=\"T_6b4a7644_ca55_11eb_a2bf_0242ac1c0002row0_col0\" class=\"data row0 col0\" >ecfg</td>\n",
       "                        <td id=\"T_6b4a7644_ca55_11eb_a2bf_0242ac1c0002row0_col1\" class=\"data row0 col1\" >2</td>\n",
       "            </tr>\n",
       "            <tr>\n",
       "                        <th id=\"T_6b4a7644_ca55_11eb_a2bf_0242ac1c0002level0_row1\" class=\"row_heading level0 row1\" >1</th>\n",
       "                        <td id=\"T_6b4a7644_ca55_11eb_a2bf_0242ac1c0002row1_col0\" class=\"data row1 col0\" >flbmk</td>\n",
       "                        <td id=\"T_6b4a7644_ca55_11eb_a2bf_0242ac1c0002row1_col1\" class=\"data row1 col1\" >2</td>\n",
       "            </tr>\n",
       "            <tr>\n",
       "                        <th id=\"T_6b4a7644_ca55_11eb_a2bf_0242ac1c0002level0_row2\" class=\"row_heading level0 row2\" >2</th>\n",
       "                        <td id=\"T_6b4a7644_ca55_11eb_a2bf_0242ac1c0002row2_col0\" class=\"data row2 col0\" >flg_3dsmk</td>\n",
       "                        <td id=\"T_6b4a7644_ca55_11eb_a2bf_0242ac1c0002row2_col1\" class=\"data row2 col1\" >2</td>\n",
       "            </tr>\n",
       "            <tr>\n",
       "                        <th id=\"T_6b4a7644_ca55_11eb_a2bf_0242ac1c0002level0_row3\" class=\"row_heading level0 row3\" >3</th>\n",
       "                        <td id=\"T_6b4a7644_ca55_11eb_a2bf_0242ac1c0002row3_col0\" class=\"data row3 col0\" >insfg</td>\n",
       "                        <td id=\"T_6b4a7644_ca55_11eb_a2bf_0242ac1c0002row3_col1\" class=\"data row3 col1\" >2</td>\n",
       "            </tr>\n",
       "            <tr>\n",
       "                        <th id=\"T_6b4a7644_ca55_11eb_a2bf_0242ac1c0002level0_row4\" class=\"row_heading level0 row4\" >4</th>\n",
       "                        <td id=\"T_6b4a7644_ca55_11eb_a2bf_0242ac1c0002row4_col0\" class=\"data row4 col0\" >ovrlt</td>\n",
       "                        <td id=\"T_6b4a7644_ca55_11eb_a2bf_0242ac1c0002row4_col1\" class=\"data row4 col1\" >2</td>\n",
       "            </tr>\n",
       "    </tbody></table>"
      ],
      "text/plain": [
       "<pandas.io.formats.style.Styler at 0x7f2857260c10>"
      ]
     },
     "execution_count": 14,
     "metadata": {
      "tags": []
     },
     "output_type": "execute_result"
    }
   ],
   "source": [
    "get_unique_counts"
   ]
  },
  {
   "cell_type": "code",
   "execution_count": null,
   "id": "JB3rCkBqtk-2",
   "metadata": {
    "colab": {
     "base_uri": "https://localhost:8080/"
    },
    "id": "JB3rCkBqtk-2",
    "outputId": "53ae54f2-ff04-4634-989c-8d57acdd0128"
   },
   "outputs": [
    {
     "data": {
      "text/plain": [
       "['acqic',\n",
       " 'bacno',\n",
       " 'cano',\n",
       " 'conam',\n",
       " 'contp',\n",
       " 'csmcu',\n",
       " 'etymd',\n",
       " 'fraud_ind',\n",
       " 'hcefg',\n",
       " 'iterm',\n",
       " 'locdt',\n",
       " 'loctm',\n",
       " 'mcc',\n",
       " 'mchno',\n",
       " 'scity',\n",
       " 'stocn',\n",
       " 'stscd',\n",
       " 'txkey']"
      ]
     },
     "execution_count": 13,
     "metadata": {
      "tags": []
     },
     "output_type": "execute_result"
    }
   ],
   "source": [
    "num_feats"
   ]
  },
  {
   "cell_type": "code",
   "execution_count": null,
   "id": "uw33TOSBtj6K",
   "metadata": {
    "colab": {
     "base_uri": "https://localhost:8080/"
    },
    "id": "uw33TOSBtj6K",
    "outputId": "9c93f0df-4c89-446c-f044-b2b6d5570852"
   },
   "outputs": [
    {
     "data": {
      "text/plain": [
       "['ecfg', 'flbmk', 'flg_3dsmk', 'insfg', 'ovrlt']"
      ]
     },
     "execution_count": 12,
     "metadata": {
      "tags": []
     },
     "output_type": "execute_result"
    }
   ],
   "source": [
    "cat_feats"
   ]
  },
  {
   "cell_type": "code",
   "execution_count": null,
   "id": "formal-barcelona",
   "metadata": {
    "colab": {
     "base_uri": "https://localhost:8080/"
    },
    "id": "formal-barcelona",
    "outputId": "226e295f-4e3d-460b-b24d-fb881aa75671"
   },
   "outputs": [
    {
     "data": {
      "text/plain": [
       "Index(['acqic', 'bacno', 'cano', 'conam', 'contp', 'csmcu', 'ecfg', 'etymd',\n",
       "       'flbmk', 'flg_3dsmk', 'fraud_ind', 'hcefg', 'insfg', 'iterm', 'locdt',\n",
       "       'loctm', 'mcc', 'mchno', 'ovrlt', 'scity', 'stocn', 'stscd', 'txkey'],\n",
       "      dtype='object')"
      ]
     },
     "execution_count": 15,
     "metadata": {
      "tags": []
     },
     "output_type": "execute_result"
    }
   ],
   "source": [
    "all_feats"
   ]
  },
  {
   "cell_type": "code",
   "execution_count": null,
   "id": "vital-documentation",
   "metadata": {
    "id": "vital-documentation"
   },
   "outputs": [],
   "source": [
    "# label encoding catogorical feature\n",
    "le = LabelEncoder()\n",
    "for feat in cat_feats:\n",
    "    df_all[feat] = le.fit_transform(df_all[feat].astype(str))\n",
    "\n",
    "# one hot feature\n",
    "\n",
    "# 'contp': 交易類別  \n",
    "# 'flbmk': fallback交易註記 \n",
    "# 'ecfg': 網路交易註記  \n",
    "# 'flg_3dsmk': 3DS交易驗證註記\n",
    "# 'hcefg': 支付型態\n",
    "# 'insfg': 分期交易註記\n",
    "# 'ovrlt': 超額交易註記\n",
    "# 'stscd': 狀態碼\n",
    "# 'iterm': 分期期數\n",
    "onehot_feature = [\n",
    "    'contp', 'flbmk', 'ecfg', 'flg_3dsmk', 'hcefg', 'insfg', 'ovrlt', \n",
    "    'stscd', 'iterm'\n",
    "]\n",
    "\n",
    "# frequency feature\n",
    "\n",
    "# 'csmcu': 消費地幣別\n",
    "# 'etymd': 交易型態（網路/實體）\n",
    "# 'mcc': 特店類別\n",
    "# 'mchno': 特店名稱\n",
    "# 'acqic': 收單行代碼\n",
    "# 'bacno': 歸戶帳號\n",
    "# 'cano': 卡號\n",
    "# 'scity': 消費地城市\n",
    "# 'stocn': 消費地國別\n",
    "freq_feature = [\n",
    "    'csmcu', 'etymd', 'mcc', 'mchno', 'acqic', 'bacno', 'cano', 'scity',\n",
    "    'stocn'\n",
    "]\n",
    "\n",
    "for k in freq_feature:\n",
    "    df_all[k + '_f'] = df_all[k].map(df_all[k].value_counts(normalize=True))\n",
    "    \n",
    "for k in onehot_feature:\n",
    "    add_dumy = pd.get_dummies(df_all[k])\n",
    "    add_dumy.columns = [k + \"_{}\".format(x) for x in add_dumy.columns]\n",
    "    if add_dumy.shape[0] < 2:\n",
    "        add_dumy = add_dumy.iloc[:, 0]\n",
    "    df_all = pd.concat([df_all, add_dumy], axis=1)"
   ]
  },
  {
   "cell_type": "code",
   "execution_count": null,
   "id": "compound-oxford",
   "metadata": {
    "id": "compound-oxford"
   },
   "outputs": [],
   "source": [
    "# filter given feature correlated to target feature, use threshold to set it to 0 and 1 (1 means high chance of fraud)\n",
    "def identify_high_risk_fraud(df, feat, threshold):\n",
    "    Top_array = df[f'{feat}'].value_counts().values[:threshold]\n",
    "    df[f'{feat}_high_risk_fraud'] = df[f'{feat}'].apply(lambda x : 0 if x not in Top_array else x)"
   ]
  },
  {
   "cell_type": "code",
   "execution_count": null,
   "id": "closing-harvard",
   "metadata": {
    "id": "closing-harvard"
   },
   "outputs": [],
   "source": [
    "for feat in freq_feature:\n",
    "    identify_high_risk_fraud(df_all, feat , 15)"
   ]
  },
  {
   "cell_type": "markdown",
   "id": "consecutive-brazilian",
   "metadata": {
    "id": "consecutive-brazilian"
   },
   "source": [
    "#### Individual feature prepocess\n",
    "\n"
   ]
  },
  {
   "cell_type": "markdown",
   "id": "fantastic-armor",
   "metadata": {
    "id": "fantastic-armor"
   },
   "source": [
    "##### acqic 收單行代碼\n"
   ]
  },
  {
   "cell_type": "code",
   "execution_count": null,
   "id": "complicated-manual",
   "metadata": {
    "colab": {
     "base_uri": "https://localhost:8080/",
     "height": 419
    },
    "id": "complicated-manual",
    "outputId": "a252e302-c71f-4314-b3f5-440aa4579872"
   },
   "outputs": [
    {
     "data": {
      "text/html": [
       "<div>\n",
       "<style scoped>\n",
       "    .dataframe tbody tr th:only-of-type {\n",
       "        vertical-align: middle;\n",
       "    }\n",
       "\n",
       "    .dataframe tbody tr th {\n",
       "        vertical-align: top;\n",
       "    }\n",
       "\n",
       "    .dataframe thead th {\n",
       "        text-align: right;\n",
       "    }\n",
       "</style>\n",
       "<table border=\"1\" class=\"dataframe\">\n",
       "  <thead>\n",
       "    <tr style=\"text-align: right;\">\n",
       "      <th></th>\n",
       "      <th>acqic</th>\n",
       "      <th>mean</th>\n",
       "      <th>count</th>\n",
       "    </tr>\n",
       "  </thead>\n",
       "  <tbody>\n",
       "    <tr>\n",
       "      <th>5945</th>\n",
       "      <td>6769</td>\n",
       "      <td>0.001040</td>\n",
       "      <td>250889</td>\n",
       "    </tr>\n",
       "    <tr>\n",
       "      <th>5895</th>\n",
       "      <td>6716</td>\n",
       "      <td>0.000695</td>\n",
       "      <td>201407</td>\n",
       "    </tr>\n",
       "    <tr>\n",
       "      <th>5226</th>\n",
       "      <td>5975</td>\n",
       "      <td>0.000376</td>\n",
       "      <td>124951</td>\n",
       "    </tr>\n",
       "    <tr>\n",
       "      <th>6047</th>\n",
       "      <td>6881</td>\n",
       "      <td>0.001741</td>\n",
       "      <td>99348</td>\n",
       "    </tr>\n",
       "    <tr>\n",
       "      <th>5411</th>\n",
       "      <td>6189</td>\n",
       "      <td>0.000689</td>\n",
       "      <td>91434</td>\n",
       "    </tr>\n",
       "    <tr>\n",
       "      <th>...</th>\n",
       "      <td>...</td>\n",
       "      <td>...</td>\n",
       "      <td>...</td>\n",
       "    </tr>\n",
       "    <tr>\n",
       "      <th>4604</th>\n",
       "      <td>5285</td>\n",
       "      <td>0.000000</td>\n",
       "      <td>1</td>\n",
       "    </tr>\n",
       "    <tr>\n",
       "      <th>4603</th>\n",
       "      <td>5284</td>\n",
       "      <td>0.000000</td>\n",
       "      <td>1</td>\n",
       "    </tr>\n",
       "    <tr>\n",
       "      <th>4602</th>\n",
       "      <td>5283</td>\n",
       "      <td>0.000000</td>\n",
       "      <td>1</td>\n",
       "    </tr>\n",
       "    <tr>\n",
       "      <th>1234</th>\n",
       "      <td>1371</td>\n",
       "      <td>0.000000</td>\n",
       "      <td>1</td>\n",
       "    </tr>\n",
       "    <tr>\n",
       "      <th>3025</th>\n",
       "      <td>3471</td>\n",
       "      <td>0.000000</td>\n",
       "      <td>1</td>\n",
       "    </tr>\n",
       "  </tbody>\n",
       "</table>\n",
       "<p>6051 rows × 3 columns</p>\n",
       "</div>"
      ],
      "text/plain": [
       "      acqic      mean   count\n",
       "5945   6769  0.001040  250889\n",
       "5895   6716  0.000695  201407\n",
       "5226   5975  0.000376  124951\n",
       "6047   6881  0.001741   99348\n",
       "5411   6189  0.000689   91434\n",
       "...     ...       ...     ...\n",
       "4604   5285  0.000000       1\n",
       "4603   5284  0.000000       1\n",
       "4602   5283  0.000000       1\n",
       "1234   1371  0.000000       1\n",
       "3025   3471  0.000000       1\n",
       "\n",
       "[6051 rows x 3 columns]"
      ]
     },
     "execution_count": 19,
     "metadata": {
      "tags": []
     },
     "output_type": "execute_result"
    }
   ],
   "source": [
    "Df = df_all.groupby(['acqic'])['fraud_ind'].agg(['mean', 'count']).reset_index().sort_values('count', ascending = False)\n",
    "Df"
   ]
  },
  {
   "cell_type": "markdown",
   "id": "unavailable-pointer",
   "metadata": {
    "id": "unavailable-pointer"
   },
   "source": [
    "##### bacno 歸戶帳號\n"
   ]
  },
  {
   "cell_type": "code",
   "execution_count": null,
   "id": "preliminary-flush",
   "metadata": {
    "colab": {
     "base_uri": "https://localhost:8080/",
     "height": 419
    },
    "id": "preliminary-flush",
    "outputId": "1caf6524-a961-4cc3-fa5a-d0e26e7fa051"
   },
   "outputs": [
    {
     "data": {
      "text/html": [
       "<div>\n",
       "<style scoped>\n",
       "    .dataframe tbody tr th:only-of-type {\n",
       "        vertical-align: middle;\n",
       "    }\n",
       "\n",
       "    .dataframe tbody tr th {\n",
       "        vertical-align: top;\n",
       "    }\n",
       "\n",
       "    .dataframe thead th {\n",
       "        text-align: right;\n",
       "    }\n",
       "</style>\n",
       "<table border=\"1\" class=\"dataframe\">\n",
       "  <thead>\n",
       "    <tr style=\"text-align: right;\">\n",
       "      <th></th>\n",
       "      <th>bacno</th>\n",
       "      <th>mean</th>\n",
       "      <th>count</th>\n",
       "    </tr>\n",
       "  </thead>\n",
       "  <tbody>\n",
       "    <tr>\n",
       "      <th>86417</th>\n",
       "      <td>148859</td>\n",
       "      <td>0.0</td>\n",
       "      <td>1117</td>\n",
       "    </tr>\n",
       "    <tr>\n",
       "      <th>90097</th>\n",
       "      <td>155157</td>\n",
       "      <td>0.0</td>\n",
       "      <td>938</td>\n",
       "    </tr>\n",
       "    <tr>\n",
       "      <th>60000</th>\n",
       "      <td>103279</td>\n",
       "      <td>0.0</td>\n",
       "      <td>747</td>\n",
       "    </tr>\n",
       "    <tr>\n",
       "      <th>53019</th>\n",
       "      <td>91313</td>\n",
       "      <td>0.0</td>\n",
       "      <td>681</td>\n",
       "    </tr>\n",
       "    <tr>\n",
       "      <th>86727</th>\n",
       "      <td>149363</td>\n",
       "      <td>0.0</td>\n",
       "      <td>593</td>\n",
       "    </tr>\n",
       "    <tr>\n",
       "      <th>...</th>\n",
       "      <td>...</td>\n",
       "      <td>...</td>\n",
       "      <td>...</td>\n",
       "    </tr>\n",
       "    <tr>\n",
       "      <th>87662</th>\n",
       "      <td>151021</td>\n",
       "      <td>0.0</td>\n",
       "      <td>1</td>\n",
       "    </tr>\n",
       "    <tr>\n",
       "      <th>74079</th>\n",
       "      <td>127607</td>\n",
       "      <td>0.0</td>\n",
       "      <td>1</td>\n",
       "    </tr>\n",
       "    <tr>\n",
       "      <th>39616</th>\n",
       "      <td>68356</td>\n",
       "      <td>0.0</td>\n",
       "      <td>1</td>\n",
       "    </tr>\n",
       "    <tr>\n",
       "      <th>54426</th>\n",
       "      <td>93694</td>\n",
       "      <td>0.0</td>\n",
       "      <td>1</td>\n",
       "    </tr>\n",
       "    <tr>\n",
       "      <th>78324</th>\n",
       "      <td>134893</td>\n",
       "      <td>0.0</td>\n",
       "      <td>1</td>\n",
       "    </tr>\n",
       "  </tbody>\n",
       "</table>\n",
       "<p>95214 rows × 3 columns</p>\n",
       "</div>"
      ],
      "text/plain": [
       "        bacno  mean  count\n",
       "86417  148859   0.0   1117\n",
       "90097  155157   0.0    938\n",
       "60000  103279   0.0    747\n",
       "53019   91313   0.0    681\n",
       "86727  149363   0.0    593\n",
       "...       ...   ...    ...\n",
       "87662  151021   0.0      1\n",
       "74079  127607   0.0      1\n",
       "39616   68356   0.0      1\n",
       "54426   93694   0.0      1\n",
       "78324  134893   0.0      1\n",
       "\n",
       "[95214 rows x 3 columns]"
      ]
     },
     "execution_count": 20,
     "metadata": {
      "tags": []
     },
     "output_type": "execute_result"
    }
   ],
   "source": [
    "Df = df_all.groupby(['bacno'])['fraud_ind'].agg(['mean', 'count']).reset_index().sort_values('count', ascending = False)\n",
    "Df\n"
   ]
  },
  {
   "cell_type": "markdown",
   "id": "severe-rescue",
   "metadata": {
    "id": "severe-rescue"
   },
   "source": [
    "##### locdf & loctm 授權日期與時間\n"
   ]
  },
  {
   "cell_type": "code",
   "execution_count": null,
   "id": "impossible-pursuit",
   "metadata": {
    "id": "impossible-pursuit"
   },
   "outputs": [],
   "source": [
    "time2val = lambda x: np.sin((x/12-1)*np.pi)\n",
    "def fn(x): \n",
    "    x_str = str(int(x)).zfill(6)\n",
    "    h, m, s = float(x_str[:2]), float(x_str[2:4]), float(x_str[4:])\n",
    "    v = h + m/60 + s/3600\n",
    "    return time2val(v)\n",
    "\n",
    "# Sort by time, because transactions has time dependency\n",
    "df_all['loctm']=  df_all['loctm'].apply(fn)\n",
    "\n",
    "df_all=df_all.sort_values(by=['locdt','loctm'])"
   ]
  },
  {
   "cell_type": "code",
   "execution_count": null,
   "id": "portuguese-zoning",
   "metadata": {
    "colab": {
     "base_uri": "https://localhost:8080/"
    },
    "id": "portuguese-zoning",
    "outputId": "cdc7e5c8-d8f1-491c-e887-2329afd4d981"
   },
   "outputs": [
    {
     "data": {
      "text/plain": [
       "count    1.521787e+06\n",
       "mean     3.383419e-01\n",
       "std      6.073060e-01\n",
       "min     -1.000000e+00\n",
       "25%     -1.629672e-01\n",
       "50%      5.391383e-01\n",
       "75%      8.836976e-01\n",
       "max      1.000000e+00\n",
       "Name: loctm, dtype: float64"
      ]
     },
     "execution_count": 20,
     "metadata": {
      "tags": []
     },
     "output_type": "execute_result"
    }
   ],
   "source": [
    "df_all['loctm'].describe()"
   ]
  },
  {
   "cell_type": "code",
   "execution_count": null,
   "id": "detected-seven",
   "metadata": {
    "id": "detected-seven"
   },
   "outputs": [],
   "source": [
    "def Str_turn_time(str1):\n",
    "    str1 = str(int(str1))\n",
    "    if len(str1) < 6:\n",
    "        str1 = (6 - len(str1)) * '0' + str1\n",
    "    return str1\n",
    "\n",
    "df_all['Hour'] = df_all['loctm'].apply(lambda x :Str_turn_time(x)[:2]).astype(int)\n",
    "df_all['Morning'] = 0\n",
    "df_all.loc[(df_all['Hour'].astype('int') > 7) & (df_all['Hour'].astype('int') < 22), 'Morning'] = 1"
   ]
  },
  {
   "cell_type": "code",
   "execution_count": null,
   "id": "special-queen",
   "metadata": {
    "id": "special-queen"
   },
   "outputs": [],
   "source": [
    "df_all.loc[df_all['locdt'] < 121, 'Month'] = 4\n",
    "df_all.loc[(df_all['locdt']) < 91, 'Month']  = 3\n",
    "df_all.loc[(df_all['locdt']) < 61, 'Month']  = 2\n",
    "df_all.loc[(df_all['locdt']) < 31, 'Month'] = 1\n",
    "\n",
    "df_all['Week'] = df_all['locdt'].apply(lambda x : x%7)"
   ]
  },
  {
   "cell_type": "code",
   "execution_count": null,
   "id": "solar-municipality",
   "metadata": {
    "id": "solar-municipality"
   },
   "outputs": [],
   "source": [
    "identify_high_risk_fraud(df_all, 'Month' , 15)\n",
    "identify_high_risk_fraud(df_all, 'Week' , 15)"
   ]
  },
  {
   "cell_type": "markdown",
   "id": "functioning-doctrine",
   "metadata": {
    "id": "functioning-doctrine"
   },
   "source": [
    "##### conam 交易金額\n",
    "\n"
   ]
  },
  {
   "cell_type": "code",
   "execution_count": null,
   "id": "understanding-shipping",
   "metadata": {
    "colab": {
     "base_uri": "https://localhost:8080/",
     "height": 419
    },
    "id": "understanding-shipping",
    "outputId": "4155ce32-f954-480d-ffb8-c96780a1fced"
   },
   "outputs": [
    {
     "data": {
      "text/html": [
       "<div>\n",
       "<style scoped>\n",
       "    .dataframe tbody tr th:only-of-type {\n",
       "        vertical-align: middle;\n",
       "    }\n",
       "\n",
       "    .dataframe tbody tr th {\n",
       "        vertical-align: top;\n",
       "    }\n",
       "\n",
       "    .dataframe thead th {\n",
       "        text-align: right;\n",
       "    }\n",
       "</style>\n",
       "<table border=\"1\" class=\"dataframe\">\n",
       "  <thead>\n",
       "    <tr style=\"text-align: right;\">\n",
       "      <th></th>\n",
       "      <th>conam</th>\n",
       "      <th>mean</th>\n",
       "    </tr>\n",
       "  </thead>\n",
       "  <tbody>\n",
       "    <tr>\n",
       "      <th>36480</th>\n",
       "      <td>1101.839966</td>\n",
       "      <td>0.0</td>\n",
       "    </tr>\n",
       "    <tr>\n",
       "      <th>47891</th>\n",
       "      <td>1476.729980</td>\n",
       "      <td>0.0</td>\n",
       "    </tr>\n",
       "    <tr>\n",
       "      <th>47892</th>\n",
       "      <td>1476.770020</td>\n",
       "      <td>0.0</td>\n",
       "    </tr>\n",
       "    <tr>\n",
       "      <th>47893</th>\n",
       "      <td>1476.819946</td>\n",
       "      <td>0.0</td>\n",
       "    </tr>\n",
       "    <tr>\n",
       "      <th>47894</th>\n",
       "      <td>1476.859985</td>\n",
       "      <td>0.0</td>\n",
       "    </tr>\n",
       "    <tr>\n",
       "      <th>...</th>\n",
       "      <td>...</td>\n",
       "      <td>...</td>\n",
       "    </tr>\n",
       "    <tr>\n",
       "      <th>69378</th>\n",
       "      <td>2388.560059</td>\n",
       "      <td>1.0</td>\n",
       "    </tr>\n",
       "    <tr>\n",
       "      <th>25880</th>\n",
       "      <td>819.710022</td>\n",
       "      <td>1.0</td>\n",
       "    </tr>\n",
       "    <tr>\n",
       "      <th>11252</th>\n",
       "      <td>463.230011</td>\n",
       "      <td>1.0</td>\n",
       "    </tr>\n",
       "    <tr>\n",
       "      <th>25862</th>\n",
       "      <td>819.309998</td>\n",
       "      <td>1.0</td>\n",
       "    </tr>\n",
       "    <tr>\n",
       "      <th>62659</th>\n",
       "      <td>1980.810059</td>\n",
       "      <td>1.0</td>\n",
       "    </tr>\n",
       "  </tbody>\n",
       "</table>\n",
       "<p>72961 rows × 2 columns</p>\n",
       "</div>"
      ],
      "text/plain": [
       "             conam  mean\n",
       "36480  1101.839966   0.0\n",
       "47891  1476.729980   0.0\n",
       "47892  1476.770020   0.0\n",
       "47893  1476.819946   0.0\n",
       "47894  1476.859985   0.0\n",
       "...            ...   ...\n",
       "69378  2388.560059   1.0\n",
       "25880   819.710022   1.0\n",
       "11252   463.230011   1.0\n",
       "25862   819.309998   1.0\n",
       "62659  1980.810059   1.0\n",
       "\n",
       "[72961 rows x 2 columns]"
      ]
     },
     "execution_count": 24,
     "metadata": {
      "tags": []
     },
     "output_type": "execute_result"
    }
   ],
   "source": [
    "Df = df_all.groupby(['conam'])['fraud_ind'].agg(['mean']).reset_index().sort_values('mean', ascending = True)\n",
    "Df"
   ]
  },
  {
   "cell_type": "markdown",
   "id": "complex-irrigation",
   "metadata": {
    "id": "complex-irrigation"
   },
   "source": [
    "##### txkey 交易唯一序號\n",
    "\n"
   ]
  },
  {
   "cell_type": "code",
   "execution_count": null,
   "id": "bright-james",
   "metadata": {
    "id": "bright-james"
   },
   "outputs": [],
   "source": [
    "df_all['Count_txkey_gb_bacno'] =  df_all.groupby(['bacno'])['txkey'].transform('count')\n",
    "\n",
    "#Calculate count of transaction in the same account and in the same card\n",
    "df_all['Count_txkey_gb_bacno'] =  df_all.groupby(['bacno', 'cano'])['txkey'].transform('count')\n",
    "\n",
    "#Calculate count of transaction in the same account in the same one hour\n",
    "df_all['Count_txkey_gb_bacno_locdt_Hour'] =  df_all.groupby(['bacno', 'locdt', 'Hour'])['txkey'].transform('count')"
   ]
  },
  {
   "cell_type": "markdown",
   "id": "lovely-scholar",
   "metadata": {
    "id": "lovely-scholar"
   },
   "source": [
    "##### scity & stocn 消費城市&國別\n",
    "\n",
    "\n"
   ]
  },
  {
   "cell_type": "code",
   "execution_count": null,
   "id": "divided-package",
   "metadata": {
    "id": "divided-package"
   },
   "outputs": [],
   "source": [
    "new_col = 'scity'+'_'+'stocn'\n",
    "col = 'scity'\n",
    "col2 = 'stocn'\n",
    "\n",
    "df_all[new_col] = df_all[col].astype(str)+'_'+df_all[col2].astype(str)\n",
    "df_all[new_col] = df_all[col].astype(str)+'_'+df_all[col2].astype(str) \n",
    "\n",
    "le = LabelEncoder()\n",
    "df_all[new_col] = le.fit_transform(df_all[new_col].astype(str))"
   ]
  },
  {
   "cell_type": "code",
   "execution_count": null,
   "id": "educational-termination",
   "metadata": {
    "colab": {
     "base_uri": "https://localhost:8080/"
    },
    "id": "educational-termination",
    "outputId": "6f2f26d8-9d87-489f-80a3-bb98a1b2bc5e"
   },
   "outputs": [
    {
     "data": {
      "text/plain": [
       "Index(['acqic', 'bacno', 'cano', 'conam', 'contp', 'csmcu', 'ecfg', 'etymd',\n",
       "       'flbmk', 'flg_3dsmk', 'fraud_ind', 'hcefg', 'insfg', 'iterm', 'locdt',\n",
       "       'loctm', 'mcc', 'mchno', 'ovrlt', 'scity', 'stocn', 'stscd', 'txkey',\n",
       "       'csmcu_f', 'etymd_f', 'mcc_f', 'mchno_f', 'acqic_f', 'bacno_f',\n",
       "       'cano_f', 'scity_f', 'stocn_f', 'contp_0', 'contp_1', 'contp_2',\n",
       "       'contp_3', 'contp_4', 'contp_5', 'contp_6', 'flbmk_0', 'flbmk_1',\n",
       "       'ecfg_0', 'ecfg_1', 'flg_3dsmk_0', 'flg_3dsmk_1', 'hcefg_0', 'hcefg_1',\n",
       "       'hcefg_2', 'hcefg_3', 'hcefg_5', 'hcefg_6', 'hcefg_7', 'hcefg_8',\n",
       "       'hcefg_9', 'insfg_0', 'insfg_1', 'ovrlt_0', 'ovrlt_1', 'stscd_0',\n",
       "       'stscd_1', 'stscd_2', 'stscd_3', 'stscd_4', 'iterm_0', 'iterm_1',\n",
       "       'iterm_2', 'iterm_3', 'iterm_4', 'iterm_5', 'iterm_6', 'iterm_7',\n",
       "       'iterm_8', 'csmcu_high_risk_fraud', 'etymd_high_risk_fraud',\n",
       "       'mcc_high_risk_fraud', 'mchno_high_risk_fraud', 'acqic_high_risk_fraud',\n",
       "       'bacno_high_risk_fraud', 'cano_high_risk_fraud',\n",
       "       'scity_high_risk_fraud', 'stocn_high_risk_fraud', 'Hour', 'Morning',\n",
       "       'Month', 'Week', 'Month_high_risk_fraud', 'Week_high_risk_fraud',\n",
       "       'Count_txkey_gb_bacno', 'Count_txkey_gb_bacno_locdt_Hour',\n",
       "       'scity_stocn'],\n",
       "      dtype='object')"
      ]
     },
     "execution_count": 26,
     "metadata": {
      "tags": []
     },
     "output_type": "execute_result"
    }
   ],
   "source": [
    "df_all.keys()"
   ]
  },
  {
   "cell_type": "markdown",
   "id": "elementary-navigation",
   "metadata": {
    "id": "elementary-navigation"
   },
   "source": [
    "#### numerical feature -> StandardScaler\n",
    "After processing all the feature, scale the numerical feature, so that the model can fit the training data better."
   ]
  },
  {
   "cell_type": "code",
   "execution_count": null,
   "id": "aboriginal-hamburg",
   "metadata": {
    "id": "aboriginal-hamburg"
   },
   "outputs": [],
   "source": [
    "num_feats = ['acqic','bacno','cano','conam', 'csmcu','hcefg','iterm', 'locdt','mcc',\n",
    " 'mchno','scity','stocn', 'stscd','txkey','Month','Week'] "
   ]
  },
  {
   "cell_type": "code",
   "execution_count": null,
   "id": "innocent-young",
   "metadata": {
    "id": "innocent-young"
   },
   "outputs": [],
   "source": [
    "scaler = StandardScaler()\n",
    "df_all[num_feats] = scaler.fit_transform(df_all[num_feats])"
   ]
  },
  {
   "cell_type": "code",
   "execution_count": null,
   "id": "pending-dutch",
   "metadata": {
    "id": "pending-dutch"
   },
   "outputs": [],
   "source": [
    "# train and test data after data prepocessing\n",
    "df_train = df_all.iloc[:len(df_train)]\n",
    "df_test = df_all.iloc[len(df_train):]"
   ]
  },
  {
   "cell_type": "code",
   "execution_count": null,
   "id": "outstanding-pastor",
   "metadata": {
    "id": "outstanding-pastor"
   },
   "outputs": [],
   "source": [
    "# Time seires split\n",
    "\n",
    "# X = df_train.drop('fraud_ind', axis=1)\n",
    "# y = df_train['fraud_ind']\n",
    "\n",
    "# transaction data has time dependency, so instead of normal train test split, here we use TimeSeriesSplit\n",
    "# tscv = TimeSeriesSplit(n_splits=5)\n",
    "\n",
    "# We have sorted the data by time(locdt, locdm) during data preprocess\n",
    "# Time dependent data, train set is the first 70% of the original data\n",
    "# X_train, X_test = np.split(X, [int(.7 *len(X))])\n",
    "# y_train, y_test = np.split(y, [int(.7 *len(y))])\n",
    "\n",
    "# # For training\n",
    "# # X_train, X_test, y_train, y_test = TimeSeriesSplit(X, y, test_size=0.25, random_state=0, stratify=y)\n",
    "\n",
    "# X_train = X_train.values\n",
    "# X_test = X_test.values\n",
    "# y_train = y_train.values\n",
    "# y_test = y_test.values\n",
    "\n",
    "# # For prediction\n",
    "# X_predict = df_test.drop('fraud_ind', axis=1).values\n",
    "# y_answer = df_test['fraud_ind'].values\n"
   ]
  },
  {
   "cell_type": "markdown",
   "id": "adequate-proceeding",
   "metadata": {
    "id": "adequate-proceeding"
   },
   "source": [
    "### Feature selection\n",
    "\n",
    "\n"
   ]
  },
  {
   "cell_type": "code",
   "execution_count": null,
   "id": "intermediate-cement",
   "metadata": {
    "id": "intermediate-cement"
   },
   "outputs": [],
   "source": [
    "X = df_train.drop('fraud_ind', axis=1)\n",
    "y = df_train['fraud_ind']\n",
    "\n",
    "# Since this data set is imbalance, use under sampling, for better training result of models \n",
    "X_nearmiss, y_nearmiss = NearMiss(n_jobs=-1).fit_resample(X, y)"
   ]
  },
  {
   "cell_type": "code",
   "execution_count": null,
   "id": "indie-lightning",
   "metadata": {
    "id": "indie-lightning",
    "outputId": "a59b1903-21fa-4f00-9d44-2c5ec72a36f6"
   },
   "outputs": [
    {
     "name": "stdout",
     "output_type": "stream",
     "text": [
      "(1141340, 89)\n",
      "(1141340,)\n",
      "(30566, 89)\n",
      "(30566,)\n"
     ]
    }
   ],
   "source": [
    "print(X.shape)\n",
    "print(y.shape)\n",
    "\n",
    "print(X_nearmiss.shape)\n",
    "print(y_nearmiss.shape)"
   ]
  },
  {
   "cell_type": "code",
   "execution_count": null,
   "id": "electric-frontier",
   "metadata": {
    "id": "electric-frontier"
   },
   "outputs": [],
   "source": [
    "from sklearn.ensemble import ExtraTreesClassifier\n",
    "from sklearn.feature_selection import SelectFromModel\n",
    "\n",
    "clf = ExtraTreesClassifier(n_estimators=500)\n",
    "clf = clf.fit(X_nearmiss, y_nearmiss)"
   ]
  },
  {
   "cell_type": "code",
   "execution_count": null,
   "id": "precise-office",
   "metadata": {
    "id": "precise-office",
    "outputId": "d895b2be-eda0-461d-d73f-28da32c658aa"
   },
   "outputs": [
    {
     "name": "stdout",
     "output_type": "stream",
     "text": [
      "\n",
      " The selected features are ['bacno', 'cano', 'conam', 'csmcu', 'ecfg', 'etymd', 'locdt', 'loctm', 'mcc', 'mchno', 'scity', 'stocn', 'stscd', 'txkey', 'csmcu_f', 'etymd_f', 'mcc_f', 'mchno_f', 'acqic_f', 'bacno_f', 'cano_f', 'scity_f', 'stocn_f', 'ecfg_0', 'ecfg_1', 'stscd_0', 'stscd_2', 'Week', 'Count_txkey_gb_bacno', 'Count_txkey_gb_bacno_locdt_Hour', 'scity_stocn']:\n",
      "\n",
      " threshold: 0.01\n",
      "\n",
      " The number of selected feature 31:\n"
     ]
    }
   ],
   "source": [
    "# Tree base prune\n",
    "sel = SelectFromModel(clf, prefit=True, threshold=0.01)\n",
    "tree_pruned_features_1 = [f for f, s in zip(X, sel.get_support()) if s]\n",
    "\n",
    "print('\\n The selected features are {}:'.format(tree_pruned_features_1))\n",
    "print('\\n threshold: 0.01')\n",
    "print('\\n The number of selected feature {}:'.format(len(tree_pruned_features_1)))"
   ]
  },
  {
   "cell_type": "code",
   "execution_count": null,
   "id": "monthly-point",
   "metadata": {
    "id": "monthly-point",
    "outputId": "092d3c57-1d53-47da-b6c7-6746501cb8ed"
   },
   "outputs": [
    {
     "name": "stdout",
     "output_type": "stream",
     "text": [
      "\n",
      " The selected features are ['bacno', 'cano', 'conam', 'locdt', 'loctm', 'stocn', 'stscd', 'txkey', 'csmcu_f', 'mcc_f', 'mchno_f', 'acqic_f', 'bacno_f', 'cano_f', 'scity_f', 'stocn_f', 'ecfg_0', 'ecfg_1', 'stscd_0', 'stscd_2', 'Week', 'Count_txkey_gb_bacno', 'Count_txkey_gb_bacno_locdt_Hour']:\n",
      "\n",
      " threshold: 0.02\n",
      "\n",
      " The number of selected feature 23:\n"
     ]
    }
   ],
   "source": [
    "# Tree base prune\n",
    "sel = SelectFromModel(clf, prefit=True, threshold=0.02)\n",
    "tree_pruned_features_2 = [f for f, s in zip(X, sel.get_support()) if s]\n",
    "\n",
    "print('\\n The selected features are {}:'.format(tree_pruned_features_2))\n",
    "print('\\n threshold: 0.02')\n",
    "print('\\n The number of selected feature {}:'.format(len(tree_pruned_features_2)))"
   ]
  },
  {
   "cell_type": "code",
   "execution_count": null,
   "id": "identified-plant",
   "metadata": {
    "id": "identified-plant",
    "outputId": "cb473186-8b3a-4c77-85d6-9dc4cdc85288"
   },
   "outputs": [
    {
     "name": "stdout",
     "output_type": "stream",
     "text": [
      "\n",
      " The selected features are ['bacno', 'cano', 'conam', 'loctm', 'txkey', 'csmcu_f', 'mcc_f', 'mchno_f', 'acqic_f', 'bacno_f', 'cano_f', 'stocn_f', 'Count_txkey_gb_bacno', 'Count_txkey_gb_bacno_locdt_Hour']:\n",
      "\n",
      " threshold: 0.03\n",
      "\n",
      " The number of selected feature 14:\n"
     ]
    }
   ],
   "source": [
    "# Tree base prune\n",
    "sel = SelectFromModel(clf, prefit=True, threshold=0.03)\n",
    "tree_pruned_features_3 = [f for f, s in zip(X, sel.get_support()) if s]\n",
    "\n",
    "print('\\n The selected features are {}:'.format(tree_pruned_features_3))\n",
    "print('\\n threshold: 0.03')\n",
    "print('\\n The number of selected feature {}:'.format(len(tree_pruned_features_3)))"
   ]
  },
  {
   "cell_type": "code",
   "execution_count": null,
   "id": "married-questionnaire",
   "metadata": {
    "id": "married-questionnaire"
   },
   "outputs": [],
   "source": [
    "temp_df_train = pd.concat([df_train[tree_pruned_features_1], df_train['fraud_ind']], axis=1)\n",
    "temp_df_test = pd.concat([df_test[tree_pruned_features_1], df_test['fraud_ind']], axis=1)\n",
    "\n",
    "temp_df_train.to_csv('./dataAfterPruned/tree1_train.csv', index=False)\n",
    "temp_df_test.to_csv('./dataAfterPruned/tree1_test.csv', index=False)\n",
    "\n",
    "temp_df_train = pd.concat([df_train[tree_pruned_features_2], df_train['fraud_ind']], axis=1)\n",
    "temp_df_test = pd.concat([df_test[tree_pruned_features_2], df_test['fraud_ind']], axis=1)\n",
    "\n",
    "temp_df_train.to_csv('./dataAfterPruned/tree2_train.csv', index=False)\n",
    "temp_df_test.to_csv('./dataAfterPruned/tree2_test.csv', index=False)\n",
    "\n",
    "temp_df_train = pd.concat([df_train[tree_pruned_features_3], df_train['fraud_ind']], axis=1)\n",
    "temp_df_test = pd.concat([df_test[tree_pruned_features_3], df_test['fraud_ind']], axis=1)\n",
    "\n",
    "temp_df_train.to_csv('./dataAfterPruned/tree3_train.csv', index=False)\n",
    "temp_df_test.to_csv('./dataAfterPruned/tree3_test.csv', index=False)"
   ]
  },
  {
   "cell_type": "code",
   "execution_count": null,
   "id": "welsh-halifax",
   "metadata": {
    "id": "welsh-halifax",
    "outputId": "b4bcdbcc-ef6e-4971-e8bb-65d04b38390e"
   },
   "outputs": [
    {
     "name": "stdout",
     "output_type": "stream",
     "text": [
      "Fitting estimator with 73 features.\n",
      "Fitting estimator with 72 features.\n",
      "Fitting estimator with 71 features.\n",
      "Fitting estimator with 70 features.\n",
      "Fitting estimator with 69 features.\n",
      "Fitting estimator with 68 features.\n",
      "Fitting estimator with 67 features.\n",
      "Fitting estimator with 66 features.\n",
      "Fitting estimator with 65 features.\n",
      "Fitting estimator with 64 features.\n",
      "Fitting estimator with 63 features.\n",
      "Fitting estimator with 62 features.\n",
      "Fitting estimator with 61 features.\n",
      "Fitting estimator with 60 features.\n",
      "Fitting estimator with 59 features.\n",
      "Fitting estimator with 58 features.\n",
      "Fitting estimator with 57 features.\n",
      "Fitting estimator with 56 features.\n",
      "Fitting estimator with 55 features.\n",
      "Fitting estimator with 54 features.\n",
      "Fitting estimator with 53 features.\n",
      "Fitting estimator with 52 features.\n",
      "Fitting estimator with 51 features.\n",
      "Fitting estimator with 50 features.\n",
      "Fitting estimator with 49 features.\n",
      "Fitting estimator with 48 features.\n",
      "Fitting estimator with 47 features.\n",
      "Fitting estimator with 46 features.\n",
      "Fitting estimator with 45 features.\n",
      "Fitting estimator with 44 features.\n",
      "Fitting estimator with 43 features.\n",
      "Fitting estimator with 42 features.\n",
      "Fitting estimator with 41 features.\n",
      "Fitting estimator with 40 features.\n",
      "Fitting estimator with 39 features.\n",
      "Fitting estimator with 38 features.\n",
      "Fitting estimator with 37 features.\n",
      "Fitting estimator with 36 features.\n",
      "Fitting estimator with 35 features.\n",
      "Fitting estimator with 34 features.\n",
      "Fitting estimator with 33 features.\n",
      "Fitting estimator with 32 features.\n",
      "Fitting estimator with 31 features.\n"
     ]
    },
    {
     "data": {
      "text/plain": [
       "RFECV(cv=StratifiedKFold(n_splits=5, random_state=None, shuffle=True),\n",
       "      estimator=XGBClassifier(base_score=None, booster=None,\n",
       "                              colsample_bylevel=None, colsample_bynode=None,\n",
       "                              colsample_bytree=None, gamma=None, gpu_id=None,\n",
       "                              importance_type='gain',\n",
       "                              interaction_constraints=None, learning_rate=None,\n",
       "                              max_delta_step=None, max_depth=None,\n",
       "                              min_child_weight=None, missing=nan,\n",
       "                              monotone_constraints=None, n_estimators=600,\n",
       "                              n_jobs=-1, num_parallel_tree=None,\n",
       "                              objective='binary:hinge', random_state=None,\n",
       "                              reg_alpha=None, reg_lambda=None,\n",
       "                              scale_pos_weight=None, subsample=None,\n",
       "                              tree_method=None, validate_parameters=None,\n",
       "                              verbosity=None),\n",
       "      n_jobs=-1, scoring='f1', verbose=3)"
      ]
     },
     "execution_count": 85,
     "metadata": {
      "tags": []
     },
     "output_type": "execute_result"
    }
   ],
   "source": [
    "# This block takes too long to executed.\n",
    "# To get the dataFrame after feature selection, please use gdown to download the csv file in the next block.\n",
    "\n",
    "# Feature ranking with recursive feature elimination and cross-validated selection of the best number of features.\n",
    "skf = StratifiedKFold(n_splits=5, random_state=None, shuffle=True)\n",
    "xgb = XGBClassifier(n_estimators=600, n_jobs=-1, objective='binary:hinge')\n",
    "rfecv = RFECV(estimator=xgb, step=1, cv=skf, verbose=3, n_jobs = -1, scoring = 'f1')\n",
    "\n",
    "rfecv.fit(X_nearmiss, y_nearmiss)"
   ]
  },
  {
   "cell_type": "code",
   "execution_count": null,
   "id": "motivated-chapter",
   "metadata": {
    "id": "motivated-chapter",
    "outputId": "1aba68ae-39a9-43e3-f7dc-f057d6bafe98"
   },
   "outputs": [
    {
     "name": "stdout",
     "output_type": "stream",
     "text": [
      "\n",
      " The selected features are ['acqic', 'bacno', 'cano', 'conam', 'contp', 'csmcu', 'ecfg', 'etymd', 'flg_3dsmk', 'hcefg', 'locdt', 'loctm', 'mcc', 'mchno', 'ovrlt', 'scity', 'stocn', 'stscd', 'txkey', 'csmcu_f', 'etymd_f', 'mcc_f', 'mchno_f', 'acqic_f', 'bacno_f', 'cano_f', 'scity_f', 'stocn_f', 'hcefg_5', 'scity_stocn']:\n",
      "\n",
      " The number of selected feature 30:\n"
     ]
    }
   ],
   "source": [
    "RFECV_pruned_features = [f for f, s in zip(X, rfecv.support_) if s]\n",
    "\n",
    "print('\\n The selected features are {}:'.format(RFECV_pruned_features))\n",
    "print('\\n The number of selected feature {}:'.format(len(RFECV_pruned_features)))"
   ]
  },
  {
   "cell_type": "code",
   "execution_count": null,
   "id": "advance-clear",
   "metadata": {
    "id": "advance-clear"
   },
   "outputs": [],
   "source": [
    "temp_df_train = pd.concat([df_train[RFECV_pruned_features], df_train['fraud_ind']], axis=1)\n",
    "temp_df_test = pd.concat([df_test[RFECV_pruned_features], df_test['fraud_ind']], axis=1)\n",
    "\n",
    "temp_df_train.to_csv('./dataAfterPruned/RFECV_train.csv', index=False)\n",
    "temp_df_test.to_csv('./dataAfterPruned/RFECV_test.csv', index=False)"
   ]
  },
  {
   "cell_type": "code",
   "execution_count": null,
   "id": "DrzInW-QFIof",
   "metadata": {
    "id": "DrzInW-QFIof"
   },
   "outputs": [],
   "source": [
    "df_train_RFECV = pd.read_csv('./dataAfterPruned/RFECV_train.csv')\n",
    "df_test_RFECV = pd.read_csv('./dataAfterPruned/RFECV_test.csv')\n",
    "\n",
    "df_train_tree1 = pd.read_csv('./dataAfterPruned/tree1_train.csv')\n",
    "df_test_tree1 = pd.read_csv('./dataAfterPruned/tree1_test.csv')\n",
    "\n",
    "df_train_tree2 = pd.read_csv('./dataAfterPruned/tree2_train.csv')\n",
    "df_test_tree2 = pd.read_csv('./dataAfterPruned/tree2_test.csv')\n",
    "\n",
    "df_train_tree3 = pd.read_csv('./dataAfterPruned/tree3_train.csv')\n",
    "df_test_tree3 = pd.read_csv('./dataAfterPruned/tree3_test.csv')"
   ]
  },
  {
   "cell_type": "code",
   "execution_count": null,
   "id": "labeled-realtor",
   "metadata": {
    "colab": {
     "base_uri": "https://localhost:8080/"
    },
    "id": "labeled-realtor",
    "outputId": "1290e0f3-83a1-4ea5-9164-49964da93050"
   },
   "outputs": [
    {
     "name": "stdout",
     "output_type": "stream",
     "text": [
      "Memory usage of properties dataframe is : 269.9398498535156  MB\n",
      "___MEMORY USAGE AFTER COMPLETION:___\n",
      "Memory usage is:  109.93525314331055  MB\n",
      "This is  40.72583325617449 % of the initial size\n",
      "Memory usage of properties dataframe is : 89.98011016845703  MB\n",
      "___MEMORY USAGE AFTER COMPLETION:___\n",
      "Memory usage is:  36.64519786834717  MB\n",
      "This is  40.72588686515447 % of the initial size\n"
     ]
    }
   ],
   "source": [
    "reduce_mem(df_train)\n",
    "reduce_mem(df_test)"
   ]
  },
  {
   "cell_type": "markdown",
   "id": "exposed-accuracy",
   "metadata": {
    "id": "exposed-accuracy"
   },
   "source": [
    "#### Compare datasets performance on basic classification model\n"
   ]
  },
  {
   "cell_type": "code",
   "execution_count": null,
   "id": "extensive-payroll",
   "metadata": {
    "id": "extensive-payroll"
   },
   "outputs": [],
   "source": [
    "def evaluateDataset(dataset, model, name):\n",
    "    \n",
    "    X = dataset.drop('fraud_ind', axis=1).values\n",
    "    y = dataset['fraud_ind'].values\n",
    "    \n",
    "    accuracy_lst = []\n",
    "    precision_lst = []\n",
    "    recall_lst = []\n",
    "    f1_lst = []\n",
    "    f1_micro_lst = []\n",
    "    f1_macro_lst = []\n",
    "    f1_weighted_lst = []\n",
    "    auc_lst = []\n",
    "    \n",
    "    \n",
    "    skf = StratifiedKFold(n_splits=5, random_state=None, shuffle=True)\n",
    "\n",
    "    for fold, (train_index, test_index) in enumerate(skf.split(X, y), 1):\n",
    "        X_train = X[train_index]\n",
    "        y_train = y[train_index] \n",
    "        X_test = X[test_index]\n",
    "        y_test = y[test_index] \n",
    "\n",
    "        model.fit(X_train, y_train)\n",
    "        y_pred = model.predict(X_test)\n",
    "\n",
    "        accuracy_lst.append(model.score(X_test, y_test))\n",
    "        precision_lst.append(precision_score(y[test_index], y_pred))\n",
    "        recall_lst.append(recall_score(y[test_index], y_pred))\n",
    "        f1_lst.append(f1_score(y_test, y_pred))\n",
    "        f1_micro_lst.append(f1_score(y_test, y_pred, average='micro'))\n",
    "        f1_macro_lst.append(f1_score(y_test, y_pred, average='macro'))\n",
    "        f1_weighted_lst.append(f1_score(y_test, y_pred, average='weighted'))\n",
    "        auc_lst.append(roc_auc_score(y[test_index], y_pred))\n",
    "        \n",
    "    print(f'Dataset: {name}')\n",
    "    print('---' * 45)\n",
    "    print(\"accuracy: {}\".format(np.mean(accuracy_lst)))\n",
    "    print(\"precision: {}\".format(np.mean(precision_lst)))\n",
    "    print(\"recall: {}\".format(np.mean(recall_lst)))\n",
    "    print(\"f1: {}\".format(np.mean(f1_lst)))\n",
    "    print(\"f1 micro: {}\".format(np.mean(f1_micro_lst)))\n",
    "    print(\"f1 macro : {}\".format(np.mean(f1_macro_lst)))\n",
    "    print(\"f1 weighted: {}\".format(np.mean(f1_weighted_lst)))\n",
    "    print('---' * 45)"
   ]
  },
  {
   "cell_type": "code",
   "execution_count": null,
   "id": "subsequent-ladder",
   "metadata": {
    "id": "subsequent-ladder"
   },
   "outputs": [],
   "source": [
    "xgb = XGBClassifier(objective='binary:hinge', n_jobs=-1, verbosity=0)\n",
    "\n",
    "dataSets = [df_train_RFECV,df_train_tree1,df_train_tree2, df_train_tree3]\n",
    "name = ['RFECV', 'tree1', 'tree2', 'tree3']"
   ]
  },
  {
   "cell_type": "code",
   "execution_count": null,
   "id": "induced-wheat",
   "metadata": {
    "id": "induced-wheat",
    "outputId": "1fb41c96-1988-4573-db7d-6c211fce2e30"
   },
   "outputs": [
    {
     "name": "stdout",
     "output_type": "stream",
     "text": [
      "Dataset: RFECV\n",
      "---------------------------------------------------------------------------------------------------------------------------------------\n",
      "accuracy: 0.9923475914276201\n",
      "precision: 0.8410558998861773\n",
      "recall: 0.5282982195185026\n",
      "f1: 0.6489091904446447\n",
      "f1 micro: 0.9923475914276201\n",
      "f1 macro : 0.8225204131786793\n",
      "f1 weighted: 0.9914822013498407\n",
      "---------------------------------------------------------------------------------------------------------------------------------------\n",
      "Dataset: tree1\n",
      "---------------------------------------------------------------------------------------------------------------------------------------\n",
      "accuracy: 0.9931965934778418\n",
      "precision: 0.8636445665793673\n",
      "recall: 0.5842429699582283\n",
      "f1: 0.6969342986034315\n",
      "f1 micro: 0.9931965934778418\n",
      "f1 macro : 0.8467469890497303\n",
      "f1 weighted: 0.9925475816021416\n",
      "---------------------------------------------------------------------------------------------------------------------------------------\n",
      "Dataset: tree2\n",
      "---------------------------------------------------------------------------------------------------------------------------------------\n",
      "accuracy: 0.9932088597613331\n",
      "precision: 0.8627229751222109\n",
      "recall: 0.5861425883775457\n",
      "f1: 0.6979911044445455\n",
      "f1 micro: 0.9932088597613331\n",
      "f1 macro : 0.8472784606458198\n",
      "f1 weighted: 0.9925677730156321\n",
      "---------------------------------------------------------------------------------------------------------------------------------------\n",
      "Dataset: tree3\n",
      "---------------------------------------------------------------------------------------------------------------------------------------\n",
      "accuracy: 0.9918586924141799\n",
      "precision: 0.8032303975893453\n",
      "recall: 0.5195312192256378\n",
      "f1: 0.6307194752599334\n",
      "f1 micro: 0.9918586924141799\n",
      "f1 macro : 0.8133017191467264\n",
      "f1 weighted: 0.9909942641795256\n",
      "---------------------------------------------------------------------------------------------------------------------------------------\n"
     ]
    }
   ],
   "source": [
    "for dataset, name in zip(dataSets,name):\n",
    "    evaluateDataset(dataset, xgb, name)"
   ]
  },
  {
   "cell_type": "code",
   "execution_count": null,
   "id": "occupied-federal",
   "metadata": {
    "id": "occupied-federal"
   },
   "outputs": [],
   "source": [
    "# tree 2 has the highest f1-score: 0.6979911044445455\n",
    "# use tree 2 dataset to para tuning"
   ]
  },
  {
   "cell_type": "markdown",
   "id": "solved-buffer",
   "metadata": {
    "id": "solved-buffer"
   },
   "source": [
    "## Parameter tuning\n"
   ]
  },
  {
   "cell_type": "markdown",
   "id": "265N9Mg1F7wQ",
   "metadata": {
    "id": "265N9Mg1F7wQ"
   },
   "source": [
    "This data set is highly imbalance, in order to fit the training data better, under sampling the data first, use it to train the model, and get the best hyperparameter, then use the hyperparameter obtained to fit the test set and make prediction."
   ]
  },
  {
   "cell_type": "code",
   "execution_count": null,
   "id": "conceptual-preservation",
   "metadata": {
    "colab": {
     "base_uri": "https://localhost:8080/",
     "height": 327
    },
    "id": "conceptual-preservation",
    "outputId": "52ef1a57-016a-4d79-a587-f3e882aff60a"
   },
   "outputs": [
    {
     "name": "stdout",
     "output_type": "stream",
     "text": [
      "Requirement already satisfied: gdown in /usr/local/lib/python3.7/dist-packages (3.6.4)\n",
      "Requirement already satisfied: tqdm in /usr/local/lib/python3.7/dist-packages (from gdown) (4.41.1)\n",
      "Requirement already satisfied: requests in /usr/local/lib/python3.7/dist-packages (from gdown) (2.23.0)\n",
      "Requirement already satisfied: six in /usr/local/lib/python3.7/dist-packages (from gdown) (1.15.0)\n",
      "Requirement already satisfied: chardet<4,>=3.0.2 in /usr/local/lib/python3.7/dist-packages (from requests->gdown) (3.0.4)\n",
      "Requirement already satisfied: certifi>=2017.4.17 in /usr/local/lib/python3.7/dist-packages (from requests->gdown) (2020.12.5)\n",
      "Requirement already satisfied: urllib3!=1.25.0,!=1.25.1,<1.26,>=1.21.1 in /usr/local/lib/python3.7/dist-packages (from requests->gdown) (1.24.3)\n",
      "Requirement already satisfied: idna<3,>=2.5 in /usr/local/lib/python3.7/dist-packages (from requests->gdown) (2.10)\n"
     ]
    },
    {
     "name": "stderr",
     "output_type": "stream",
     "text": [
      "Downloading...\n",
      "From: https://drive.google.com/uc?id=1PGcWwSgWJKc6CJXU3R9y3_AsYObrUT0C\n",
      "To: /content/train.csv\n",
      "408MB [00:02, 166MB/s]\n",
      "Downloading...\n",
      "From: https://drive.google.com/uc?id=1GiuDe0BTaq8yISEJgWdnTnHhTP_v_1bM\n",
      "To: /content/test.csv\n",
      "136MB [00:01, 97.6MB/s]\n"
     ]
    },
    {
     "data": {
      "application/vnd.google.colaboratory.intrinsic+json": {
       "type": "string"
      },
      "text/plain": [
       "'test.csv'"
      ]
     },
     "execution_count": 30,
     "metadata": {
      "tags": []
     },
     "output_type": "execute_result"
    }
   ],
   "source": [
    "# df_train = pd.read_csv('./dataAfterPruned/tree2_train.csv')\n",
    "# df_test = pd.read_csv('./dataAfterPruned/tree2_test.csv')\n",
    "\n",
    "# Inorder to start right here, down below is the gdown link to the dataset - tree2, the one we just clean up and went through feature selection.\n",
    "!pip3 install gdown\n",
    "import gdown\n",
    "\n",
    "f1id = '1PGcWwSgWJKc6CJXU3R9y3_AsYObrUT0C'\n",
    "f2id = '1GiuDe0BTaq8yISEJgWdnTnHhTP_v_1bM'\n",
    "\n",
    "url = 'https://drive.google.com/uc?id=%s'%(f1id)\n",
    "output = 'train.csv'\n",
    "gdown.download(url, output, quiet=False)\n",
    "url = 'https://drive.google.com/uc?id=%s'%(f2id)\n",
    "output = 'test.csv'\n",
    "gdown.download(url, output, quiet=False)"
   ]
  },
  {
   "cell_type": "code",
   "execution_count": null,
   "id": "9bkFwjl2vOE3",
   "metadata": {
    "id": "9bkFwjl2vOE3"
   },
   "outputs": [],
   "source": [
    "df_train = pd.read_csv('./train.csv')\n",
    "df_test = pd.read_csv('./test.csv')"
   ]
  },
  {
   "cell_type": "code",
   "execution_count": null,
   "id": "ceramic-shopping",
   "metadata": {
    "id": "ceramic-shopping"
   },
   "outputs": [],
   "source": [
    "X = df_train.drop('fraud_ind', axis=1)\n",
    "y = df_train['fraud_ind']\n",
    "# Since this data set is imbalance, use under sampling, for better training result of models \n",
    "X_nearmiss, y_nearmiss = NearMiss(n_jobs=-1).fit_resample(X, y)"
   ]
  },
  {
   "cell_type": "code",
   "execution_count": null,
   "id": "later-theater",
   "metadata": {
    "colab": {
     "base_uri": "https://localhost:8080/"
    },
    "id": "later-theater",
    "outputId": "684bd294-c48b-4531-dd38-f36d46bff1ef"
   },
   "outputs": [
    {
     "name": "stdout",
     "output_type": "stream",
     "text": [
      "(30566, 23)\n",
      "(30566,)\n",
      "(1141340, 23)\n",
      "(1141340,)\n"
     ]
    }
   ],
   "source": [
    "print(X_nearmiss.shape)\n",
    "print(y_nearmiss.shape)\n",
    "print(X.shape)\n",
    "print(y.shape)"
   ]
  },
  {
   "cell_type": "markdown",
   "id": "9eVbQ4u8SZ7j",
   "metadata": {
    "id": "9eVbQ4u8SZ7j"
   },
   "source": [
    "### hyperOpt\n",
    "\n"
   ]
  },
  {
   "cell_type": "code",
   "execution_count": null,
   "id": "_xSrUHL3SZir",
   "metadata": {
    "colab": {
     "base_uri": "https://localhost:8080/"
    },
    "id": "_xSrUHL3SZir",
    "outputId": "ec6de9dd-40ae-4140-b473-e402d18f4454"
   },
   "outputs": [
    {
     "name": "stdout",
     "output_type": "stream",
     "text": [
      "100%|██████████| 50/50 [39:06<00:00, 46.93s/trial, best loss: -0.9221965433460144]\n"
     ]
    }
   ],
   "source": [
    "from hyperopt import hp, fmin, tpe, STATUS_OK, Trials\n",
    "\n",
    "space = {'learning_rate': hp.uniform('learning_rate', 0.001, 0.5),\n",
    "        'max_depth': hp.choice('max_depth', [1, 3, 5, 9]),\n",
    "        'colsample_bytree': hp.choice('colsample_bytree', [0.1, 0.7, 1.0]),\n",
    "        'subsample': hp.choice ('subsample', [0.1, 0.5, 1.0]),\n",
    "        'min_child_weight' : hp.choice ('min_child_weight', [0.1, 0.5, 1.0]),\n",
    "        'n_estimators' : hp.choice('n_estimators', [600, 1600, 2100])\n",
    "    }\n",
    "\n",
    "def objective(space):\n",
    "    model = XGBClassifier(learning_rate = space['learning_rate'], \n",
    "                                   max_depth = space['max_depth'],\n",
    "                                 colsample_bytree = space['colsample_bytree'],\n",
    "                                 subsample = space['subsample'],\n",
    "                                 n_estimators = space['n_estimators'],\n",
    "                                min_child_weight=space['min_child_weight'],\n",
    "                              objective='binary:hinge'\n",
    "                                 )\n",
    "    \n",
    "    accuracy = cross_val_score(model, X_nearmiss, y_nearmiss, cv = 3, scoring='f1', n_jobs=-1).mean()\n",
    "\n",
    "    # We aim to maximize accuracy, therefore we return it as a negative value\n",
    "    return {'loss': -accuracy, 'status': STATUS_OK }\n",
    "    \n",
    "best = fmin(fn= objective,\n",
    "            space= space,\n",
    "            algo= tpe.suggest,\n",
    "            max_evals = 50,\n",
    "            trials= Trials())"
   ]
  },
  {
   "cell_type": "code",
   "execution_count": null,
   "id": "bigger-norway",
   "metadata": {
    "id": "bigger-norway",
    "outputId": "990585ea-e9b9-496e-a55a-707024402667",
    "scrolled": true
   },
   "outputs": [
    {
     "data": {
      "text/plain": [
       "{'colsample_bytree': 1,\n",
       " 'learning_rate': 0.029600019920710423,\n",
       " 'max_depth': 3,\n",
       " 'min_child_weight': 2,\n",
       " 'n_estimators': 0,\n",
       " 'subsample': 1}"
      ]
     },
     "execution_count": 24,
     "metadata": {
      "tags": []
     },
     "output_type": "execute_result"
    }
   ],
   "source": [
    "best\n",
    "\n",
    "# 20 iters\n",
    "\n",
    "# {'colsample_bytree': 3,\n",
    "#  'learning_rate': 0.05315556869068875,\n",
    "#  'max_depth': 2,\n",
    "#  'min_child_weight': 0,\n",
    "#  'n_estimators': 0,\n",
    "#  'subsample': 3}\n",
    "\n",
    "# 30 iters\n",
    "# {'colsample_bytree': 0,\n",
    "#  'learning_rate': 0.05437163768633186,\n",
    "#  'max_depth': 3,\n",
    "#  'min_child_weight': 2,\n",
    "#  'n_estimators': 0,\n",
    "#  'subsample': 1}\n",
    "\n",
    "# 50iters\n",
    "# {'colsample_bytree': 0,\n",
    "#  'learning_rate': 0.1282598147882257,\n",
    "#  'max_depth': 2,\n",
    "#  'min_child_weight': 1,\n",
    "#  'n_estimators': 1,\n",
    "#  'subsample': 2}"
   ]
  },
  {
   "cell_type": "code",
   "execution_count": null,
   "id": "exterior-illustration",
   "metadata": {
    "id": "exterior-illustration"
   },
   "outputs": [],
   "source": [
    "hyperOPT_xgb_model = XGBClassifier(\n",
    "    objective='binary:hinge', \n",
    "    n_jobs=-1, \n",
    "    colsample_bytree= 1,\n",
    "  learning_rate= 0.05315556869068875,\n",
    "  max_depth= 9,\n",
    "  min_child_weight= 0.2,\n",
    "  n_estimators= 600,\n",
    "  subsample= 1)\n",
    "\n",
    "basicTrainAndTest(df_train, df_test, hyperOPT_xgb_model, \"hyperOPT_xgb_model\")\n",
    "\n",
    "# for 20 iters\n",
    "# Before\n",
    "\n",
    "# Dataset: tree2\n",
    "# ---------------------------------------------------------------------------------------------------------------------------------------\n",
    "# accuracy: 0.9932088597613331\n",
    "# precision: 0.8627229751222109\n",
    "# recall: 0.5861425883775457\n",
    "# f1: 0.6979911044445455\n",
    "# f1 micro: 0.9932088597613331\n",
    "# f1 macro : 0.8472784606458198\n",
    "# f1 weighted: 0.9925677730156321\n",
    "    \n",
    "# After\n",
    "\n",
    "# Dataset: hyperOPT_xgb_model\n",
    "# ---------------------------------------------------------------------------------------------------------------------------------------\n",
    "# Accuracy: 0.9943724092974843\n",
    "# Precision: 0.8843430369787569\n",
    "# Reacall: 0.6648264984227129\n",
    "# f1-score: 0.7590320765334835\n",
    "# micro f1-score: 0.9943724092974843\n",
    "# macro f1-score: 0.87809251806951\n",
    "# weighted f1-score: 0.9939784067271029\n",
    "# AUC: 0.8318258366239439\n",
    "\n",
    "# f1 score improves from 0.6979911044445455 -> 0.7590320765334835 with 20 iter of tuning"
   ]
  },
  {
   "cell_type": "code",
   "execution_count": null,
   "id": "sophisticated-clock",
   "metadata": {
    "id": "sophisticated-clock",
    "outputId": "3ab6c1f9-9189-47d6-9d2d-5cc6db559940"
   },
   "outputs": [
    {
     "name": "stdout",
     "output_type": "stream",
     "text": [
      "Dataset: hyperOPT_xgb_model_30iters\n",
      "---------------------------------------------------------------------------------------------------------------------------------------\n",
      "Accuracy: 0.9931817046789697\n",
      "Precision: 0.8963531669865643\n",
      "Reacall: 0.5524447949526814\n",
      "f1-score: 0.683581361307636\n",
      "micro f1-score: 0.9931817046789697\n",
      "macro f1-score: 0.8400675414316088\n",
      "weighted f1-score: 0.9923812722757145\n",
      "AUC: 0.7757908290447723\n",
      "---------------------------------------------------------------------------------------------------------------------------------------\n"
     ]
    }
   ],
   "source": [
    "hyperOPT_xgb_model_30iters = XGBClassifier(\n",
    "    objective='binary:hinge', \n",
    "    n_jobs=-1, \n",
    "    colsample_bytree= 0.1,\n",
    " learning_rate= 0.05437163768633186,\n",
    " max_depth= 9,\n",
    " min_child_weight= 1.0,\n",
    " n_estimators= 600,\n",
    " subsample= 0.5)\n",
    "\n",
    "basicTrainAndTest(df_train, df_test, hyperOPT_xgb_model_30iters, \"hyperOPT_xgb_model_30iters\")\n",
    "# Before\n",
    "\n",
    "# Dataset: tree2\n",
    "# ---------------------------------------------------------------------------------------------------------------------------------------\n",
    "# Accuracy: 0.9934051260753798\n",
    "# Precision: 0.8685648547598505\n",
    "# Reacall: 0.5954258675078864\n",
    "# f1-score: 0.6979911044445455\n",
    "# micro f1-score: 0.9934051260753798\n",
    "# macro f1-score: 0.8515902378613556\n",
    "# weighted f1-score: 0.992796908911799\n",
    "# AUC: 0.7971042091452186\n",
    "\n",
    "# After \n",
    "\n",
    "# Dataset: hyperOPT_xgb_model_30iters\n",
    "# ---------------------------------------------------------------------------------------------------------------------------------------\n",
    "# Accuracy: 0.9931817046789697\n",
    "# Precision: 0.8963531669865643\n",
    "# Reacall: 0.5524447949526814\n",
    "# f1-score: 0.683581361307636\n",
    "# micro f1-score: 0.9931817046789697\n",
    "# macro f1-score: 0.8400675414316088\n",
    "# weighted f1-score: 0.9923812722757145\n",
    "# AUC: 0.7757908290447723\n",
    "# ---------------------------------------------------------------------------------------------------------------------------------------\n",
    "\n",
    "# f1 score improves from 0.6979911044445455 -> 0.683581361307636 with 30 iter of tuning\n",
    "# --> overFitting ?"
   ]
  },
  {
   "cell_type": "code",
   "execution_count": null,
   "id": "remarkable-characterization",
   "metadata": {
    "id": "remarkable-characterization"
   },
   "outputs": [],
   "source": [
    "hyperOPT_xgb_model_50iters = XGBClassifier(\n",
    "    objective='binary:hinge', \n",
    "    n_jobs=-1, \n",
    "    colsample_bytree= 0.1,\n",
    " learning_rate= 0.1282598147882257,\n",
    " max_depth= 5,\n",
    " min_child_weight= 0.5,\n",
    " n_estimators= 600,\n",
    " subsample= 1)\n",
    "\n",
    "basicTrainAndTest(df_train, df_test, hyperOPT_xgb_model_50iters, \"hyperOPT_xgb_model_50iters\")\n",
    "\n",
    "# for 50 iters\n",
    "# Before\n",
    "\n",
    "# Dataset: tree2\n",
    "# ---------------------------------------------------------------------------------------------------------------------------------------\n",
    "# accuracy: 0.9932088597613331\n",
    "# precision: 0.8627229751222109\n",
    "# recall: 0.5861425883775457\n",
    "# f1: 0.6979911044445455\n",
    "# f1 micro: 0.9932088597613331\n",
    "# f1 macro : 0.8472784606458198\n",
    "# f1 weighted: 0.9925677730156321\n",
    "    \n",
    "# After\n",
    "\n",
    "# Accuracy: 0.9925981805612871\n",
    "# Precision: 0.8857729138166894\n",
    "# Reacall: 0.5106466876971609\n",
    "# f1-score: 0.647823911955978\n",
    "# micro f1-score: 0.9925981805612871\n",
    "# macro f1-score: 0.8220418487390271\n",
    "# weighted f1-score: 0.9916145478129411\n",
    "# AUC: 0.754878455403692\n",
    "\n",
    "# f1 score improves from 0.6979911044445455 -> 0.647823911955978 with 50 iter of tuning\n",
    "# ---> Overfitting ???"
   ]
  },
  {
   "cell_type": "markdown",
   "id": "JbXXjTlvbQgf",
   "metadata": {
    "id": "JbXXjTlvbQgf"
   },
   "source": [
    "### optuna"
   ]
  },
  {
   "cell_type": "code",
   "execution_count": null,
   "id": "JZpgv_M6bSG8",
   "metadata": {
    "id": "JZpgv_M6bSG8"
   },
   "outputs": [],
   "source": [
    "# ! pip install optuna\n",
    "import optuna\n",
    "from optuna import Trial, visualization\n",
    "from optuna.samplers import TPESampler"
   ]
  },
  {
   "cell_type": "code",
   "execution_count": null,
   "id": "-KCn251BiWTR",
   "metadata": {
    "id": "-KCn251BiWTR"
   },
   "outputs": [],
   "source": [
    "def objective(trial, X, y):\n",
    "\n",
    "    X_train, X_test, y_train, y_test = train_test_split(X, y, test_size=0.25, random_state=0, stratify=y)\n",
    "    \n",
    "    X_train = X_train.values\n",
    "    X_test = X_test.values\n",
    "    y_train = y_train.values\n",
    "    y_test = y_test.values\n",
    "    \n",
    "    param = {\n",
    "        \"verbosity\": 0,\n",
    "        \"objective\": \"binary:hinge\",\n",
    "        # defines booster, gblinear for linear functions.\n",
    "        \"booster\": trial.suggest_categorical(\"booster\", [\"gbtree\", \"gblinear\", \"dart\"]),\n",
    "        # L2 regularization weight.\n",
    "        \"lambda\": trial.suggest_float(\"lambda\", 1e-8, 1.0, log=True),\n",
    "        # L1 regularization weight.\n",
    "        \"alpha\": trial.suggest_float(\"alpha\", 1e-8, 1.0, log=True),\n",
    "        # sampling ratio for training data.\n",
    "        \"subsample\": trial.suggest_float(\"subsample\", 0.2, 0.7,log=True),\n",
    "        # sampling according to each tree.\n",
    "        \"colsample_bytree\": trial.suggest_float(\"colsample_bytree\", 0.5, 1.0),\n",
    "        \"n_estimators\":trial.suggest_int(\"n_estimators\", 600, 2000),\n",
    "        'learning_rate':trial.suggest_loguniform('learning_rate',0.005,0.5),\n",
    "        \"n_jobs\": -1\n",
    "    }\n",
    "    \n",
    "    model = XGBClassifier(**param)\n",
    "\n",
    "    if param[\"booster\"] in [\"gbtree\", \"dart\"]:\n",
    "        # maximum depth of the tree, signifies complexity of the tree.\n",
    "        param[\"max_depth\"] = trial.suggest_int(\"max_depth\", 3, 9, step=2)\n",
    "        # minimum child weight, larger the term more conservative the tree.\n",
    "        param[\"min_child_weight\"] = trial.suggest_int(\"min_child_weight\", 2, 10)\n",
    "        # defines how selective algorithm is.\n",
    "        param[\"gamma\"] = trial.suggest_float(\"gamma\", 1e-8, 1.0, log=True)\n",
    "        param[\"grow_policy\"] = trial.suggest_categorical(\"grow_policy\", [\"depthwise\", \"lossguide\"])\n",
    "\n",
    "    if param[\"booster\"] == \"dart\":\n",
    "        param[\"sample_type\"] = trial.suggest_categorical(\"sample_type\", [\"uniform\", \"weighted\"])\n",
    "        param[\"normalize_type\"] = trial.suggest_categorical(\"normalize_type\", [\"tree\", \"forest\"])\n",
    "        param[\"rate_drop\"] = trial.suggest_float(\"rate_drop\", 1e-8, 1.0, log=True)\n",
    "        param[\"skip_drop\"] = trial.suggest_float(\"skip_drop\", 1e-8, 1.0, log=True)\n",
    "\n",
    "    model.fit(X_train, y_train)\n",
    "    f1 = cross_val_score(model, X_test, y_test, scoring=\"f1\").mean()\n",
    "    return f1"
   ]
  },
  {
   "cell_type": "code",
   "execution_count": null,
   "id": "bebCKn9ciYwM",
   "metadata": {
    "colab": {
     "base_uri": "https://localhost:8080/"
    },
    "id": "bebCKn9ciYwM",
    "outputId": "c814c835-43ef-4961-cacd-47ebf0d710bd"
   },
   "outputs": [
    {
     "name": "stderr",
     "output_type": "stream",
     "text": [
      "\u001b[32m[I 2021-06-10 21:48:29,257]\u001b[0m A new study created in memory with name: no-name-35543f3c-1b86-4a78-bea4-30186e80955f\u001b[0m\n",
      "\u001b[32m[I 2021-06-10 21:48:33,737]\u001b[0m Trial 0 finished with value: 0.8097690607852991 and parameters: {'booster': 'gblinear', 'lambda': 2.339781663462407e-06, 'alpha': 9.892276268781123e-08, 'subsample': 0.39676370914327214, 'colsample_bytree': 0.6457274902471277, 'n_estimators': 1092, 'learning_rate': 0.0295918571703849}. Best is trial 0 with value: 0.8097690607852991.\u001b[0m\n",
      "\u001b[32m[I 2021-06-10 22:09:08,545]\u001b[0m Trial 1 finished with value: 0.8618510915385216 and parameters: {'booster': 'dart', 'lambda': 5.785692168600777e-05, 'alpha': 3.097851996028351e-05, 'subsample': 0.25794216759352406, 'colsample_bytree': 0.7656156805941858, 'n_estimators': 1070, 'learning_rate': 0.4181695916202503, 'max_depth': 7, 'min_child_weight': 7, 'gamma': 0.008943620709237751, 'grow_policy': 'lossguide', 'sample_type': 'weighted', 'normalize_type': 'tree', 'rate_drop': 1.939700493135262e-08, 'skip_drop': 2.506823898018839e-07}. Best is trial 1 with value: 0.8618510915385216.\u001b[0m\n",
      "\u001b[32m[I 2021-06-10 22:09:57,862]\u001b[0m Trial 2 finished with value: 0.8846749891022629 and parameters: {'booster': 'gbtree', 'lambda': 9.1074708095051e-07, 'alpha': 0.2588772727985038, 'subsample': 0.33729537552185834, 'colsample_bytree': 0.6489095318834612, 'n_estimators': 1986, 'learning_rate': 0.050800595085065355, 'max_depth': 9, 'min_child_weight': 9, 'gamma': 0.0012284048513728821, 'grow_policy': 'lossguide'}. Best is trial 2 with value: 0.8846749891022629.\u001b[0m\n",
      "\u001b[32m[I 2021-06-10 23:11:23,350]\u001b[0m Trial 3 finished with value: 0.8670611333672898 and parameters: {'booster': 'dart', 'lambda': 0.007000138022349216, 'alpha': 3.423004065618588e-06, 'subsample': 0.30915767088196183, 'colsample_bytree': 0.7165411377166468, 'n_estimators': 1983, 'learning_rate': 0.32705143087748895, 'max_depth': 7, 'min_child_weight': 6, 'gamma': 1.312910825168538e-06, 'grow_policy': 'depthwise', 'sample_type': 'weighted', 'normalize_type': 'forest', 'rate_drop': 2.5897331927785126e-05, 'skip_drop': 0.00012062436124161797}. Best is trial 2 with value: 0.8846749891022629.\u001b[0m\n",
      "\u001b[32m[I 2021-06-10 23:11:47,503]\u001b[0m Trial 4 finished with value: 0.8807738317414625 and parameters: {'booster': 'gbtree', 'lambda': 0.0266546530831048, 'alpha': 0.0012173104523323323, 'subsample': 0.6712617998073092, 'colsample_bytree': 0.5911974330764165, 'n_estimators': 769, 'learning_rate': 0.005020125774612168, 'max_depth': 7, 'min_child_weight': 3, 'gamma': 6.491900437666055e-05, 'grow_policy': 'depthwise'}. Best is trial 2 with value: 0.8846749891022629.\u001b[0m\n",
      "\u001b[32m[I 2021-06-10 23:11:53,162]\u001b[0m Trial 5 finished with value: 0.8097114899309519 and parameters: {'booster': 'gblinear', 'lambda': 9.710978366446764e-08, 'alpha': 6.517315810197438e-05, 'subsample': 0.36948591844761364, 'colsample_bytree': 0.7720415896346802, 'n_estimators': 1516, 'learning_rate': 0.009982349183051896}. Best is trial 2 with value: 0.8846749891022629.\u001b[0m\n",
      "\u001b[32m[I 2021-06-10 23:11:58,960]\u001b[0m Trial 6 finished with value: 0.8109456068183395 and parameters: {'booster': 'gblinear', 'lambda': 0.20139379209525654, 'alpha': 1.147167253174671e-05, 'subsample': 0.3709668008716486, 'colsample_bytree': 0.5179108536306328, 'n_estimators': 1517, 'learning_rate': 0.033454383039018876}. Best is trial 2 with value: 0.8846749891022629.\u001b[0m\n",
      "\u001b[32m[I 2021-06-10 23:12:03,380]\u001b[0m Trial 7 finished with value: 0.8086793893893628 and parameters: {'booster': 'gblinear', 'lambda': 1.389234723603835e-05, 'alpha': 0.3882128030858935, 'subsample': 0.20818857769501495, 'colsample_bytree': 0.5950495960312778, 'n_estimators': 1175, 'learning_rate': 0.37831858078744046}. Best is trial 2 with value: 0.8846749891022629.\u001b[0m\n",
      "\u001b[32m[I 2021-06-11 00:06:11,315]\u001b[0m Trial 8 finished with value: 0.8935399241485577 and parameters: {'booster': 'dart', 'lambda': 7.875396233924573e-07, 'alpha': 0.0027717991391383525, 'subsample': 0.27825693775270394, 'colsample_bytree': 0.70788981496352, 'n_estimators': 1917, 'learning_rate': 0.0064647458930939, 'max_depth': 7, 'min_child_weight': 8, 'gamma': 0.007044244345425436, 'grow_policy': 'lossguide', 'sample_type': 'uniform', 'normalize_type': 'forest', 'rate_drop': 0.0012240668172714424, 'skip_drop': 0.18588865853413342}. Best is trial 8 with value: 0.8935399241485577.\u001b[0m\n",
      "\u001b[32m[I 2021-06-11 00:06:16,242]\u001b[0m Trial 9 finished with value: 0.8130156418946054 and parameters: {'booster': 'gblinear', 'lambda': 0.00892730281361668, 'alpha': 1.2049616786842774e-05, 'subsample': 0.26296239831992474, 'colsample_bytree': 0.6360592035719087, 'n_estimators': 1419, 'learning_rate': 0.1393745243585905}. Best is trial 8 with value: 0.8935399241485577.\u001b[0m\n",
      "\u001b[32m[I 2021-06-11 00:52:49,330]\u001b[0m Trial 10 finished with value: 0.8962987437669518 and parameters: {'booster': 'dart', 'lambda': 2.2902573659172755e-08, 'alpha': 0.005461814816302808, 'subsample': 0.5193611935635578, 'colsample_bytree': 0.9420325540040775, 'n_estimators': 1795, 'learning_rate': 0.006561825780875415, 'max_depth': 3, 'min_child_weight': 10, 'gamma': 0.6921178217123845, 'grow_policy': 'lossguide', 'sample_type': 'uniform', 'normalize_type': 'forest', 'rate_drop': 0.931340720833506, 'skip_drop': 0.9822608255455412}. Best is trial 10 with value: 0.8962987437669518.\u001b[0m\n",
      "\u001b[32m[I 2021-06-11 01:40:24,498]\u001b[0m Trial 11 finished with value: 0.896218874029351 and parameters: {'booster': 'dart', 'lambda': 1.0367459793746277e-08, 'alpha': 0.009290833338194356, 'subsample': 0.5223970079594239, 'colsample_bytree': 0.9431060168151368, 'n_estimators': 1815, 'learning_rate': 0.005622628505316331, 'max_depth': 3, 'min_child_weight': 10, 'gamma': 0.8472973606160172, 'grow_policy': 'lossguide', 'sample_type': 'uniform', 'normalize_type': 'forest', 'rate_drop': 0.4784722096901086, 'skip_drop': 0.5483190991629179}. Best is trial 10 with value: 0.8962987437669518.\u001b[0m\n",
      "\u001b[32m[I 2021-06-11 02:22:19,325]\u001b[0m Trial 12 finished with value: 0.901436540310592 and parameters: {'booster': 'dart', 'lambda': 1.6693070035443278e-08, 'alpha': 0.015640663875521696, 'subsample': 0.5641604248006764, 'colsample_bytree': 0.9753641793868416, 'n_estimators': 1701, 'learning_rate': 0.012778925663456517, 'max_depth': 3, 'min_child_weight': 10, 'gamma': 0.5306454458942671, 'grow_policy': 'lossguide', 'sample_type': 'uniform', 'normalize_type': 'forest', 'rate_drop': 0.6331652871328273, 'skip_drop': 0.796495095420688}. Best is trial 12 with value: 0.901436540310592.\u001b[0m\n",
      "\u001b[32m[I 2021-06-11 03:03:38,112]\u001b[0m Trial 13 finished with value: 0.90332394803699 and parameters: {'booster': 'dart', 'lambda': 1.313584992794318e-08, 'alpha': 0.03520268400768686, 'subsample': 0.5451488283528434, 'colsample_bytree': 0.9794897257170234, 'n_estimators': 1687, 'learning_rate': 0.01364832787281915, 'max_depth': 3, 'min_child_weight': 10, 'gamma': 0.41976538712494593, 'grow_policy': 'lossguide', 'sample_type': 'uniform', 'normalize_type': 'forest', 'rate_drop': 0.49776567113417985, 'skip_drop': 0.5573682745996533}. Best is trial 13 with value: 0.90332394803699.\u001b[0m\n",
      "\u001b[32m[I 2021-06-11 03:44:41,123]\u001b[0m Trial 14 finished with value: 0.9028069019909879 and parameters: {'booster': 'dart', 'lambda': 7.362073145662408e-08, 'alpha': 0.06009128896787078, 'subsample': 0.6599333550716899, 'colsample_bytree': 0.8650773911327646, 'n_estimators': 1682, 'learning_rate': 0.015705074537577874, 'max_depth': 3, 'min_child_weight': 3, 'gamma': 0.5749432562038193, 'grow_policy': 'lossguide', 'sample_type': 'uniform', 'normalize_type': 'forest', 'rate_drop': 0.025869605781834417, 'skip_drop': 0.006462274960996701}. Best is trial 13 with value: 0.90332394803699.\u001b[0m\n"
     ]
    },
    {
     "name": "stdout",
     "output_type": "stream",
     "text": [
      "Number of finished trials:  15\n",
      "Best trial:\n",
      "Best trial: score 0.90332394803699,\n",
      "params {'booster': 'dart', 'lambda': 1.313584992794318e-08, 'alpha': 0.03520268400768686, 'subsample': 0.5451488283528434, 'colsample_bytree': 0.9794897257170234, 'n_estimators': 1687, 'learning_rate': 0.01364832787281915, 'max_depth': 3, 'min_child_weight': 10, 'gamma': 0.41976538712494593, 'grow_policy': 'lossguide', 'sample_type': 'uniform', 'normalize_type': 'forest', 'rate_drop': 0.49776567113417985, 'skip_drop': 0.5573682745996533}\n",
      "  Value: 0.90332394803699\n",
      "  Params: \n",
      "    booster: dart\n",
      "    lambda: 1.313584992794318e-08\n",
      "    alpha: 0.03520268400768686\n",
      "    subsample: 0.5451488283528434\n",
      "    colsample_bytree: 0.9794897257170234\n",
      "    n_estimators: 1687\n",
      "    learning_rate: 0.01364832787281915\n",
      "    max_depth: 3\n",
      "    min_child_weight: 10\n",
      "    gamma: 0.41976538712494593\n",
      "    grow_policy: lossguide\n",
      "    sample_type: uniform\n",
      "    normalize_type: forest\n",
      "    rate_drop: 0.49776567113417985\n",
      "    skip_drop: 0.5573682745996533\n"
     ]
    }
   ],
   "source": [
    "study = optuna.create_study(direction='maximize',sampler=TPESampler())\n",
    "study.optimize(lambda trial : objective(trial,X_nearmiss,y_nearmiss),n_trials= 15)\n",
    "\n",
    "print(\"Number of finished trials: \", len(study.trials))\n",
    "print(\"Best trial:\")\n",
    "trial = study.best_trial\n",
    "\n",
    "print('Best trial: score {},\\nparams {}'.format(study.best_trial.value,study.best_trial.params))\n",
    "print(\"  Value: {}\".format(trial.value))\n",
    "print(\"  Params: \")\n",
    "for key, value in trial.params.items():\n",
    "    print(\"    {}: {}\".format(key, value))\n",
    "    "
   ]
  },
  {
   "cell_type": "code",
   "execution_count": null,
   "id": "tropical-management",
   "metadata": {
    "id": "tropical-management"
   },
   "outputs": [],
   "source": [
    "Optuna_model_15iters = XGBClassifier(\n",
    "    objective='binary:hinge', \n",
    "    n_jobs=4, \n",
    "    booster= 'dart', \n",
    "    reg_lambda= 1.313584992794318e-08,\n",
    "    alpha= 0.03520268400768686, \n",
    "    subsample= 0.5451488283528434,\n",
    "    colsample_bytree= 0.9794897257170234,\n",
    "    n_estimators= 1687, \n",
    "    learning_rate= 0.01364832787281915, \n",
    "    max_depth= 3, \n",
    "    min_child_weight= 10, \n",
    "    gamma= 0.41976538712494593, \n",
    "    grow_policy= 'lossguide', \n",
    "    sample_type= 'uniform', \n",
    "    normalize_type= 'forest', \n",
    "    rate_drop= 0.49776567113417985, \n",
    "    skip_drop= 0.5573682745996533)\n",
    "\n",
    "basicTrainAndTest(df_train, df_test, Optuna_model_15iters, \"Optuna_model_15iters\")\n",
    "\n",
    "# f1 score improves from 0.6979911044445455 -> 0.74937609384564835 with 15 iter of tuning"
   ]
  },
  {
   "cell_type": "code",
   "execution_count": null,
   "id": "composed-spotlight",
   "metadata": {
    "id": "composed-spotlight",
    "outputId": "5b247214-a33a-48ad-b3fd-1cb43127b2ff"
   },
   "outputs": [
    {
     "data": {
      "text/plain": [
       "<optuna.study.Study at 0x7f9fe8040a00>"
      ]
     },
     "execution_count": 54,
     "metadata": {
      "tags": []
     },
     "output_type": "execute_result"
    }
   ],
   "source": [
    "study"
   ]
  },
  {
   "cell_type": "code",
   "execution_count": null,
   "id": "illegal-arrangement",
   "metadata": {
    "id": "illegal-arrangement",
    "outputId": "30a18604-6d39-4261-f03f-f4f68fb83fec"
   },
   "outputs": [
    {
     "data": {
      "text/plain": [
       "['./study.pkl']"
      ]
     },
     "execution_count": 65,
     "metadata": {
      "tags": []
     },
     "output_type": "execute_result"
    }
   ],
   "source": [
    "import joblib\n",
    "joblib.dump(study, './study.pkl')"
   ]
  },
  {
   "cell_type": "code",
   "execution_count": null,
   "id": "apparent-filing",
   "metadata": {
    "id": "apparent-filing",
    "outputId": "f0c86051-f149-48e0-f14e-000177de7f80"
   },
   "outputs": [
    {
     "data": {
      "text/plain": [
       "[FrozenTrial(number=0, values=[0.8097690607852991], datetime_start=datetime.datetime(2021, 6, 10, 21, 48, 29, 258904), datetime_complete=datetime.datetime(2021, 6, 10, 21, 48, 33, 737060), params={'booster': 'gblinear', 'lambda': 2.339781663462407e-06, 'alpha': 9.892276268781123e-08, 'subsample': 0.39676370914327214, 'colsample_bytree': 0.6457274902471277, 'n_estimators': 1092, 'learning_rate': 0.0295918571703849}, distributions={'booster': CategoricalDistribution(choices=('gbtree', 'gblinear', 'dart')), 'lambda': LogUniformDistribution(high=1.0, low=1e-08), 'alpha': LogUniformDistribution(high=1.0, low=1e-08), 'subsample': LogUniformDistribution(high=0.7, low=0.2), 'colsample_bytree': UniformDistribution(high=1.0, low=0.5), 'n_estimators': IntUniformDistribution(high=2000, low=600, step=1), 'learning_rate': LogUniformDistribution(high=0.5, low=0.005)}, user_attrs={}, system_attrs={}, intermediate_values={}, trial_id=0, state=TrialState.COMPLETE, value=None),\n",
       " FrozenTrial(number=1, values=[0.8618510915385216], datetime_start=datetime.datetime(2021, 6, 10, 21, 48, 33, 737824), datetime_complete=datetime.datetime(2021, 6, 10, 22, 9, 8, 545136), params={'booster': 'dart', 'lambda': 5.785692168600777e-05, 'alpha': 3.097851996028351e-05, 'subsample': 0.25794216759352406, 'colsample_bytree': 0.7656156805941858, 'n_estimators': 1070, 'learning_rate': 0.4181695916202503, 'max_depth': 7, 'min_child_weight': 7, 'gamma': 0.008943620709237751, 'grow_policy': 'lossguide', 'sample_type': 'weighted', 'normalize_type': 'tree', 'rate_drop': 1.939700493135262e-08, 'skip_drop': 2.506823898018839e-07}, distributions={'booster': CategoricalDistribution(choices=('gbtree', 'gblinear', 'dart')), 'lambda': LogUniformDistribution(high=1.0, low=1e-08), 'alpha': LogUniformDistribution(high=1.0, low=1e-08), 'subsample': LogUniformDistribution(high=0.7, low=0.2), 'colsample_bytree': UniformDistribution(high=1.0, low=0.5), 'n_estimators': IntUniformDistribution(high=2000, low=600, step=1), 'learning_rate': LogUniformDistribution(high=0.5, low=0.005), 'max_depth': IntUniformDistribution(high=9, low=3, step=2), 'min_child_weight': IntUniformDistribution(high=10, low=2, step=1), 'gamma': LogUniformDistribution(high=1.0, low=1e-08), 'grow_policy': CategoricalDistribution(choices=('depthwise', 'lossguide')), 'sample_type': CategoricalDistribution(choices=('uniform', 'weighted')), 'normalize_type': CategoricalDistribution(choices=('tree', 'forest')), 'rate_drop': LogUniformDistribution(high=1.0, low=1e-08), 'skip_drop': LogUniformDistribution(high=1.0, low=1e-08)}, user_attrs={}, system_attrs={}, intermediate_values={}, trial_id=1, state=TrialState.COMPLETE, value=None),\n",
       " FrozenTrial(number=2, values=[0.8846749891022629], datetime_start=datetime.datetime(2021, 6, 10, 22, 9, 8, 546519), datetime_complete=datetime.datetime(2021, 6, 10, 22, 9, 57, 862237), params={'booster': 'gbtree', 'lambda': 9.1074708095051e-07, 'alpha': 0.2588772727985038, 'subsample': 0.33729537552185834, 'colsample_bytree': 0.6489095318834612, 'n_estimators': 1986, 'learning_rate': 0.050800595085065355, 'max_depth': 9, 'min_child_weight': 9, 'gamma': 0.0012284048513728821, 'grow_policy': 'lossguide'}, distributions={'booster': CategoricalDistribution(choices=('gbtree', 'gblinear', 'dart')), 'lambda': LogUniformDistribution(high=1.0, low=1e-08), 'alpha': LogUniformDistribution(high=1.0, low=1e-08), 'subsample': LogUniformDistribution(high=0.7, low=0.2), 'colsample_bytree': UniformDistribution(high=1.0, low=0.5), 'n_estimators': IntUniformDistribution(high=2000, low=600, step=1), 'learning_rate': LogUniformDistribution(high=0.5, low=0.005), 'max_depth': IntUniformDistribution(high=9, low=3, step=2), 'min_child_weight': IntUniformDistribution(high=10, low=2, step=1), 'gamma': LogUniformDistribution(high=1.0, low=1e-08), 'grow_policy': CategoricalDistribution(choices=('depthwise', 'lossguide'))}, user_attrs={}, system_attrs={}, intermediate_values={}, trial_id=2, state=TrialState.COMPLETE, value=None),\n",
       " FrozenTrial(number=3, values=[0.8670611333672898], datetime_start=datetime.datetime(2021, 6, 10, 22, 9, 57, 863213), datetime_complete=datetime.datetime(2021, 6, 10, 23, 11, 23, 349611), params={'booster': 'dart', 'lambda': 0.007000138022349216, 'alpha': 3.423004065618588e-06, 'subsample': 0.30915767088196183, 'colsample_bytree': 0.7165411377166468, 'n_estimators': 1983, 'learning_rate': 0.32705143087748895, 'max_depth': 7, 'min_child_weight': 6, 'gamma': 1.312910825168538e-06, 'grow_policy': 'depthwise', 'sample_type': 'weighted', 'normalize_type': 'forest', 'rate_drop': 2.5897331927785126e-05, 'skip_drop': 0.00012062436124161797}, distributions={'booster': CategoricalDistribution(choices=('gbtree', 'gblinear', 'dart')), 'lambda': LogUniformDistribution(high=1.0, low=1e-08), 'alpha': LogUniformDistribution(high=1.0, low=1e-08), 'subsample': LogUniformDistribution(high=0.7, low=0.2), 'colsample_bytree': UniformDistribution(high=1.0, low=0.5), 'n_estimators': IntUniformDistribution(high=2000, low=600, step=1), 'learning_rate': LogUniformDistribution(high=0.5, low=0.005), 'max_depth': IntUniformDistribution(high=9, low=3, step=2), 'min_child_weight': IntUniformDistribution(high=10, low=2, step=1), 'gamma': LogUniformDistribution(high=1.0, low=1e-08), 'grow_policy': CategoricalDistribution(choices=('depthwise', 'lossguide')), 'sample_type': CategoricalDistribution(choices=('uniform', 'weighted')), 'normalize_type': CategoricalDistribution(choices=('tree', 'forest')), 'rate_drop': LogUniformDistribution(high=1.0, low=1e-08), 'skip_drop': LogUniformDistribution(high=1.0, low=1e-08)}, user_attrs={}, system_attrs={}, intermediate_values={}, trial_id=3, state=TrialState.COMPLETE, value=None),\n",
       " FrozenTrial(number=4, values=[0.8807738317414625], datetime_start=datetime.datetime(2021, 6, 10, 23, 11, 23, 350973), datetime_complete=datetime.datetime(2021, 6, 10, 23, 11, 47, 503662), params={'booster': 'gbtree', 'lambda': 0.0266546530831048, 'alpha': 0.0012173104523323323, 'subsample': 0.6712617998073092, 'colsample_bytree': 0.5911974330764165, 'n_estimators': 769, 'learning_rate': 0.005020125774612168, 'max_depth': 7, 'min_child_weight': 3, 'gamma': 6.491900437666055e-05, 'grow_policy': 'depthwise'}, distributions={'booster': CategoricalDistribution(choices=('gbtree', 'gblinear', 'dart')), 'lambda': LogUniformDistribution(high=1.0, low=1e-08), 'alpha': LogUniformDistribution(high=1.0, low=1e-08), 'subsample': LogUniformDistribution(high=0.7, low=0.2), 'colsample_bytree': UniformDistribution(high=1.0, low=0.5), 'n_estimators': IntUniformDistribution(high=2000, low=600, step=1), 'learning_rate': LogUniformDistribution(high=0.5, low=0.005), 'max_depth': IntUniformDistribution(high=9, low=3, step=2), 'min_child_weight': IntUniformDistribution(high=10, low=2, step=1), 'gamma': LogUniformDistribution(high=1.0, low=1e-08), 'grow_policy': CategoricalDistribution(choices=('depthwise', 'lossguide'))}, user_attrs={}, system_attrs={}, intermediate_values={}, trial_id=4, state=TrialState.COMPLETE, value=None),\n",
       " FrozenTrial(number=5, values=[0.8097114899309519], datetime_start=datetime.datetime(2021, 6, 10, 23, 11, 47, 504631), datetime_complete=datetime.datetime(2021, 6, 10, 23, 11, 53, 161507), params={'booster': 'gblinear', 'lambda': 9.710978366446764e-08, 'alpha': 6.517315810197438e-05, 'subsample': 0.36948591844761364, 'colsample_bytree': 0.7720415896346802, 'n_estimators': 1516, 'learning_rate': 0.009982349183051896}, distributions={'booster': CategoricalDistribution(choices=('gbtree', 'gblinear', 'dart')), 'lambda': LogUniformDistribution(high=1.0, low=1e-08), 'alpha': LogUniformDistribution(high=1.0, low=1e-08), 'subsample': LogUniformDistribution(high=0.7, low=0.2), 'colsample_bytree': UniformDistribution(high=1.0, low=0.5), 'n_estimators': IntUniformDistribution(high=2000, low=600, step=1), 'learning_rate': LogUniformDistribution(high=0.5, low=0.005)}, user_attrs={}, system_attrs={}, intermediate_values={}, trial_id=5, state=TrialState.COMPLETE, value=None),\n",
       " FrozenTrial(number=6, values=[0.8109456068183395], datetime_start=datetime.datetime(2021, 6, 10, 23, 11, 53, 162952), datetime_complete=datetime.datetime(2021, 6, 10, 23, 11, 58, 960045), params={'booster': 'gblinear', 'lambda': 0.20139379209525654, 'alpha': 1.147167253174671e-05, 'subsample': 0.3709668008716486, 'colsample_bytree': 0.5179108536306328, 'n_estimators': 1517, 'learning_rate': 0.033454383039018876}, distributions={'booster': CategoricalDistribution(choices=('gbtree', 'gblinear', 'dart')), 'lambda': LogUniformDistribution(high=1.0, low=1e-08), 'alpha': LogUniformDistribution(high=1.0, low=1e-08), 'subsample': LogUniformDistribution(high=0.7, low=0.2), 'colsample_bytree': UniformDistribution(high=1.0, low=0.5), 'n_estimators': IntUniformDistribution(high=2000, low=600, step=1), 'learning_rate': LogUniformDistribution(high=0.5, low=0.005)}, user_attrs={}, system_attrs={}, intermediate_values={}, trial_id=6, state=TrialState.COMPLETE, value=None),\n",
       " FrozenTrial(number=7, values=[0.8086793893893628], datetime_start=datetime.datetime(2021, 6, 10, 23, 11, 58, 961942), datetime_complete=datetime.datetime(2021, 6, 10, 23, 12, 3, 379607), params={'booster': 'gblinear', 'lambda': 1.389234723603835e-05, 'alpha': 0.3882128030858935, 'subsample': 0.20818857769501495, 'colsample_bytree': 0.5950495960312778, 'n_estimators': 1175, 'learning_rate': 0.37831858078744046}, distributions={'booster': CategoricalDistribution(choices=('gbtree', 'gblinear', 'dart')), 'lambda': LogUniformDistribution(high=1.0, low=1e-08), 'alpha': LogUniformDistribution(high=1.0, low=1e-08), 'subsample': LogUniformDistribution(high=0.7, low=0.2), 'colsample_bytree': UniformDistribution(high=1.0, low=0.5), 'n_estimators': IntUniformDistribution(high=2000, low=600, step=1), 'learning_rate': LogUniformDistribution(high=0.5, low=0.005)}, user_attrs={}, system_attrs={}, intermediate_values={}, trial_id=7, state=TrialState.COMPLETE, value=None),\n",
       " FrozenTrial(number=8, values=[0.8935399241485577], datetime_start=datetime.datetime(2021, 6, 10, 23, 12, 3, 380748), datetime_complete=datetime.datetime(2021, 6, 11, 0, 6, 11, 314453), params={'booster': 'dart', 'lambda': 7.875396233924573e-07, 'alpha': 0.0027717991391383525, 'subsample': 0.27825693775270394, 'colsample_bytree': 0.70788981496352, 'n_estimators': 1917, 'learning_rate': 0.0064647458930939, 'max_depth': 7, 'min_child_weight': 8, 'gamma': 0.007044244345425436, 'grow_policy': 'lossguide', 'sample_type': 'uniform', 'normalize_type': 'forest', 'rate_drop': 0.0012240668172714424, 'skip_drop': 0.18588865853413342}, distributions={'booster': CategoricalDistribution(choices=('gbtree', 'gblinear', 'dart')), 'lambda': LogUniformDistribution(high=1.0, low=1e-08), 'alpha': LogUniformDistribution(high=1.0, low=1e-08), 'subsample': LogUniformDistribution(high=0.7, low=0.2), 'colsample_bytree': UniformDistribution(high=1.0, low=0.5), 'n_estimators': IntUniformDistribution(high=2000, low=600, step=1), 'learning_rate': LogUniformDistribution(high=0.5, low=0.005), 'max_depth': IntUniformDistribution(high=9, low=3, step=2), 'min_child_weight': IntUniformDistribution(high=10, low=2, step=1), 'gamma': LogUniformDistribution(high=1.0, low=1e-08), 'grow_policy': CategoricalDistribution(choices=('depthwise', 'lossguide')), 'sample_type': CategoricalDistribution(choices=('uniform', 'weighted')), 'normalize_type': CategoricalDistribution(choices=('tree', 'forest')), 'rate_drop': LogUniformDistribution(high=1.0, low=1e-08), 'skip_drop': LogUniformDistribution(high=1.0, low=1e-08)}, user_attrs={}, system_attrs={}, intermediate_values={}, trial_id=8, state=TrialState.COMPLETE, value=None),\n",
       " FrozenTrial(number=9, values=[0.8130156418946054], datetime_start=datetime.datetime(2021, 6, 11, 0, 6, 11, 316994), datetime_complete=datetime.datetime(2021, 6, 11, 0, 6, 16, 242056), params={'booster': 'gblinear', 'lambda': 0.00892730281361668, 'alpha': 1.2049616786842774e-05, 'subsample': 0.26296239831992474, 'colsample_bytree': 0.6360592035719087, 'n_estimators': 1419, 'learning_rate': 0.1393745243585905}, distributions={'booster': CategoricalDistribution(choices=('gbtree', 'gblinear', 'dart')), 'lambda': LogUniformDistribution(high=1.0, low=1e-08), 'alpha': LogUniformDistribution(high=1.0, low=1e-08), 'subsample': LogUniformDistribution(high=0.7, low=0.2), 'colsample_bytree': UniformDistribution(high=1.0, low=0.5), 'n_estimators': IntUniformDistribution(high=2000, low=600, step=1), 'learning_rate': LogUniformDistribution(high=0.5, low=0.005)}, user_attrs={}, system_attrs={}, intermediate_values={}, trial_id=9, state=TrialState.COMPLETE, value=None),\n",
       " FrozenTrial(number=10, values=[0.8962987437669518], datetime_start=datetime.datetime(2021, 6, 11, 0, 6, 16, 243664), datetime_complete=datetime.datetime(2021, 6, 11, 0, 52, 49, 329630), params={'booster': 'dart', 'lambda': 2.2902573659172755e-08, 'alpha': 0.005461814816302808, 'subsample': 0.5193611935635578, 'colsample_bytree': 0.9420325540040775, 'n_estimators': 1795, 'learning_rate': 0.006561825780875415, 'max_depth': 3, 'min_child_weight': 10, 'gamma': 0.6921178217123845, 'grow_policy': 'lossguide', 'sample_type': 'uniform', 'normalize_type': 'forest', 'rate_drop': 0.931340720833506, 'skip_drop': 0.9822608255455412}, distributions={'booster': CategoricalDistribution(choices=('gbtree', 'gblinear', 'dart')), 'lambda': LogUniformDistribution(high=1.0, low=1e-08), 'alpha': LogUniformDistribution(high=1.0, low=1e-08), 'subsample': LogUniformDistribution(high=0.7, low=0.2), 'colsample_bytree': UniformDistribution(high=1.0, low=0.5), 'n_estimators': IntUniformDistribution(high=2000, low=600, step=1), 'learning_rate': LogUniformDistribution(high=0.5, low=0.005), 'max_depth': IntUniformDistribution(high=9, low=3, step=2), 'min_child_weight': IntUniformDistribution(high=10, low=2, step=1), 'gamma': LogUniformDistribution(high=1.0, low=1e-08), 'grow_policy': CategoricalDistribution(choices=('depthwise', 'lossguide')), 'sample_type': CategoricalDistribution(choices=('uniform', 'weighted')), 'normalize_type': CategoricalDistribution(choices=('tree', 'forest')), 'rate_drop': LogUniformDistribution(high=1.0, low=1e-08), 'skip_drop': LogUniformDistribution(high=1.0, low=1e-08)}, user_attrs={}, system_attrs={}, intermediate_values={}, trial_id=10, state=TrialState.COMPLETE, value=None),\n",
       " FrozenTrial(number=11, values=[0.896218874029351], datetime_start=datetime.datetime(2021, 6, 11, 0, 52, 49, 331139), datetime_complete=datetime.datetime(2021, 6, 11, 1, 40, 24, 497969), params={'booster': 'dart', 'lambda': 1.0367459793746277e-08, 'alpha': 0.009290833338194356, 'subsample': 0.5223970079594239, 'colsample_bytree': 0.9431060168151368, 'n_estimators': 1815, 'learning_rate': 0.005622628505316331, 'max_depth': 3, 'min_child_weight': 10, 'gamma': 0.8472973606160172, 'grow_policy': 'lossguide', 'sample_type': 'uniform', 'normalize_type': 'forest', 'rate_drop': 0.4784722096901086, 'skip_drop': 0.5483190991629179}, distributions={'booster': CategoricalDistribution(choices=('gbtree', 'gblinear', 'dart')), 'lambda': LogUniformDistribution(high=1.0, low=1e-08), 'alpha': LogUniformDistribution(high=1.0, low=1e-08), 'subsample': LogUniformDistribution(high=0.7, low=0.2), 'colsample_bytree': UniformDistribution(high=1.0, low=0.5), 'n_estimators': IntUniformDistribution(high=2000, low=600, step=1), 'learning_rate': LogUniformDistribution(high=0.5, low=0.005), 'max_depth': IntUniformDistribution(high=9, low=3, step=2), 'min_child_weight': IntUniformDistribution(high=10, low=2, step=1), 'gamma': LogUniformDistribution(high=1.0, low=1e-08), 'grow_policy': CategoricalDistribution(choices=('depthwise', 'lossguide')), 'sample_type': CategoricalDistribution(choices=('uniform', 'weighted')), 'normalize_type': CategoricalDistribution(choices=('tree', 'forest')), 'rate_drop': LogUniformDistribution(high=1.0, low=1e-08), 'skip_drop': LogUniformDistribution(high=1.0, low=1e-08)}, user_attrs={}, system_attrs={}, intermediate_values={}, trial_id=11, state=TrialState.COMPLETE, value=None),\n",
       " FrozenTrial(number=12, values=[0.901436540310592], datetime_start=datetime.datetime(2021, 6, 11, 1, 40, 24, 499517), datetime_complete=datetime.datetime(2021, 6, 11, 2, 22, 19, 325046), params={'booster': 'dart', 'lambda': 1.6693070035443278e-08, 'alpha': 0.015640663875521696, 'subsample': 0.5641604248006764, 'colsample_bytree': 0.9753641793868416, 'n_estimators': 1701, 'learning_rate': 0.012778925663456517, 'max_depth': 3, 'min_child_weight': 10, 'gamma': 0.5306454458942671, 'grow_policy': 'lossguide', 'sample_type': 'uniform', 'normalize_type': 'forest', 'rate_drop': 0.6331652871328273, 'skip_drop': 0.796495095420688}, distributions={'booster': CategoricalDistribution(choices=('gbtree', 'gblinear', 'dart')), 'lambda': LogUniformDistribution(high=1.0, low=1e-08), 'alpha': LogUniformDistribution(high=1.0, low=1e-08), 'subsample': LogUniformDistribution(high=0.7, low=0.2), 'colsample_bytree': UniformDistribution(high=1.0, low=0.5), 'n_estimators': IntUniformDistribution(high=2000, low=600, step=1), 'learning_rate': LogUniformDistribution(high=0.5, low=0.005), 'max_depth': IntUniformDistribution(high=9, low=3, step=2), 'min_child_weight': IntUniformDistribution(high=10, low=2, step=1), 'gamma': LogUniformDistribution(high=1.0, low=1e-08), 'grow_policy': CategoricalDistribution(choices=('depthwise', 'lossguide')), 'sample_type': CategoricalDistribution(choices=('uniform', 'weighted')), 'normalize_type': CategoricalDistribution(choices=('tree', 'forest')), 'rate_drop': LogUniformDistribution(high=1.0, low=1e-08), 'skip_drop': LogUniformDistribution(high=1.0, low=1e-08)}, user_attrs={}, system_attrs={}, intermediate_values={}, trial_id=12, state=TrialState.COMPLETE, value=None),\n",
       " FrozenTrial(number=13, values=[0.90332394803699], datetime_start=datetime.datetime(2021, 6, 11, 2, 22, 19, 326662), datetime_complete=datetime.datetime(2021, 6, 11, 3, 3, 38, 112109), params={'booster': 'dart', 'lambda': 1.313584992794318e-08, 'alpha': 0.03520268400768686, 'subsample': 0.5451488283528434, 'colsample_bytree': 0.9794897257170234, 'n_estimators': 1687, 'learning_rate': 0.01364832787281915, 'max_depth': 3, 'min_child_weight': 10, 'gamma': 0.41976538712494593, 'grow_policy': 'lossguide', 'sample_type': 'uniform', 'normalize_type': 'forest', 'rate_drop': 0.49776567113417985, 'skip_drop': 0.5573682745996533}, distributions={'booster': CategoricalDistribution(choices=('gbtree', 'gblinear', 'dart')), 'lambda': LogUniformDistribution(high=1.0, low=1e-08), 'alpha': LogUniformDistribution(high=1.0, low=1e-08), 'subsample': LogUniformDistribution(high=0.7, low=0.2), 'colsample_bytree': UniformDistribution(high=1.0, low=0.5), 'n_estimators': IntUniformDistribution(high=2000, low=600, step=1), 'learning_rate': LogUniformDistribution(high=0.5, low=0.005), 'max_depth': IntUniformDistribution(high=9, low=3, step=2), 'min_child_weight': IntUniformDistribution(high=10, low=2, step=1), 'gamma': LogUniformDistribution(high=1.0, low=1e-08), 'grow_policy': CategoricalDistribution(choices=('depthwise', 'lossguide')), 'sample_type': CategoricalDistribution(choices=('uniform', 'weighted')), 'normalize_type': CategoricalDistribution(choices=('tree', 'forest')), 'rate_drop': LogUniformDistribution(high=1.0, low=1e-08), 'skip_drop': LogUniformDistribution(high=1.0, low=1e-08)}, user_attrs={}, system_attrs={}, intermediate_values={}, trial_id=13, state=TrialState.COMPLETE, value=None),\n",
       " FrozenTrial(number=14, values=[0.9028069019909879], datetime_start=datetime.datetime(2021, 6, 11, 3, 3, 38, 113343), datetime_complete=datetime.datetime(2021, 6, 11, 3, 44, 41, 122533), params={'booster': 'dart', 'lambda': 7.362073145662408e-08, 'alpha': 0.06009128896787078, 'subsample': 0.6599333550716899, 'colsample_bytree': 0.8650773911327646, 'n_estimators': 1682, 'learning_rate': 0.015705074537577874, 'max_depth': 3, 'min_child_weight': 3, 'gamma': 0.5749432562038193, 'grow_policy': 'lossguide', 'sample_type': 'uniform', 'normalize_type': 'forest', 'rate_drop': 0.025869605781834417, 'skip_drop': 0.006462274960996701}, distributions={'booster': CategoricalDistribution(choices=('gbtree', 'gblinear', 'dart')), 'lambda': LogUniformDistribution(high=1.0, low=1e-08), 'alpha': LogUniformDistribution(high=1.0, low=1e-08), 'subsample': LogUniformDistribution(high=0.7, low=0.2), 'colsample_bytree': UniformDistribution(high=1.0, low=0.5), 'n_estimators': IntUniformDistribution(high=2000, low=600, step=1), 'learning_rate': LogUniformDistribution(high=0.5, low=0.005), 'max_depth': IntUniformDistribution(high=9, low=3, step=2), 'min_child_weight': IntUniformDistribution(high=10, low=2, step=1), 'gamma': LogUniformDistribution(high=1.0, low=1e-08), 'grow_policy': CategoricalDistribution(choices=('depthwise', 'lossguide')), 'sample_type': CategoricalDistribution(choices=('uniform', 'weighted')), 'normalize_type': CategoricalDistribution(choices=('tree', 'forest')), 'rate_drop': LogUniformDistribution(high=1.0, low=1e-08), 'skip_drop': LogUniformDistribution(high=1.0, low=1e-08)}, user_attrs={}, system_attrs={}, intermediate_values={}, trial_id=14, state=TrialState.COMPLETE, value=None)]"
      ]
     },
     "execution_count": 67,
     "metadata": {
      "tags": []
     },
     "output_type": "execute_result"
    }
   ],
   "source": [
    "study = joblib.load('./study.pkl')\n",
    "study.trials # error"
   ]
  },
  {
   "cell_type": "markdown",
   "id": "continent-gallery",
   "metadata": {
    "id": "continent-gallery"
   },
   "source": [
    "### tpot\n"
   ]
  },
  {
   "cell_type": "code",
   "execution_count": null,
   "id": "lovely-friendship",
   "metadata": {
    "id": "lovely-friendship"
   },
   "outputs": [],
   "source": [
    "X_test = df_test.drop('fraud_ind', axis=1).values\n",
    "y_test = df_test['fraud_ind'].values"
   ]
  },
  {
   "cell_type": "code",
   "execution_count": null,
   "id": "level-focus",
   "metadata": {
    "colab": {
     "base_uri": "https://localhost:8080/",
     "height": 372,
     "referenced_widgets": [
      ""
     ]
    },
    "id": "level-focus",
    "outputId": "3a890344-3f1d-4959-b96b-8493862ba3f6"
   },
   "outputs": [
    {
     "data": {
      "application/vnd.jupyter.widget-view+json": {
       "model_id": "",
       "version_major": 2,
       "version_minor": 0
      },
      "text/plain": [
       "HBox(children=(HTML(value='Optimization Progress'), FloatProgress(value=0.0, max=900.0), HTML(value='')))"
      ]
     },
     "metadata": {
      "tags": []
     },
     "output_type": "display_data"
    },
    {
     "name": "stdout",
     "output_type": "stream",
     "text": [
      "\n",
      "Generation 1 - Current best internal CV score: 0.9233572057518289\n",
      "\n",
      "Generation 2 - Current best internal CV score: 0.9235482919988012\n",
      "\n",
      "Generation 3 - Current best internal CV score: 0.9235749460135297\n",
      "\n",
      "Generation 4 - Current best internal CV score: 0.9248122560501809\n",
      "\n",
      "Generation 5 - Current best internal CV score: 0.9248122560501809\n",
      "\n",
      "Generation 6 - Current best internal CV score: 0.9248122560501809\n",
      "\n",
      "Generation 7 - Current best internal CV score: 0.9248122560501809\n",
      "\n",
      "\n",
      "TPOT closed during evaluation in one generation.\n",
      "WARNING: TPOT may not provide a good pipeline if TPOT is stopped/interrupted in a early generation.\n",
      "\n",
      "\n",
      "TPOT closed prematurely. Will use the current best pipeline.\n",
      "\n",
      "Best pipeline: ExtraTreesClassifier(BernoulliNB(MinMaxScaler(RFE(input_matrix, criterion=gini, max_features=0.5, n_estimators=100, step=0.7000000000000001)), alpha=1.0, fit_prior=False), bootstrap=False, criterion=entropy, max_features=0.9000000000000001, min_samples_leaf=1, min_samples_split=2, n_estimators=100)\n"
     ]
    }
   ],
   "source": [
    "# !pip install tpot\n",
    "\n",
    "# generic optimization\n",
    "from tpot import TPOTClassifier\n",
    "\n",
    "pipeline_optimizer = TPOTClassifier(generations=8, population_size=100, cv=5,\n",
    "                                    random_state=42, verbosity=2, early_stop= 12,\n",
    "                                    scoring = 'f1',  n_jobs=-2)\n",
    "\n",
    "pipeline_optimizer.fit(X_nearmiss, y_nearmiss)\n",
    "pipeline_optimizer.score(X_test, y_test)\n",
    "pipeline_optimizer.export('./tpot_exported_pipeline.py')"
   ]
  },
  {
   "cell_type": "code",
   "execution_count": null,
   "id": "incorrect-voice",
   "metadata": {
    "id": "incorrect-voice"
   },
   "outputs": [],
   "source": [
    "from sklearn.ensemble import ExtraTreesClassifier\n",
    "TpotClf = ExtraTreesClassifier(bootstrap=False, criterion=\"entropy\", max_features=0.9000000000000001, min_samples_leaf=1, min_samples_split=2, n_estimators=100)"
   ]
  },
  {
   "cell_type": "code",
   "execution_count": null,
   "id": "related-spray",
   "metadata": {
    "id": "related-spray",
    "outputId": "d712acb8-7d01-4aaa-f941-70aab856f1d7"
   },
   "outputs": [
    {
     "name": "stdout",
     "output_type": "stream",
     "text": [
      "Dataset: TpotClf\n",
      "---------------------------------------------------------------------------------------------------------------------------------------\n",
      "Accuracy: 0.995644597013513\n",
      "Precision: 0.9093742507791897\n",
      "Reacall: 0.7478312302839116\n",
      "f1-score: 0.8207292004760359\n",
      "micro f1-score: 0.995644597013513\n",
      "macro f1-score: 0.9092623599695955\n",
      "weighted f1-score: 0.9954349268710131\n",
      "AUC: 0.8734121186384594\n",
      "---------------------------------------------------------------------------------------------------------------------------------------\n"
     ]
    }
   ],
   "source": [
    "basicTrainAndTest(df_train, df_test, TpotClf, \"TpotClf\")\n",
    "\n",
    "Dataset: TpotClf\n",
    "# ---------------------------------------------------------------------------------------------------------------------------------------\n",
    "# Accuracy: 0.995644597013513\n",
    "# Precision: 0.9093742507791897\n",
    "# Reacall: 0.7478312302839116\n",
    "# f1-score: 0.8207292004760359\n",
    "# micro f1-score: 0.995644597013513\n",
    "# macro f1-score: 0.9092623599695955\n",
    "# weighted f1-score: 0.9954349268710131\n",
    "# AUC: 0.8734121186384594\n",
    "# ---------------------------------------------------------------------------------------------------------------------------------------"
   ]
  },
  {
   "cell_type": "code",
   "execution_count": null,
   "id": "manufactured-webmaster",
   "metadata": {
    "id": "manufactured-webmaster"
   },
   "outputs": [],
   "source": [
    "\n",
    "pipeline_optimizer2 = TPOTClassifier(generations=10, population_size=200, cv=5,\n",
    "                                    random_state=42, verbosity=2, early_stop= 12,\n",
    "                                    scoring = 'f1',  n_jobs=-2)\n",
    "\n",
    "pipeline_optimizer2.fit(X_nearmiss, y_nearmiss)\n",
    "pipeline_optimizer2.score(X_test, y_test)\n",
    "pipeline_optimizer2.export('./tpot_exported_pipeline2.py')"
   ]
  },
  {
   "cell_type": "markdown",
   "id": "intellectual-advocacy",
   "metadata": {
    "id": "intellectual-advocacy"
   },
   "source": [
    "## Predict & Evaluation\n",
    "\n"
   ]
  },
  {
   "cell_type": "code",
   "execution_count": null,
   "id": "objective-cherry",
   "metadata": {
    "id": "objective-cherry"
   },
   "outputs": [],
   "source": [
    "bestmodel = TpotClf"
   ]
  },
  {
   "cell_type": "code",
   "execution_count": null,
   "id": "governmental-column",
   "metadata": {
    "id": "governmental-column"
   },
   "outputs": [],
   "source": [
    "X = df_train.drop('fraud_ind', axis=1).values\n",
    "y = df_train['fraud_ind'].values\n",
    "\n",
    "# For prediction\n",
    "X_test = df_test.drop('fraud_ind', axis=1).values\n",
    "y_test = df_test['fraud_ind'].values\n"
   ]
  },
  {
   "cell_type": "code",
   "execution_count": null,
   "id": "capital-lyric",
   "metadata": {
    "id": "capital-lyric"
   },
   "outputs": [],
   "source": [
    "model.fit(X, y)\n",
    "y_pred = model.predict(X_test)\n",
    "print('---' * 45)\n",
    "print(f'Accuracy: {model.score(X_test, y_test)}')\n",
    "print(f'Precision: {precision_score(y_test, y_pred)}')\n",
    "print(f'Reacall: {recall_score(y_test, y_pred)}')\n",
    "print(f'f1-score: {f1_score(y_test, y_pred)}')\n",
    "print(f\"micro f1-score: {f1_score(y_test, y_pred, average='micro')}\")\n",
    "print(f\"macro f1-score: {f1_score(y_test, y_pred, average='macro')}\")\n",
    "print(f\"weighted f1-score: {f1_score(y_test, y_pred, average='weighted')}\")\n",
    "print(f'AUC: {roc_auc_score(y_test, y_pred)}')\n",
    "print('---' * 45)"
   ]
  }
 ],
 "metadata": {
  "colab": {
   "collapsed_sections": [
    "fantastic-armor",
    "unavailable-pointer"
   ],
   "name": "Fraud_detection.ipynb",
   "provenance": [],
   "toc_visible": true
  },
  "kernelspec": {
   "display_name": "Python 3",
   "language": "python",
   "name": "python3"
  },
  "language_info": {
   "codemirror_mode": {
    "name": "ipython",
    "version": 3
   },
   "file_extension": ".py",
   "mimetype": "text/x-python",
   "name": "python",
   "nbconvert_exporter": "python",
   "pygments_lexer": "ipython3",
   "version": "3.8.5"
  }
 },
 "nbformat": 4,
 "nbformat_minor": 5
}
