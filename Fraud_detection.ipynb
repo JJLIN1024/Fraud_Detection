{
  "nbformat": 4,
  "nbformat_minor": 5,
  "metadata": {
    "kernelspec": {
      "display_name": "Python 3",
      "language": "python",
      "name": "python3"
    },
    "language_info": {
      "codemirror_mode": {
        "name": "ipython",
        "version": 3
      },
      "file_extension": ".py",
      "mimetype": "text/x-python",
      "name": "python",
      "nbconvert_exporter": "python",
      "pygments_lexer": "ipython3",
      "version": "3.8.5"
    },
    "colab": {
      "name": "Fraud_detection.ipynb",
      "provenance": [],
      "collapsed_sections": [
        "consecutive-brazilian",
        "fantastic-armor",
        "unavailable-pointer",
        "together-transformation",
        "functioning-doctrine",
        "complex-irrigation",
        "lovely-scholar",
        "another-operation"
      ]
    }
  },
  "cells": [
    {
      "cell_type": "markdown",
      "metadata": {
        "id": "wuJVlf-a52vT"
      },
      "source": [
        "# **Fraud Detection**"
      ],
      "id": "wuJVlf-a52vT"
    },
    {
      "cell_type": "markdown",
      "metadata": {
        "id": "w9oasccM_Yeq"
      },
      "source": [
        "## PreProcessing"
      ],
      "id": "w9oasccM_Yeq"
    },
    {
      "cell_type": "markdown",
      "metadata": {
        "id": "4zIXvSQaB1Xi"
      },
      "source": [
        "### Get Data"
      ],
      "id": "4zIXvSQaB1Xi"
    },
    {
      "cell_type": "markdown",
      "metadata": {
        "id": "aeLk7oSH_KDe"
      },
      "source": [
        "#### Download Dataset"
      ],
      "id": "aeLk7oSH_KDe"
    },
    {
      "cell_type": "code",
      "metadata": {
        "colab": {
          "base_uri": "https://localhost:8080/",
          "height": 307
        },
        "id": "dcA_tmsD5zeu",
        "outputId": "780f4559-4532-407e-b68d-3e937f491b6c"
      },
      "source": [
        "f1id = '1SvJ_IiHr-ndJDG_sBf6NCn0lMKUxPIlf'\n",
        "f2id = '1lZPv46zul32Xbr1qHES66YRzMa-A7MzB'\n",
        "\n",
        "!pip3 install gdown\n",
        "import gdown\n",
        "url = 'https://drive.google.com/uc?id=%s'%(f1id)\n",
        "output = 'train.csv'\n",
        "gdown.download(url, output, quiet=False)\n",
        "url = 'https://drive.google.com/uc?id=%s'%(f2id)\n",
        "output = 'test.csv'\n",
        "gdown.download(url, output, quiet=False)"
      ],
      "id": "dcA_tmsD5zeu",
      "execution_count": null,
      "outputs": [
        {
          "output_type": "stream",
          "text": [
            "Requirement already satisfied: gdown in /usr/local/lib/python3.7/dist-packages (3.6.4)\n",
            "Requirement already satisfied: requests in /usr/local/lib/python3.7/dist-packages (from gdown) (2.23.0)\n",
            "Requirement already satisfied: six in /usr/local/lib/python3.7/dist-packages (from gdown) (1.15.0)\n",
            "Requirement already satisfied: tqdm in /usr/local/lib/python3.7/dist-packages (from gdown) (4.41.1)\n",
            "Requirement already satisfied: certifi>=2017.4.17 in /usr/local/lib/python3.7/dist-packages (from requests->gdown) (2020.12.5)\n",
            "Requirement already satisfied: idna<3,>=2.5 in /usr/local/lib/python3.7/dist-packages (from requests->gdown) (2.10)\n",
            "Requirement already satisfied: chardet<4,>=3.0.2 in /usr/local/lib/python3.7/dist-packages (from requests->gdown) (3.0.4)\n",
            "Requirement already satisfied: urllib3!=1.25.0,!=1.25.1,<1.26,>=1.21.1 in /usr/local/lib/python3.7/dist-packages (from requests->gdown) (1.24.3)\n"
          ],
          "name": "stdout"
        },
        {
          "output_type": "stream",
          "text": [
            "Downloading...\n",
            "From: https://drive.google.com/uc?id=1SvJ_IiHr-ndJDG_sBf6NCn0lMKUxPIlf\n",
            "To: /content/train.csv\n",
            "132MB [00:01, 132MB/s]\n",
            "Downloading...\n",
            "From: https://drive.google.com/uc?id=1lZPv46zul32Xbr1qHES66YRzMa-A7MzB\n",
            "To: /content/test.csv\n",
            "36.2MB [00:00, 125MB/s] \n"
          ],
          "name": "stderr"
        },
        {
          "output_type": "execute_result",
          "data": {
            "application/vnd.google.colaboratory.intrinsic+json": {
              "type": "string"
            },
            "text/plain": [
              "'test.csv'"
            ]
          },
          "metadata": {
            "tags": []
          },
          "execution_count": 1
        }
      ]
    },
    {
      "cell_type": "markdown",
      "metadata": {
        "id": "oitxhY7V_RFM"
      },
      "source": [
        "#### Import package"
      ],
      "id": "oitxhY7V_RFM"
    },
    {
      "cell_type": "code",
      "metadata": {
        "colab": {
          "base_uri": "https://localhost:8080/"
        },
        "id": "insured-singapore",
        "outputId": "a9687524-2845-4421-9d6f-85b88fa3183d"
      },
      "source": [
        "# Basic lib\n",
        "\n",
        "import numpy as np \n",
        "import pandas as pd \n",
        "import matplotlib.pyplot as plt\n",
        "import seaborn as sns\n",
        "import matplotlib.patches as mpatches\n",
        "\n",
        "# Preprocess\n",
        "from sklearn.preprocessing import OneHotEncoder, LabelEncoder, StandardScaler\n",
        "!pip install autoviz datasist pandas_profiling \n",
        "from autoviz.AutoViz_Class import AutoViz_Class\n",
        "\n",
        "\n",
        "from pandas_profiling import ProfileReport\n",
        "import datasist as ds \n",
        "from sklearn.feature_selection import RFECV\n",
        "\n",
        "# Classifier Libraries\n",
        "from sklearn.linear_model import LogisticRegression\n",
        "\n",
        "from sklearn.svm import SVC\n",
        "from sklearn.neighbors import KNeighborsClassifier\n",
        "from sklearn.tree import DecisionTreeClassifier\n",
        "from sklearn.ensemble import RandomForestClassifier\n",
        "from sklearn.ensemble import GradientBoostingClassifier\n",
        "from xgboost import XGBClassifier\n",
        "import lightgbm as lgb\n",
        "\n",
        "# Performance Evaluation tools\n",
        "from sklearn.model_selection import train_test_split, KFold, StratifiedKFold, cross_val_score\n",
        "from sklearn.metrics import roc_curve, auc\n",
        "from sklearn.metrics import precision_score, recall_score, f1_score, roc_auc_score, accuracy_score, classification_report\n",
        "\n",
        "\n",
        "# imblearn\n",
        "from imblearn.pipeline import Pipeline, make_pipeline\n",
        "from imblearn.under_sampling import NearMiss\n",
        "from imblearn.over_sampling import SMOTE, ADASYN, BorderlineSMOTE\n",
        "from imblearn.combine import SMOTEENN, SMOTETomek\n",
        "from imblearn.metrics import classification_report_imbalanced\n",
        "\n",
        "\n",
        "# PCA\n",
        "from sklearn.manifold import TSNE\n",
        "from sklearn.decomposition import PCA, TruncatedSVD\n",
        "\n",
        "\n",
        "# Utils\n",
        "import time\n",
        "import gc\n",
        "from collections import Counter\n",
        "import warnings\n",
        "warnings.filterwarnings(\"ignore\")\n"
      ],
      "id": "insured-singapore",
      "execution_count": null,
      "outputs": [
        {
          "output_type": "stream",
          "text": [
            "Collecting autoviz\n",
            "  Downloading https://files.pythonhosted.org/packages/89/20/8c8c64d5221cfcbc54679f4f048a08292a16dbad178af7c78541aa3af730/autoviz-0.0.81-py3-none-any.whl\n",
            "Collecting datasist\n",
            "  Downloading https://files.pythonhosted.org/packages/af/da/ed4f7d38947c32aaf1f70630413a5ee83a4d8c520add349f8d53c878bce1/datasist-1.5.3-py3-none-any.whl\n",
            "Requirement already satisfied: pandas_profiling in /usr/local/lib/python3.7/dist-packages (1.4.1)\n",
            "Requirement already satisfied: statsmodels in /usr/local/lib/python3.7/dist-packages (from autoviz) (0.10.2)\n",
            "Requirement already satisfied: jupyter in /usr/local/lib/python3.7/dist-packages (from autoviz) (1.0.0)\n",
            "Requirement already satisfied: seaborn in /usr/local/lib/python3.7/dist-packages (from autoviz) (0.11.1)\n",
            "Requirement already satisfied: ipython in /usr/local/lib/python3.7/dist-packages (from autoviz) (5.5.0)\n",
            "Requirement already satisfied: scikit-learn in /usr/local/lib/python3.7/dist-packages (from autoviz) (0.22.2.post1)\n",
            "Requirement already satisfied: xgboost in /usr/local/lib/python3.7/dist-packages (from autoviz) (0.90)\n",
            "Requirement already satisfied: pandas in /usr/local/lib/python3.7/dist-packages (from autoviz) (1.1.5)\n",
            "Requirement already satisfied: matplotlib in /usr/local/lib/python3.7/dist-packages (from autoviz) (3.2.2)\n",
            "Requirement already satisfied: nltk in /usr/local/lib/python3.7/dist-packages (from datasist) (3.2.5)\n",
            "Requirement already satisfied: numpy in /usr/local/lib/python3.7/dist-packages (from datasist) (1.19.5)\n",
            "Requirement already satisfied: Joblib in /usr/local/lib/python3.7/dist-packages (from datasist) (1.0.1)\n",
            "Requirement already satisfied: six>=1.9 in /usr/local/lib/python3.7/dist-packages (from pandas_profiling) (1.15.0)\n",
            "Requirement already satisfied: jinja2>=2.8 in /usr/local/lib/python3.7/dist-packages (from pandas_profiling) (2.11.3)\n",
            "Requirement already satisfied: scipy>=0.18 in /usr/local/lib/python3.7/dist-packages (from statsmodels->autoviz) (1.4.1)\n",
            "Requirement already satisfied: patsy>=0.4.0 in /usr/local/lib/python3.7/dist-packages (from statsmodels->autoviz) (0.5.1)\n",
            "Requirement already satisfied: ipykernel in /usr/local/lib/python3.7/dist-packages (from jupyter->autoviz) (4.10.1)\n",
            "Requirement already satisfied: nbconvert in /usr/local/lib/python3.7/dist-packages (from jupyter->autoviz) (5.6.1)\n",
            "Requirement already satisfied: notebook in /usr/local/lib/python3.7/dist-packages (from jupyter->autoviz) (5.3.1)\n",
            "Requirement already satisfied: jupyter-console in /usr/local/lib/python3.7/dist-packages (from jupyter->autoviz) (5.2.0)\n",
            "Requirement already satisfied: ipywidgets in /usr/local/lib/python3.7/dist-packages (from jupyter->autoviz) (7.6.3)\n",
            "Requirement already satisfied: qtconsole in /usr/local/lib/python3.7/dist-packages (from jupyter->autoviz) (5.1.0)\n",
            "Requirement already satisfied: prompt-toolkit<2.0.0,>=1.0.4 in /usr/local/lib/python3.7/dist-packages (from ipython->autoviz) (1.0.18)\n",
            "Requirement already satisfied: traitlets>=4.2 in /usr/local/lib/python3.7/dist-packages (from ipython->autoviz) (5.0.5)\n",
            "Requirement already satisfied: pexpect; sys_platform != \"win32\" in /usr/local/lib/python3.7/dist-packages (from ipython->autoviz) (4.8.0)\n",
            "Requirement already satisfied: pygments in /usr/local/lib/python3.7/dist-packages (from ipython->autoviz) (2.6.1)\n",
            "Requirement already satisfied: simplegeneric>0.8 in /usr/local/lib/python3.7/dist-packages (from ipython->autoviz) (0.8.1)\n",
            "Requirement already satisfied: setuptools>=18.5 in /usr/local/lib/python3.7/dist-packages (from ipython->autoviz) (56.1.0)\n",
            "Requirement already satisfied: pickleshare in /usr/local/lib/python3.7/dist-packages (from ipython->autoviz) (0.7.5)\n",
            "Requirement already satisfied: decorator in /usr/local/lib/python3.7/dist-packages (from ipython->autoviz) (4.4.2)\n",
            "Requirement already satisfied: python-dateutil>=2.7.3 in /usr/local/lib/python3.7/dist-packages (from pandas->autoviz) (2.8.1)\n",
            "Requirement already satisfied: pytz>=2017.2 in /usr/local/lib/python3.7/dist-packages (from pandas->autoviz) (2018.9)\n",
            "Requirement already satisfied: pyparsing!=2.0.4,!=2.1.2,!=2.1.6,>=2.0.1 in /usr/local/lib/python3.7/dist-packages (from matplotlib->autoviz) (2.4.7)\n",
            "Requirement already satisfied: kiwisolver>=1.0.1 in /usr/local/lib/python3.7/dist-packages (from matplotlib->autoviz) (1.3.1)\n",
            "Requirement already satisfied: cycler>=0.10 in /usr/local/lib/python3.7/dist-packages (from matplotlib->autoviz) (0.10.0)\n",
            "Requirement already satisfied: MarkupSafe>=0.23 in /usr/local/lib/python3.7/dist-packages (from jinja2>=2.8->pandas_profiling) (2.0.1)\n",
            "Requirement already satisfied: jupyter-client in /usr/local/lib/python3.7/dist-packages (from ipykernel->jupyter->autoviz) (5.3.5)\n",
            "Requirement already satisfied: tornado>=4.0 in /usr/local/lib/python3.7/dist-packages (from ipykernel->jupyter->autoviz) (5.1.1)\n",
            "Requirement already satisfied: pandocfilters>=1.4.1 in /usr/local/lib/python3.7/dist-packages (from nbconvert->jupyter->autoviz) (1.4.3)\n",
            "Requirement already satisfied: testpath in /usr/local/lib/python3.7/dist-packages (from nbconvert->jupyter->autoviz) (0.5.0)\n",
            "Requirement already satisfied: mistune<2,>=0.8.1 in /usr/local/lib/python3.7/dist-packages (from nbconvert->jupyter->autoviz) (0.8.4)\n",
            "Requirement already satisfied: bleach in /usr/local/lib/python3.7/dist-packages (from nbconvert->jupyter->autoviz) (3.3.0)\n",
            "Requirement already satisfied: entrypoints>=0.2.2 in /usr/local/lib/python3.7/dist-packages (from nbconvert->jupyter->autoviz) (0.3)\n",
            "Requirement already satisfied: nbformat>=4.4 in /usr/local/lib/python3.7/dist-packages (from nbconvert->jupyter->autoviz) (5.1.3)\n",
            "Requirement already satisfied: defusedxml in /usr/local/lib/python3.7/dist-packages (from nbconvert->jupyter->autoviz) (0.7.1)\n",
            "Requirement already satisfied: jupyter-core in /usr/local/lib/python3.7/dist-packages (from nbconvert->jupyter->autoviz) (4.7.1)\n",
            "Requirement already satisfied: terminado>=0.8.1 in /usr/local/lib/python3.7/dist-packages (from notebook->jupyter->autoviz) (0.10.0)\n",
            "Requirement already satisfied: Send2Trash in /usr/local/lib/python3.7/dist-packages (from notebook->jupyter->autoviz) (1.5.0)\n",
            "Requirement already satisfied: ipython-genutils in /usr/local/lib/python3.7/dist-packages (from notebook->jupyter->autoviz) (0.2.0)\n",
            "Requirement already satisfied: widgetsnbextension~=3.5.0 in /usr/local/lib/python3.7/dist-packages (from ipywidgets->jupyter->autoviz) (3.5.1)\n",
            "Requirement already satisfied: jupyterlab-widgets>=1.0.0; python_version >= \"3.6\" in /usr/local/lib/python3.7/dist-packages (from ipywidgets->jupyter->autoviz) (1.0.0)\n",
            "Requirement already satisfied: pyzmq>=17.1 in /usr/local/lib/python3.7/dist-packages (from qtconsole->jupyter->autoviz) (22.0.3)\n",
            "Requirement already satisfied: qtpy in /usr/local/lib/python3.7/dist-packages (from qtconsole->jupyter->autoviz) (1.9.0)\n",
            "Requirement already satisfied: wcwidth in /usr/local/lib/python3.7/dist-packages (from prompt-toolkit<2.0.0,>=1.0.4->ipython->autoviz) (0.2.5)\n",
            "Requirement already satisfied: ptyprocess>=0.5 in /usr/local/lib/python3.7/dist-packages (from pexpect; sys_platform != \"win32\"->ipython->autoviz) (0.7.0)\n",
            "Requirement already satisfied: webencodings in /usr/local/lib/python3.7/dist-packages (from bleach->nbconvert->jupyter->autoviz) (0.5.1)\n",
            "Requirement already satisfied: packaging in /usr/local/lib/python3.7/dist-packages (from bleach->nbconvert->jupyter->autoviz) (20.9)\n",
            "Requirement already satisfied: jsonschema!=2.5.0,>=2.4 in /usr/local/lib/python3.7/dist-packages (from nbformat>=4.4->nbconvert->jupyter->autoviz) (2.6.0)\n",
            "Installing collected packages: autoviz, datasist\n",
            "Successfully installed autoviz-0.0.81 datasist-1.5.3\n",
            "Imported AutoViz_Class version: 0.0.81. Call using:\n",
            "    from autoviz.AutoViz_Class import AutoViz_Class\n",
            "    AV = AutoViz_Class()\n",
            "    AV.AutoViz(filename, sep=',', depVar='', dfte=None, header=0, verbose=0,\n",
            "                            lowess=False,chart_format='svg',max_rows_analyzed=150000,max_cols_analyzed=30)\n",
            "Note: verbose=0 or 1 generates charts and displays them in your local Jupyter notebook.\n",
            "      verbose=2 saves plots in your local machine under AutoViz_Plots directory and does not display charts.\n"
          ],
          "name": "stdout"
        }
      ]
    },
    {
      "cell_type": "markdown",
      "metadata": {
        "id": "posted-shipping"
      },
      "source": [
        "#### Read Data"
      ],
      "id": "posted-shipping"
    },
    {
      "cell_type": "code",
      "metadata": {
        "id": "possible-munich"
      },
      "source": [
        "df_train = pd.read_csv('./train.csv')\n",
        "df_test = pd.read_csv('./test.csv')\n",
        "df_all = pd.concat((df_train, df_test), 0)\n",
        "\n",
        "\n",
        "df_train.name = 'Training Set'\n",
        "\n",
        "df_test.name = 'Test Set'\n",
        "df_all.name = 'All Set' \n",
        "\n",
        "dfs = [df_train, df_test]"
      ],
      "id": "possible-munich",
      "execution_count": null,
      "outputs": []
    },
    {
      "cell_type": "code",
      "metadata": {
        "id": "unknown-price"
      },
      "source": [
        "# Due to RAM limit on colab, need to reduce memory usage\n",
        "def reduce_mem(df):\n",
        "    start_mem_usg = df.memory_usage().sum() / (1024*1024)\n",
        "    print(\"Memory usage of properties dataframe is :\",start_mem_usg,\" MB\")\n",
        "    \n",
        "    for col in df.keys():\n",
        "        if df[col].dtype == int:\n",
        "            Max = df[col].max()\n",
        "            Min = df[col].min()\n",
        "            if -128 < Min and Max < 127:\n",
        "                df[col] = df[col].astype(np.int8)\n",
        "            elif -32768 < Min and Max < 32767:\n",
        "                df[col] = df[col].astype(np.int16)\n",
        "            elif -2147483648 < Min and Max < 2147483647:\n",
        "                df[col] = df[col].astype(np.int32)\n",
        "            else:\n",
        "                df[col] = df[col].astype(np.int64)      \n",
        "        elif df[col].dtype == float:\n",
        "            df[col] = df[col].astype(np.float32)\n",
        "        else:\n",
        "            continue\n",
        "    print(\"___MEMORY USAGE AFTER COMPLETION:___\")\n",
        "    mem_usg = df.memory_usage().sum() / 1024**2 \n",
        "    print(\"Memory usage is: \",mem_usg,\" MB\")\n",
        "    print(\"This is \",100*mem_usg/start_mem_usg,\"% of the initial size\")\n",
        "\n"
      ],
      "id": "unknown-price",
      "execution_count": null,
      "outputs": []
    },
    {
      "cell_type": "code",
      "metadata": {
        "id": "EacpzLTISSyB"
      },
      "source": [
        "reduce_mem(df_train)\n",
        "print(\"---\"*10)\n",
        "reduce_mem(df_test)"
      ],
      "id": "EacpzLTISSyB",
      "execution_count": null,
      "outputs": []
    },
    {
      "cell_type": "markdown",
      "metadata": {
        "id": "color-bearing"
      },
      "source": [
        "#### Observer data \n"
      ],
      "id": "color-bearing"
    },
    {
      "cell_type": "code",
      "metadata": {
        "colab": {
          "base_uri": "https://localhost:8080/"
        },
        "id": "automated-vision",
        "outputId": "557ecb3d-3a88-4684-e0cd-36a7d7d3a1ec"
      },
      "source": [
        "ds.structdata.check_train_test_set(df_train, df_test, index=None, col=None)\n"
      ],
      "id": "automated-vision",
      "execution_count": null,
      "outputs": [
        {
          "output_type": "stream",
          "text": [
            "There are 1521787 training rows and 421665 test rows.\n",
            "There are 23 training columns and 22 test columns.\n"
          ],
          "name": "stdout"
        }
      ]
    },
    {
      "cell_type": "code",
      "metadata": {
        "colab": {
          "base_uri": "https://localhost:8080/",
          "height": 1000
        },
        "id": "about-dragon",
        "outputId": "a6370549-f49f-4086-b1db-44547b38cde9"
      },
      "source": [
        "ds.structdata.describe(df_train)"
      ],
      "id": "about-dragon",
      "execution_count": null,
      "outputs": [
        {
          "output_type": "stream",
          "text": [
            "First five data points\n"
          ],
          "name": "stdout"
        },
        {
          "output_type": "display_data",
          "data": {
            "text/html": [
              "<div>\n",
              "<style scoped>\n",
              "    .dataframe tbody tr th:only-of-type {\n",
              "        vertical-align: middle;\n",
              "    }\n",
              "\n",
              "    .dataframe tbody tr th {\n",
              "        vertical-align: top;\n",
              "    }\n",
              "\n",
              "    .dataframe thead th {\n",
              "        text-align: right;\n",
              "    }\n",
              "</style>\n",
              "<table border=\"1\" class=\"dataframe\">\n",
              "  <thead>\n",
              "    <tr style=\"text-align: right;\">\n",
              "      <th></th>\n",
              "      <th>acqic</th>\n",
              "      <th>bacno</th>\n",
              "      <th>cano</th>\n",
              "      <th>conam</th>\n",
              "      <th>contp</th>\n",
              "      <th>csmcu</th>\n",
              "      <th>ecfg</th>\n",
              "      <th>etymd</th>\n",
              "      <th>flbmk</th>\n",
              "      <th>flg_3dsmk</th>\n",
              "      <th>fraud_ind</th>\n",
              "      <th>hcefg</th>\n",
              "      <th>insfg</th>\n",
              "      <th>iterm</th>\n",
              "      <th>locdt</th>\n",
              "      <th>loctm</th>\n",
              "      <th>mcc</th>\n",
              "      <th>mchno</th>\n",
              "      <th>ovrlt</th>\n",
              "      <th>scity</th>\n",
              "      <th>stocn</th>\n",
              "      <th>stscd</th>\n",
              "      <th>txkey</th>\n",
              "    </tr>\n",
              "  </thead>\n",
              "  <tbody>\n",
              "    <tr>\n",
              "      <th>0</th>\n",
              "      <td>6881</td>\n",
              "      <td>113261</td>\n",
              "      <td>38038</td>\n",
              "      <td>513.799988</td>\n",
              "      <td>5</td>\n",
              "      <td>0</td>\n",
              "      <td>N</td>\n",
              "      <td>0</td>\n",
              "      <td>N</td>\n",
              "      <td>N</td>\n",
              "      <td>0</td>\n",
              "      <td>5</td>\n",
              "      <td>N</td>\n",
              "      <td>0</td>\n",
              "      <td>33</td>\n",
              "      <td>172652.0</td>\n",
              "      <td>457</td>\n",
              "      <td>59333</td>\n",
              "      <td>N</td>\n",
              "      <td>0</td>\n",
              "      <td>102</td>\n",
              "      <td>0</td>\n",
              "      <td>516056</td>\n",
              "    </tr>\n",
              "    <tr>\n",
              "      <th>1</th>\n",
              "      <td>0</td>\n",
              "      <td>134508</td>\n",
              "      <td>45725</td>\n",
              "      <td>465.619995</td>\n",
              "      <td>5</td>\n",
              "      <td>0</td>\n",
              "      <td>N</td>\n",
              "      <td>2</td>\n",
              "      <td>N</td>\n",
              "      <td>N</td>\n",
              "      <td>0</td>\n",
              "      <td>0</td>\n",
              "      <td>N</td>\n",
              "      <td>0</td>\n",
              "      <td>9</td>\n",
              "      <td>105114.0</td>\n",
              "      <td>451</td>\n",
              "      <td>0</td>\n",
              "      <td>N</td>\n",
              "      <td>5817</td>\n",
              "      <td>102</td>\n",
              "      <td>0</td>\n",
              "      <td>4376</td>\n",
              "    </tr>\n",
              "    <tr>\n",
              "      <th>2</th>\n",
              "      <td>6881</td>\n",
              "      <td>15408</td>\n",
              "      <td>188328</td>\n",
              "      <td>513.799988</td>\n",
              "      <td>5</td>\n",
              "      <td>0</td>\n",
              "      <td>N</td>\n",
              "      <td>0</td>\n",
              "      <td>N</td>\n",
              "      <td>N</td>\n",
              "      <td>0</td>\n",
              "      <td>5</td>\n",
              "      <td>N</td>\n",
              "      <td>0</td>\n",
              "      <td>6</td>\n",
              "      <td>152458.0</td>\n",
              "      <td>457</td>\n",
              "      <td>59333</td>\n",
              "      <td>N</td>\n",
              "      <td>0</td>\n",
              "      <td>102</td>\n",
              "      <td>0</td>\n",
              "      <td>483434</td>\n",
              "    </tr>\n",
              "    <tr>\n",
              "      <th>3</th>\n",
              "      <td>6716</td>\n",
              "      <td>157159</td>\n",
              "      <td>29967</td>\n",
              "      <td>1016.109985</td>\n",
              "      <td>5</td>\n",
              "      <td>62</td>\n",
              "      <td>N</td>\n",
              "      <td>5</td>\n",
              "      <td>N</td>\n",
              "      <td>N</td>\n",
              "      <td>0</td>\n",
              "      <td>5</td>\n",
              "      <td>N</td>\n",
              "      <td>0</td>\n",
              "      <td>5</td>\n",
              "      <td>172946.0</td>\n",
              "      <td>247</td>\n",
              "      <td>50436</td>\n",
              "      <td>N</td>\n",
              "      <td>3281</td>\n",
              "      <td>102</td>\n",
              "      <td>0</td>\n",
              "      <td>1407164</td>\n",
              "    </tr>\n",
              "    <tr>\n",
              "      <th>4</th>\n",
              "      <td>5975</td>\n",
              "      <td>105985</td>\n",
              "      <td>81305</td>\n",
              "      <td>713.659973</td>\n",
              "      <td>5</td>\n",
              "      <td>62</td>\n",
              "      <td>N</td>\n",
              "      <td>4</td>\n",
              "      <td>N</td>\n",
              "      <td>N</td>\n",
              "      <td>0</td>\n",
              "      <td>5</td>\n",
              "      <td>N</td>\n",
              "      <td>0</td>\n",
              "      <td>6</td>\n",
              "      <td>182129.0</td>\n",
              "      <td>263</td>\n",
              "      <td>93775</td>\n",
              "      <td>N</td>\n",
              "      <td>5817</td>\n",
              "      <td>102</td>\n",
              "      <td>0</td>\n",
              "      <td>1051004</td>\n",
              "    </tr>\n",
              "  </tbody>\n",
              "</table>\n",
              "</div>"
            ],
            "text/plain": [
              "   acqic   bacno    cano        conam  ...  scity  stocn stscd    txkey\n",
              "0   6881  113261   38038   513.799988  ...      0    102     0   516056\n",
              "1      0  134508   45725   465.619995  ...   5817    102     0     4376\n",
              "2   6881   15408  188328   513.799988  ...      0    102     0   483434\n",
              "3   6716  157159   29967  1016.109985  ...   3281    102     0  1407164\n",
              "4   5975  105985   81305   713.659973  ...   5817    102     0  1051004\n",
              "\n",
              "[5 rows x 23 columns]"
            ]
          },
          "metadata": {
            "tags": []
          }
        },
        {
          "output_type": "stream",
          "text": [
            "\n",
            "\n",
            "Random five data points\n"
          ],
          "name": "stdout"
        },
        {
          "output_type": "display_data",
          "data": {
            "text/html": [
              "<div>\n",
              "<style scoped>\n",
              "    .dataframe tbody tr th:only-of-type {\n",
              "        vertical-align: middle;\n",
              "    }\n",
              "\n",
              "    .dataframe tbody tr th {\n",
              "        vertical-align: top;\n",
              "    }\n",
              "\n",
              "    .dataframe thead th {\n",
              "        text-align: right;\n",
              "    }\n",
              "</style>\n",
              "<table border=\"1\" class=\"dataframe\">\n",
              "  <thead>\n",
              "    <tr style=\"text-align: right;\">\n",
              "      <th></th>\n",
              "      <th>acqic</th>\n",
              "      <th>bacno</th>\n",
              "      <th>cano</th>\n",
              "      <th>conam</th>\n",
              "      <th>contp</th>\n",
              "      <th>csmcu</th>\n",
              "      <th>ecfg</th>\n",
              "      <th>etymd</th>\n",
              "      <th>flbmk</th>\n",
              "      <th>flg_3dsmk</th>\n",
              "      <th>fraud_ind</th>\n",
              "      <th>hcefg</th>\n",
              "      <th>insfg</th>\n",
              "      <th>iterm</th>\n",
              "      <th>locdt</th>\n",
              "      <th>loctm</th>\n",
              "      <th>mcc</th>\n",
              "      <th>mchno</th>\n",
              "      <th>ovrlt</th>\n",
              "      <th>scity</th>\n",
              "      <th>stocn</th>\n",
              "      <th>stscd</th>\n",
              "      <th>txkey</th>\n",
              "    </tr>\n",
              "  </thead>\n",
              "  <tbody>\n",
              "    <tr>\n",
              "      <th>820636</th>\n",
              "      <td>3348</td>\n",
              "      <td>81442</td>\n",
              "      <td>152057</td>\n",
              "      <td>1016.340027</td>\n",
              "      <td>5</td>\n",
              "      <td>62</td>\n",
              "      <td>Y</td>\n",
              "      <td>8</td>\n",
              "      <td>N</td>\n",
              "      <td>N</td>\n",
              "      <td>0</td>\n",
              "      <td>5</td>\n",
              "      <td>N</td>\n",
              "      <td>0</td>\n",
              "      <td>75</td>\n",
              "      <td>1345.0</td>\n",
              "      <td>289</td>\n",
              "      <td>54828</td>\n",
              "      <td>N</td>\n",
              "      <td>3460</td>\n",
              "      <td>46</td>\n",
              "      <td>2</td>\n",
              "      <td>762410</td>\n",
              "    </tr>\n",
              "    <tr>\n",
              "      <th>523313</th>\n",
              "      <td>6767</td>\n",
              "      <td>55799</td>\n",
              "      <td>103694</td>\n",
              "      <td>394.070007</td>\n",
              "      <td>5</td>\n",
              "      <td>62</td>\n",
              "      <td>N</td>\n",
              "      <td>5</td>\n",
              "      <td>N</td>\n",
              "      <td>N</td>\n",
              "      <td>0</td>\n",
              "      <td>5</td>\n",
              "      <td>N</td>\n",
              "      <td>0</td>\n",
              "      <td>4</td>\n",
              "      <td>161852.0</td>\n",
              "      <td>251</td>\n",
              "      <td>19501</td>\n",
              "      <td>N</td>\n",
              "      <td>5817</td>\n",
              "      <td>102</td>\n",
              "      <td>0</td>\n",
              "      <td>1121551</td>\n",
              "    </tr>\n",
              "    <tr>\n",
              "      <th>685301</th>\n",
              "      <td>0</td>\n",
              "      <td>31292</td>\n",
              "      <td>43211</td>\n",
              "      <td>465.619995</td>\n",
              "      <td>5</td>\n",
              "      <td>0</td>\n",
              "      <td>N</td>\n",
              "      <td>2</td>\n",
              "      <td>N</td>\n",
              "      <td>N</td>\n",
              "      <td>0</td>\n",
              "      <td>0</td>\n",
              "      <td>N</td>\n",
              "      <td>0</td>\n",
              "      <td>23</td>\n",
              "      <td>104956.0</td>\n",
              "      <td>451</td>\n",
              "      <td>0</td>\n",
              "      <td>N</td>\n",
              "      <td>5817</td>\n",
              "      <td>102</td>\n",
              "      <td>0</td>\n",
              "      <td>10795</td>\n",
              "    </tr>\n",
              "    <tr>\n",
              "      <th>1185478</th>\n",
              "      <td>6769</td>\n",
              "      <td>17607</td>\n",
              "      <td>121488</td>\n",
              "      <td>242.800003</td>\n",
              "      <td>5</td>\n",
              "      <td>62</td>\n",
              "      <td>N</td>\n",
              "      <td>5</td>\n",
              "      <td>N</td>\n",
              "      <td>N</td>\n",
              "      <td>0</td>\n",
              "      <td>5</td>\n",
              "      <td>N</td>\n",
              "      <td>0</td>\n",
              "      <td>37</td>\n",
              "      <td>150746.0</td>\n",
              "      <td>251</td>\n",
              "      <td>78073</td>\n",
              "      <td>N</td>\n",
              "      <td>5858</td>\n",
              "      <td>102</td>\n",
              "      <td>0</td>\n",
              "      <td>226628</td>\n",
              "    </tr>\n",
              "    <tr>\n",
              "      <th>989289</th>\n",
              "      <td>6032</td>\n",
              "      <td>122429</td>\n",
              "      <td>96791</td>\n",
              "      <td>336.250000</td>\n",
              "      <td>5</td>\n",
              "      <td>62</td>\n",
              "      <td>N</td>\n",
              "      <td>4</td>\n",
              "      <td>N</td>\n",
              "      <td>N</td>\n",
              "      <td>0</td>\n",
              "      <td>5</td>\n",
              "      <td>N</td>\n",
              "      <td>0</td>\n",
              "      <td>24</td>\n",
              "      <td>192058.0</td>\n",
              "      <td>251</td>\n",
              "      <td>77977</td>\n",
              "      <td>N</td>\n",
              "      <td>5817</td>\n",
              "      <td>102</td>\n",
              "      <td>0</td>\n",
              "      <td>252029</td>\n",
              "    </tr>\n",
              "  </tbody>\n",
              "</table>\n",
              "</div>"
            ],
            "text/plain": [
              "         acqic   bacno    cano        conam  ...  scity  stocn stscd    txkey\n",
              "820636    3348   81442  152057  1016.340027  ...   3460     46     2   762410\n",
              "523313    6767   55799  103694   394.070007  ...   5817    102     0  1121551\n",
              "685301       0   31292   43211   465.619995  ...   5817    102     0    10795\n",
              "1185478   6769   17607  121488   242.800003  ...   5858    102     0   226628\n",
              "989289    6032  122429   96791   336.250000  ...   5817    102     0   252029\n",
              "\n",
              "[5 rows x 23 columns]"
            ]
          },
          "metadata": {
            "tags": []
          }
        },
        {
          "output_type": "stream",
          "text": [
            "\n",
            "\n",
            "Last five data points\n"
          ],
          "name": "stdout"
        },
        {
          "output_type": "display_data",
          "data": {
            "text/html": [
              "<div>\n",
              "<style scoped>\n",
              "    .dataframe tbody tr th:only-of-type {\n",
              "        vertical-align: middle;\n",
              "    }\n",
              "\n",
              "    .dataframe tbody tr th {\n",
              "        vertical-align: top;\n",
              "    }\n",
              "\n",
              "    .dataframe thead th {\n",
              "        text-align: right;\n",
              "    }\n",
              "</style>\n",
              "<table border=\"1\" class=\"dataframe\">\n",
              "  <thead>\n",
              "    <tr style=\"text-align: right;\">\n",
              "      <th></th>\n",
              "      <th>acqic</th>\n",
              "      <th>bacno</th>\n",
              "      <th>cano</th>\n",
              "      <th>conam</th>\n",
              "      <th>contp</th>\n",
              "      <th>csmcu</th>\n",
              "      <th>ecfg</th>\n",
              "      <th>etymd</th>\n",
              "      <th>flbmk</th>\n",
              "      <th>flg_3dsmk</th>\n",
              "      <th>fraud_ind</th>\n",
              "      <th>hcefg</th>\n",
              "      <th>insfg</th>\n",
              "      <th>iterm</th>\n",
              "      <th>locdt</th>\n",
              "      <th>loctm</th>\n",
              "      <th>mcc</th>\n",
              "      <th>mchno</th>\n",
              "      <th>ovrlt</th>\n",
              "      <th>scity</th>\n",
              "      <th>stocn</th>\n",
              "      <th>stscd</th>\n",
              "      <th>txkey</th>\n",
              "    </tr>\n",
              "  </thead>\n",
              "  <tbody>\n",
              "    <tr>\n",
              "      <th>1521782</th>\n",
              "      <td>6322</td>\n",
              "      <td>91008</td>\n",
              "      <td>15189</td>\n",
              "      <td>578.380005</td>\n",
              "      <td>5</td>\n",
              "      <td>75</td>\n",
              "      <td>Y</td>\n",
              "      <td>8</td>\n",
              "      <td>NaN</td>\n",
              "      <td>NaN</td>\n",
              "      <td>0</td>\n",
              "      <td>6</td>\n",
              "      <td>N</td>\n",
              "      <td>0</td>\n",
              "      <td>4</td>\n",
              "      <td>191642.0</td>\n",
              "      <td>209</td>\n",
              "      <td>38222</td>\n",
              "      <td>N</td>\n",
              "      <td>5817</td>\n",
              "      <td>102</td>\n",
              "      <td>0</td>\n",
              "      <td>1478280</td>\n",
              "    </tr>\n",
              "    <tr>\n",
              "      <th>1521783</th>\n",
              "      <td>3226</td>\n",
              "      <td>145107</td>\n",
              "      <td>116252</td>\n",
              "      <td>435.320007</td>\n",
              "      <td>5</td>\n",
              "      <td>75</td>\n",
              "      <td>Y</td>\n",
              "      <td>8</td>\n",
              "      <td>NaN</td>\n",
              "      <td>NaN</td>\n",
              "      <td>0</td>\n",
              "      <td>6</td>\n",
              "      <td>N</td>\n",
              "      <td>0</td>\n",
              "      <td>13</td>\n",
              "      <td>102338.0</td>\n",
              "      <td>192</td>\n",
              "      <td>90135</td>\n",
              "      <td>N</td>\n",
              "      <td>1458</td>\n",
              "      <td>102</td>\n",
              "      <td>0</td>\n",
              "      <td>661087</td>\n",
              "    </tr>\n",
              "    <tr>\n",
              "      <th>1521784</th>\n",
              "      <td>6769</td>\n",
              "      <td>162168</td>\n",
              "      <td>93598</td>\n",
              "      <td>1.380000</td>\n",
              "      <td>5</td>\n",
              "      <td>75</td>\n",
              "      <td>Y</td>\n",
              "      <td>8</td>\n",
              "      <td>NaN</td>\n",
              "      <td>NaN</td>\n",
              "      <td>0</td>\n",
              "      <td>6</td>\n",
              "      <td>N</td>\n",
              "      <td>0</td>\n",
              "      <td>29</td>\n",
              "      <td>234618.0</td>\n",
              "      <td>373</td>\n",
              "      <td>79246</td>\n",
              "      <td>N</td>\n",
              "      <td>5817</td>\n",
              "      <td>102</td>\n",
              "      <td>0</td>\n",
              "      <td>167073</td>\n",
              "    </tr>\n",
              "    <tr>\n",
              "      <th>1521785</th>\n",
              "      <td>6032</td>\n",
              "      <td>45406</td>\n",
              "      <td>197460</td>\n",
              "      <td>1.380000</td>\n",
              "      <td>5</td>\n",
              "      <td>75</td>\n",
              "      <td>Y</td>\n",
              "      <td>2</td>\n",
              "      <td>NaN</td>\n",
              "      <td>NaN</td>\n",
              "      <td>0</td>\n",
              "      <td>6</td>\n",
              "      <td>N</td>\n",
              "      <td>0</td>\n",
              "      <td>24</td>\n",
              "      <td>215218.0</td>\n",
              "      <td>373</td>\n",
              "      <td>79246</td>\n",
              "      <td>N</td>\n",
              "      <td>5817</td>\n",
              "      <td>102</td>\n",
              "      <td>0</td>\n",
              "      <td>338215</td>\n",
              "    </tr>\n",
              "    <tr>\n",
              "      <th>1521786</th>\n",
              "      <td>6716</td>\n",
              "      <td>48723</td>\n",
              "      <td>176440</td>\n",
              "      <td>406.589996</td>\n",
              "      <td>5</td>\n",
              "      <td>75</td>\n",
              "      <td>N</td>\n",
              "      <td>5</td>\n",
              "      <td>NaN</td>\n",
              "      <td>NaN</td>\n",
              "      <td>0</td>\n",
              "      <td>6</td>\n",
              "      <td>N</td>\n",
              "      <td>0</td>\n",
              "      <td>13</td>\n",
              "      <td>163603.0</td>\n",
              "      <td>251</td>\n",
              "      <td>69607</td>\n",
              "      <td>N</td>\n",
              "      <td>2310</td>\n",
              "      <td>102</td>\n",
              "      <td>0</td>\n",
              "      <td>1055258</td>\n",
              "    </tr>\n",
              "  </tbody>\n",
              "</table>\n",
              "</div>"
            ],
            "text/plain": [
              "         acqic   bacno    cano       conam  ...  scity  stocn stscd    txkey\n",
              "1521782   6322   91008   15189  578.380005  ...   5817    102     0  1478280\n",
              "1521783   3226  145107  116252  435.320007  ...   1458    102     0   661087\n",
              "1521784   6769  162168   93598    1.380000  ...   5817    102     0   167073\n",
              "1521785   6032   45406  197460    1.380000  ...   5817    102     0   338215\n",
              "1521786   6716   48723  176440  406.589996  ...   2310    102     0  1055258\n",
              "\n",
              "[5 rows x 23 columns]"
            ]
          },
          "metadata": {
            "tags": []
          }
        },
        {
          "output_type": "stream",
          "text": [
            "\n",
            "\n",
            "Shape of  data set: (1521787, 23)\n",
            "\n",
            "\n",
            "Size of  data set: 35001101\n",
            "\n",
            "\n",
            "Data Types\n",
            "Note: All Non-numerical features are identified as objects in pandas\n"
          ],
          "name": "stdout"
        },
        {
          "output_type": "display_data",
          "data": {
            "text/html": [
              "<div>\n",
              "<style scoped>\n",
              "    .dataframe tbody tr th:only-of-type {\n",
              "        vertical-align: middle;\n",
              "    }\n",
              "\n",
              "    .dataframe tbody tr th {\n",
              "        vertical-align: top;\n",
              "    }\n",
              "\n",
              "    .dataframe thead th {\n",
              "        text-align: right;\n",
              "    }\n",
              "</style>\n",
              "<table border=\"1\" class=\"dataframe\">\n",
              "  <thead>\n",
              "    <tr style=\"text-align: right;\">\n",
              "      <th></th>\n",
              "      <th>Data Type</th>\n",
              "    </tr>\n",
              "  </thead>\n",
              "  <tbody>\n",
              "    <tr>\n",
              "      <th>acqic</th>\n",
              "      <td>int16</td>\n",
              "    </tr>\n",
              "    <tr>\n",
              "      <th>bacno</th>\n",
              "      <td>int32</td>\n",
              "    </tr>\n",
              "    <tr>\n",
              "      <th>cano</th>\n",
              "      <td>int32</td>\n",
              "    </tr>\n",
              "    <tr>\n",
              "      <th>conam</th>\n",
              "      <td>float32</td>\n",
              "    </tr>\n",
              "    <tr>\n",
              "      <th>contp</th>\n",
              "      <td>int8</td>\n",
              "    </tr>\n",
              "    <tr>\n",
              "      <th>csmcu</th>\n",
              "      <td>int8</td>\n",
              "    </tr>\n",
              "    <tr>\n",
              "      <th>ecfg</th>\n",
              "      <td>object</td>\n",
              "    </tr>\n",
              "    <tr>\n",
              "      <th>etymd</th>\n",
              "      <td>int8</td>\n",
              "    </tr>\n",
              "    <tr>\n",
              "      <th>flbmk</th>\n",
              "      <td>object</td>\n",
              "    </tr>\n",
              "    <tr>\n",
              "      <th>flg_3dsmk</th>\n",
              "      <td>object</td>\n",
              "    </tr>\n",
              "    <tr>\n",
              "      <th>fraud_ind</th>\n",
              "      <td>int8</td>\n",
              "    </tr>\n",
              "    <tr>\n",
              "      <th>hcefg</th>\n",
              "      <td>int8</td>\n",
              "    </tr>\n",
              "    <tr>\n",
              "      <th>insfg</th>\n",
              "      <td>object</td>\n",
              "    </tr>\n",
              "    <tr>\n",
              "      <th>iterm</th>\n",
              "      <td>int8</td>\n",
              "    </tr>\n",
              "    <tr>\n",
              "      <th>locdt</th>\n",
              "      <td>int8</td>\n",
              "    </tr>\n",
              "    <tr>\n",
              "      <th>loctm</th>\n",
              "      <td>float32</td>\n",
              "    </tr>\n",
              "    <tr>\n",
              "      <th>mcc</th>\n",
              "      <td>int16</td>\n",
              "    </tr>\n",
              "    <tr>\n",
              "      <th>mchno</th>\n",
              "      <td>int32</td>\n",
              "    </tr>\n",
              "    <tr>\n",
              "      <th>ovrlt</th>\n",
              "      <td>object</td>\n",
              "    </tr>\n",
              "    <tr>\n",
              "      <th>scity</th>\n",
              "      <td>int16</td>\n",
              "    </tr>\n",
              "    <tr>\n",
              "      <th>stocn</th>\n",
              "      <td>int8</td>\n",
              "    </tr>\n",
              "    <tr>\n",
              "      <th>stscd</th>\n",
              "      <td>int8</td>\n",
              "    </tr>\n",
              "    <tr>\n",
              "      <th>txkey</th>\n",
              "      <td>int32</td>\n",
              "    </tr>\n",
              "  </tbody>\n",
              "</table>\n",
              "</div>"
            ],
            "text/plain": [
              "          Data Type\n",
              "acqic         int16\n",
              "bacno         int32\n",
              "cano          int32\n",
              "conam       float32\n",
              "contp          int8\n",
              "csmcu          int8\n",
              "ecfg         object\n",
              "etymd          int8\n",
              "flbmk        object\n",
              "flg_3dsmk    object\n",
              "fraud_ind      int8\n",
              "hcefg          int8\n",
              "insfg        object\n",
              "iterm          int8\n",
              "locdt          int8\n",
              "loctm       float32\n",
              "mcc           int16\n",
              "mchno         int32\n",
              "ovrlt        object\n",
              "scity         int16\n",
              "stocn          int8\n",
              "stscd          int8\n",
              "txkey         int32"
            ]
          },
          "metadata": {
            "tags": []
          }
        },
        {
          "output_type": "stream",
          "text": [
            "\n",
            "\n",
            "Numerical Features in Data set\n",
            "['acqic', 'bacno', 'cano', 'conam', 'contp', 'csmcu', 'etymd', 'fraud_ind', 'hcefg', 'iterm', 'locdt', 'loctm', 'mcc', 'mchno', 'scity', 'stocn', 'stscd', 'txkey']\n",
            "\n",
            "\n",
            "Categorical Features in Data set\n"
          ],
          "name": "stdout"
        },
        {
          "output_type": "display_data",
          "data": {
            "text/plain": [
              "['ecfg', 'flbmk', 'flg_3dsmk', 'insfg', 'ovrlt']"
            ]
          },
          "metadata": {
            "tags": []
          }
        },
        {
          "output_type": "stream",
          "text": [
            "\n",
            "\n",
            "Statistical Description of Columns\n"
          ],
          "name": "stdout"
        },
        {
          "output_type": "display_data",
          "data": {
            "text/html": [
              "<div>\n",
              "<style scoped>\n",
              "    .dataframe tbody tr th:only-of-type {\n",
              "        vertical-align: middle;\n",
              "    }\n",
              "\n",
              "    .dataframe tbody tr th {\n",
              "        vertical-align: top;\n",
              "    }\n",
              "\n",
              "    .dataframe thead th {\n",
              "        text-align: right;\n",
              "    }\n",
              "</style>\n",
              "<table border=\"1\" class=\"dataframe\">\n",
              "  <thead>\n",
              "    <tr style=\"text-align: right;\">\n",
              "      <th></th>\n",
              "      <th>acqic</th>\n",
              "      <th>bacno</th>\n",
              "      <th>cano</th>\n",
              "      <th>conam</th>\n",
              "      <th>contp</th>\n",
              "      <th>csmcu</th>\n",
              "      <th>etymd</th>\n",
              "      <th>fraud_ind</th>\n",
              "      <th>hcefg</th>\n",
              "      <th>iterm</th>\n",
              "      <th>locdt</th>\n",
              "      <th>loctm</th>\n",
              "      <th>mcc</th>\n",
              "      <th>mchno</th>\n",
              "      <th>scity</th>\n",
              "      <th>stocn</th>\n",
              "      <th>stscd</th>\n",
              "      <th>txkey</th>\n",
              "    </tr>\n",
              "  </thead>\n",
              "  <tbody>\n",
              "    <tr>\n",
              "      <th>count</th>\n",
              "      <td>1.521787e+06</td>\n",
              "      <td>1.521787e+06</td>\n",
              "      <td>1.521787e+06</td>\n",
              "      <td>1.521787e+06</td>\n",
              "      <td>1.521787e+06</td>\n",
              "      <td>1.521787e+06</td>\n",
              "      <td>1.521787e+06</td>\n",
              "      <td>1.521787e+06</td>\n",
              "      <td>1.521787e+06</td>\n",
              "      <td>1.521787e+06</td>\n",
              "      <td>1.521787e+06</td>\n",
              "      <td>1.521787e+06</td>\n",
              "      <td>1.521787e+06</td>\n",
              "      <td>1.521787e+06</td>\n",
              "      <td>1.521787e+06</td>\n",
              "      <td>1.521787e+06</td>\n",
              "      <td>1.521787e+06</td>\n",
              "      <td>1.521787e+06</td>\n",
              "    </tr>\n",
              "    <tr>\n",
              "      <th>mean</th>\n",
              "      <td>6.008003e+03</td>\n",
              "      <td>8.209027e+04</td>\n",
              "      <td>1.089170e+05</td>\n",
              "      <td>6.546267e+02</td>\n",
              "      <td>4.829368e+00</td>\n",
              "      <td>5.383324e+01</td>\n",
              "      <td>4.149114e+00</td>\n",
              "      <td>1.337572e-02</td>\n",
              "      <td>4.749410e+00</td>\n",
              "      <td>4.962784e-02</td>\n",
              "      <td>4.532732e+01</td>\n",
              "      <td>1.462320e+05</td>\n",
              "      <td>2.978089e+02</td>\n",
              "      <td>5.589022e+04</td>\n",
              "      <td>4.755128e+03</td>\n",
              "      <td>9.565116e+01</td>\n",
              "      <td>2.485499e-02</td>\n",
              "      <td>9.711265e+05</td>\n",
              "    </tr>\n",
              "    <tr>\n",
              "      <th>std</th>\n",
              "      <td>1.502420e+03</td>\n",
              "      <td>4.736249e+04</td>\n",
              "      <td>6.090363e+04</td>\n",
              "      <td>4.022017e+02</td>\n",
              "      <td>6.513408e-01</td>\n",
              "      <td>2.072135e+01</td>\n",
              "      <td>2.394259e+00</td>\n",
              "      <td>1.148774e-01</td>\n",
              "      <td>1.111927e+00</td>\n",
              "      <td>3.652493e-01</td>\n",
              "      <td>2.601889e+01</td>\n",
              "      <td>5.210393e+04</td>\n",
              "      <td>7.796778e+01</td>\n",
              "      <td>3.082297e+04</td>\n",
              "      <td>1.979815e+03</td>\n",
              "      <td>1.890027e+01</td>\n",
              "      <td>2.216804e-01</td>\n",
              "      <td>5.641322e+05</td>\n",
              "    </tr>\n",
              "    <tr>\n",
              "      <th>min</th>\n",
              "      <td>0.000000e+00</td>\n",
              "      <td>1.000000e+00</td>\n",
              "      <td>0.000000e+00</td>\n",
              "      <td>0.000000e+00</td>\n",
              "      <td>0.000000e+00</td>\n",
              "      <td>0.000000e+00</td>\n",
              "      <td>0.000000e+00</td>\n",
              "      <td>0.000000e+00</td>\n",
              "      <td>0.000000e+00</td>\n",
              "      <td>0.000000e+00</td>\n",
              "      <td>1.000000e+00</td>\n",
              "      <td>0.000000e+00</td>\n",
              "      <td>0.000000e+00</td>\n",
              "      <td>0.000000e+00</td>\n",
              "      <td>0.000000e+00</td>\n",
              "      <td>0.000000e+00</td>\n",
              "      <td>0.000000e+00</td>\n",
              "      <td>0.000000e+00</td>\n",
              "    </tr>\n",
              "    <tr>\n",
              "      <th>25%</th>\n",
              "      <td>5.982000e+03</td>\n",
              "      <td>4.140300e+04</td>\n",
              "      <td>5.763500e+04</td>\n",
              "      <td>4.370600e+02</td>\n",
              "      <td>5.000000e+00</td>\n",
              "      <td>6.200000e+01</td>\n",
              "      <td>2.000000e+00</td>\n",
              "      <td>0.000000e+00</td>\n",
              "      <td>5.000000e+00</td>\n",
              "      <td>0.000000e+00</td>\n",
              "      <td>2.300000e+01</td>\n",
              "      <td>1.109310e+05</td>\n",
              "      <td>2.500000e+02</td>\n",
              "      <td>3.377400e+04</td>\n",
              "      <td>3.795000e+03</td>\n",
              "      <td>1.020000e+02</td>\n",
              "      <td>0.000000e+00</td>\n",
              "      <td>4.869475e+05</td>\n",
              "    </tr>\n",
              "    <tr>\n",
              "      <th>50%</th>\n",
              "      <td>6.716000e+03</td>\n",
              "      <td>8.191200e+04</td>\n",
              "      <td>1.097850e+05</td>\n",
              "      <td>5.919000e+02</td>\n",
              "      <td>5.000000e+00</td>\n",
              "      <td>6.200000e+01</td>\n",
              "      <td>4.000000e+00</td>\n",
              "      <td>0.000000e+00</td>\n",
              "      <td>5.000000e+00</td>\n",
              "      <td>0.000000e+00</td>\n",
              "      <td>4.500000e+01</td>\n",
              "      <td>1.515220e+05</td>\n",
              "      <td>2.640000e+02</td>\n",
              "      <td>5.936000e+04</td>\n",
              "      <td>5.817000e+03</td>\n",
              "      <td>1.020000e+02</td>\n",
              "      <td>0.000000e+00</td>\n",
              "      <td>9.795800e+05</td>\n",
              "    </tr>\n",
              "    <tr>\n",
              "      <th>75%</th>\n",
              "      <td>6.769000e+03</td>\n",
              "      <td>1.230590e+05</td>\n",
              "      <td>1.618760e+05</td>\n",
              "      <td>8.073400e+02</td>\n",
              "      <td>5.000000e+00</td>\n",
              "      <td>6.200000e+01</td>\n",
              "      <td>5.000000e+00</td>\n",
              "      <td>0.000000e+00</td>\n",
              "      <td>5.000000e+00</td>\n",
              "      <td>0.000000e+00</td>\n",
              "      <td>6.800000e+01</td>\n",
              "      <td>1.858270e+05</td>\n",
              "      <td>3.430000e+02</td>\n",
              "      <td>7.920000e+04</td>\n",
              "      <td>5.817000e+03</td>\n",
              "      <td>1.020000e+02</td>\n",
              "      <td>0.000000e+00</td>\n",
              "      <td>1.455200e+06</td>\n",
              "    </tr>\n",
              "    <tr>\n",
              "      <th>max</th>\n",
              "      <td>6.884000e+03</td>\n",
              "      <td>1.638840e+05</td>\n",
              "      <td>2.133340e+05</td>\n",
              "      <td>7.208770e+03</td>\n",
              "      <td>6.000000e+00</td>\n",
              "      <td>7.500000e+01</td>\n",
              "      <td>1.000000e+01</td>\n",
              "      <td>1.000000e+00</td>\n",
              "      <td>9.000000e+00</td>\n",
              "      <td>8.000000e+00</td>\n",
              "      <td>9.000000e+01</td>\n",
              "      <td>2.359590e+05</td>\n",
              "      <td>4.590000e+02</td>\n",
              "      <td>1.033070e+05</td>\n",
              "      <td>6.671000e+03</td>\n",
              "      <td>1.070000e+02</td>\n",
              "      <td>4.000000e+00</td>\n",
              "      <td>1.958239e+06</td>\n",
              "    </tr>\n",
              "  </tbody>\n",
              "</table>\n",
              "</div>"
            ],
            "text/plain": [
              "              acqic         bacno  ...         stscd         txkey\n",
              "count  1.521787e+06  1.521787e+06  ...  1.521787e+06  1.521787e+06\n",
              "mean   6.008003e+03  8.209027e+04  ...  2.485499e-02  9.711265e+05\n",
              "std    1.502420e+03  4.736249e+04  ...  2.216804e-01  5.641322e+05\n",
              "min    0.000000e+00  1.000000e+00  ...  0.000000e+00  0.000000e+00\n",
              "25%    5.982000e+03  4.140300e+04  ...  0.000000e+00  4.869475e+05\n",
              "50%    6.716000e+03  8.191200e+04  ...  0.000000e+00  9.795800e+05\n",
              "75%    6.769000e+03  1.230590e+05  ...  0.000000e+00  1.455200e+06\n",
              "max    6.884000e+03  1.638840e+05  ...  4.000000e+00  1.958239e+06\n",
              "\n",
              "[8 rows x 18 columns]"
            ]
          },
          "metadata": {
            "tags": []
          }
        },
        {
          "output_type": "stream",
          "text": [
            "\n",
            "\n",
            "Description of Categorical Features\n"
          ],
          "name": "stdout"
        },
        {
          "output_type": "display_data",
          "data": {
            "text/html": [
              "<div>\n",
              "<style scoped>\n",
              "    .dataframe tbody tr th:only-of-type {\n",
              "        vertical-align: middle;\n",
              "    }\n",
              "\n",
              "    .dataframe tbody tr th {\n",
              "        vertical-align: top;\n",
              "    }\n",
              "\n",
              "    .dataframe thead th {\n",
              "        text-align: right;\n",
              "    }\n",
              "</style>\n",
              "<table border=\"1\" class=\"dataframe\">\n",
              "  <thead>\n",
              "    <tr style=\"text-align: right;\">\n",
              "      <th></th>\n",
              "      <th>count</th>\n",
              "      <th>unique</th>\n",
              "      <th>top</th>\n",
              "      <th>freq</th>\n",
              "    </tr>\n",
              "  </thead>\n",
              "  <tbody>\n",
              "    <tr>\n",
              "      <th>ecfg</th>\n",
              "      <td>1521787</td>\n",
              "      <td>2</td>\n",
              "      <td>N</td>\n",
              "      <td>1134512</td>\n",
              "    </tr>\n",
              "    <tr>\n",
              "      <th>flbmk</th>\n",
              "      <td>1509206</td>\n",
              "      <td>2</td>\n",
              "      <td>N</td>\n",
              "      <td>1504133</td>\n",
              "    </tr>\n",
              "    <tr>\n",
              "      <th>flg_3dsmk</th>\n",
              "      <td>1509206</td>\n",
              "      <td>2</td>\n",
              "      <td>N</td>\n",
              "      <td>1444867</td>\n",
              "    </tr>\n",
              "    <tr>\n",
              "      <th>insfg</th>\n",
              "      <td>1521787</td>\n",
              "      <td>2</td>\n",
              "      <td>N</td>\n",
              "      <td>1479475</td>\n",
              "    </tr>\n",
              "    <tr>\n",
              "      <th>ovrlt</th>\n",
              "      <td>1521787</td>\n",
              "      <td>2</td>\n",
              "      <td>N</td>\n",
              "      <td>1501536</td>\n",
              "    </tr>\n",
              "  </tbody>\n",
              "</table>\n",
              "</div>"
            ],
            "text/plain": [
              "             count unique top     freq\n",
              "ecfg       1521787      2   N  1134512\n",
              "flbmk      1509206      2   N  1504133\n",
              "flg_3dsmk  1509206      2   N  1444867\n",
              "insfg      1521787      2   N  1479475\n",
              "ovrlt      1521787      2   N  1501536"
            ]
          },
          "metadata": {
            "tags": []
          }
        },
        {
          "output_type": "stream",
          "text": [
            "\n",
            "\n",
            "Unique class Count of Categorical features\n"
          ],
          "name": "stdout"
        },
        {
          "output_type": "display_data",
          "data": {
            "text/html": [
              "<style  type=\"text/css\" >\n",
              "#T_40f288f6_c112_11eb_a8d8_0242ac1c0002row0_col1,#T_40f288f6_c112_11eb_a8d8_0242ac1c0002row3_col1,#T_40f288f6_c112_11eb_a8d8_0242ac1c0002row4_col1{\n",
              "            width:  10em;\n",
              "             height:  80%;\n",
              "            background:  linear-gradient(90deg,#d65f5f 66.7%, transparent 66.7%);\n",
              "        }#T_40f288f6_c112_11eb_a8d8_0242ac1c0002row1_col1,#T_40f288f6_c112_11eb_a8d8_0242ac1c0002row2_col1{\n",
              "            width:  10em;\n",
              "             height:  80%;\n",
              "            background:  linear-gradient(90deg,#d65f5f 100.0%, transparent 100.0%);\n",
              "        }</style><table id=\"T_40f288f6_c112_11eb_a8d8_0242ac1c0002\" ><thead>    <tr>        <th class=\"blank level0\" ></th>        <th class=\"col_heading level0 col0\" >Feature</th>        <th class=\"col_heading level0 col1\" >Unique Count</th>    </tr></thead><tbody>\n",
              "                <tr>\n",
              "                        <th id=\"T_40f288f6_c112_11eb_a8d8_0242ac1c0002level0_row0\" class=\"row_heading level0 row0\" >0</th>\n",
              "                        <td id=\"T_40f288f6_c112_11eb_a8d8_0242ac1c0002row0_col0\" class=\"data row0 col0\" >ecfg</td>\n",
              "                        <td id=\"T_40f288f6_c112_11eb_a8d8_0242ac1c0002row0_col1\" class=\"data row0 col1\" >2</td>\n",
              "            </tr>\n",
              "            <tr>\n",
              "                        <th id=\"T_40f288f6_c112_11eb_a8d8_0242ac1c0002level0_row1\" class=\"row_heading level0 row1\" >1</th>\n",
              "                        <td id=\"T_40f288f6_c112_11eb_a8d8_0242ac1c0002row1_col0\" class=\"data row1 col0\" >flbmk</td>\n",
              "                        <td id=\"T_40f288f6_c112_11eb_a8d8_0242ac1c0002row1_col1\" class=\"data row1 col1\" >3</td>\n",
              "            </tr>\n",
              "            <tr>\n",
              "                        <th id=\"T_40f288f6_c112_11eb_a8d8_0242ac1c0002level0_row2\" class=\"row_heading level0 row2\" >2</th>\n",
              "                        <td id=\"T_40f288f6_c112_11eb_a8d8_0242ac1c0002row2_col0\" class=\"data row2 col0\" >flg_3dsmk</td>\n",
              "                        <td id=\"T_40f288f6_c112_11eb_a8d8_0242ac1c0002row2_col1\" class=\"data row2 col1\" >3</td>\n",
              "            </tr>\n",
              "            <tr>\n",
              "                        <th id=\"T_40f288f6_c112_11eb_a8d8_0242ac1c0002level0_row3\" class=\"row_heading level0 row3\" >3</th>\n",
              "                        <td id=\"T_40f288f6_c112_11eb_a8d8_0242ac1c0002row3_col0\" class=\"data row3 col0\" >insfg</td>\n",
              "                        <td id=\"T_40f288f6_c112_11eb_a8d8_0242ac1c0002row3_col1\" class=\"data row3 col1\" >2</td>\n",
              "            </tr>\n",
              "            <tr>\n",
              "                        <th id=\"T_40f288f6_c112_11eb_a8d8_0242ac1c0002level0_row4\" class=\"row_heading level0 row4\" >4</th>\n",
              "                        <td id=\"T_40f288f6_c112_11eb_a8d8_0242ac1c0002row4_col0\" class=\"data row4 col0\" >ovrlt</td>\n",
              "                        <td id=\"T_40f288f6_c112_11eb_a8d8_0242ac1c0002row4_col1\" class=\"data row4 col1\" >2</td>\n",
              "            </tr>\n",
              "    </tbody></table>"
            ],
            "text/plain": [
              "<pandas.io.formats.style.Styler at 0x7f1cf742c4d0>"
            ]
          },
          "metadata": {
            "tags": []
          }
        },
        {
          "output_type": "stream",
          "text": [
            "\n",
            "\n",
            "Missing Values in Data\n"
          ],
          "name": "stdout"
        },
        {
          "output_type": "display_data",
          "data": {
            "text/html": [
              "<div>\n",
              "<style scoped>\n",
              "    .dataframe tbody tr th:only-of-type {\n",
              "        vertical-align: middle;\n",
              "    }\n",
              "\n",
              "    .dataframe tbody tr th {\n",
              "        vertical-align: top;\n",
              "    }\n",
              "\n",
              "    .dataframe thead th {\n",
              "        text-align: right;\n",
              "    }\n",
              "</style>\n",
              "<table border=\"1\" class=\"dataframe\">\n",
              "  <thead>\n",
              "    <tr style=\"text-align: right;\">\n",
              "      <th></th>\n",
              "      <th>features</th>\n",
              "      <th>missing_counts</th>\n",
              "      <th>missing_percent</th>\n",
              "    </tr>\n",
              "  </thead>\n",
              "  <tbody>\n",
              "    <tr>\n",
              "      <th>0</th>\n",
              "      <td>acqic</td>\n",
              "      <td>0</td>\n",
              "      <td>0.0</td>\n",
              "    </tr>\n",
              "    <tr>\n",
              "      <th>1</th>\n",
              "      <td>bacno</td>\n",
              "      <td>0</td>\n",
              "      <td>0.0</td>\n",
              "    </tr>\n",
              "    <tr>\n",
              "      <th>2</th>\n",
              "      <td>cano</td>\n",
              "      <td>0</td>\n",
              "      <td>0.0</td>\n",
              "    </tr>\n",
              "    <tr>\n",
              "      <th>3</th>\n",
              "      <td>conam</td>\n",
              "      <td>0</td>\n",
              "      <td>0.0</td>\n",
              "    </tr>\n",
              "    <tr>\n",
              "      <th>4</th>\n",
              "      <td>contp</td>\n",
              "      <td>0</td>\n",
              "      <td>0.0</td>\n",
              "    </tr>\n",
              "    <tr>\n",
              "      <th>5</th>\n",
              "      <td>csmcu</td>\n",
              "      <td>0</td>\n",
              "      <td>0.0</td>\n",
              "    </tr>\n",
              "    <tr>\n",
              "      <th>6</th>\n",
              "      <td>ecfg</td>\n",
              "      <td>0</td>\n",
              "      <td>0.0</td>\n",
              "    </tr>\n",
              "    <tr>\n",
              "      <th>7</th>\n",
              "      <td>etymd</td>\n",
              "      <td>0</td>\n",
              "      <td>0.0</td>\n",
              "    </tr>\n",
              "    <tr>\n",
              "      <th>8</th>\n",
              "      <td>flbmk</td>\n",
              "      <td>12581</td>\n",
              "      <td>0.8</td>\n",
              "    </tr>\n",
              "    <tr>\n",
              "      <th>9</th>\n",
              "      <td>flg_3dsmk</td>\n",
              "      <td>12581</td>\n",
              "      <td>0.8</td>\n",
              "    </tr>\n",
              "    <tr>\n",
              "      <th>10</th>\n",
              "      <td>fraud_ind</td>\n",
              "      <td>0</td>\n",
              "      <td>0.0</td>\n",
              "    </tr>\n",
              "    <tr>\n",
              "      <th>11</th>\n",
              "      <td>hcefg</td>\n",
              "      <td>0</td>\n",
              "      <td>0.0</td>\n",
              "    </tr>\n",
              "    <tr>\n",
              "      <th>12</th>\n",
              "      <td>insfg</td>\n",
              "      <td>0</td>\n",
              "      <td>0.0</td>\n",
              "    </tr>\n",
              "    <tr>\n",
              "      <th>13</th>\n",
              "      <td>iterm</td>\n",
              "      <td>0</td>\n",
              "      <td>0.0</td>\n",
              "    </tr>\n",
              "    <tr>\n",
              "      <th>14</th>\n",
              "      <td>locdt</td>\n",
              "      <td>0</td>\n",
              "      <td>0.0</td>\n",
              "    </tr>\n",
              "    <tr>\n",
              "      <th>15</th>\n",
              "      <td>loctm</td>\n",
              "      <td>0</td>\n",
              "      <td>0.0</td>\n",
              "    </tr>\n",
              "    <tr>\n",
              "      <th>16</th>\n",
              "      <td>mcc</td>\n",
              "      <td>0</td>\n",
              "      <td>0.0</td>\n",
              "    </tr>\n",
              "    <tr>\n",
              "      <th>17</th>\n",
              "      <td>mchno</td>\n",
              "      <td>0</td>\n",
              "      <td>0.0</td>\n",
              "    </tr>\n",
              "    <tr>\n",
              "      <th>18</th>\n",
              "      <td>ovrlt</td>\n",
              "      <td>0</td>\n",
              "      <td>0.0</td>\n",
              "    </tr>\n",
              "    <tr>\n",
              "      <th>19</th>\n",
              "      <td>scity</td>\n",
              "      <td>0</td>\n",
              "      <td>0.0</td>\n",
              "    </tr>\n",
              "    <tr>\n",
              "      <th>20</th>\n",
              "      <td>stocn</td>\n",
              "      <td>0</td>\n",
              "      <td>0.0</td>\n",
              "    </tr>\n",
              "    <tr>\n",
              "      <th>21</th>\n",
              "      <td>stscd</td>\n",
              "      <td>0</td>\n",
              "      <td>0.0</td>\n",
              "    </tr>\n",
              "    <tr>\n",
              "      <th>22</th>\n",
              "      <td>txkey</td>\n",
              "      <td>0</td>\n",
              "      <td>0.0</td>\n",
              "    </tr>\n",
              "  </tbody>\n",
              "</table>\n",
              "</div>"
            ],
            "text/plain": [
              "     features  missing_counts  missing_percent\n",
              "0       acqic               0              0.0\n",
              "1       bacno               0              0.0\n",
              "2        cano               0              0.0\n",
              "3       conam               0              0.0\n",
              "4       contp               0              0.0\n",
              "5       csmcu               0              0.0\n",
              "6        ecfg               0              0.0\n",
              "7       etymd               0              0.0\n",
              "8       flbmk           12581              0.8\n",
              "9   flg_3dsmk           12581              0.8\n",
              "10  fraud_ind               0              0.0\n",
              "11      hcefg               0              0.0\n",
              "12      insfg               0              0.0\n",
              "13      iterm               0              0.0\n",
              "14      locdt               0              0.0\n",
              "15      loctm               0              0.0\n",
              "16        mcc               0              0.0\n",
              "17      mchno               0              0.0\n",
              "18      ovrlt               0              0.0\n",
              "19      scity               0              0.0\n",
              "20      stocn               0              0.0\n",
              "21      stscd               0              0.0\n",
              "22      txkey               0              0.0"
            ]
          },
          "metadata": {
            "tags": []
          }
        }
      ]
    },
    {
      "cell_type": "markdown",
      "metadata": {
        "id": "0NkBr4-0Cd_p"
      },
      "source": [
        "### Data Cleaning"
      ],
      "id": "0NkBr4-0Cd_p"
    },
    {
      "cell_type": "markdown",
      "metadata": {
        "id": "trying-alfred"
      },
      "source": [
        "#### Filling missing value\n"
      ],
      "id": "trying-alfred"
    },
    {
      "cell_type": "code",
      "metadata": {
        "id": "streaming-geneva"
      },
      "source": [
        "# fill with most frequent\n",
        "df_train['flbmk'] = df_train['flbmk'].fillna('N')\n",
        "df_train['flg_3dsmk'] = df_train['flg_3dsmk'].fillna('N')\n"
      ],
      "id": "streaming-geneva",
      "execution_count": null,
      "outputs": []
    },
    {
      "cell_type": "markdown",
      "metadata": {
        "id": "gross-proxy"
      },
      "source": [
        "#### Handle different data type encoding\n"
      ],
      "id": "gross-proxy"
    },
    {
      "cell_type": "code",
      "metadata": {
        "id": "specified-border"
      },
      "source": [
        "cat_feats = ds.structdata.get_cat_feats(df_train)\n",
        "num_feats = ds.structdata.get_num_feats(df_train)\n",
        "get_unique_counts = ds.structdata.get_unique_counts(df_train)\n",
        "all_feats = df_train.keys()\n"
      ],
      "id": "specified-border",
      "execution_count": null,
      "outputs": []
    },
    {
      "cell_type": "code",
      "metadata": {
        "id": "vital-documentation"
      },
      "source": [
        "# label encoding catogorical feature\n",
        "le = LabelEncoder()\n",
        "for feat in cat_feats:\n",
        "    df_train[feat] = le.fit_transform(df_train[feat].astype(str))\n",
        "\n",
        "# one hot feature\n",
        "\n",
        "# 'contp': 交易類別  \n",
        "# 'flbmk': fallback交易註記 \n",
        "# 'ecfg': 網路交易註記  \n",
        "# 'flg_3dsmk': 3DS交易驗證註記\n",
        "# 'hcefg': 支付型態\n",
        "# 'insfg': 分期交易註記\n",
        "# 'ovrlt': 超額交易註記\n",
        "# 'stscd': 狀態碼\n",
        "# 'iterm': 分期期數\n",
        "onehot_feature = [\n",
        "    'contp', 'flbmk', 'ecfg', 'flg_3dsmk', 'hcefg', 'insfg', 'ovrlt', \n",
        "    'stscd', 'iterm'\n",
        "]\n",
        "\n",
        "# frequency feature\n",
        "\n",
        "# 'csmcu': 消費地幣別\n",
        "# 'etymd': 交易型態（網路/實體）\n",
        "# 'mcc': 特店類別\n",
        "# 'mchno': 特店名稱\n",
        "# 'acqic': 收單行代碼\n",
        "# 'bacno': 歸戶帳號\n",
        "# 'cano': 卡號\n",
        "# 'scity': 消費地城市\n",
        "# 'stocn': 消費地國別\n",
        "freq_feature = [\n",
        "    'csmcu', 'etymd', 'mcc', 'mchno', 'acqic', 'bacno', 'cano', 'scity',\n",
        "    'stocn'\n",
        "]\n",
        "\n",
        "for k in freq_feature:\n",
        "    df_train[k + '_f'] = df_train[k].map(df_train[k].value_counts(normalize=True))\n",
        "\n",
        "for k in onehot_feature:\n",
        "    add_dumy = pd.get_dummies(df_train[k])\n",
        "    \n",
        "    add_dumy.columns = [k + \"_{}\".format(x) for x in add_dumy.columns]\n",
        "    if add_dumy.shape[0] < 2:\n",
        "        add_dumy = add_dumy.iloc[:, 0]\n",
        "    df_train = pd.concat([df_train, add_dumy], axis=1)\n",
        "\n"
      ],
      "id": "vital-documentation",
      "execution_count": null,
      "outputs": []
    },
    {
      "cell_type": "code",
      "metadata": {
        "id": "compound-oxford"
      },
      "source": [
        "# filter given feature correlated to target feature, use threshold to set it to 0 and 1 (1 means high chance of fraud)\n",
        "def identify_high_risk_fraud(df, feat, threshold):\n",
        "    Top_array = df_train[f'{feat}'].value_counts().values[:threshold]\n",
        "    df_train[f'{feat}_high_risk_fraud'] = df_train[f'{feat}'].apply(lambda x : 0 if x not in Top_array else x)\n",
        "                                                     "
      ],
      "id": "compound-oxford",
      "execution_count": null,
      "outputs": []
    },
    {
      "cell_type": "code",
      "metadata": {
        "id": "closing-harvard"
      },
      "source": [
        "for feat in freq_feature:\n",
        "    identify_high_risk_fraud(df_train, feat , 15)\n"
      ],
      "id": "closing-harvard",
      "execution_count": null,
      "outputs": []
    },
    {
      "cell_type": "markdown",
      "metadata": {
        "id": "consecutive-brazilian"
      },
      "source": [
        "#### Individual feature prepocess\n",
        "\n"
      ],
      "id": "consecutive-brazilian"
    },
    {
      "cell_type": "markdown",
      "metadata": {
        "id": "fantastic-armor"
      },
      "source": [
        "##### acqic 收單行代碼\n"
      ],
      "id": "fantastic-armor"
    },
    {
      "cell_type": "code",
      "metadata": {
        "colab": {
          "base_uri": "https://localhost:8080/",
          "height": 419
        },
        "id": "complicated-manual",
        "outputId": "a252e302-c71f-4314-b3f5-440aa4579872"
      },
      "source": [
        "Df = df_train.groupby(['acqic'])['fraud_ind'].agg(['mean', 'count']).reset_index().sort_values('count', ascending = False)\n",
        "Df\n"
      ],
      "id": "complicated-manual",
      "execution_count": null,
      "outputs": [
        {
          "output_type": "execute_result",
          "data": {
            "text/html": [
              "<div>\n",
              "<style scoped>\n",
              "    .dataframe tbody tr th:only-of-type {\n",
              "        vertical-align: middle;\n",
              "    }\n",
              "\n",
              "    .dataframe tbody tr th {\n",
              "        vertical-align: top;\n",
              "    }\n",
              "\n",
              "    .dataframe thead th {\n",
              "        text-align: right;\n",
              "    }\n",
              "</style>\n",
              "<table border=\"1\" class=\"dataframe\">\n",
              "  <thead>\n",
              "    <tr style=\"text-align: right;\">\n",
              "      <th></th>\n",
              "      <th>acqic</th>\n",
              "      <th>mean</th>\n",
              "      <th>count</th>\n",
              "    </tr>\n",
              "  </thead>\n",
              "  <tbody>\n",
              "    <tr>\n",
              "      <th>5945</th>\n",
              "      <td>6769</td>\n",
              "      <td>0.001040</td>\n",
              "      <td>250889</td>\n",
              "    </tr>\n",
              "    <tr>\n",
              "      <th>5895</th>\n",
              "      <td>6716</td>\n",
              "      <td>0.000695</td>\n",
              "      <td>201407</td>\n",
              "    </tr>\n",
              "    <tr>\n",
              "      <th>5226</th>\n",
              "      <td>5975</td>\n",
              "      <td>0.000376</td>\n",
              "      <td>124951</td>\n",
              "    </tr>\n",
              "    <tr>\n",
              "      <th>6047</th>\n",
              "      <td>6881</td>\n",
              "      <td>0.001741</td>\n",
              "      <td>99348</td>\n",
              "    </tr>\n",
              "    <tr>\n",
              "      <th>5411</th>\n",
              "      <td>6189</td>\n",
              "      <td>0.000689</td>\n",
              "      <td>91434</td>\n",
              "    </tr>\n",
              "    <tr>\n",
              "      <th>...</th>\n",
              "      <td>...</td>\n",
              "      <td>...</td>\n",
              "      <td>...</td>\n",
              "    </tr>\n",
              "    <tr>\n",
              "      <th>4604</th>\n",
              "      <td>5285</td>\n",
              "      <td>0.000000</td>\n",
              "      <td>1</td>\n",
              "    </tr>\n",
              "    <tr>\n",
              "      <th>4603</th>\n",
              "      <td>5284</td>\n",
              "      <td>0.000000</td>\n",
              "      <td>1</td>\n",
              "    </tr>\n",
              "    <tr>\n",
              "      <th>4602</th>\n",
              "      <td>5283</td>\n",
              "      <td>0.000000</td>\n",
              "      <td>1</td>\n",
              "    </tr>\n",
              "    <tr>\n",
              "      <th>1234</th>\n",
              "      <td>1371</td>\n",
              "      <td>0.000000</td>\n",
              "      <td>1</td>\n",
              "    </tr>\n",
              "    <tr>\n",
              "      <th>3025</th>\n",
              "      <td>3471</td>\n",
              "      <td>0.000000</td>\n",
              "      <td>1</td>\n",
              "    </tr>\n",
              "  </tbody>\n",
              "</table>\n",
              "<p>6051 rows × 3 columns</p>\n",
              "</div>"
            ],
            "text/plain": [
              "      acqic      mean   count\n",
              "5945   6769  0.001040  250889\n",
              "5895   6716  0.000695  201407\n",
              "5226   5975  0.000376  124951\n",
              "6047   6881  0.001741   99348\n",
              "5411   6189  0.000689   91434\n",
              "...     ...       ...     ...\n",
              "4604   5285  0.000000       1\n",
              "4603   5284  0.000000       1\n",
              "4602   5283  0.000000       1\n",
              "1234   1371  0.000000       1\n",
              "3025   3471  0.000000       1\n",
              "\n",
              "[6051 rows x 3 columns]"
            ]
          },
          "metadata": {
            "tags": []
          },
          "execution_count": 19
        }
      ]
    },
    {
      "cell_type": "markdown",
      "metadata": {
        "id": "unavailable-pointer"
      },
      "source": [
        "##### bacno 歸戶帳號\n"
      ],
      "id": "unavailable-pointer"
    },
    {
      "cell_type": "code",
      "metadata": {
        "colab": {
          "base_uri": "https://localhost:8080/",
          "height": 419
        },
        "id": "preliminary-flush",
        "outputId": "1caf6524-a961-4cc3-fa5a-d0e26e7fa051"
      },
      "source": [
        "Df = df_train.groupby(['bacno'])['fraud_ind'].agg(['mean', 'count']).reset_index().sort_values('count', ascending = False)\n",
        "Df\n"
      ],
      "id": "preliminary-flush",
      "execution_count": null,
      "outputs": [
        {
          "output_type": "execute_result",
          "data": {
            "text/html": [
              "<div>\n",
              "<style scoped>\n",
              "    .dataframe tbody tr th:only-of-type {\n",
              "        vertical-align: middle;\n",
              "    }\n",
              "\n",
              "    .dataframe tbody tr th {\n",
              "        vertical-align: top;\n",
              "    }\n",
              "\n",
              "    .dataframe thead th {\n",
              "        text-align: right;\n",
              "    }\n",
              "</style>\n",
              "<table border=\"1\" class=\"dataframe\">\n",
              "  <thead>\n",
              "    <tr style=\"text-align: right;\">\n",
              "      <th></th>\n",
              "      <th>bacno</th>\n",
              "      <th>mean</th>\n",
              "      <th>count</th>\n",
              "    </tr>\n",
              "  </thead>\n",
              "  <tbody>\n",
              "    <tr>\n",
              "      <th>86417</th>\n",
              "      <td>148859</td>\n",
              "      <td>0.0</td>\n",
              "      <td>1117</td>\n",
              "    </tr>\n",
              "    <tr>\n",
              "      <th>90097</th>\n",
              "      <td>155157</td>\n",
              "      <td>0.0</td>\n",
              "      <td>938</td>\n",
              "    </tr>\n",
              "    <tr>\n",
              "      <th>60000</th>\n",
              "      <td>103279</td>\n",
              "      <td>0.0</td>\n",
              "      <td>747</td>\n",
              "    </tr>\n",
              "    <tr>\n",
              "      <th>53019</th>\n",
              "      <td>91313</td>\n",
              "      <td>0.0</td>\n",
              "      <td>681</td>\n",
              "    </tr>\n",
              "    <tr>\n",
              "      <th>86727</th>\n",
              "      <td>149363</td>\n",
              "      <td>0.0</td>\n",
              "      <td>593</td>\n",
              "    </tr>\n",
              "    <tr>\n",
              "      <th>...</th>\n",
              "      <td>...</td>\n",
              "      <td>...</td>\n",
              "      <td>...</td>\n",
              "    </tr>\n",
              "    <tr>\n",
              "      <th>87662</th>\n",
              "      <td>151021</td>\n",
              "      <td>0.0</td>\n",
              "      <td>1</td>\n",
              "    </tr>\n",
              "    <tr>\n",
              "      <th>74079</th>\n",
              "      <td>127607</td>\n",
              "      <td>0.0</td>\n",
              "      <td>1</td>\n",
              "    </tr>\n",
              "    <tr>\n",
              "      <th>39616</th>\n",
              "      <td>68356</td>\n",
              "      <td>0.0</td>\n",
              "      <td>1</td>\n",
              "    </tr>\n",
              "    <tr>\n",
              "      <th>54426</th>\n",
              "      <td>93694</td>\n",
              "      <td>0.0</td>\n",
              "      <td>1</td>\n",
              "    </tr>\n",
              "    <tr>\n",
              "      <th>78324</th>\n",
              "      <td>134893</td>\n",
              "      <td>0.0</td>\n",
              "      <td>1</td>\n",
              "    </tr>\n",
              "  </tbody>\n",
              "</table>\n",
              "<p>95214 rows × 3 columns</p>\n",
              "</div>"
            ],
            "text/plain": [
              "        bacno  mean  count\n",
              "86417  148859   0.0   1117\n",
              "90097  155157   0.0    938\n",
              "60000  103279   0.0    747\n",
              "53019   91313   0.0    681\n",
              "86727  149363   0.0    593\n",
              "...       ...   ...    ...\n",
              "87662  151021   0.0      1\n",
              "74079  127607   0.0      1\n",
              "39616   68356   0.0      1\n",
              "54426   93694   0.0      1\n",
              "78324  134893   0.0      1\n",
              "\n",
              "[95214 rows x 3 columns]"
            ]
          },
          "metadata": {
            "tags": []
          },
          "execution_count": 20
        }
      ]
    },
    {
      "cell_type": "markdown",
      "metadata": {
        "id": "together-transformation"
      },
      "source": [
        "##### locdf & loctm 授權日期與時間\n"
      ],
      "id": "together-transformation"
    },
    {
      "cell_type": "code",
      "metadata": {
        "id": "detected-seven"
      },
      "source": [
        "def Str_turn_time(str1):\n",
        "    str1 = str(int(str1))\n",
        "    if len(str1) < 6:\n",
        "        str1 = (6 - len(str1)) * '0' + str1\n",
        "    return str1\n",
        "\n",
        "\n",
        "df_train['Hour'] = df_train['loctm'].apply(lambda x :Str_turn_time(x)[:2]).astype(int)\n",
        "df_train['Morning'] = 0\n",
        "df_train.loc[(df_train['Hour'].astype('int') > 7) & (df_train['Hour'].astype('int') < 22), 'Morning'] = 1\n",
        "\n",
        "        "
      ],
      "id": "detected-seven",
      "execution_count": null,
      "outputs": []
    },
    {
      "cell_type": "code",
      "metadata": {
        "id": "special-queen"
      },
      "source": [
        "df_train.loc[df_train['locdt'] < 121, 'Month'] = 4\n",
        "df_train.loc[(df_train['locdt']) < 91, 'Month']  = 3\n",
        "df_train.loc[(df_train['locdt']) < 61, 'Month']  = 2\n",
        "df_train.loc[(df_train['locdt']) < 31, 'Month'] = 1\n",
        "\n",
        "df_train['Week'] = df_train['locdt'].apply(lambda x : x%7)"
      ],
      "id": "special-queen",
      "execution_count": null,
      "outputs": []
    },
    {
      "cell_type": "code",
      "metadata": {
        "id": "solar-municipality"
      },
      "source": [
        "identify_high_risk_fraud(df_train, 'Hour' , 15)\n",
        "identify_high_risk_fraud(df_train, 'Month' , 15)\n",
        "identify_high_risk_fraud(df_train, 'Week' , 15)\n"
      ],
      "id": "solar-municipality",
      "execution_count": null,
      "outputs": []
    },
    {
      "cell_type": "markdown",
      "metadata": {
        "id": "functioning-doctrine"
      },
      "source": [
        "##### conam 交易金額\n",
        "\n"
      ],
      "id": "functioning-doctrine"
    },
    {
      "cell_type": "code",
      "metadata": {
        "colab": {
          "base_uri": "https://localhost:8080/",
          "height": 419
        },
        "id": "understanding-shipping",
        "outputId": "4155ce32-f954-480d-ffb8-c96780a1fced"
      },
      "source": [
        "Df = df_train.groupby(['conam'])['fraud_ind'].agg(['mean']).reset_index().sort_values('mean', ascending = True)\n",
        "Df\n"
      ],
      "id": "understanding-shipping",
      "execution_count": null,
      "outputs": [
        {
          "output_type": "execute_result",
          "data": {
            "text/html": [
              "<div>\n",
              "<style scoped>\n",
              "    .dataframe tbody tr th:only-of-type {\n",
              "        vertical-align: middle;\n",
              "    }\n",
              "\n",
              "    .dataframe tbody tr th {\n",
              "        vertical-align: top;\n",
              "    }\n",
              "\n",
              "    .dataframe thead th {\n",
              "        text-align: right;\n",
              "    }\n",
              "</style>\n",
              "<table border=\"1\" class=\"dataframe\">\n",
              "  <thead>\n",
              "    <tr style=\"text-align: right;\">\n",
              "      <th></th>\n",
              "      <th>conam</th>\n",
              "      <th>mean</th>\n",
              "    </tr>\n",
              "  </thead>\n",
              "  <tbody>\n",
              "    <tr>\n",
              "      <th>36480</th>\n",
              "      <td>1101.839966</td>\n",
              "      <td>0.0</td>\n",
              "    </tr>\n",
              "    <tr>\n",
              "      <th>47891</th>\n",
              "      <td>1476.729980</td>\n",
              "      <td>0.0</td>\n",
              "    </tr>\n",
              "    <tr>\n",
              "      <th>47892</th>\n",
              "      <td>1476.770020</td>\n",
              "      <td>0.0</td>\n",
              "    </tr>\n",
              "    <tr>\n",
              "      <th>47893</th>\n",
              "      <td>1476.819946</td>\n",
              "      <td>0.0</td>\n",
              "    </tr>\n",
              "    <tr>\n",
              "      <th>47894</th>\n",
              "      <td>1476.859985</td>\n",
              "      <td>0.0</td>\n",
              "    </tr>\n",
              "    <tr>\n",
              "      <th>...</th>\n",
              "      <td>...</td>\n",
              "      <td>...</td>\n",
              "    </tr>\n",
              "    <tr>\n",
              "      <th>69378</th>\n",
              "      <td>2388.560059</td>\n",
              "      <td>1.0</td>\n",
              "    </tr>\n",
              "    <tr>\n",
              "      <th>25880</th>\n",
              "      <td>819.710022</td>\n",
              "      <td>1.0</td>\n",
              "    </tr>\n",
              "    <tr>\n",
              "      <th>11252</th>\n",
              "      <td>463.230011</td>\n",
              "      <td>1.0</td>\n",
              "    </tr>\n",
              "    <tr>\n",
              "      <th>25862</th>\n",
              "      <td>819.309998</td>\n",
              "      <td>1.0</td>\n",
              "    </tr>\n",
              "    <tr>\n",
              "      <th>62659</th>\n",
              "      <td>1980.810059</td>\n",
              "      <td>1.0</td>\n",
              "    </tr>\n",
              "  </tbody>\n",
              "</table>\n",
              "<p>72961 rows × 2 columns</p>\n",
              "</div>"
            ],
            "text/plain": [
              "             conam  mean\n",
              "36480  1101.839966   0.0\n",
              "47891  1476.729980   0.0\n",
              "47892  1476.770020   0.0\n",
              "47893  1476.819946   0.0\n",
              "47894  1476.859985   0.0\n",
              "...            ...   ...\n",
              "69378  2388.560059   1.0\n",
              "25880   819.710022   1.0\n",
              "11252   463.230011   1.0\n",
              "25862   819.309998   1.0\n",
              "62659  1980.810059   1.0\n",
              "\n",
              "[72961 rows x 2 columns]"
            ]
          },
          "metadata": {
            "tags": []
          },
          "execution_count": 24
        }
      ]
    },
    {
      "cell_type": "markdown",
      "metadata": {
        "id": "complex-irrigation"
      },
      "source": [
        "##### txkey 交易唯一序號\n",
        "\n"
      ],
      "id": "complex-irrigation"
    },
    {
      "cell_type": "code",
      "metadata": {
        "id": "bright-james"
      },
      "source": [
        "df_train['Count_txkey_gb_bacno'] =  df_train.groupby(['bacno'])['txkey'].transform('count')\n",
        "\n",
        "\n",
        "#Calculate count of transaction in the same account and in the same card\n",
        "df_train['Count_txkey_gb_bacno'] =  df_train.groupby(['bacno', 'cano'])['txkey'].transform('count')\n",
        "\n",
        "#Calculate count of transaction in the same account in the same one hour\n",
        "df_train['Count_txkey_gb_bacno_locdt_Hour'] =  df_train.groupby(['bacno', 'locdt', 'Hour'])['txkey'].transform('count')\n",
        "\n",
        "        "
      ],
      "id": "bright-james",
      "execution_count": null,
      "outputs": []
    },
    {
      "cell_type": "markdown",
      "metadata": {
        "id": "lovely-scholar"
      },
      "source": [
        "##### scity & stocn 消費城市&國別\n",
        "\n",
        "\n"
      ],
      "id": "lovely-scholar"
    },
    {
      "cell_type": "code",
      "metadata": {
        "id": "divided-package"
      },
      "source": [
        "new_col = 'scity'+'_'+'stocn'\n",
        "col = 'scity'\n",
        "col2 = 'stocn'\n",
        "\n",
        "\n",
        "df_train[new_col] = df_train[col].astype(str)+'_'+df_train[col2].astype(str)\n",
        "df_train[new_col] = df_train[col].astype(str)+'_'+df_train[col2].astype(str) \n",
        "\n",
        "le = LabelEncoder()\n",
        "df_train[new_col] = le.fit_transform(df_train[new_col].astype(str))\n",
        "    \n",
        "    "
      ],
      "id": "divided-package",
      "execution_count": null,
      "outputs": []
    },
    {
      "cell_type": "markdown",
      "metadata": {
        "id": "elementary-navigation"
      },
      "source": [
        "#### numerical feature -> StandardScaler\n",
        "After processing all the feature, scale the numerical feature, so that the model can fit the training data better."
      ],
      "id": "elementary-navigation"
    },
    {
      "cell_type": "code",
      "metadata": {
        "id": "aboriginal-hamburg"
      },
      "source": [
        "num_feats = ['acqic','bacno','cano','conam', 'csmcu','hcefg','iterm','locdt','loctm','mcc',\n",
        " 'mchno','scity','stocn', 'stscd','txkey','Hour','Morning','Month','Week']"
      ],
      "id": "aboriginal-hamburg",
      "execution_count": null,
      "outputs": []
    },
    {
      "cell_type": "code",
      "metadata": {
        "id": "innocent-young"
      },
      "source": [
        "scaler = StandardScaler()\n",
        "df_train[num_feats] = scaler.fit_transform(df_train[num_feats])\n"
      ],
      "id": "innocent-young",
      "execution_count": null,
      "outputs": []
    },
    {
      "cell_type": "code",
      "metadata": {
        "colab": {
          "base_uri": "https://localhost:8080/"
        },
        "id": "least-grace",
        "outputId": "d7c6723d-8425-4fb1-8ac4-406f3479546c"
      },
      "source": [
        "reduce_mem(df_train)"
      ],
      "id": "least-grace",
      "execution_count": null,
      "outputs": [
        {
          "output_type": "stream",
          "text": [
            "Memory usage of properties dataframe is : 619.7006006240845  MB\n",
            "___MEMORY USAGE AFTER COMPLETION:___\n",
            "Memory usage is:  264.13475227355957  MB\n",
            "This is  42.62296212195959 % of the initial size\n"
          ],
          "name": "stdout"
        }
      ]
    },
    {
      "cell_type": "markdown",
      "metadata": {
        "id": "intense-transfer"
      },
      "source": [
        "### Feature selection\n"
      ],
      "id": "intense-transfer"
    },
    {
      "cell_type": "code",
      "metadata": {
        "colab": {
          "base_uri": "https://localhost:8080/",
          "height": 345
        },
        "id": "intermediate-cement",
        "outputId": "42aff54d-8662-4c2e-d61d-eae5d24a576b"
      },
      "source": [
        "X = df_train.drop('fraud_ind', axis=1)\n",
        "y = df_train['fraud_ind']\n",
        "\n",
        "X_train, X_test, y_train, y_test = train_test_split(X, y, test_size=0.25, random_state=0, stratify=y)\n",
        "X_train = X_train.values\n",
        "X_test = X_test.values\n",
        "y_train = y_train.values\n",
        "y_test = y_test.values\n",
        "\n",
        "# Since this data set is imbalance, use under sampling, for better training result of models\n",
        "X_nearmiss, y_nearmiss = NearMiss(n_jobs=-1).fit_resample(X_train, y_train)\n"
      ],
      "id": "intermediate-cement",
      "execution_count": null,
      "outputs": [
        {
          "output_type": "error",
          "ename": "KeyboardInterrupt",
          "evalue": "ignored",
          "traceback": [
            "\u001b[0;31m---------------------------------------------------------------------------\u001b[0m",
            "\u001b[0;31mKeyboardInterrupt\u001b[0m                         Traceback (most recent call last)",
            "\u001b[0;32m<ipython-input-30-cf7ace651c00>\u001b[0m in \u001b[0;36m<module>\u001b[0;34m()\u001b[0m\n\u001b[1;32m      9\u001b[0m \u001b[0;34m\u001b[0m\u001b[0m\n\u001b[1;32m     10\u001b[0m \u001b[0;31m# Since this data set is imbalance, use under sampling, for better training result of models\u001b[0m\u001b[0;34m\u001b[0m\u001b[0;34m\u001b[0m\u001b[0;34m\u001b[0m\u001b[0m\n\u001b[0;32m---> 11\u001b[0;31m \u001b[0mX_nearmiss\u001b[0m\u001b[0;34m,\u001b[0m \u001b[0my_nearmiss\u001b[0m \u001b[0;34m=\u001b[0m \u001b[0mNearMiss\u001b[0m\u001b[0;34m(\u001b[0m\u001b[0mn_jobs\u001b[0m\u001b[0;34m=\u001b[0m\u001b[0;34m-\u001b[0m\u001b[0;36m1\u001b[0m\u001b[0;34m)\u001b[0m\u001b[0;34m.\u001b[0m\u001b[0mfit_resample\u001b[0m\u001b[0;34m(\u001b[0m\u001b[0mX_train\u001b[0m\u001b[0;34m,\u001b[0m \u001b[0my_train\u001b[0m\u001b[0;34m)\u001b[0m\u001b[0;34m\u001b[0m\u001b[0;34m\u001b[0m\u001b[0m\n\u001b[0m",
            "\u001b[0;32m/usr/local/lib/python3.7/dist-packages/imblearn/base.py\u001b[0m in \u001b[0;36mfit_resample\u001b[0;34m(self, X, y)\u001b[0m\n\u001b[1;32m     83\u001b[0m             self.sampling_strategy, y, self._sampling_type)\n\u001b[1;32m     84\u001b[0m \u001b[0;34m\u001b[0m\u001b[0m\n\u001b[0;32m---> 85\u001b[0;31m         \u001b[0moutput\u001b[0m \u001b[0;34m=\u001b[0m \u001b[0mself\u001b[0m\u001b[0;34m.\u001b[0m\u001b[0m_fit_resample\u001b[0m\u001b[0;34m(\u001b[0m\u001b[0mX\u001b[0m\u001b[0;34m,\u001b[0m \u001b[0my\u001b[0m\u001b[0;34m)\u001b[0m\u001b[0;34m\u001b[0m\u001b[0;34m\u001b[0m\u001b[0m\n\u001b[0m\u001b[1;32m     86\u001b[0m \u001b[0;34m\u001b[0m\u001b[0m\n\u001b[1;32m     87\u001b[0m         \u001b[0;32mif\u001b[0m \u001b[0mbinarize_y\u001b[0m\u001b[0;34m:\u001b[0m\u001b[0;34m\u001b[0m\u001b[0;34m\u001b[0m\u001b[0m\n",
            "\u001b[0;32m/usr/local/lib/python3.7/dist-packages/imblearn/under_sampling/_prototype_selection/_nearmiss.py\u001b[0m in \u001b[0;36m_fit_resample\u001b[0;34m(self, X, y)\u001b[0m\n\u001b[1;32m    242\u001b[0m                 \u001b[0;32mif\u001b[0m \u001b[0mself\u001b[0m\u001b[0;34m.\u001b[0m\u001b[0mversion\u001b[0m \u001b[0;34m==\u001b[0m \u001b[0;36m1\u001b[0m\u001b[0;34m:\u001b[0m\u001b[0;34m\u001b[0m\u001b[0;34m\u001b[0m\u001b[0m\n\u001b[1;32m    243\u001b[0m                     dist_vec, idx_vec = self.nn_.kneighbors(\n\u001b[0;32m--> 244\u001b[0;31m                         X_class, n_neighbors=self.nn_.n_neighbors)\n\u001b[0m\u001b[1;32m    245\u001b[0m                     index_target_class = self._selection_dist_based(\n\u001b[1;32m    246\u001b[0m                         \u001b[0mX\u001b[0m\u001b[0;34m,\u001b[0m\u001b[0;34m\u001b[0m\u001b[0;34m\u001b[0m\u001b[0m\n",
            "\u001b[0;32m/usr/local/lib/python3.7/dist-packages/sklearn/neighbors/_base.py\u001b[0m in \u001b[0;36mkneighbors\u001b[0;34m(self, X, n_neighbors, return_distance)\u001b[0m\n\u001b[1;32m    662\u001b[0m                 delayed_query(\n\u001b[1;32m    663\u001b[0m                     self._tree, X[s], n_neighbors, return_distance)\n\u001b[0;32m--> 664\u001b[0;31m                 \u001b[0;32mfor\u001b[0m \u001b[0ms\u001b[0m \u001b[0;32min\u001b[0m \u001b[0mgen_even_slices\u001b[0m\u001b[0;34m(\u001b[0m\u001b[0mX\u001b[0m\u001b[0;34m.\u001b[0m\u001b[0mshape\u001b[0m\u001b[0;34m[\u001b[0m\u001b[0;36m0\u001b[0m\u001b[0;34m]\u001b[0m\u001b[0;34m,\u001b[0m \u001b[0mn_jobs\u001b[0m\u001b[0;34m)\u001b[0m\u001b[0;34m\u001b[0m\u001b[0;34m\u001b[0m\u001b[0m\n\u001b[0m\u001b[1;32m    665\u001b[0m             )\n\u001b[1;32m    666\u001b[0m         \u001b[0;32melse\u001b[0m\u001b[0;34m:\u001b[0m\u001b[0;34m\u001b[0m\u001b[0;34m\u001b[0m\u001b[0m\n",
            "\u001b[0;32m/usr/local/lib/python3.7/dist-packages/joblib/parallel.py\u001b[0m in \u001b[0;36m__call__\u001b[0;34m(self, iterable)\u001b[0m\n\u001b[1;32m   1052\u001b[0m \u001b[0;34m\u001b[0m\u001b[0m\n\u001b[1;32m   1053\u001b[0m             \u001b[0;32mwith\u001b[0m \u001b[0mself\u001b[0m\u001b[0;34m.\u001b[0m\u001b[0m_backend\u001b[0m\u001b[0;34m.\u001b[0m\u001b[0mretrieval_context\u001b[0m\u001b[0;34m(\u001b[0m\u001b[0;34m)\u001b[0m\u001b[0;34m:\u001b[0m\u001b[0;34m\u001b[0m\u001b[0;34m\u001b[0m\u001b[0m\n\u001b[0;32m-> 1054\u001b[0;31m                 \u001b[0mself\u001b[0m\u001b[0;34m.\u001b[0m\u001b[0mretrieve\u001b[0m\u001b[0;34m(\u001b[0m\u001b[0;34m)\u001b[0m\u001b[0;34m\u001b[0m\u001b[0;34m\u001b[0m\u001b[0m\n\u001b[0m\u001b[1;32m   1055\u001b[0m             \u001b[0;31m# Make sure that we get a last message telling us we are done\u001b[0m\u001b[0;34m\u001b[0m\u001b[0;34m\u001b[0m\u001b[0;34m\u001b[0m\u001b[0m\n\u001b[1;32m   1056\u001b[0m             \u001b[0melapsed_time\u001b[0m \u001b[0;34m=\u001b[0m \u001b[0mtime\u001b[0m\u001b[0;34m.\u001b[0m\u001b[0mtime\u001b[0m\u001b[0;34m(\u001b[0m\u001b[0;34m)\u001b[0m \u001b[0;34m-\u001b[0m \u001b[0mself\u001b[0m\u001b[0;34m.\u001b[0m\u001b[0m_start_time\u001b[0m\u001b[0;34m\u001b[0m\u001b[0;34m\u001b[0m\u001b[0m\n",
            "\u001b[0;32m/usr/local/lib/python3.7/dist-packages/joblib/parallel.py\u001b[0m in \u001b[0;36mretrieve\u001b[0;34m(self)\u001b[0m\n\u001b[1;32m    931\u001b[0m             \u001b[0;32mtry\u001b[0m\u001b[0;34m:\u001b[0m\u001b[0;34m\u001b[0m\u001b[0;34m\u001b[0m\u001b[0m\n\u001b[1;32m    932\u001b[0m                 \u001b[0;32mif\u001b[0m \u001b[0mgetattr\u001b[0m\u001b[0;34m(\u001b[0m\u001b[0mself\u001b[0m\u001b[0;34m.\u001b[0m\u001b[0m_backend\u001b[0m\u001b[0;34m,\u001b[0m \u001b[0;34m'supports_timeout'\u001b[0m\u001b[0;34m,\u001b[0m \u001b[0;32mFalse\u001b[0m\u001b[0;34m)\u001b[0m\u001b[0;34m:\u001b[0m\u001b[0;34m\u001b[0m\u001b[0;34m\u001b[0m\u001b[0m\n\u001b[0;32m--> 933\u001b[0;31m                     \u001b[0mself\u001b[0m\u001b[0;34m.\u001b[0m\u001b[0m_output\u001b[0m\u001b[0;34m.\u001b[0m\u001b[0mextend\u001b[0m\u001b[0;34m(\u001b[0m\u001b[0mjob\u001b[0m\u001b[0;34m.\u001b[0m\u001b[0mget\u001b[0m\u001b[0;34m(\u001b[0m\u001b[0mtimeout\u001b[0m\u001b[0;34m=\u001b[0m\u001b[0mself\u001b[0m\u001b[0;34m.\u001b[0m\u001b[0mtimeout\u001b[0m\u001b[0;34m)\u001b[0m\u001b[0;34m)\u001b[0m\u001b[0;34m\u001b[0m\u001b[0;34m\u001b[0m\u001b[0m\n\u001b[0m\u001b[1;32m    934\u001b[0m                 \u001b[0;32melse\u001b[0m\u001b[0;34m:\u001b[0m\u001b[0;34m\u001b[0m\u001b[0;34m\u001b[0m\u001b[0m\n\u001b[1;32m    935\u001b[0m                     \u001b[0mself\u001b[0m\u001b[0;34m.\u001b[0m\u001b[0m_output\u001b[0m\u001b[0;34m.\u001b[0m\u001b[0mextend\u001b[0m\u001b[0;34m(\u001b[0m\u001b[0mjob\u001b[0m\u001b[0;34m.\u001b[0m\u001b[0mget\u001b[0m\u001b[0;34m(\u001b[0m\u001b[0;34m)\u001b[0m\u001b[0;34m)\u001b[0m\u001b[0;34m\u001b[0m\u001b[0;34m\u001b[0m\u001b[0m\n",
            "\u001b[0;32m/usr/lib/python3.7/multiprocessing/pool.py\u001b[0m in \u001b[0;36mget\u001b[0;34m(self, timeout)\u001b[0m\n\u001b[1;32m    649\u001b[0m \u001b[0;34m\u001b[0m\u001b[0m\n\u001b[1;32m    650\u001b[0m     \u001b[0;32mdef\u001b[0m \u001b[0mget\u001b[0m\u001b[0;34m(\u001b[0m\u001b[0mself\u001b[0m\u001b[0;34m,\u001b[0m \u001b[0mtimeout\u001b[0m\u001b[0;34m=\u001b[0m\u001b[0;32mNone\u001b[0m\u001b[0;34m)\u001b[0m\u001b[0;34m:\u001b[0m\u001b[0;34m\u001b[0m\u001b[0;34m\u001b[0m\u001b[0m\n\u001b[0;32m--> 651\u001b[0;31m         \u001b[0mself\u001b[0m\u001b[0;34m.\u001b[0m\u001b[0mwait\u001b[0m\u001b[0;34m(\u001b[0m\u001b[0mtimeout\u001b[0m\u001b[0;34m)\u001b[0m\u001b[0;34m\u001b[0m\u001b[0;34m\u001b[0m\u001b[0m\n\u001b[0m\u001b[1;32m    652\u001b[0m         \u001b[0;32mif\u001b[0m \u001b[0;32mnot\u001b[0m \u001b[0mself\u001b[0m\u001b[0;34m.\u001b[0m\u001b[0mready\u001b[0m\u001b[0;34m(\u001b[0m\u001b[0;34m)\u001b[0m\u001b[0;34m:\u001b[0m\u001b[0;34m\u001b[0m\u001b[0;34m\u001b[0m\u001b[0m\n\u001b[1;32m    653\u001b[0m             \u001b[0;32mraise\u001b[0m \u001b[0mTimeoutError\u001b[0m\u001b[0;34m\u001b[0m\u001b[0;34m\u001b[0m\u001b[0m\n",
            "\u001b[0;32m/usr/lib/python3.7/multiprocessing/pool.py\u001b[0m in \u001b[0;36mwait\u001b[0;34m(self, timeout)\u001b[0m\n\u001b[1;32m    646\u001b[0m \u001b[0;34m\u001b[0m\u001b[0m\n\u001b[1;32m    647\u001b[0m     \u001b[0;32mdef\u001b[0m \u001b[0mwait\u001b[0m\u001b[0;34m(\u001b[0m\u001b[0mself\u001b[0m\u001b[0;34m,\u001b[0m \u001b[0mtimeout\u001b[0m\u001b[0;34m=\u001b[0m\u001b[0;32mNone\u001b[0m\u001b[0;34m)\u001b[0m\u001b[0;34m:\u001b[0m\u001b[0;34m\u001b[0m\u001b[0;34m\u001b[0m\u001b[0m\n\u001b[0;32m--> 648\u001b[0;31m         \u001b[0mself\u001b[0m\u001b[0;34m.\u001b[0m\u001b[0m_event\u001b[0m\u001b[0;34m.\u001b[0m\u001b[0mwait\u001b[0m\u001b[0;34m(\u001b[0m\u001b[0mtimeout\u001b[0m\u001b[0;34m)\u001b[0m\u001b[0;34m\u001b[0m\u001b[0;34m\u001b[0m\u001b[0m\n\u001b[0m\u001b[1;32m    649\u001b[0m \u001b[0;34m\u001b[0m\u001b[0m\n\u001b[1;32m    650\u001b[0m     \u001b[0;32mdef\u001b[0m \u001b[0mget\u001b[0m\u001b[0;34m(\u001b[0m\u001b[0mself\u001b[0m\u001b[0;34m,\u001b[0m \u001b[0mtimeout\u001b[0m\u001b[0;34m=\u001b[0m\u001b[0;32mNone\u001b[0m\u001b[0;34m)\u001b[0m\u001b[0;34m:\u001b[0m\u001b[0;34m\u001b[0m\u001b[0;34m\u001b[0m\u001b[0m\n",
            "\u001b[0;32m/usr/lib/python3.7/threading.py\u001b[0m in \u001b[0;36mwait\u001b[0;34m(self, timeout)\u001b[0m\n\u001b[1;32m    550\u001b[0m             \u001b[0msignaled\u001b[0m \u001b[0;34m=\u001b[0m \u001b[0mself\u001b[0m\u001b[0;34m.\u001b[0m\u001b[0m_flag\u001b[0m\u001b[0;34m\u001b[0m\u001b[0;34m\u001b[0m\u001b[0m\n\u001b[1;32m    551\u001b[0m             \u001b[0;32mif\u001b[0m \u001b[0;32mnot\u001b[0m \u001b[0msignaled\u001b[0m\u001b[0;34m:\u001b[0m\u001b[0;34m\u001b[0m\u001b[0;34m\u001b[0m\u001b[0m\n\u001b[0;32m--> 552\u001b[0;31m                 \u001b[0msignaled\u001b[0m \u001b[0;34m=\u001b[0m \u001b[0mself\u001b[0m\u001b[0;34m.\u001b[0m\u001b[0m_cond\u001b[0m\u001b[0;34m.\u001b[0m\u001b[0mwait\u001b[0m\u001b[0;34m(\u001b[0m\u001b[0mtimeout\u001b[0m\u001b[0;34m)\u001b[0m\u001b[0;34m\u001b[0m\u001b[0;34m\u001b[0m\u001b[0m\n\u001b[0m\u001b[1;32m    553\u001b[0m             \u001b[0;32mreturn\u001b[0m \u001b[0msignaled\u001b[0m\u001b[0;34m\u001b[0m\u001b[0;34m\u001b[0m\u001b[0m\n\u001b[1;32m    554\u001b[0m \u001b[0;34m\u001b[0m\u001b[0m\n",
            "\u001b[0;32m/usr/lib/python3.7/threading.py\u001b[0m in \u001b[0;36mwait\u001b[0;34m(self, timeout)\u001b[0m\n\u001b[1;32m    294\u001b[0m         \u001b[0;32mtry\u001b[0m\u001b[0;34m:\u001b[0m    \u001b[0;31m# restore state no matter what (e.g., KeyboardInterrupt)\u001b[0m\u001b[0;34m\u001b[0m\u001b[0;34m\u001b[0m\u001b[0m\n\u001b[1;32m    295\u001b[0m             \u001b[0;32mif\u001b[0m \u001b[0mtimeout\u001b[0m \u001b[0;32mis\u001b[0m \u001b[0;32mNone\u001b[0m\u001b[0;34m:\u001b[0m\u001b[0;34m\u001b[0m\u001b[0;34m\u001b[0m\u001b[0m\n\u001b[0;32m--> 296\u001b[0;31m                 \u001b[0mwaiter\u001b[0m\u001b[0;34m.\u001b[0m\u001b[0macquire\u001b[0m\u001b[0;34m(\u001b[0m\u001b[0;34m)\u001b[0m\u001b[0;34m\u001b[0m\u001b[0;34m\u001b[0m\u001b[0m\n\u001b[0m\u001b[1;32m    297\u001b[0m                 \u001b[0mgotit\u001b[0m \u001b[0;34m=\u001b[0m \u001b[0;32mTrue\u001b[0m\u001b[0;34m\u001b[0m\u001b[0;34m\u001b[0m\u001b[0m\n\u001b[1;32m    298\u001b[0m             \u001b[0;32melse\u001b[0m\u001b[0;34m:\u001b[0m\u001b[0;34m\u001b[0m\u001b[0;34m\u001b[0m\u001b[0m\n",
            "\u001b[0;31mKeyboardInterrupt\u001b[0m: "
          ]
        }
      ]
    },
    {
      "cell_type": "code",
      "metadata": {
        "id": "welsh-halifax"
      },
      "source": [
        "## This block is commented out, because it takes too long to executed.\n",
        "## To get the dataFrame after feature selection, please use gdown to download the csv file in the next block.\n",
        "\n",
        "## Feature ranking with recursive feature elimination and cross-validated selection of the best number of features.\n",
        "\n",
        "# skf = StratifiedKFold(n_splits=5, random_state=None, shuffle=True)\n",
        "# xgb = XGBClassifier(n_estimators=600, n_jobs=-1, objective='binary:hinge')\n",
        "# rfecv = RFECV(estimator=xgb, step=1, cv=skf, verbose=2, n_jobs = -1, scoring = 'f1')\n",
        "# rfecv.fit(X_nearmiss, y_nearmiss)\n"
      ],
      "id": "welsh-halifax",
      "execution_count": null,
      "outputs": []
    },
    {
      "cell_type": "code",
      "metadata": {
        "id": "motivated-chapter"
      },
      "source": [
        "# pruned_features = [f for f, s in zip(X, rfecv.support_) if s]\n",
        "# print('\\n The selected features are {}:'.format(pruned_features))\n",
        "# print(len(pruned_features))"
      ],
      "id": "motivated-chapter",
      "execution_count": null,
      "outputs": []
    },
    {
      "cell_type": "code",
      "metadata": {
        "id": "advance-clear"
      },
      "source": [
        "# new_df = pd.concat([df_train[pruned_features], y], axis=1)\n",
        "# new_df.to_csv('./df_train_afterPruned.csv', index=False)"
      ],
      "id": "advance-clear",
      "execution_count": null,
      "outputs": []
    },
    {
      "cell_type": "code",
      "metadata": {
        "id": "metallic-genealogy",
        "outputId": "197bd83a-660e-40ba-c8f3-5b5df98e9308"
      },
      "source": [
        "# new_df.isnull().sum().max()\n"
      ],
      "id": "metallic-genealogy",
      "execution_count": null,
      "outputs": [
        {
          "output_type": "execute_result",
          "data": {
            "text/plain": [
              "0"
            ]
          },
          "metadata": {
            "tags": []
          },
          "execution_count": 30
        }
      ]
    },
    {
      "cell_type": "code",
      "metadata": {
        "id": "moderate-corner"
      },
      "source": [
        "# df_train = new_df"
      ],
      "id": "moderate-corner",
      "execution_count": null,
      "outputs": []
    },
    {
      "cell_type": "code",
      "metadata": {
        "id": "hB-QEFoeEwaE"
      },
      "source": [
        "\n",
        "# pruned_features = [f for f, s in zip(X, rfecv.support_) if s]\n",
        "# print('\\n The selected features are {}:'.format(pruned_features))\n",
        "# print(len(pruned_features))"
      ],
      "id": "hB-QEFoeEwaE",
      "execution_count": null,
      "outputs": []
    },
    {
      "cell_type": "code",
      "metadata": {
        "colab": {
          "base_uri": "https://localhost:8080/",
          "height": 239
        },
        "id": "Sx0eD2Z1E2Kp",
        "outputId": "d0b76fe4-4f0f-445b-f837-466f745c0fc1"
      },
      "source": [
        "f = '1HWKK6nFEORrlILI2zJfkHOfkI2xHms_g'\n",
        "url = 'https://drive.google.com/uc?id=%s'%(f)\n",
        "output = './train_clean.csv'\n",
        "!pip3 install gdown\n",
        "import gdown\n",
        "gdown.download(url, output, quiet=False)\n"
      ],
      "id": "Sx0eD2Z1E2Kp",
      "execution_count": null,
      "outputs": [
        {
          "output_type": "stream",
          "text": [
            "Requirement already satisfied: gdown in /usr/local/lib/python3.7/dist-packages (3.6.4)\n",
            "Requirement already satisfied: tqdm in /usr/local/lib/python3.7/dist-packages (from gdown) (4.41.1)\n",
            "Requirement already satisfied: six in /usr/local/lib/python3.7/dist-packages (from gdown) (1.15.0)\n",
            "Requirement already satisfied: requests in /usr/local/lib/python3.7/dist-packages (from gdown) (2.23.0)\n",
            "Requirement already satisfied: urllib3!=1.25.0,!=1.25.1,<1.26,>=1.21.1 in /usr/local/lib/python3.7/dist-packages (from requests->gdown) (1.24.3)\n",
            "Requirement already satisfied: chardet<4,>=3.0.2 in /usr/local/lib/python3.7/dist-packages (from requests->gdown) (3.0.4)\n",
            "Requirement already satisfied: certifi>=2017.4.17 in /usr/local/lib/python3.7/dist-packages (from requests->gdown) (2020.12.5)\n",
            "Requirement already satisfied: idna<3,>=2.5 in /usr/local/lib/python3.7/dist-packages (from requests->gdown) (2.10)\n"
          ],
          "name": "stdout"
        },
        {
          "output_type": "stream",
          "text": [
            "Downloading...\n",
            "From: https://drive.google.com/uc?id=1HWKK6nFEORrlILI2zJfkHOfkI2xHms_g\n",
            "To: /content/train_clean.csv\n",
            "419MB [00:02, 203MB/s]\n"
          ],
          "name": "stderr"
        },
        {
          "output_type": "execute_result",
          "data": {
            "application/vnd.google.colaboratory.intrinsic+json": {
              "type": "string"
            },
            "text/plain": [
              "'./train_clean.csv'"
            ]
          },
          "metadata": {
            "tags": []
          },
          "execution_count": 2
        }
      ]
    },
    {
      "cell_type": "code",
      "metadata": {
        "id": "DrzInW-QFIof"
      },
      "source": [
        "df  = pd.read_csv('./train_clean.csv')"
      ],
      "id": "DrzInW-QFIof",
      "execution_count": null,
      "outputs": []
    },
    {
      "cell_type": "code",
      "metadata": {
        "colab": {
          "base_uri": "https://localhost:8080/"
        },
        "id": "labeled-realtor",
        "outputId": "1290e0f3-83a1-4ea5-9164-49964da93050"
      },
      "source": [
        "reduce_mem(df)"
      ],
      "id": "labeled-realtor",
      "execution_count": null,
      "outputs": [
        {
          "output_type": "stream",
          "text": [
            "Memory usage of properties dataframe is : 348.3095245361328  MB\n",
            "___MEMORY USAGE AFTER COMPLETION:___\n",
            "Memory usage is:  145.1290397644043  MB\n",
            "This is  41.66668711046084 % of the initial size\n"
          ],
          "name": "stdout"
        }
      ]
    },
    {
      "cell_type": "code",
      "metadata": {
        "id": "nMi2qA0AGd1h"
      },
      "source": [
        "df_train = df"
      ],
      "id": "nMi2qA0AGd1h",
      "execution_count": null,
      "outputs": []
    },
    {
      "cell_type": "markdown",
      "metadata": {
        "id": "solved-buffer"
      },
      "source": [
        "## Parameter tuning\n"
      ],
      "id": "solved-buffer"
    },
    {
      "cell_type": "markdown",
      "metadata": {
        "id": "265N9Mg1F7wQ"
      },
      "source": [
        "This data set is highly imbalance, in order to fit the training data better, under sampling the data first, use it to train the model, and get the best hyperparameter, then use the hyperparameter obtained to fit the test set and make prediction."
      ],
      "id": "265N9Mg1F7wQ"
    },
    {
      "cell_type": "code",
      "metadata": {
        "id": "hollow-edinburgh"
      },
      "source": [
        "X = df_train.drop('fraud_ind', axis=1)\n",
        "y = df_train['fraud_ind']\n",
        "X_train, X_test, y_train, y_test = train_test_split(X, y, test_size=0.25, random_state=0, stratify=y)\n",
        "\n",
        "X_train = X_train.values\n",
        "X_test = X_test.values\n",
        "y_train = y_train.values\n",
        "y_test = y_test.values\n",
        "\n",
        "# Under sampling\n",
        "X_nearmiss, y_nearmiss = NearMiss(n_jobs=-1).fit_resample(X_train, y_train)\n"
      ],
      "id": "hollow-edinburgh",
      "execution_count": null,
      "outputs": []
    },
    {
      "cell_type": "code",
      "metadata": {
        "id": "adjacent-financing"
      },
      "source": [
        "# A parameter grid for XGBoost for param tuning\n",
        "params = {\n",
        "        'learning_rate': [0.01, 0.05, 0.1],\n",
        "        'min_child_weight': [1, 3, 5],\n",
        "        'subsample': [0.5, 0.75, 1.0],\n",
        "        'colsample_bytree': [0.5, 0.7, 1.0],\n",
        "        'n_estimators': [300, 600, 1000, 2000]\n",
        "        }\n",
        "\n",
        "xgb = XGBClassifier(objective='binary:hinge')\n"
      ],
      "id": "adjacent-financing",
      "execution_count": null,
      "outputs": []
    },
    {
      "cell_type": "markdown",
      "metadata": {
        "id": "9eVbQ4u8SZ7j"
      },
      "source": [
        "### hyperOpt"
      ],
      "id": "9eVbQ4u8SZ7j"
    },
    {
      "cell_type": "code",
      "metadata": {
        "colab": {
          "base_uri": "https://localhost:8080/"
        },
        "id": "_xSrUHL3SZir",
        "outputId": "ec6de9dd-40ae-4140-b473-e402d18f4454"
      },
      "source": [
        "# !pip install hyperopt pyspark\n",
        "import hyperopt\n",
        "from hyperopt import hp, fmin, tpe, STATUS_OK, Trials\n",
        "\n",
        "space = {'learning_rate': hp.uniform('learning_rate', 0.01, 0.9),\n",
        "        'max_depth': hp.choice('max_depth', [3, 5, 9, 10]),\n",
        "        'colsample_bytree': hp.choice('colsample_bytree', [0.2, 0.5, 0.7, 1.0]),\n",
        "        'subsample': hp.choice ('subsample', [0.2, 0.5, 0.75, 1.0]),\n",
        "        'min_child_weight' : hp.choice ('min_child_weight', [0.2, 0.5, 0.75, 1.0]),\n",
        "        'n_estimators' : hp.choice('n_estimators', [600, 1000, 2000,3000])\n",
        "    }\n",
        "\n",
        "def objective(space):\n",
        "    model = XGBClassifier(learning_rate = space['learning_rate'], \n",
        "                                   max_depth = space['max_depth'],\n",
        "                                 colsample_bytree = space['colsample_bytree'],\n",
        "                                 subsample = space['subsample'],\n",
        "                                 n_estimators = space['n_estimators'],\n",
        "                                min_child_weight=space['min_child_weight'],\n",
        "                              objective='binary:hinge'\n",
        "                                 )\n",
        "    \n",
        "    accuracy = cross_val_score(model, X_nearmiss, y_nearmiss, cv = 5, scoring='f1', n_jobs=-1).mean()\n",
        "\n",
        "    # We aim to maximize accuracy, therefore we return it as a negative value\n",
        "    return {'loss': -accuracy, 'status': STATUS_OK }\n",
        "\n",
        "trials = Trials()    \n",
        "best = fmin(fn= objective,\n",
        "            space= space,\n",
        "            algo= tpe.suggest,\n",
        "            max_evals = 50,\n",
        "            trials= trials)\n"
      ],
      "id": "_xSrUHL3SZir",
      "execution_count": null,
      "outputs": [
        {
          "output_type": "stream",
          "text": [
            "100%|██████████| 50/50 [2:56:01<00:00, 211.23s/it, best loss: -0.9263311136096428]\n"
          ],
          "name": "stdout"
        }
      ]
    },
    {
      "cell_type": "code",
      "metadata": {
        "colab": {
          "base_uri": "https://localhost:8080/"
        },
        "id": "8G2oMLq3SzCT",
        "outputId": "3660218c-9983-4bfb-ee14-8eebf24d6cc7"
      },
      "source": [
        " best\n",
        "\n",
        "# 20 iters\n",
        "#  {'colsample_bytree': 0,\n",
        "#  'learning_rate': 0.10127250991822791,\n",
        "#  'max_depth': 2,\n",
        "#  'min_child_weight': 0,\n",
        "#  'n_estimators': 1,\n",
        "#  'subsample': 2}\n",
        "\n",
        "# 50 iters\n",
        "# {'colsample_bytree': 1,\n",
        "#  'learning_rate': 0.01029511061772444,\n",
        "#  'max_depth': 2,\n",
        "#  'min_child_weight': 0,\n",
        "#  'n_estimators': 3,\n",
        "#  'subsample': 0}"
      ],
      "id": "8G2oMLq3SzCT",
      "execution_count": null,
      "outputs": [
        {
          "output_type": "execute_result",
          "data": {
            "text/plain": [
              "{'colsample_bytree': 1,\n",
              " 'learning_rate': 0.01029511061772444,\n",
              " 'max_depth': 2,\n",
              " 'min_child_weight': 0,\n",
              " 'n_estimators': 3,\n",
              " 'subsample': 0}"
            ]
          },
          "metadata": {
            "tags": []
          },
          "execution_count": 16
        }
      ]
    },
    {
      "cell_type": "markdown",
      "metadata": {
        "id": "JbXXjTlvbQgf"
      },
      "source": [
        "### optuna"
      ],
      "id": "JbXXjTlvbQgf"
    },
    {
      "cell_type": "code",
      "metadata": {
        "colab": {
          "base_uri": "https://localhost:8080/"
        },
        "id": "JZpgv_M6bSG8",
        "outputId": "5331279e-17ac-4cd5-8d0b-1f8d33f0a05e"
      },
      "source": [
        "! pip install optuna\n",
        "import optuna\n",
        "from optuna import Trial, visualization\n",
        "from optuna.samplers import TPESampler\n",
        "from xgboost import XGBClassifier"
      ],
      "id": "JZpgv_M6bSG8",
      "execution_count": null,
      "outputs": [
        {
          "output_type": "stream",
          "text": [
            "WARNING: pip is being invoked by an old script wrapper. This will fail in a future version of pip.\n",
            "Please see https://github.com/pypa/pip/issues/5599 for advice on fixing the underlying issue.\n",
            "To avoid this problem you can invoke Python with '-m pip' instead of running pip directly.\n",
            "Requirement already satisfied: optuna in /usr/local/lib/python3.7/dist-packages (2.7.0)\n",
            "Requirement already satisfied: alembic in /usr/local/lib/python3.7/dist-packages (from optuna) (1.6.5)\n",
            "Requirement already satisfied: cmaes>=0.8.2 in /usr/local/lib/python3.7/dist-packages (from optuna) (0.8.2)\n",
            "Requirement already satisfied: packaging>=20.0 in /usr/local/lib/python3.7/dist-packages (from optuna) (20.9)\n",
            "Requirement already satisfied: numpy in /usr/local/lib/python3.7/dist-packages (from optuna) (1.19.5)\n",
            "Requirement already satisfied: sqlalchemy>=1.1.0 in /usr/local/lib/python3.7/dist-packages (from optuna) (1.4.15)\n",
            "Requirement already satisfied: scipy!=1.4.0 in /usr/local/lib/python3.7/dist-packages (from optuna) (1.4.1)\n",
            "Requirement already satisfied: colorlog in /usr/local/lib/python3.7/dist-packages (from optuna) (5.0.1)\n",
            "Requirement already satisfied: cliff in /usr/local/lib/python3.7/dist-packages (from optuna) (3.8.0)\n",
            "Requirement already satisfied: tqdm in /usr/local/lib/python3.7/dist-packages (from optuna) (4.41.1)\n",
            "Requirement already satisfied: pyparsing>=2.0.2 in /usr/local/lib/python3.7/dist-packages (from packaging>=20.0->optuna) (2.4.7)\n",
            "Requirement already satisfied: importlib-metadata in /usr/local/lib/python3.7/dist-packages (from sqlalchemy>=1.1.0->optuna) (4.0.1)\n",
            "Requirement already satisfied: greenlet!=0.4.17 in /usr/local/lib/python3.7/dist-packages (from sqlalchemy>=1.1.0->optuna) (1.1.0)\n",
            "Requirement already satisfied: python-editor>=0.3 in /usr/local/lib/python3.7/dist-packages (from alembic->optuna) (1.0.4)\n",
            "Requirement already satisfied: Mako in /usr/local/lib/python3.7/dist-packages (from alembic->optuna) (1.1.4)\n",
            "Requirement already satisfied: python-dateutil in /usr/local/lib/python3.7/dist-packages (from alembic->optuna) (2.8.1)\n",
            "Requirement already satisfied: stevedore>=2.0.1 in /usr/local/lib/python3.7/dist-packages (from cliff->optuna) (3.3.0)\n",
            "Requirement already satisfied: pbr!=2.1.0,>=2.0.0 in /usr/local/lib/python3.7/dist-packages (from cliff->optuna) (5.6.0)\n",
            "Requirement already satisfied: cmd2>=1.0.0 in /usr/local/lib/python3.7/dist-packages (from cliff->optuna) (1.5.0)\n",
            "Requirement already satisfied: PrettyTable>=0.7.2 in /usr/local/lib/python3.7/dist-packages (from cliff->optuna) (2.1.0)\n",
            "Requirement already satisfied: PyYAML>=3.12 in /usr/local/lib/python3.7/dist-packages (from cliff->optuna) (3.13)\n",
            "Requirement already satisfied: attrs>=16.3.0 in /usr/local/lib/python3.7/dist-packages (from cmd2>=1.0.0->cliff->optuna) (21.2.0)\n",
            "Requirement already satisfied: colorama>=0.3.7 in /usr/local/lib/python3.7/dist-packages (from cmd2>=1.0.0->cliff->optuna) (0.4.4)\n",
            "Requirement already satisfied: wcwidth>=0.1.7 in /usr/local/lib/python3.7/dist-packages (from cmd2>=1.0.0->cliff->optuna) (0.2.5)\n",
            "Requirement already satisfied: pyperclip>=1.6 in /usr/local/lib/python3.7/dist-packages (from cmd2>=1.0.0->cliff->optuna) (1.8.2)\n",
            "Requirement already satisfied: zipp>=0.5 in /usr/local/lib/python3.7/dist-packages (from importlib-metadata->sqlalchemy>=1.1.0->optuna) (3.4.1)\n",
            "Requirement already satisfied: typing-extensions>=3.6.4 in /usr/local/lib/python3.7/dist-packages (from importlib-metadata->sqlalchemy>=1.1.0->optuna) (3.7.4.3)\n",
            "Requirement already satisfied: MarkupSafe>=0.9.2 in /usr/local/lib/python3.7/dist-packages (from Mako->alembic->optuna) (2.0.1)\n",
            "Requirement already satisfied: six>=1.5 in /usr/local/lib/python3.7/dist-packages (from python-dateutil->alembic->optuna) (1.15.0)\n",
            "\u001b[33mWARNING: Running pip as root will break packages and permissions. You should install packages reliably by using venv: https://pip.pypa.io/warnings/venv\u001b[0m\n"
          ],
          "name": "stdout"
        }
      ]
    },
    {
      "cell_type": "code",
      "metadata": {
        "id": "-KCn251BiWTR"
      },
      "source": [
        "\n",
        "def objective(trial, X, y):\n",
        "\n",
        "    X_train, X_test, y_train, y_test = train_test_split(X, y, test_size=0.25, random_state=0, stratify=y)\n",
        "    X_train = X_train.values\n",
        "    X_test = X_test.values\n",
        "    y_train = y_train.values\n",
        "    y_test = y_test.values\n",
        "\n",
        "    # Under sampling\n",
        "    X_nearmiss, y_nearmiss = NearMiss(n_jobs=-1).fit_resample(X_train, y_train)\n",
        "    \n",
        "    param = {\n",
        "        \"verbosity\": 0,\n",
        "        \"objective\": \"binary:hinge\",\n",
        "        # defines booster, gblinear for linear functions.\n",
        "        \"booster\": trial.suggest_categorical(\"booster\", [\"gbtree\", \"gblinear\", \"dart\"]),\n",
        "        # L2 regularization weight.\n",
        "        \"lambda\": trial.suggest_float(\"lambda\", 1e-8, 1.0, log=True),\n",
        "        # L1 regularization weight.\n",
        "        \"alpha\": trial.suggest_float(\"alpha\", 1e-8, 1.0, log=True),\n",
        "        # sampling ratio for training data.\n",
        "        \"subsample\": trial.suggest_float(\"subsample\", 0.2, 0.7,log=True),\n",
        "        # sampling according to each tree.\n",
        "        \"colsample_bytree\": trial.suggest_float(\"colsample_bytree\", 0.5, 1.0),\n",
        "        \"n_estimators\":trial.suggest_int(\"n_estimators\", 600, 2000),\n",
        "        'learning_rate':trial.suggest_loguniform('learning_rate',0.005,0.5),\n",
        "        \"n_jobs\": -1\n",
        "    }\n",
        "\n",
        "    model = XGBClassifier(**param)\n",
        "\n",
        "    if param[\"booster\"] in [\"gbtree\", \"dart\"]:\n",
        "        # maximum depth of the tree, signifies complexity of the tree.\n",
        "        param[\"max_depth\"] = trial.suggest_int(\"max_depth\", 3, 9, step=2)\n",
        "        # minimum child weight, larger the term more conservative the tree.\n",
        "        param[\"min_child_weight\"] = trial.suggest_int(\"min_child_weight\", 2, 10)\n",
        "        param[\"eta\"] = trial.suggest_float(\"eta\", 1e-8, 1.0, log=True)\n",
        "        # defines how selective algorithm is.\n",
        "        param[\"gamma\"] = trial.suggest_float(\"gamma\", 1e-8, 1.0, log=True)\n",
        "        param[\"grow_policy\"] = trial.suggest_categorical(\"grow_policy\", [\"depthwise\", \"lossguide\"])\n",
        "\n",
        "    if param[\"booster\"] == \"dart\":\n",
        "        param[\"sample_type\"] = trial.suggest_categorical(\"sample_type\", [\"uniform\", \"weighted\"])\n",
        "        param[\"normalize_type\"] = trial.suggest_categorical(\"normalize_type\", [\"tree\", \"forest\"])\n",
        "        param[\"rate_drop\"] = trial.suggest_float(\"rate_drop\", 1e-8, 1.0, log=True)\n",
        "        param[\"skip_drop\"] = trial.suggest_float(\"skip_drop\", 1e-8, 1.0, log=True)\n",
        "\n",
        "    model.fit(X_nearmiss, y_nearmiss)\n",
        "    f1 = cross_val_score(model, X_test, y_test, scoring=\"f1\").mean()\n",
        "    return f1"
      ],
      "id": "-KCn251BiWTR",
      "execution_count": null,
      "outputs": []
    },
    {
      "cell_type": "code",
      "metadata": {
        "colab": {
          "base_uri": "https://localhost:8080/"
        },
        "id": "bebCKn9ciYwM",
        "outputId": "c814c835-43ef-4961-cacd-47ebf0d710bd"
      },
      "source": [
        "study = optuna.create_study(direction='maximize',sampler=TPESampler())\n",
        "study.optimize(lambda trial : objective(trial,X,y),n_trials= 100)\n",
        "\n",
        "print(\"Number of finished trials: \", len(study.trials))\n",
        "print(\"Best trial:\")\n",
        "trial = study.best_trial\n",
        "\n",
        "print('Best trial: score {},\\nparams {}'.format(study.best_trial.value,study.best_trial.params))\n",
        "\n",
        "\n",
        "print(\"  Value: {}\".format(trial.value))\n",
        "print(\"  Params: \")\n",
        "for key, value in trial.params.items():\n",
        "    print(\"    {}: {}\".format(key, value))"
      ],
      "id": "bebCKn9ciYwM",
      "execution_count": null,
      "outputs": [
        {
          "output_type": "stream",
          "text": [
            "\u001b[32m[I 2021-05-31 03:40:42,531]\u001b[0m A new study created in memory with name: no-name-8d9a757d-1e8b-4af5-9120-b51a76d475b2\u001b[0m\n",
            "\u001b[32m[I 2021-05-31 06:36:03,301]\u001b[0m Trial 0 finished with value: 0.0 and parameters: {'booster': 'gblinear', 'lambda': 1.942273858343516e-08, 'alpha': 2.9992122570949375e-08, 'subsample': 0.29199785945038964, 'colsample_bytree': 0.9475434501528085, 'n_estimators': 1934, 'learning_rate': 0.024718541715781164}. Best is trial 0 with value: 0.0.\u001b[0m\n",
            "\u001b[32m[I 2021-05-31 07:02:08,685]\u001b[0m Trial 1 finished with value: 0.4144782385484914 and parameters: {'booster': 'gbtree', 'lambda': 4.0414225439998046e-05, 'alpha': 2.286148610638384e-08, 'subsample': 0.3788840775033768, 'colsample_bytree': 0.9701327304408993, 'n_estimators': 1039, 'learning_rate': 0.008084936244943932, 'max_depth': 7, 'min_child_weight': 7, 'eta': 0.0014050505033342646, 'gamma': 3.357684565107275e-07, 'grow_policy': 'depthwise'}. Best is trial 1 with value: 0.4144782385484914.\u001b[0m\n"
          ],
          "name": "stderr"
        }
      ]
    },
    {
      "cell_type": "code",
      "metadata": {
        "id": "DR9TmG8agzQN"
      },
      "source": [
        "fig = optuna.visualization.plot_optimization_history(study)\n",
        "fig.show()"
      ],
      "id": "DR9TmG8agzQN",
      "execution_count": null,
      "outputs": []
    },
    {
      "cell_type": "code",
      "metadata": {
        "id": "8xl1gQ-YhIBX"
      },
      "source": [
        "fig = optuna.visualization.plot_slice(study)\n",
        "fig.show()\n"
      ],
      "id": "8xl1gQ-YhIBX",
      "execution_count": null,
      "outputs": []
    },
    {
      "cell_type": "code",
      "metadata": {
        "id": "PVNzEyfNhKAP"
      },
      "source": [
        "fig = optuna.visualization.plot_parallel_coordinate(study)\n",
        "fig.show()\n"
      ],
      "id": "PVNzEyfNhKAP",
      "execution_count": null,
      "outputs": []
    },
    {
      "cell_type": "code",
      "metadata": {
        "id": "Jn4Pp_JphL4a"
      },
      "source": [
        "fig = optuna.visualization.plot_contor(study)\n",
        "fig.show()\n"
      ],
      "id": "Jn4Pp_JphL4a",
      "execution_count": null,
      "outputs": []
    },
    {
      "cell_type": "markdown",
      "metadata": {
        "id": "continent-gallery"
      },
      "source": [
        "### tpot\n"
      ],
      "id": "continent-gallery"
    },
    {
      "cell_type": "code",
      "metadata": {
        "colab": {
          "base_uri": "https://localhost:8080/",
          "height": 372
        },
        "id": "level-focus",
        "outputId": "3a890344-3f1d-4959-b96b-8493862ba3f6"
      },
      "source": [
        "!pip install tpot\n",
        "import tpot\n",
        "# generic optimization\n",
        "from tpot import TPOTClassifier\n",
        "\n",
        "pipeline_optimizer = TPOTClassifier(generations=5, population_size=20, cv=5,\n",
        "                                    random_state=42, verbosity=2, early_stop= 12,\n",
        "                                    scoring = 'f1',  n_jobs=-2)\n",
        "\n",
        "# pipeline_optimizer.fit(X_nearmiss, y_nearmiss)\n",
        "\n",
        "# print(pipeline_optimizer.score(X_test, y_test))\n",
        "## pipeline_optimizer.export('tpot_exported_pipeline.py')"
      ],
      "id": "level-focus",
      "execution_count": null,
      "outputs": [
        {
          "output_type": "error",
          "ename": "ModuleNotFoundError",
          "evalue": "ignored",
          "traceback": [
            "\u001b[0;31m---------------------------------------------------------------------------\u001b[0m",
            "\u001b[0;31mModuleNotFoundError\u001b[0m                       Traceback (most recent call last)",
            "\u001b[0;32m<ipython-input-16-2dd98af559da>\u001b[0m in \u001b[0;36m<module>\u001b[0;34m()\u001b[0m\n\u001b[1;32m      1\u001b[0m \u001b[0;31m# generic optimization\u001b[0m\u001b[0;34m\u001b[0m\u001b[0;34m\u001b[0m\u001b[0;34m\u001b[0m\u001b[0m\n\u001b[0;32m----> 2\u001b[0;31m \u001b[0;32mfrom\u001b[0m \u001b[0mtpot\u001b[0m \u001b[0;32mimport\u001b[0m \u001b[0mTPOTClassifier\u001b[0m\u001b[0;34m\u001b[0m\u001b[0;34m\u001b[0m\u001b[0m\n\u001b[0m\u001b[1;32m      3\u001b[0m \u001b[0;34m\u001b[0m\u001b[0m\n\u001b[1;32m      4\u001b[0m pipeline_optimizer = TPOTClassifier(generations=5, population_size=20, cv=5,\n\u001b[1;32m      5\u001b[0m                                     \u001b[0mrandom_state\u001b[0m\u001b[0;34m=\u001b[0m\u001b[0;36m42\u001b[0m\u001b[0;34m,\u001b[0m \u001b[0mverbosity\u001b[0m\u001b[0;34m=\u001b[0m\u001b[0;36m2\u001b[0m\u001b[0;34m,\u001b[0m \u001b[0mearly_stop\u001b[0m\u001b[0;34m=\u001b[0m \u001b[0;36m12\u001b[0m\u001b[0;34m,\u001b[0m\u001b[0;34m\u001b[0m\u001b[0;34m\u001b[0m\u001b[0m\n",
            "\u001b[0;31mModuleNotFoundError\u001b[0m: No module named 'tpot'",
            "",
            "\u001b[0;31m---------------------------------------------------------------------------\u001b[0;32m\nNOTE: If your import is failing due to a missing package, you can\nmanually install dependencies using either !pip or !apt.\n\nTo view examples of installing some common dependencies, click the\n\"Open Examples\" button below.\n\u001b[0;31m---------------------------------------------------------------------------\u001b[0m\n"
          ]
        }
      ]
    },
    {
      "cell_type": "markdown",
      "metadata": {
        "id": "another-operation"
      },
      "source": [
        "### RandomizedSearchCV\n"
      ],
      "id": "another-operation"
    },
    {
      "cell_type": "code",
      "metadata": {
        "id": "rotary-labor",
        "outputId": "e9ef2426-1a9b-4532-d5b7-c69d22b7a71b"
      },
      "source": [
        "from sklearn.model_selection import RandomizedSearchCV\n",
        "skf = StratifiedKFold(n_splits=5, random_state=None, shuffle=True)\n",
        "\n",
        "\n",
        "random_search = RandomizedSearchCV(xgb, param_distributions=params, \n",
        "                                   n_iter=5, scoring='f1', n_jobs=7, \n",
        "                                   cv=skf.split(X_nearmiss,y_nearmiss), verbose=1, random_state=1001)\n",
        "\n",
        "# random_search.fit(X_nearmiss, y_nearmiss)"
      ],
      "id": "rotary-labor",
      "execution_count": null,
      "outputs": [
        {
          "output_type": "stream",
          "text": [
            "Fitting 5 folds for each of 5 candidates, totalling 25 fits\n"
          ],
          "name": "stdout"
        },
        {
          "output_type": "execute_result",
          "data": {
            "text/plain": [
              "RandomizedSearchCV(cv=<generator object _BaseKFold.split at 0x7ff8aae933c0>,\n",
              "                   estimator=XGBClassifier(base_score=None, booster=None,\n",
              "                                           colsample_bylevel=None,\n",
              "                                           colsample_bynode=None,\n",
              "                                           colsample_bytree=None, gamma=None,\n",
              "                                           gpu_id=None, importance_type='gain',\n",
              "                                           interaction_constraints=None,\n",
              "                                           learning_rate=None,\n",
              "                                           max_delta_step=None, max_depth=None,\n",
              "                                           min_child_weight=None, missing...\n",
              "                                           random_state=None, reg_alpha=None,\n",
              "                                           reg_lambda=None,\n",
              "                                           scale_pos_weight=None,\n",
              "                                           subsample=None, tree_method=None,\n",
              "                                           validate_parameters=None,\n",
              "                                           verbosity=None),\n",
              "                   n_iter=5, n_jobs=7,\n",
              "                   param_distributions={'colsample_bytree': [0.5, 0.7, 1.0],\n",
              "                                        'learning_rate': [0.01, 0.05, 0.1],\n",
              "                                        'min_child_weight': [1, 3, 5],\n",
              "                                        'n_estimators': [300, 600, 1000, 2000],\n",
              "                                        'subsample': [0.5, 0.75, 1.0]},\n",
              "                   random_state=1001, scoring='f1', verbose=1)"
            ]
          },
          "metadata": {
            "tags": []
          },
          "execution_count": 20
        }
      ]
    },
    {
      "cell_type": "code",
      "metadata": {
        "id": "chinese-wednesday",
        "outputId": "ae1380e4-4048-474c-c3f8-0ba3a4b9c278"
      },
      "source": [
        "print('\\n All results:')\n",
        "print(random_search.cv_results_)\n",
        "\n",
        "print('\\n Best estimator:')\n",
        "print(random_search.best_estimator_)\n",
        "xgb_reg = random_search.best_estimator_\n",
        "\n",
        "print('\\n Best Score:')\n",
        "print(random_search.best_score_ * 2 - 1)\n",
        "\n",
        "print('\\n Best hyperparameters:')\n",
        "print(random_search.best_params_)\n",
        "\n",
        "results = pd.DataFrame(random_search.cv_results_)\n",
        "results.to_csv('xgb-random-grid-search-results-01.csv', index=False)\n"
      ],
      "id": "chinese-wednesday",
      "execution_count": null,
      "outputs": [
        {
          "output_type": "stream",
          "text": [
            "\n",
            " All results:\n",
            "{'mean_fit_time': array([328.07260108, 153.22582893, 274.45104995, 207.41175866,\n",
            "        70.10230074]), 'std_fit_time': array([ 0.64311142,  8.8294161 , 11.88589173, 48.43867586, 12.3935348 ]), 'mean_score_time': array([0.19580727, 0.09973316, 0.18410525, 0.13195138, 0.05622759]), 'std_score_time': array([0.02991578, 0.00910633, 0.02679952, 0.04105946, 0.00131081]), 'param_subsample': masked_array(data=[0.5, 0.5, 0.5, 0.5, 0.5],\n",
            "             mask=[False, False, False, False, False],\n",
            "       fill_value='?',\n",
            "            dtype=object), 'param_n_estimators': masked_array(data=[2000, 1000, 2000, 2000, 600],\n",
            "             mask=[False, False, False, False, False],\n",
            "       fill_value='?',\n",
            "            dtype=object), 'param_min_child_weight': masked_array(data=[1, 3, 3, 5, 3],\n",
            "             mask=[False, False, False, False, False],\n",
            "       fill_value='?',\n",
            "            dtype=object), 'param_learning_rate': masked_array(data=[0.05, 0.05, 0.01, 0.05, 0.01],\n",
            "             mask=[False, False, False, False, False],\n",
            "       fill_value='?',\n",
            "            dtype=object), 'param_colsample_bytree': masked_array(data=[1.0, 0.7, 0.7, 0.7, 0.5],\n",
            "             mask=[False, False, False, False, False],\n",
            "       fill_value='?',\n",
            "            dtype=object), 'params': [{'subsample': 0.5, 'n_estimators': 2000, 'min_child_weight': 1, 'learning_rate': 0.05, 'colsample_bytree': 1.0}, {'subsample': 0.5, 'n_estimators': 1000, 'min_child_weight': 3, 'learning_rate': 0.05, 'colsample_bytree': 0.7}, {'subsample': 0.5, 'n_estimators': 2000, 'min_child_weight': 3, 'learning_rate': 0.01, 'colsample_bytree': 0.7}, {'subsample': 0.5, 'n_estimators': 2000, 'min_child_weight': 5, 'learning_rate': 0.05, 'colsample_bytree': 0.7}, {'subsample': 0.5, 'n_estimators': 600, 'min_child_weight': 3, 'learning_rate': 0.01, 'colsample_bytree': 0.5}], 'split0_test_score': array([0.92840798, 0.92906404, 0.9187935 , 0.9292368 , 0.89216184]), 'split1_test_score': array([0.92561438, 0.92338375, 0.9077391 , 0.92284866, 0.89029825]), 'split2_test_score': array([0.9253535 , 0.92540289, 0.90832774, 0.92698203, 0.88233276]), 'split3_test_score': array([0.92647059, 0.92838284, 0.91345992, 0.92893484, 0.88961039]), 'split4_test_score': array([0.92827969, 0.92775665, 0.91767068, 0.92822026, 0.89657511]), 'mean_test_score': array([0.92682523, 0.92679803, 0.91319819, 0.92724452, 0.89019567]), 'std_test_score': array([0.00129448, 0.00210566, 0.00458044, 0.00233113, 0.00462042]), 'rank_test_score': array([2, 3, 4, 1, 5], dtype=int32)}\n",
            "\n",
            " Best estimator:\n",
            "XGBClassifier(base_score=0.5, booster='gbtree', colsample_bylevel=1,\n",
            "              colsample_bynode=1, colsample_bytree=0.7, gamma=0, gpu_id=-1,\n",
            "              importance_type='gain', interaction_constraints='',\n",
            "              learning_rate=0.05, max_delta_step=0, max_depth=6,\n",
            "              min_child_weight=5, missing=nan, monotone_constraints='()',\n",
            "              n_estimators=2000, n_jobs=8, num_parallel_tree=1,\n",
            "              objective='binary:hinge', random_state=0, reg_alpha=0,\n",
            "              reg_lambda=1, scale_pos_weight=None, subsample=0.5,\n",
            "              tree_method='exact', validate_parameters=1, verbosity=None)\n",
            "\n",
            " Best Score:\n",
            "0.8544890403833996\n",
            "\n",
            " Best hyperparameters:\n",
            "{'subsample': 0.5, 'n_estimators': 2000, 'min_child_weight': 5, 'learning_rate': 0.05, 'colsample_bytree': 0.7}\n"
          ],
          "name": "stdout"
        }
      ]
    },
    {
      "cell_type": "markdown",
      "metadata": {
        "id": "solid-thailand"
      },
      "source": [
        "## Training"
      ],
      "id": "solid-thailand"
    },
    {
      "cell_type": "code",
      "metadata": {
        "id": "adverse-gambling",
        "outputId": "32cabb80-840a-4c1c-9af5-f8dd4390f347"
      },
      "source": [
        "def trainModel(X_train, y_train, modelToTrain):\n",
        "    accuracy_lst = []\n",
        "    precision_lst = []\n",
        "    recall_lst = []\n",
        "    f1_lst = []\n",
        "    f1_micro_lst = []\n",
        "    f1_macro_lst = []\n",
        "    f1_weighted_lst = []\n",
        "    auc_lst = []\n",
        "\n",
        "    skf = StratifiedKFold(n_splits=5, random_state=None, shuffle=True)\n",
        "    model = modelToTrain\n",
        "\n",
        "    for fold, (train_index, test_index) in enumerate(skf.split(X_train, y_train), 1):\n",
        "        print(f'Fold {fold} start training...')\n",
        "        train_X = X_train[train_index]\n",
        "        train_y = y_train[train_index] \n",
        "        test_X = X_train[test_index]\n",
        "        test_y = y_train[test_index] \n",
        "\n",
        "        model.fit(train_X, train_y)\n",
        "        y_pred = model.predict(test_X)\n",
        "        print('---' * 45)\n",
        "        print(f'For fold {fold}:')\n",
        "        print(f'Accuracy: {model.score(test_X, test_y)}')\n",
        "        print(f'Precision: {precision_score(y_train[test_index], y_pred)}')\n",
        "        print(f'Reacall: {recall_score(y_train[test_index], y_pred)}')\n",
        "        print(f'f1-score: {f1_score(test_y, y_pred)}')\n",
        "        print(f\"micro f1-score: {f1_score(test_y, y_pred, average='micro')}\")\n",
        "        print(f\"macro f1-score: {f1_score(test_y, y_pred, average='macro')}\")\n",
        "        print(f\"weighted f1-score: {f1_score(test_y, y_pred, average='weighted')}\")\n",
        "        print(f'AUC: {roc_auc_score(y_train[test_index], y_pred)}')\n",
        "        print('---' * 45)\n",
        "\n",
        "        accuracy_lst.append(model.score(test_X, test_y))\n",
        "        precision_lst.append(precision_score(y_train[test_index], y_pred))\n",
        "        recall_lst.append(recall_score(y_train[test_index], y_pred))\n",
        "        f1_lst.append(f1_score(test_y, y_pred))\n",
        "        f1_micro_lst.append(f1_score(test_y, y_pred, average='micro'))\n",
        "        f1_macro_lst.append(f1_score(test_y, y_pred, average='macro'))\n",
        "        f1_weighted_lst.append(f1_score(test_y, y_pred, average='weighted'))\n",
        "        auc_lst.append(roc_auc_score(y_train[test_index], y_pred))\n",
        "\n",
        "    print('---' * 45)\n",
        "    print(\"accuracy: {}\".format(np.mean(accuracy_lst)))\n",
        "    print(\"precision: {}\".format(np.mean(precision_lst)))\n",
        "    print(\"recall: {}\".format(np.mean(recall_lst)))\n",
        "    print(\"f1: {}\".format(np.mean(f1_lst)))\n",
        "    print(\"f1 micro: {}\".format(np.mean(f1_micro_lst)))\n",
        "    print(\"f1 macro : {}\".format(np.mean(f1_macro_lst)))\n",
        "    print(\"f1 weighted: {}\".format(np.mean(f1_weighted_lst)))\n",
        "    print('---' * 45)"
      ],
      "id": "adverse-gambling",
      "execution_count": null,
      "outputs": [
        {
          "output_type": "stream",
          "text": [
            "Fold 1 start training...\n",
            "For fold 1:\n",
            "Accuracy: 0.9941998002348117\n",
            "Precision: 0.8813409792677548\n",
            "Reacall: 0.6544382574516868\n",
            "f1-score: 0.7511278195488722\n",
            "micro f1-score: 0.9941998002348117\n",
            "macro f1-score: 0.8740967632193494\n",
            "weighted f1-score: 0.993776378687661\n",
            "AUC: 0.8266219216126405\n",
            "Fold 2 start training...\n"
          ],
          "name": "stdout"
        }
      ]
    },
    {
      "cell_type": "code",
      "metadata": {
        "id": "detailed-cargo"
      },
      "source": [
        "trainModel(X_train, y_train, xgb_reg)"
      ],
      "id": "detailed-cargo",
      "execution_count": null,
      "outputs": []
    },
    {
      "cell_type": "code",
      "metadata": {
        "id": "fancy-speech"
      },
      "source": [
        "trainModel(X_train, y_train, xgb_reg)"
      ],
      "id": "fancy-speech",
      "execution_count": null,
      "outputs": []
    },
    {
      "cell_type": "code",
      "metadata": {
        "id": "convertible-command"
      },
      "source": [
        "trainModel(X_train, y_train, xgb_reg)"
      ],
      "id": "convertible-command",
      "execution_count": null,
      "outputs": []
    }
  ]
}